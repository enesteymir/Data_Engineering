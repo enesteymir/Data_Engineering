{
 "cells": [
  {
   "cell_type": "code",
   "execution_count": 0,
   "metadata": {
    "application/vnd.databricks.v1+cell": {
     "cellMetadata": {
      "byteLimit": 2048000,
      "rowLimit": 10000
     },
     "inputWidgets": {},
     "nuid": "6a3c0062-6743-4bf0-bcee-fb24333c0e84",
     "showTitle": false,
     "title": ""
    }
   },
   "outputs": [],
   "source": [
    "from pyspark.sql import DataFrame\n",
    "from pyspark.sql.functions import col, lit, explode\n",
    "import pyspark.sql.utils\n",
    "import json"
   ]
  },
  {
   "cell_type": "code",
   "execution_count": 0,
   "metadata": {
    "application/vnd.databricks.v1+cell": {
     "cellMetadata": {
      "byteLimit": 2048000,
      "rowLimit": 10000
     },
     "inputWidgets": {},
     "nuid": "d5a24825-91a2-43cc-bdda-5abe61b0cd89",
     "showTitle": false,
     "title": ""
    }
   },
   "outputs": [],
   "source": [
    "source_path = \"s3a://zalando-saiki-datalake-eu-central-1/data/eventqueue/customer.behaviour.tracking-events.test\""
   ]
  },
  {
   "cell_type": "code",
   "execution_count": 0,
   "metadata": {
    "application/vnd.databricks.v1+cell": {
     "cellMetadata": {
      "byteLimit": 2048000,
      "rowLimit": 10000
     },
     "inputWidgets": {},
     "nuid": "1ebc737a-c5e8-488f-aa29-c6d3bbbd06cf",
     "showTitle": false,
     "title": ""
    }
   },
   "outputs": [
    {
     "data": {
      "text/plain": [
       "[FileInfo(path='s3a://zalando-saiki-datalake-eu-central-1/data/eventqueue/customer.behaviour.tracking-events.test/dt=2024-09-16/', name='dt=2024-09-16/', size=0, modificationTime=1726597629078)]"
      ]
     },
     "execution_count": 4,
     "metadata": {},
     "output_type": "execute_result"
    }
   ],
   "source": [
    "dbutils.fs.ls(source_path)[-2:-1]"
   ]
  },
  {
   "cell_type": "code",
   "execution_count": null,
   "metadata": {},
   "outputs": [],
   "source": [
    "# Read json file\n",
    "nested_df = (\n",
    "        spark.read\n",
    "        .json(f\"{source_path}/dt=2024-09-15\")\n",
    "        .limit(5)\n",
    "        )\n",
    "\n",
    "nested_df.display()"
   ]
  },
  {
   "cell_type": "code",
   "execution_count": 0,
   "metadata": {
    "application/vnd.databricks.v1+cell": {
     "cellMetadata": {
      "byteLimit": 2048000,
      "rowLimit": 10000
     },
     "inputWidgets": {},
     "nuid": "5804c0c1-34aa-46dc-9dd1-8c23c3387f44",
     "showTitle": false,
     "title": ""
    }
   },
   "outputs": [
    {
     "name": "stdout",
     "output_type": "stream",
     "text": [
      "column: consent dtype: struct\n",
      "column: frontend dtype: struct\n",
      "column: metadata dtype: struct\n"
     ]
    }
   ],
   "source": [
    "# Check the col with struct type\n",
    "for c in nested_df.dtypes: \n",
    "    if c[1][:6] == 'struct':\n",
    "        print(\"column:\", c[0], \"dtype:\", c[1][:6])"
   ]
  },
  {
   "cell_type": "code",
   "execution_count": null,
   "metadata": {},
   "outputs": [],
   "source": [
    "# Unnest all cols without aliases\n",
    "unnested_df_all = nested_df \\\n",
    "                .select(\"*\", col('consent.*')).drop('consent') \\\n",
    "                .select(\"*\", col('frontend.*')).drop('frontend') \\\n",
    "                .select(\"*\", col('metadata.*')).drop('metadata')\n",
    "\n",
    "unnested_df_all.display()"
   ]
  },
  {
   "cell_type": "code",
   "execution_count": null,
   "metadata": {},
   "outputs": [],
   "source": [
    "# Unnest the cols with alias\n",
    "unnested_df_aliases = nested_df \\\n",
    "        .select( '*'\n",
    "                ,col('consent.consented_categories').alias('consented_categories') \n",
    "            ).drop('consent') \\\n",
    "        .select( '*'\n",
    "                ,col('frontend.app').alias('app') \n",
    "                ,col('frontend.device').alias('device')  \n",
    "                ,col('frontend.event_name').alias('event_name')\n",
    "            ).drop('frontend') \\\n",
    "        .select( '*'\n",
    "                ,col('metadata.event_type').alias('event_type') \n",
    "                ,col('metadata.flow_id').alias('flow_id')  \n",
    "            ).drop('metadata')\n",
    "\n",
    "unnested_df_aliases.display()"
   ]
  },
  {
   "cell_type": "code",
   "execution_count": 0,
   "metadata": {
    "application/vnd.databricks.v1+cell": {
     "cellMetadata": {
      "byteLimit": 2048000,
      "rowLimit": 10000
     },
     "inputWidgets": {},
     "nuid": "91b548c4-002a-40ab-ba59-cf721ba3f560",
     "showTitle": false,
     "title": ""
    }
   },
   "outputs": [],
   "source": [
    "# Create a flatening function\n",
    "def flatten_df(nested_df: DataFrame) -> DataFrame:\n",
    "    flat_cols = []\n",
    "    nested_cols = []\n",
    "    \n",
    "    # Separate flat columns from nested columns\n",
    "    for column_name, dtype in nested_df.dtypes:\n",
    "        if \".\" not in column_name and dtype.startswith(\"struct\"):\n",
    "            nested_cols.append(column_name)\n",
    "        else:\n",
    "            flat_cols.append(column_name)\n",
    "    \n",
    "    # Select flat columns\n",
    "    selected_cols = [col(column) for column in flat_cols]\n",
    "    \n",
    "    # Unnest the nested columns\n",
    "    for nested_col in nested_cols:\n",
    "        expanded = [col(f\"{nested_col}.{subfield}\").alias(f\"{nested_col}_{subfield}\")\n",
    "                    for subfield in nested_df.select(f\"{nested_col}.*\").columns]\n",
    "        selected_cols.extend(expanded)\n",
    "    \n",
    "    # Return the new DataFrame\n",
    "    return nested_df.select(*selected_cols)"
   ]
  },
  {
   "cell_type": "code",
   "execution_count": null,
   "metadata": {},
   "outputs": [],
   "source": [
    "# Unnest until all struct type fields are flattened\n",
    "flattened_df = flatten_df(nested_df)\n",
    "flattened_df = flatten_df(flattened_df)\n",
    "flattened_df = flatten_df(flattened_df)\n",
    "\n",
    "flattened_df.display()"
   ]
  },
  {
   "cell_type": "code",
   "execution_count": 0,
   "metadata": {
    "application/vnd.databricks.v1+cell": {
     "cellMetadata": {
      "byteLimit": 2048000,
      "rowLimit": 10000
     },
     "inputWidgets": {},
     "nuid": "7844c937-e4c7-463b-94c0-cb378ec6b450",
     "showTitle": false,
     "title": ""
    }
   },
   "outputs": [],
   "source": [
    "# Check if there is still struct dtype\n",
    "for c in flattened_df.dtypes: \n",
    "    if c[1][:6] == 'struct':\n",
    "        print(\"column:\", c[0], \"dtype:\", c[1][:6])"
   ]
  }
 ],
 "metadata": {
  "application/vnd.databricks.v1+notebook": {
   "dashboards": [],
   "environmentMetadata": {
    "base_environment": "",
    "client": "1"
   },
   "language": "python",
   "notebookMetadata": {
    "pythonIndentUnit": 4
   },
   "notebookName": "Flattening_Dataframe",
   "widgets": {}
  },
  "language_info": {
   "name": "python"
  }
 },
 "nbformat": 4,
 "nbformat_minor": 0
}
