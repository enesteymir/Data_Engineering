{
 "cells": [
  {
   "cell_type": "code",
   "execution_count": 0,
   "metadata": {
    "application/vnd.databricks.v1+cell": {
     "cellMetadata": {},
     "inputWidgets": {},
     "nuid": "e7d4d211-a651-4342-b7c2-1c7e84378cfa",
     "showTitle": false,
     "title": ""
    }
   },
   "outputs": [],
   "source": [
    "\"\"\"\n",
    "WARNING\n",
    "    > Remove unnecessary code from notebooks that would return results, such as display and count.\n",
    "    > Do not run Structured Streaming workloads on interactive clusters; always schedule streams as jobs.\n",
    "    > To help streaming jobs recover automatically, configure jobs with infinite retries.\n",
    "    > Do not use auto-scaling for workloads with Structured Streaming.\n",
    "\"\"\""
   ]
  },
  {
   "cell_type": "code",
   "execution_count": 0,
   "metadata": {
    "application/vnd.databricks.v1+cell": {
     "cellMetadata": {
      "byteLimit": 2048000,
      "rowLimit": 10000
     },
     "inputWidgets": {},
     "nuid": "52cba492-a4aa-4666-a874-a8896683356e",
     "showTitle": false,
     "title": ""
    }
   },
   "outputs": [],
   "source": [
    "import pyspark.sql.functions as f\n",
    "import pyspark.sql.utils\n",
    "from pyspark.sql.types import *\n",
    "from pyspark.sql.window import Window\n",
    "import pandas as pd\n",
    "import datetime"
   ]
  },
  {
   "cell_type": "code",
   "execution_count": 0,
   "metadata": {
    "application/vnd.databricks.v1+cell": {
     "cellMetadata": {
      "byteLimit": 2048000,
      "rowLimit": 10000
     },
     "inputWidgets": {},
     "nuid": "8c72593b-17f1-4950-817d-ea20b3fbd92d",
     "showTitle": false,
     "title": ""
    }
   },
   "outputs": [
    {
     "output_type": "stream",
     "name": "stdout",
     "output_type": "stream",
     "text": [
      "['2024-08-11', '2024-08-11']\n2024-08-11 2024-08-11\n"
     ]
    }
   ],
   "source": [
    "dbutils.widgets.text(\"startDate\", \"\")\n",
    "dbutils.widgets.text(\"endDate\", \"\")\n",
    "\n",
    "startDate = dbutils.widgets.get(\"startDate\")\n",
    "endDate = dbutils.widgets.get(\"endDate\")\n",
    "\n",
    "dates = [startDate, endDate]\n",
    "\n",
    "print(dates)\n",
    "print(startDate, endDate)"
   ]
  },
  {
   "cell_type": "code",
   "execution_count": 0,
   "metadata": {
    "application/vnd.databricks.v1+cell": {
     "cellMetadata": {},
     "inputWidgets": {},
     "nuid": "64bfeaa1-ef4c-4e3d-9bae-c129d21073b5",
     "showTitle": false,
     "title": ""
    }
   },
   "outputs": [],
   "source": [
    "# Reading from Delta Lake as a bulk\n",
    "# Permissions should be given to roles, buckets etc \n",
    "file_path = \"s3a://datalake/event-types/data/shop.tracking/\"\n",
    "raw_df = (\n",
    "        spark.read\n",
    "        .format(\"delta\")\n",
    "        .load(file_path)\n",
    "        .withColumn(\"data_sink\", f.lit(\"raw\"))\n",
    "        .filter(f.col(\"dt\").between(*dates))\n",
    "        .limit(5)\n",
    "        )\n",
    "\n",
    "raw_df.display()"
   ]
  },
  {
   "cell_type": "code",
   "execution_count": 0,
   "metadata": {
    "application/vnd.databricks.v1+cell": {
     "cellMetadata": {},
     "inputWidgets": {},
     "nuid": "f0d3accd-4c65-41d6-908d-b8a5826d2c05",
     "showTitle": false,
     "title": ""
    }
   },
   "outputs": [],
   "source": [
    "# Read from Delta Lake as Stream\n",
    "file_path = \"s3a://datalake/event-types/data/shop.tracking/\"\n",
    "checkpoint_read = \"/tmp/events/checkpoint_read\"\n",
    "\n",
    "raw_stream_df = (\n",
    "    spark.readStream\n",
    "    .format(\"delta\")\n",
    "    .option(\"checkpointLocation\", checkpoint_read)\n",
    "    .load(file_path)\n",
    "    .filter(f.col(\"dt\").between(*dates))\n",
    "    .limit(5)\n",
    ")\n",
    "\n",
    "raw_stream_df.display() # Calling display() on a streaming DataFrame starts a streaming job."
   ]
  },
  {
   "cell_type": "code",
   "execution_count": 0,
   "metadata": {
    "application/vnd.databricks.v1+cell": {
     "cellMetadata": {
      "byteLimit": 2048000,
      "rowLimit": 10000
     },
     "inputWidgets": {},
     "nuid": "fb3737c8-529f-49f3-9605-dd747dacc087",
     "showTitle": false,
     "title": ""
    }
   },
   "outputs": [
    {
     "output_type": "execute_result",
     "data": {
      "text/plain": [
       "<pyspark.sql.streaming.query.StreamingQuery at 0xffff5cebf490>"
      ]
     },
     "execution_count": 7,
     "metadata": {},
     "output_type": "execute_result"
    }
   ],
   "source": [
    "# Write Imcremantal batch to Delta Lake\n",
    "# The \"availableNow=True\" setting for the trigger instructs Structured Streaming to process all previously unprocessed records from the source dataset and then shut down\n",
    "# The checkpointLocation should be unique for each streaming writer. This provides the unique identity for your stream, tracking all records processed and state information associated with your streaming query.\n",
    "target_path = \"/tmp/ss-tutorial/\"\n",
    "checkpoint_write = \"/tmp/events/checkpoint_write\"\n",
    "(\n",
    "raw_stream_df.writeStream\n",
    "    .trigger(availableNow=True) \n",
    "    .option(\"checkpointLocation\", checkpoint_write)\n",
    "    .option(\"path\", target_path)\n",
    "    .outputMode(\"append\")\n",
    "    .start()\n",
    ")"
   ]
  },
  {
   "cell_type": "code",
   "execution_count": 0,
   "metadata": {
    "application/vnd.databricks.v1+cell": {
     "cellMetadata": {},
     "inputWidgets": {},
     "nuid": "c4fac701-b465-481f-bb0b-6260e9a8c80e",
     "showTitle": false,
     "title": ""
    }
   },
   "outputs": [],
   "source": [
    "# Write as a bulk to Delta Lake\n",
    "save_path = \"s3a://datalake/...\"\n",
    "\n",
    "(\n",
    "    df_content_data\n",
    "    .write.format(\"delta\")\n",
    "    .mode(\"overwrite\") # or append\n",
    "    .partitionBy(\"dt\")\n",
    "    .option(\"replaceWhere\", f\"dt >= '{start_date}' AND dt <= '{end_date}'\")\n",
    "    .save(save_path)\n",
    ")"
   ]
  }
 ],
 "metadata": {
  "application/vnd.databricks.v1+notebook": {
   "dashboards": [],
   "environmentMetadata": null,
   "language": "python",
   "notebookMetadata": {
    "pythonIndentUnit": 4
   },
   "notebookName": "(Clone) Delta Lake - Read Write Examples",
   "widgets": {
    "endDate": {
     "currentValue": "2024-08-11",
     "nuid": "1ef92543-06ee-465f-b9cf-80c70f593e4b",
     "typedWidgetInfo": null,
     "widgetInfo": {
      "widgetType": "text",
      "defaultValue": "",
      "label": null,
      "name": "endDate",
      "options": {
       "widgetType": "text",
       "autoCreated": null,
       "validationRegex": null
      }
     }
    },
    "startDate": {
     "currentValue": "2024-08-11",
     "nuid": "55910c57-6044-4fb8-ad35-a9860b253585",
     "typedWidgetInfo": null,
     "widgetInfo": {
      "widgetType": "text",
      "defaultValue": "",
      "label": null,
      "name": "startDate",
      "options": {
       "widgetType": "text",
       "autoCreated": null,
       "validationRegex": null
      }
     }
    }
   }
  }
 },
 "nbformat": 4,
 "nbformat_minor": 0
}
