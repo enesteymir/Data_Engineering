{
 "cells": [
  {
   "cell_type": "code",
   "execution_count": 0,
   "metadata": {
    "application/vnd.databricks.v1+cell": {
     "cellMetadata": {},
     "inputWidgets": {},
     "nuid": "e7d4d211-a651-4342-b7c2-1c7e84378cfa",
     "showTitle": false,
     "title": ""
    }
   },
   "outputs": [],
   "source": [
    "\"\"\"\n",
    "WARNING\n",
    "    > Remove unnecessary code from notebooks that would return results, such as display and count.\n",
    "    > Do not run Structured Streaming workloads on interactive clusters; always schedule streams as jobs.\n",
    "    > To help streaming jobs recover automatically, configure jobs with infinite retries.\n",
    "    > Do not use auto-scaling for workloads with Structured Streaming.\n",
    "\"\"\""
   ]
  },
  {
   "cell_type": "code",
   "execution_count": 0,
   "metadata": {
    "application/vnd.databricks.v1+cell": {
     "cellMetadata": {
      "byteLimit": 2048000,
      "rowLimit": 10000
     },
     "inputWidgets": {},
     "nuid": "52cba492-a4aa-4666-a874-a8896683356e",
     "showTitle": false,
     "title": ""
    }
   },
   "outputs": [],
   "source": [
    "import pyspark.sql.functions as f\n",
    "import pyspark.sql.utils\n",
    "from pyspark.sql.types import *\n",
    "from pyspark.sql.window import Window\n",
    "import pandas as pd\n",
    "import datetime"
   ]
  },
  {
   "cell_type": "code",
   "execution_count": 0,
   "metadata": {
    "application/vnd.databricks.v1+cell": {
     "cellMetadata": {
      "byteLimit": 2048000,
      "rowLimit": 10000
     },
     "inputWidgets": {},
     "nuid": "8c72593b-17f1-4950-817d-ea20b3fbd92d",
     "showTitle": false,
     "title": ""
    }
   },
   "outputs": [
    {
     "output_type": "stream",
     "name": "stdout",
     "output_type": "stream",
     "text": [
      "['2024-08-11', '2024-08-11']\n2024-08-11 2024-08-11\n"
     ]
    }
   ],
   "source": [
    "dbutils.widgets.text(\"startDate\", \"\")\n",
    "dbutils.widgets.text(\"endDate\", \"\")\n",
    "\n",
    "startDate = dbutils.widgets.get(\"startDate\")\n",
    "endDate = dbutils.widgets.get(\"endDate\")\n",
    "\n",
    "dates = [startDate, endDate]\n",
    "\n",
    "print(dates)\n",
    "print(startDate, endDate)"
   ]
  },
  {
   "cell_type": "code",
   "execution_count": 0,
   "metadata": {
    "application/vnd.databricks.v1+cell": {
     "cellMetadata": {
      "byteLimit": 2048000,
      "rowLimit": 10000
     },
     "inputWidgets": {},
     "nuid": "0102044a-e9e7-444f-ad32-7ca945632622",
     "showTitle": false,
     "title": ""
    }
   },
   "outputs": [
    {
     "output_type": "display_data",
     "data": {
      "text/html": [
       "<style scoped>\n",
       "  .table-result-container {\n",
       "    max-height: 300px;\n",
       "    overflow: auto;\n",
       "  }\n",
       "  table, th, td {\n",
       "    border: 1px solid black;\n",
       "    border-collapse: collapse;\n",
       "  }\n",
       "  th, td {\n",
       "    padding: 5px;\n",
       "  }\n",
       "  th {\n",
       "    text-align: left;\n",
       "  }\n",
       "</style><div class='table-result-container'><table class='table-result'><thead style='background-color: white'><tr><th>client_id</th><th>user_agent</th><th>frontend_type</th><th>language</th><th>behavioural_gender</th><th>customer_age</th><th>customer_gender</th><th>customer_hash</th><th>timestamp</th><th>context_gender</th><th>flowId</th><th>document_location</th><th>document_referrer</th><th>sales_channel</th><th>parent_tile</th><th>root_entity_id</th><th>root_renderer</th><th>advertising_id</th><th>currency</th><th>customer_email</th><th>customer_number</th><th>parent_entity_id</th><th>position_index</th><th>vat</th><th>event_name</th><th>metadata</th><th>dt</th><th>entity_id</th><th>entity_id_path</th><th>price</th><th>size</th><th>shop_language</th><th>message_task_sub_uuid</th><th>device_consent_id</th><th>deeplink</th><th>allow_analytics</th><th>data_sink</th></tr></thead><tbody><tr><td>b0d5cbff-0640-4317-a0a3-ffe363b90e56</td><td>Zalando/24.15.0 (Linux; Android 13; Xiaomi M2101K6G/TKQ1.221013.002 test-keys)</td><td>mobile-app</td><td>es-ES</td><td>-</td><td>50</td><td>women</td><td>d07c02518afdd4a45c05801e7c3daddc</td><td>2024-08-11T18:50:34.447Z</td><td>women</td><td>c391d867-f362-4d79-ac</td><td>null</td><td>null</td><td>1e161d6e-0427-4cfc-a357-e2b501188a15</td><td>null</td><td>ern:product::PU141A103-C11</td><td>product_view</td><td>b56ebc5c-f6cf-4665-ad05-ba6231d5749a</td><td>EUR</td><td>e244d049eaa443c0e9dbb1cf8b0ad2ac8881eae4f76a574e2214c7dd582b4c23</td><td>31602181538</td><td>null</td><td>1</td><td>21.0</td><td>add-to-cart</td><td>List(5d005bef-318f-461c-8803-9c6c13ea738f, shop.tracking.cart.change, 2024-08-11T18:51:06.140191273Z, null, null, njc-1723402266646-45aabcf21835c6bc, 9, 2.7.0, 2024-08-11T18:51:06.649Z, stups_tpi-composer)</td><td>2024-08-11</td><td>ern:product::PU141A103-C11</td><td>ern:product::PU141A103-C11</td><td>43.35</td><td>38</td><td>es-ES</td><td>null</td><td>f28043d9-5938-0f39-3fa1-c5b3e5913e3f</td><td>zalando://ROOT/Home</td><td>true</td><td>nakadi</td></tr><tr><td>a5296fb1-483f-4fc4-8c7d-38f2a631b954</td><td>Mozilla/5.0 (Windows NT 10.0; Win64; x64) AppleWebKit/537.36 (KHTML, like Gecko) Chrome/127.0.0.0 Safari/537.36</td><td>browser</td><td>es-ES</td><td>-</td><td>50</td><td>women</td><td>141ba7e9fcd8ca7ea8ab60eb8085a659</td><td>2024-08-11T18:50:33.779Z</td><td>women</td><td>ZHGKyBSlHBbVNYDN</td><td>https://www.zalando.es/bruuns-bazaar-raisella-larisa-top-vivacious-br321e07r-j11.html</td><td>https://www.zalando.es/ropa-de-mujer-camisetas-y-tops/_naranja.rosa/?price_from=30</td><td>1e161d6e-0427-4cfc-a357-e2b501188a15</td><td>product detail page</td><td>ern:product::BR321E07R-J11</td><td>product_view</td><td>null</td><td>EUR</td><td>b95942f0c81824ab5435d891010a20fea2bcb5b780f4005e288362b2ce0f4973</td><td>31600918823</td><td>ern:product::BR321E07R-J11</td><td>1.7</td><td>21.0</td><td>add-to-cart</td><td>List(367e85af-bbcf-4aba-9247-79889d6840bb, shop.tracking.cart.change, 2024-08-11T18:51:06.565988251Z, null, null, njc-1723402267153-c204276e8aa44843, 9, 2.7.0, 2024-08-11T18:51:07.158Z, stups_tpi-composer)</td><td>2024-08-11</td><td>ern:product::BR321E07R-J11</td><td>ern:product::BR321E07R-J11/ern:product::BR321E07R-J11</td><td>57.81</td><td>40</td><td>es-ES</td><td>null</td><td>null</td><td>null</td><td>true</td><td>nakadi</td></tr><tr><td>6d51b568-9433-45df-8d28-e24b08c46ad1</td><td>zalando/24.12.0 (iPhone; CPU iOS 17.5.1; Scale/3.00)</td><td>mobile-app</td><td>de-DE</td><td>-</td><td>35</td><td>men</td><td>8815ecd9ec4d4ffef955a27f0096b0b0</td><td>2024-08-11T18:50:32.763Z</td><td>men</td><td>4B4503D0-9029-4D85-8A</td><td>null</td><td>null</td><td>01924c48-49bb-40c2-9c32-ab582e6db6f4</td><td>null</td><td>ern:product::AD542D5IC-A11</td><td>product_view</td><td>null</td><td>EUR</td><td>983ff6dc63e13e28c872e23c7737feaf38cb0e51d92150363124ef84d72521df</td><td>3035046716</td><td>null</td><td>1</td><td>19.0</td><td>add-to-cart</td><td>List(6553f4d6-c483-451a-8674-07a4d6b156d9, shop.tracking.cart.change, 2024-08-11T18:51:06.435465514Z, null, null, njc-1723402267354-b726a2b27ade3ffc, 9, 2.7.0, 2024-08-11T18:51:07.360Z, stups_tpi-composer)</td><td>2024-08-11</td><td>ern:product::AD542D5IC-A11</td><td>ern:product::AD542D5IC-A11</td><td>25.17</td><td>M</td><td>de-DE</td><td>null</td><td>765F7551-C5EA-4B42-ABC2-3B3F635F13EA</td><td>null</td><td>true</td><td>nakadi</td></tr><tr><td>5a935834-b4df-4d14-b40f-83c2730b8902</td><td>zalando/24.12.0 (iPhone; CPU iOS 17.5.1; Scale/3.00)</td><td>mobile-app</td><td>sv-SE</td><td>-</td><td>52</td><td>women</td><td>6f1cbc01d1cd2b4e6abe3d58a009e486</td><td>2024-08-11T18:50:35.617Z</td><td>women</td><td>4A6EEFC1-888D-49C3-97</td><td>null</td><td>null</td><td>091dcbdd-7839-4f39-aa05-324eb4599df0</td><td>null</td><td>ern:product::MBQ51Q066-B11</td><td>product_view</td><td>null</td><td>SEK</td><td>f18c7f414bf88be4377f0960be9452b5017855b9b040e918f183fbafadeb1a79</td><td>31300646737</td><td>null</td><td>1</td><td>25.0</td><td>add-to-cart</td><td>List(c46fa390-f510-44f4-993c-80d674522a91, shop.tracking.cart.change, 2024-08-11T18:51:07.573222044Z, null, null, njc-1723402267839-81bb592b94d54ca8, 9, 2.7.0, 2024-08-11T18:51:07.843Z, stups_tpi-composer)</td><td>2024-08-11</td><td>ern:product::MBQ51Q066-B11</td><td>ern:product::MBQ51Q066-B11</td><td>311.20</td><td>One Size</td><td>sv-SE</td><td>b7ce29f7-f633-4934-9ae4-976830ed77de</td><td>B4DFE0BE-5214-49D2-A838-35A7FF198E6B</td><td>https://www.zalando.se/levis-pack-large-unisex-ryggsaeck-black-le254o019-q11.html?wmc=CRM46_REC_SV.ONL_SBS_PMT_PEC_REC_a99c229d-b27d-4026-9fb3-cca740df322e_240811.&cd084=collection_reco1_ern:product::LE254O019-Q11&cd085=b7ce29f7-f633-4934-9ae4-976830ed77de&wt_cd=6f1cbc01d1cd2b4e6abe3d58a009e486&tm_hem=ccf7e2460710f16cf19ce2e0a3e2fbf5&otid=default&universallink=1</td><td>true</td><td>nakadi</td></tr><tr><td>5101dce0-913c-44fb-a5c0-62fd10155361</td><td>zalando/24.14.0 (iPhone; CPU iOS 17.5.1; Scale/3.00)</td><td>mobile-app</td><td>de-CH</td><td>-</td><td>18</td><td>no preference</td><td>14159ec95d0fb957cb9384cb55ee5f9b</td><td>2024-08-11T18:50:35.964Z</td><td>women</td><td>359CBB4D-721D-4C2F-83</td><td>null</td><td>null</td><td>c2bd90da-0090-4751-8f16-35dea7002071</td><td>null</td><td>ern:product::PUC21D2RT-A11</td><td>product_view</td><td>null</td><td>CHF</td><td>0265ab5ce4bfcd5c83f2cb8279a47f804e8a5ad56bb698af151892eac4b1979d</td><td>42527025471800</td><td>null</td><td>1</td><td>7.7</td><td>add-to-cart</td><td>List(cbb817d1-08ea-4fbf-8b68-f3d0f33518b5, shop.tracking.cart.change, 2024-08-11T18:51:07.529628727Z, null, null, njc-1723402268070-462a5ab953bcf525, 9, 2.7.0, 2024-08-11T18:51:08.075Z, stups_tpi-composer)</td><td>2024-08-11</td><td>ern:product::PUC21D2RT-A11</td><td>ern:product::PUC21D2RT-A11</td><td>18.48</td><td>S</td><td>de-CH</td><td>null</td><td>3CD57ED4-3D0D-4DF1-B3AC-04BFE4FBF868</td><td>null</td><td>false</td><td>nakadi</td></tr></tbody></table></div>"
      ]
     },
     "metadata": {
      "application/vnd.databricks.v1+output": {
       "addedWidgets": {},
       "aggData": [],
       "aggError": "",
       "aggOverflow": false,
       "aggSchema": [],
       "aggSeriesLimitReached": false,
       "aggType": "",
       "arguments": {},
       "columnCustomDisplayInfos": {},
       "data": [
        [
         "b0d5cbff-0640-4317-a0a3-ffe363b90e56",
         "Zalando/24.15.0 (Linux; Android 13; Xiaomi M2101K6G/TKQ1.221013.002 test-keys)",
         "mobile-app",
         "es-ES",
         "-",
         "50",
         "women",
         "d07c02518afdd4a45c05801e7c3daddc",
         "2024-08-11T18:50:34.447Z",
         "women",
         "c391d867-f362-4d79-ac",
         null,
         null,
         "1e161d6e-0427-4cfc-a357-e2b501188a15",
         null,
         "ern:product::PU141A103-C11",
         "product_view",
         "b56ebc5c-f6cf-4665-ad05-ba6231d5749a",
         "EUR",
         "e244d049eaa443c0e9dbb1cf8b0ad2ac8881eae4f76a574e2214c7dd582b4c23",
         "31602181538",
         null,
         "1",
         21.0,
         "add-to-cart",
         [
          "5d005bef-318f-461c-8803-9c6c13ea738f",
          "shop.tracking.cart.change",
          "2024-08-11T18:51:06.140191273Z",
          null,
          null,
          "njc-1723402266646-45aabcf21835c6bc",
          "9",
          "2.7.0",
          "2024-08-11T18:51:06.649Z",
          "stups_tpi-composer"
         ],
         "2024-08-11",
         "ern:product::PU141A103-C11",
         "ern:product::PU141A103-C11",
         "43.35",
         "38",
         "es-ES",
         null,
         "f28043d9-5938-0f39-3fa1-c5b3e5913e3f",
         "zalando://ROOT/Home",
         true,
         "nakadi"
        ],
        [
         "a5296fb1-483f-4fc4-8c7d-38f2a631b954",
         "Mozilla/5.0 (Windows NT 10.0; Win64; x64) AppleWebKit/537.36 (KHTML, like Gecko) Chrome/127.0.0.0 Safari/537.36",
         "browser",
         "es-ES",
         "-",
         "50",
         "women",
         "141ba7e9fcd8ca7ea8ab60eb8085a659",
         "2024-08-11T18:50:33.779Z",
         "women",
         "ZHGKyBSlHBbVNYDN",
         "https://www.zalando.es/bruuns-bazaar-raisella-larisa-top-vivacious-br321e07r-j11.html",
         "https://www.zalando.es/ropa-de-mujer-camisetas-y-tops/_naranja.rosa/?price_from=30",
         "1e161d6e-0427-4cfc-a357-e2b501188a15",
         "product detail page",
         "ern:product::BR321E07R-J11",
         "product_view",
         null,
         "EUR",
         "b95942f0c81824ab5435d891010a20fea2bcb5b780f4005e288362b2ce0f4973",
         "31600918823",
         "ern:product::BR321E07R-J11",
         "1.7",
         21.0,
         "add-to-cart",
         [
          "367e85af-bbcf-4aba-9247-79889d6840bb",
          "shop.tracking.cart.change",
          "2024-08-11T18:51:06.565988251Z",
          null,
          null,
          "njc-1723402267153-c204276e8aa44843",
          "9",
          "2.7.0",
          "2024-08-11T18:51:07.158Z",
          "stups_tpi-composer"
         ],
         "2024-08-11",
         "ern:product::BR321E07R-J11",
         "ern:product::BR321E07R-J11/ern:product::BR321E07R-J11",
         "57.81",
         "40",
         "es-ES",
         null,
         null,
         null,
         true,
         "nakadi"
        ],
        [
         "6d51b568-9433-45df-8d28-e24b08c46ad1",
         "zalando/24.12.0 (iPhone; CPU iOS 17.5.1; Scale/3.00)",
         "mobile-app",
         "de-DE",
         "-",
         "35",
         "men",
         "8815ecd9ec4d4ffef955a27f0096b0b0",
         "2024-08-11T18:50:32.763Z",
         "men",
         "4B4503D0-9029-4D85-8A",
         null,
         null,
         "01924c48-49bb-40c2-9c32-ab582e6db6f4",
         null,
         "ern:product::AD542D5IC-A11",
         "product_view",
         null,
         "EUR",
         "983ff6dc63e13e28c872e23c7737feaf38cb0e51d92150363124ef84d72521df",
         "3035046716",
         null,
         "1",
         19.0,
         "add-to-cart",
         [
          "6553f4d6-c483-451a-8674-07a4d6b156d9",
          "shop.tracking.cart.change",
          "2024-08-11T18:51:06.435465514Z",
          null,
          null,
          "njc-1723402267354-b726a2b27ade3ffc",
          "9",
          "2.7.0",
          "2024-08-11T18:51:07.360Z",
          "stups_tpi-composer"
         ],
         "2024-08-11",
         "ern:product::AD542D5IC-A11",
         "ern:product::AD542D5IC-A11",
         "25.17",
         "M",
         "de-DE",
         null,
         "765F7551-C5EA-4B42-ABC2-3B3F635F13EA",
         null,
         true,
         "nakadi"
        ],
        [
         "5a935834-b4df-4d14-b40f-83c2730b8902",
         "zalando/24.12.0 (iPhone; CPU iOS 17.5.1; Scale/3.00)",
         "mobile-app",
         "sv-SE",
         "-",
         "52",
         "women",
         "6f1cbc01d1cd2b4e6abe3d58a009e486",
         "2024-08-11T18:50:35.617Z",
         "women",
         "4A6EEFC1-888D-49C3-97",
         null,
         null,
         "091dcbdd-7839-4f39-aa05-324eb4599df0",
         null,
         "ern:product::MBQ51Q066-B11",
         "product_view",
         null,
         "SEK",
         "f18c7f414bf88be4377f0960be9452b5017855b9b040e918f183fbafadeb1a79",
         "31300646737",
         null,
         "1",
         25.0,
         "add-to-cart",
         [
          "c46fa390-f510-44f4-993c-80d674522a91",
          "shop.tracking.cart.change",
          "2024-08-11T18:51:07.573222044Z",
          null,
          null,
          "njc-1723402267839-81bb592b94d54ca8",
          "9",
          "2.7.0",
          "2024-08-11T18:51:07.843Z",
          "stups_tpi-composer"
         ],
         "2024-08-11",
         "ern:product::MBQ51Q066-B11",
         "ern:product::MBQ51Q066-B11",
         "311.20",
         "One Size",
         "sv-SE",
         "b7ce29f7-f633-4934-9ae4-976830ed77de",
         "B4DFE0BE-5214-49D2-A838-35A7FF198E6B",
         "https://www.zalando.se/levis-pack-large-unisex-ryggsaeck-black-le254o019-q11.html?wmc=CRM46_REC_SV.ONL_SBS_PMT_PEC_REC_a99c229d-b27d-4026-9fb3-cca740df322e_240811.&cd084=collection_reco1_ern:product::LE254O019-Q11&cd085=b7ce29f7-f633-4934-9ae4-976830ed77de&wt_cd=6f1cbc01d1cd2b4e6abe3d58a009e486&tm_hem=ccf7e2460710f16cf19ce2e0a3e2fbf5&otid=default&universallink=1",
         true,
         "nakadi"
        ],
        [
         "5101dce0-913c-44fb-a5c0-62fd10155361",
         "zalando/24.14.0 (iPhone; CPU iOS 17.5.1; Scale/3.00)",
         "mobile-app",
         "de-CH",
         "-",
         "18",
         "no preference",
         "14159ec95d0fb957cb9384cb55ee5f9b",
         "2024-08-11T18:50:35.964Z",
         "women",
         "359CBB4D-721D-4C2F-83",
         null,
         null,
         "c2bd90da-0090-4751-8f16-35dea7002071",
         null,
         "ern:product::PUC21D2RT-A11",
         "product_view",
         null,
         "CHF",
         "0265ab5ce4bfcd5c83f2cb8279a47f804e8a5ad56bb698af151892eac4b1979d",
         "42527025471800",
         null,
         "1",
         7.7,
         "add-to-cart",
         [
          "cbb817d1-08ea-4fbf-8b68-f3d0f33518b5",
          "shop.tracking.cart.change",
          "2024-08-11T18:51:07.529628727Z",
          null,
          null,
          "njc-1723402268070-462a5ab953bcf525",
          "9",
          "2.7.0",
          "2024-08-11T18:51:08.075Z",
          "stups_tpi-composer"
         ],
         "2024-08-11",
         "ern:product::PUC21D2RT-A11",
         "ern:product::PUC21D2RT-A11",
         "18.48",
         "S",
         "de-CH",
         null,
         "3CD57ED4-3D0D-4DF1-B3AC-04BFE4FBF868",
         null,
         false,
         "nakadi"
        ]
       ],
       "datasetInfos": [],
       "dbfsResultPath": null,
       "isJsonSchema": true,
       "metadata": {},
       "overflow": false,
       "plotOptions": {
        "customPlotOptions": {},
        "displayType": "table",
        "pivotAggregation": null,
        "pivotColumns": null,
        "xColumns": null,
        "yColumns": null
       },
       "removedWidgets": [],
       "schema": [
        {
         "metadata": "{}",
         "name": "client_id",
         "type": "\"string\""
        },
        {
         "metadata": "{}",
         "name": "user_agent",
         "type": "\"string\""
        },
        {
         "metadata": "{}",
         "name": "frontend_type",
         "type": "\"string\""
        },
        {
         "metadata": "{}",
         "name": "language",
         "type": "\"string\""
        },
        {
         "metadata": "{}",
         "name": "behavioural_gender",
         "type": "\"string\""
        },
        {
         "metadata": "{}",
         "name": "customer_age",
         "type": "\"string\""
        },
        {
         "metadata": "{}",
         "name": "customer_gender",
         "type": "\"string\""
        },
        {
         "metadata": "{}",
         "name": "customer_hash",
         "type": "\"string\""
        },
        {
         "metadata": "{}",
         "name": "timestamp",
         "type": "\"string\""
        },
        {
         "metadata": "{}",
         "name": "context_gender",
         "type": "\"string\""
        },
        {
         "metadata": "{}",
         "name": "flowId",
         "type": "\"string\""
        },
        {
         "metadata": "{}",
         "name": "document_location",
         "type": "\"string\""
        },
        {
         "metadata": "{}",
         "name": "document_referrer",
         "type": "\"string\""
        },
        {
         "metadata": "{}",
         "name": "sales_channel",
         "type": "\"string\""
        },
        {
         "metadata": "{}",
         "name": "parent_tile",
         "type": "\"string\""
        },
        {
         "metadata": "{}",
         "name": "root_entity_id",
         "type": "\"string\""
        },
        {
         "metadata": "{}",
         "name": "root_renderer",
         "type": "\"string\""
        },
        {
         "metadata": "{}",
         "name": "advertising_id",
         "type": "\"string\""
        },
        {
         "metadata": "{}",
         "name": "currency",
         "type": "\"string\""
        },
        {
         "metadata": "{}",
         "name": "customer_email",
         "type": "\"string\""
        },
        {
         "metadata": "{}",
         "name": "customer_number",
         "type": "\"string\""
        },
        {
         "metadata": "{}",
         "name": "parent_entity_id",
         "type": "\"string\""
        },
        {
         "metadata": "{}",
         "name": "position_index",
         "type": "\"string\""
        },
        {
         "metadata": "{}",
         "name": "vat",
         "type": "\"double\""
        },
        {
         "metadata": "{}",
         "name": "event_name",
         "type": "\"string\""
        },
        {
         "metadata": "{}",
         "name": "metadata",
         "type": "{\"type\":\"struct\",\"fields\":[{\"name\":\"eid\",\"type\":\"string\",\"nullable\":true,\"metadata\":{}},{\"name\":\"event_type\",\"type\":\"string\",\"nullable\":true,\"metadata\":{}},{\"name\":\"occurred_at\",\"type\":\"string\",\"nullable\":true,\"metadata\":{}},{\"name\":\"partition_compaction_key\",\"type\":\"string\",\"nullable\":true,\"metadata\":{}},{\"name\":\"parent_eids\",\"type\":{\"type\":\"array\",\"elementType\":\"string\",\"containsNull\":true},\"nullable\":true,\"metadata\":{}},{\"name\":\"flow_id\",\"type\":\"string\",\"nullable\":true,\"metadata\":{}},{\"name\":\"partition\",\"type\":\"string\",\"nullable\":true,\"metadata\":{}},{\"name\":\"version\",\"type\":\"string\",\"nullable\":true,\"metadata\":{}},{\"name\":\"received_at\",\"type\":\"string\",\"nullable\":true,\"metadata\":{}},{\"name\":\"published_by\",\"type\":\"string\",\"nullable\":true,\"metadata\":{}}]}"
        },
        {
         "metadata": "{}",
         "name": "dt",
         "type": "\"string\""
        },
        {
         "metadata": "{}",
         "name": "entity_id",
         "type": "\"string\""
        },
        {
         "metadata": "{}",
         "name": "entity_id_path",
         "type": "\"string\""
        },
        {
         "metadata": "{}",
         "name": "price",
         "type": "\"string\""
        },
        {
         "metadata": "{}",
         "name": "size",
         "type": "\"string\""
        },
        {
         "metadata": "{}",
         "name": "shop_language",
         "type": "\"string\""
        },
        {
         "metadata": "{}",
         "name": "message_task_sub_uuid",
         "type": "\"string\""
        },
        {
         "metadata": "{}",
         "name": "device_consent_id",
         "type": "\"string\""
        },
        {
         "metadata": "{}",
         "name": "deeplink",
         "type": "\"string\""
        },
        {
         "metadata": "{}",
         "name": "allow_analytics",
         "type": "\"boolean\""
        },
        {
         "metadata": "{}",
         "name": "data_sink",
         "type": "\"string\""
        }
       ],
       "type": "table"
      }
     },
     "output_type": "display_data"
    }
   ],
   "source": [
    "# Reading from Delta Lake as a bulk\n",
    "# Permissions should be given to roles, buckets etc \n",
    "file_path = \"s3a://zalando-datalake-binary/event-types/data/shop.tracking.cart.change/\"\n",
    "raw_df = (\n",
    "        spark.read\n",
    "        .format(\"delta\")\n",
    "        .load(file_path)\n",
    "        .withColumn(\"data_sink\", f.lit(\"nakadi\"))\n",
    "        .filter(f.col(\"dt\").between(*dates))\n",
    "        .limit(5)\n",
    "        )\n",
    "\n",
    "raw_df.display()"
   ]
  },
  {
   "cell_type": "code",
   "execution_count": 0,
   "metadata": {
    "application/vnd.databricks.v1+cell": {
     "cellMetadata": {
      "byteLimit": 2048000,
      "rowLimit": 10000
     },
     "inputWidgets": {},
     "nuid": "4f52cd84-7b29-4b25-9b6e-383d7af23596",
     "showTitle": false,
     "title": ""
    }
   },
   "outputs": [
    {
     "output_type": "display_data",
     "data": {
      "text/html": [
       "<style scoped>\n",
       "  .table-result-container {\n",
       "    max-height: 300px;\n",
       "    overflow: auto;\n",
       "  }\n",
       "  table, th, td {\n",
       "    border: 1px solid black;\n",
       "    border-collapse: collapse;\n",
       "  }\n",
       "  th, td {\n",
       "    padding: 5px;\n",
       "  }\n",
       "  th {\n",
       "    text-align: left;\n",
       "  }\n",
       "</style><div class='table-result-container'><table class='table-result'><thead style='background-color: white'><tr><th>client_id</th><th>user_agent</th><th>frontend_type</th><th>language</th><th>behavioural_gender</th><th>customer_age</th><th>customer_gender</th><th>customer_hash</th><th>timestamp</th><th>context_gender</th><th>flowId</th><th>document_location</th><th>document_referrer</th><th>sales_channel</th><th>parent_tile</th><th>root_entity_id</th><th>root_renderer</th><th>advertising_id</th><th>currency</th><th>customer_email</th><th>customer_number</th><th>parent_entity_id</th><th>position_index</th><th>vat</th><th>event_name</th><th>metadata</th><th>dt</th><th>entity_id</th><th>entity_id_path</th><th>price</th><th>size</th><th>shop_language</th><th>message_task_sub_uuid</th><th>device_consent_id</th><th>deeplink</th><th>allow_analytics</th></tr></thead><tbody><tr><td>afc0901f-ec4a-416b-a3bf-1932a7047f62</td><td>Mozilla/5.0 (Windows NT 10.0; Win64; x64) AppleWebKit/537.36 (KHTML, like Gecko) Chrome/127.0.0.0 Safari/537.36 Edg/127.0.0.0</td><td>browser</td><td>de</td><td>-</td><td>34</td><td>women</td><td>9a8aa489efadffd66101956728e95fd5</td><td>2024-08-10T23:59:31.174Z</td><td>women</td><td>oOwIbMihwca4AhOi</td><td>https://www.zalando.de/wardrobe/lists/liked/</td><td>https://www.zalando.de/wardrobe/</td><td>01924c48-49bb-40c2-9c32-ab582e6db6f4</td><td>wardrobe</td><td>ern:customer::self</td><td>customer_wardrobe-view</td><td>null</td><td>EUR</td><td>b0d12c8b4c44535fc981052957dc555a1476b68d0e6483a70ec07e4a76a99f23</td><td>46741129414459</td><td>ern:customer::self</td><td>1.13</td><td>19.0</td><td>add-to-cart</td><td>List(53e3cebd-0cb6-4343-b70b-c7011e2a9f6f, shop.tracking.cart.change, 2024-08-11T00:00:02.817839257Z, null, null, njc-1723334402839-0dd9fe17aaa23d49, 15, 2.7.0, 2024-08-11T00:00:02.842Z, stups_tpi-composer)</td><td>2024-08-11</td><td>ern:product::L2E21B02G-Q11:wardrobe/56247fd5a1ea75e25fe298f8980723f4b2ce3d5989ed32d03a819952708e19b5</td><td>ern:customer::self/ern:product::L2E21B02G-Q11:wardrobe/56247fd5a1ea75e25fe298f8980723f4b2ce3d5989ed32d03a819952708e19b5</td><td>36.93</td><td>40/42</td><td>de-DE</td><td>null</td><td>null</td><td>null</td><td>true</td></tr><tr><td>c90e63cb-44d0-4dfc-b74c-cb74efc03c4d</td><td>zalando/24.14.0 (iPhone; CPU iOS 16.1.1; Scale/3.00)</td><td>mobile-app</td><td>en-DE</td><td>-</td><td>null</td><td>women</td><td>4b311805c7053352ae44fc6c9bd85a48</td><td>2024-08-10T23:59:33.873Z</td><td>women</td><td>D5FF12EF-5E25-476B-97</td><td>null</td><td>null</td><td>01924c48-49bb-40c2-9c32-ab582e6db6f4</td><td>null</td><td>ern:product::AN681P0B4-F11</td><td>product_view</td><td>null</td><td>EUR</td><td>e247b6a904ae1c410c8ec8762b739f256d82bd64420196b1ce667d67437afde5</td><td>46490993504852</td><td>null</td><td>1</td><td>19.0</td><td>add-to-cart</td><td>List(38ca74b3-ad2f-4eb4-a5f9-45f9212b1d0d, shop.tracking.cart.change, 2024-08-11T00:00:05.456838180Z, null, null, njc-1723334405643-25e264fc3deafdf2, 15, 2.7.0, 2024-08-11T00:00:05.646Z, stups_tpi-composer)</td><td>2024-08-11</td><td>ern:product::AN681P0B4-F11</td><td>ern:product::AN681P0B4-F11</td><td>21.00</td><td>S</td><td>en-GB</td><td>null</td><td>6A1F0051-2923-47B1-BD2F-DE2A57AEE104</td><td>null</td><td>true</td></tr><tr><td>afc0901f-ec4a-416b-a3bf-1932a7047f62</td><td>Mozilla/5.0 (Windows NT 10.0; Win64; x64) AppleWebKit/537.36 (KHTML, like Gecko) Chrome/127.0.0.0 Safari/537.36 Edg/127.0.0.0</td><td>browser</td><td>de</td><td>-</td><td>34</td><td>women</td><td>9a8aa489efadffd66101956728e95fd5</td><td>2024-08-10T23:59:34.304Z</td><td>women</td><td>oOwIbMihwca4AhOi</td><td>https://www.zalando.de/wardrobe/lists/liked/</td><td>https://www.zalando.de/wardrobe/</td><td>01924c48-49bb-40c2-9c32-ab582e6db6f4</td><td>wardrobe</td><td>ern:customer::self</td><td>customer_wardrobe-view</td><td>null</td><td>EUR</td><td>b0d12c8b4c44535fc981052957dc555a1476b68d0e6483a70ec07e4a76a99f23</td><td>46741129414459</td><td>ern:customer::self</td><td>1.14</td><td>19.0</td><td>add-to-cart</td><td>List(07d63c37-c622-4dcf-8974-c02cfb90256d, shop.tracking.cart.change, 2024-08-11T00:00:05.805143999Z, null, null, njc-1723334405839-1ca760229264f719, 15, 2.7.0, 2024-08-11T00:00:05.842Z, stups_tpi-composer)</td><td>2024-08-11</td><td>ern:product::L2E21B02G-M11:wardrobe/c60b18fcbda360f7f0228a7446b3eaa00403ffecd3d61e46d2f2fd0717c21439</td><td>ern:customer::self/ern:product::L2E21B02G-M11:wardrobe/c60b18fcbda360f7f0228a7446b3eaa00403ffecd3d61e46d2f2fd0717c21439</td><td>33.57</td><td>40/42</td><td>de-DE</td><td>null</td><td>null</td><td>null</td><td>true</td></tr><tr><td>105c64bd-87f9-4e5f-b507-7bd474428f23</td><td>Mozilla/5.0 (iPhone; CPU iPhone OS 17_5_1 like Mac OS X) AppleWebKit/605.1.15 (KHTML, like Gecko) Version/17.5 Mobile/15E148 Safari/604.1</td><td>browser</td><td>de-DE</td><td>-</td><td>48</td><td>no preference</td><td>0db62b16728ee8ba4b9e7261b48890ec</td><td>2024-08-10T23:59:34.427Z</td><td>women</td><td>7Pmz8Y4mftJe-pQA</td><td>https://www.zalando.ch/sloggi-slip-black-sl281a01f-q11.html</td><td>https://www.zalando.ch/damenbekleidung-waesche-unterteile/</td><td>c2bd90da-0090-4751-8f16-35dea7002071</td><td>product detail page</td><td>ern:product::SL281A01F-Q11</td><td>product_view</td><td>null</td><td>CHF</td><td>3ebd544120e7bceb3700a6a6bf4befeedf1844c52b6f070a87839c4af29adba4</td><td>46576597213592</td><td>ern:product::SL281A01F-Q11</td><td>1.7</td><td>7.7</td><td>add-to-cart</td><td>List(0e17f142-fdaa-4eb8-b835-5d54e18cd7d0, shop.tracking.cart.change, 2024-08-11T00:00:06.355059472Z, null, null, njc-1723334406856-b4a1a68adcb11fa3, 15, 2.7.0, 2024-08-11T00:00:06.861Z, stups_tpi-composer)</td><td>2024-08-11</td><td>ern:product::SL281A01F-Q11</td><td>ern:product::SL281A01F-Q11/ern:product::SL281A01F-Q11</td><td>15.78</td><td>42</td><td>de-CH</td><td>null</td><td>null</td><td>null</td><td>true</td></tr><tr><td>3d6a3bfc-bc69-4754-a14d-a4ae09347ed2</td><td>Zalando/24.15.0 (Linux; Android 14; Samsung SM-S928B/UP1A.231005.007.S928BXXS2AXD6)</td><td>mobile-app</td><td>nl-BE</td><td>-</td><td>37</td><td>no preference</td><td>79f2d4ba950b8d9db6c2f01f9f24ba98</td><td>2024-08-10T23:59:34.203Z</td><td>women</td><td>ae443a52-f89a-4b90-a2</td><td>null</td><td>null</td><td>043ec789-a3c7-4556-92df-bf1845c741ab</td><td>null</td><td>ern:product::P0G51H2EZ-B11</td><td>product_view</td><td>5ebc8c7f-0c3a-47bc-b458-048f2e665dc4</td><td>EUR</td><td>4dc2af09a09f081257541da2b8bec9fa10efdc440af7dbfbc13ef8a707d45137</td><td>45052099937123</td><td>null</td><td>1</td><td>21.0</td><td>add-to-cart</td><td>List(e920e6c9-5d47-46ee-92a8-371c91ba35d9, shop.tracking.cart.change, 2024-08-11T00:00:06.505963000Z, null, null, njc-1723334407069-b4dfeeda29a44d84, 15, 2.7.0, 2024-08-11T00:00:07.073Z, stups_tpi-composer)</td><td>2024-08-11</td><td>ern:product::P0G51H2EZ-B11</td><td>ern:product::P0G51H2EZ-B11</td><td>16.44</td><td>One Size</td><td>nl-BE</td><td>null</td><td>99d169e1-b1a4-43e9-605e-05846e784ece</td><td>zalando://ROOT/Home</td><td>true</td></tr></tbody></table></div>"
      ]
     },
     "metadata": {
      "application/vnd.databricks.v1+output": {
       "addedWidgets": {},
       "aggData": [],
       "aggError": "",
       "aggOverflow": false,
       "aggSchema": [],
       "aggSeriesLimitReached": false,
       "aggType": "",
       "arguments": {},
       "columnCustomDisplayInfos": {},
       "data": [
        [
         "afc0901f-ec4a-416b-a3bf-1932a7047f62",
         "Mozilla/5.0 (Windows NT 10.0; Win64; x64) AppleWebKit/537.36 (KHTML, like Gecko) Chrome/127.0.0.0 Safari/537.36 Edg/127.0.0.0",
         "browser",
         "de",
         "-",
         "34",
         "women",
         "9a8aa489efadffd66101956728e95fd5",
         "2024-08-10T23:59:31.174Z",
         "women",
         "oOwIbMihwca4AhOi",
         "https://www.zalando.de/wardrobe/lists/liked/",
         "https://www.zalando.de/wardrobe/",
         "01924c48-49bb-40c2-9c32-ab582e6db6f4",
         "wardrobe",
         "ern:customer::self",
         "customer_wardrobe-view",
         null,
         "EUR",
         "b0d12c8b4c44535fc981052957dc555a1476b68d0e6483a70ec07e4a76a99f23",
         "46741129414459",
         "ern:customer::self",
         "1.13",
         19.0,
         "add-to-cart",
         [
          "53e3cebd-0cb6-4343-b70b-c7011e2a9f6f",
          "shop.tracking.cart.change",
          "2024-08-11T00:00:02.817839257Z",
          null,
          null,
          "njc-1723334402839-0dd9fe17aaa23d49",
          "15",
          "2.7.0",
          "2024-08-11T00:00:02.842Z",
          "stups_tpi-composer"
         ],
         "2024-08-11",
         "ern:product::L2E21B02G-Q11:wardrobe/56247fd5a1ea75e25fe298f8980723f4b2ce3d5989ed32d03a819952708e19b5",
         "ern:customer::self/ern:product::L2E21B02G-Q11:wardrobe/56247fd5a1ea75e25fe298f8980723f4b2ce3d5989ed32d03a819952708e19b5",
         "36.93",
         "40/42",
         "de-DE",
         null,
         null,
         null,
         true
        ],
        [
         "c90e63cb-44d0-4dfc-b74c-cb74efc03c4d",
         "zalando/24.14.0 (iPhone; CPU iOS 16.1.1; Scale/3.00)",
         "mobile-app",
         "en-DE",
         "-",
         null,
         "women",
         "4b311805c7053352ae44fc6c9bd85a48",
         "2024-08-10T23:59:33.873Z",
         "women",
         "D5FF12EF-5E25-476B-97",
         null,
         null,
         "01924c48-49bb-40c2-9c32-ab582e6db6f4",
         null,
         "ern:product::AN681P0B4-F11",
         "product_view",
         null,
         "EUR",
         "e247b6a904ae1c410c8ec8762b739f256d82bd64420196b1ce667d67437afde5",
         "46490993504852",
         null,
         "1",
         19.0,
         "add-to-cart",
         [
          "38ca74b3-ad2f-4eb4-a5f9-45f9212b1d0d",
          "shop.tracking.cart.change",
          "2024-08-11T00:00:05.456838180Z",
          null,
          null,
          "njc-1723334405643-25e264fc3deafdf2",
          "15",
          "2.7.0",
          "2024-08-11T00:00:05.646Z",
          "stups_tpi-composer"
         ],
         "2024-08-11",
         "ern:product::AN681P0B4-F11",
         "ern:product::AN681P0B4-F11",
         "21.00",
         "S",
         "en-GB",
         null,
         "6A1F0051-2923-47B1-BD2F-DE2A57AEE104",
         null,
         true
        ],
        [
         "afc0901f-ec4a-416b-a3bf-1932a7047f62",
         "Mozilla/5.0 (Windows NT 10.0; Win64; x64) AppleWebKit/537.36 (KHTML, like Gecko) Chrome/127.0.0.0 Safari/537.36 Edg/127.0.0.0",
         "browser",
         "de",
         "-",
         "34",
         "women",
         "9a8aa489efadffd66101956728e95fd5",
         "2024-08-10T23:59:34.304Z",
         "women",
         "oOwIbMihwca4AhOi",
         "https://www.zalando.de/wardrobe/lists/liked/",
         "https://www.zalando.de/wardrobe/",
         "01924c48-49bb-40c2-9c32-ab582e6db6f4",
         "wardrobe",
         "ern:customer::self",
         "customer_wardrobe-view",
         null,
         "EUR",
         "b0d12c8b4c44535fc981052957dc555a1476b68d0e6483a70ec07e4a76a99f23",
         "46741129414459",
         "ern:customer::self",
         "1.14",
         19.0,
         "add-to-cart",
         [
          "07d63c37-c622-4dcf-8974-c02cfb90256d",
          "shop.tracking.cart.change",
          "2024-08-11T00:00:05.805143999Z",
          null,
          null,
          "njc-1723334405839-1ca760229264f719",
          "15",
          "2.7.0",
          "2024-08-11T00:00:05.842Z",
          "stups_tpi-composer"
         ],
         "2024-08-11",
         "ern:product::L2E21B02G-M11:wardrobe/c60b18fcbda360f7f0228a7446b3eaa00403ffecd3d61e46d2f2fd0717c21439",
         "ern:customer::self/ern:product::L2E21B02G-M11:wardrobe/c60b18fcbda360f7f0228a7446b3eaa00403ffecd3d61e46d2f2fd0717c21439",
         "33.57",
         "40/42",
         "de-DE",
         null,
         null,
         null,
         true
        ],
        [
         "105c64bd-87f9-4e5f-b507-7bd474428f23",
         "Mozilla/5.0 (iPhone; CPU iPhone OS 17_5_1 like Mac OS X) AppleWebKit/605.1.15 (KHTML, like Gecko) Version/17.5 Mobile/15E148 Safari/604.1",
         "browser",
         "de-DE",
         "-",
         "48",
         "no preference",
         "0db62b16728ee8ba4b9e7261b48890ec",
         "2024-08-10T23:59:34.427Z",
         "women",
         "7Pmz8Y4mftJe-pQA",
         "https://www.zalando.ch/sloggi-slip-black-sl281a01f-q11.html",
         "https://www.zalando.ch/damenbekleidung-waesche-unterteile/",
         "c2bd90da-0090-4751-8f16-35dea7002071",
         "product detail page",
         "ern:product::SL281A01F-Q11",
         "product_view",
         null,
         "CHF",
         "3ebd544120e7bceb3700a6a6bf4befeedf1844c52b6f070a87839c4af29adba4",
         "46576597213592",
         "ern:product::SL281A01F-Q11",
         "1.7",
         7.7,
         "add-to-cart",
         [
          "0e17f142-fdaa-4eb8-b835-5d54e18cd7d0",
          "shop.tracking.cart.change",
          "2024-08-11T00:00:06.355059472Z",
          null,
          null,
          "njc-1723334406856-b4a1a68adcb11fa3",
          "15",
          "2.7.0",
          "2024-08-11T00:00:06.861Z",
          "stups_tpi-composer"
         ],
         "2024-08-11",
         "ern:product::SL281A01F-Q11",
         "ern:product::SL281A01F-Q11/ern:product::SL281A01F-Q11",
         "15.78",
         "42",
         "de-CH",
         null,
         null,
         null,
         true
        ],
        [
         "3d6a3bfc-bc69-4754-a14d-a4ae09347ed2",
         "Zalando/24.15.0 (Linux; Android 14; Samsung SM-S928B/UP1A.231005.007.S928BXXS2AXD6)",
         "mobile-app",
         "nl-BE",
         "-",
         "37",
         "no preference",
         "79f2d4ba950b8d9db6c2f01f9f24ba98",
         "2024-08-10T23:59:34.203Z",
         "women",
         "ae443a52-f89a-4b90-a2",
         null,
         null,
         "043ec789-a3c7-4556-92df-bf1845c741ab",
         null,
         "ern:product::P0G51H2EZ-B11",
         "product_view",
         "5ebc8c7f-0c3a-47bc-b458-048f2e665dc4",
         "EUR",
         "4dc2af09a09f081257541da2b8bec9fa10efdc440af7dbfbc13ef8a707d45137",
         "45052099937123",
         null,
         "1",
         21.0,
         "add-to-cart",
         [
          "e920e6c9-5d47-46ee-92a8-371c91ba35d9",
          "shop.tracking.cart.change",
          "2024-08-11T00:00:06.505963000Z",
          null,
          null,
          "njc-1723334407069-b4dfeeda29a44d84",
          "15",
          "2.7.0",
          "2024-08-11T00:00:07.073Z",
          "stups_tpi-composer"
         ],
         "2024-08-11",
         "ern:product::P0G51H2EZ-B11",
         "ern:product::P0G51H2EZ-B11",
         "16.44",
         "One Size",
         "nl-BE",
         null,
         "99d169e1-b1a4-43e9-605e-05846e784ece",
         "zalando://ROOT/Home",
         true
        ]
       ],
       "datasetInfos": [],
       "dbfsResultPath": null,
       "isJsonSchema": true,
       "metadata": {
        "isDbfsCommandResult": false
       },
       "overflow": false,
       "plotOptions": {
        "customPlotOptions": {},
        "displayType": "table",
        "pivotAggregation": null,
        "pivotColumns": null,
        "xColumns": null,
        "yColumns": null
       },
       "removedWidgets": [],
       "schema": [
        {
         "metadata": "{}",
         "name": "client_id",
         "type": "\"string\""
        },
        {
         "metadata": "{}",
         "name": "user_agent",
         "type": "\"string\""
        },
        {
         "metadata": "{}",
         "name": "frontend_type",
         "type": "\"string\""
        },
        {
         "metadata": "{}",
         "name": "language",
         "type": "\"string\""
        },
        {
         "metadata": "{}",
         "name": "behavioural_gender",
         "type": "\"string\""
        },
        {
         "metadata": "{}",
         "name": "customer_age",
         "type": "\"string\""
        },
        {
         "metadata": "{}",
         "name": "customer_gender",
         "type": "\"string\""
        },
        {
         "metadata": "{}",
         "name": "customer_hash",
         "type": "\"string\""
        },
        {
         "metadata": "{}",
         "name": "timestamp",
         "type": "\"string\""
        },
        {
         "metadata": "{}",
         "name": "context_gender",
         "type": "\"string\""
        },
        {
         "metadata": "{}",
         "name": "flowId",
         "type": "\"string\""
        },
        {
         "metadata": "{}",
         "name": "document_location",
         "type": "\"string\""
        },
        {
         "metadata": "{}",
         "name": "document_referrer",
         "type": "\"string\""
        },
        {
         "metadata": "{}",
         "name": "sales_channel",
         "type": "\"string\""
        },
        {
         "metadata": "{}",
         "name": "parent_tile",
         "type": "\"string\""
        },
        {
         "metadata": "{}",
         "name": "root_entity_id",
         "type": "\"string\""
        },
        {
         "metadata": "{}",
         "name": "root_renderer",
         "type": "\"string\""
        },
        {
         "metadata": "{}",
         "name": "advertising_id",
         "type": "\"string\""
        },
        {
         "metadata": "{}",
         "name": "currency",
         "type": "\"string\""
        },
        {
         "metadata": "{}",
         "name": "customer_email",
         "type": "\"string\""
        },
        {
         "metadata": "{}",
         "name": "customer_number",
         "type": "\"string\""
        },
        {
         "metadata": "{}",
         "name": "parent_entity_id",
         "type": "\"string\""
        },
        {
         "metadata": "{}",
         "name": "position_index",
         "type": "\"string\""
        },
        {
         "metadata": "{}",
         "name": "vat",
         "type": "\"double\""
        },
        {
         "metadata": "{}",
         "name": "event_name",
         "type": "\"string\""
        },
        {
         "metadata": "{}",
         "name": "metadata",
         "type": "{\"type\":\"struct\",\"fields\":[{\"name\":\"eid\",\"type\":\"string\",\"nullable\":true,\"metadata\":{}},{\"name\":\"event_type\",\"type\":\"string\",\"nullable\":true,\"metadata\":{}},{\"name\":\"occurred_at\",\"type\":\"string\",\"nullable\":true,\"metadata\":{}},{\"name\":\"partition_compaction_key\",\"type\":\"string\",\"nullable\":true,\"metadata\":{}},{\"name\":\"parent_eids\",\"type\":{\"type\":\"array\",\"elementType\":\"string\",\"containsNull\":true},\"nullable\":true,\"metadata\":{}},{\"name\":\"flow_id\",\"type\":\"string\",\"nullable\":true,\"metadata\":{}},{\"name\":\"partition\",\"type\":\"string\",\"nullable\":true,\"metadata\":{}},{\"name\":\"version\",\"type\":\"string\",\"nullable\":true,\"metadata\":{}},{\"name\":\"received_at\",\"type\":\"string\",\"nullable\":true,\"metadata\":{}},{\"name\":\"published_by\",\"type\":\"string\",\"nullable\":true,\"metadata\":{}}]}"
        },
        {
         "metadata": "{}",
         "name": "dt",
         "type": "\"string\""
        },
        {
         "metadata": "{}",
         "name": "entity_id",
         "type": "\"string\""
        },
        {
         "metadata": "{}",
         "name": "entity_id_path",
         "type": "\"string\""
        },
        {
         "metadata": "{}",
         "name": "price",
         "type": "\"string\""
        },
        {
         "metadata": "{}",
         "name": "size",
         "type": "\"string\""
        },
        {
         "metadata": "{}",
         "name": "shop_language",
         "type": "\"string\""
        },
        {
         "metadata": "{}",
         "name": "message_task_sub_uuid",
         "type": "\"string\""
        },
        {
         "metadata": "{}",
         "name": "device_consent_id",
         "type": "\"string\""
        },
        {
         "metadata": "{}",
         "name": "deeplink",
         "type": "\"string\""
        },
        {
         "metadata": "{}",
         "name": "allow_analytics",
         "type": "\"boolean\""
        }
       ],
       "type": "table"
      }
     },
     "output_type": "display_data"
    }
   ],
   "source": [
    "# Read from Delta Lake as Stream\n",
    "file_path = \"s3a://zalando-datalake-binary/event-types/data/shop.tracking.cart.change/\"\n",
    "checkpoint_read = \"/tmp/events/checkpoint_read\"\n",
    "\n",
    "raw_stream_df = (\n",
    "    spark.readStream\n",
    "    .format(\"delta\")\n",
    "    .option(\"checkpointLocation\", checkpoint_read)\n",
    "    .load(file_path)\n",
    "    .filter(f.col(\"dt\").between(*dates))\n",
    "    .limit(5)\n",
    ")\n",
    "\n",
    "raw_stream_df.display() # Calling display() on a streaming DataFrame starts a streaming job."
   ]
  },
  {
   "cell_type": "code",
   "execution_count": 0,
   "metadata": {
    "application/vnd.databricks.v1+cell": {
     "cellMetadata": {
      "byteLimit": 2048000,
      "rowLimit": 10000
     },
     "inputWidgets": {},
     "nuid": "fb3737c8-529f-49f3-9605-dd747dacc087",
     "showTitle": false,
     "title": ""
    }
   },
   "outputs": [
    {
     "output_type": "execute_result",
     "data": {
      "text/plain": [
       "<pyspark.sql.streaming.query.StreamingQuery at 0xffff5cebf490>"
      ]
     },
     "execution_count": 7,
     "metadata": {},
     "output_type": "execute_result"
    }
   ],
   "source": [
    "# Write Imcremantal batch to Delta Lake\n",
    "# The \"availableNow=True\" setting for the trigger instructs Structured Streaming to process all previously unprocessed records from the source dataset and then shut down\n",
    "# The checkpointLocation should be unique for each streaming writer. This provides the unique identity for your stream, tracking all records processed and state information associated with your streaming query.\n",
    "target_path = \"/tmp/ss-tutorial/\"\n",
    "checkpoint_write = \"/tmp/events/checkpoint_write\"\n",
    "(\n",
    "raw_stream_df.writeStream\n",
    "    .trigger(availableNow=True) \n",
    "    .option(\"checkpointLocation\", checkpoint_write)\n",
    "    .option(\"path\", target_path)\n",
    "    .outputMode(\"append\")\n",
    "    .start()\n",
    ")"
   ]
  }
 ],
 "metadata": {
  "application/vnd.databricks.v1+notebook": {
   "dashboards": [],
   "environmentMetadata": null,
   "language": "python",
   "notebookMetadata": {
    "pythonIndentUnit": 4
   },
   "notebookName": "Connect to S3 Delta Lake - Read Write Examples",
   "widgets": {
    "endDate": {
     "currentValue": "2024-08-11",
     "nuid": "1ef92543-06ee-465f-b9cf-80c70f593e4b",
     "typedWidgetInfo": null,
     "widgetInfo": {
      "widgetType": "text",
      "defaultValue": "",
      "label": null,
      "name": "endDate",
      "options": {
       "widgetType": "text",
       "autoCreated": null,
       "validationRegex": null
      }
     }
    },
    "startDate": {
     "currentValue": "2024-08-11",
     "nuid": "55910c57-6044-4fb8-ad35-a9860b253585",
     "typedWidgetInfo": null,
     "widgetInfo": {
      "widgetType": "text",
      "defaultValue": "",
      "label": null,
      "name": "startDate",
      "options": {
       "widgetType": "text",
       "autoCreated": null,
       "validationRegex": null
      }
     }
    }
   }
  }
 },
 "nbformat": 4,
 "nbformat_minor": 0
}
