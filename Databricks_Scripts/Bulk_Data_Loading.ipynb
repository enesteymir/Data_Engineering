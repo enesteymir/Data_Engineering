{
 "cells": [
  {
   "cell_type": "code",
   "execution_count": 0,
   "metadata": {
    "application/vnd.databricks.v1+cell": {
     "cellMetadata": {
      "byteLimit": 2048000,
      "rowLimit": 10000
     },
     "inputWidgets": {},
     "nuid": "52cba492-a4aa-4666-a874-a8896683356e",
     "showTitle": false,
     "title": ""
    }
   },
   "outputs": [],
   "source": [
    "import pyspark.sql.functions as f\n",
    "import pyspark.sql.utils\n",
    "from pyspark.sql.types import *\n",
    "from pyspark.sql.window import Window\n",
    "import pandas as pd\n",
    "from datetime import timedelta, datetime"
   ]
  },
  {
   "cell_type": "code",
   "execution_count": 0,
   "metadata": {
    "application/vnd.databricks.v1+cell": {
     "cellMetadata": {
      "byteLimit": 2048000,
      "rowLimit": 10000
     },
     "inputWidgets": {},
     "nuid": "8c72593b-17f1-4950-817d-ea20b3fbd92d",
     "showTitle": false,
     "title": ""
    }
   },
   "outputs": [
    {
     "output_type": "execute_result",
     "data": {
      "text/plain": [
       "['2024-08-20', '2024-08-20']"
      ]
     },
     "execution_count": 8,
     "metadata": {},
     "output_type": "execute_result"
    }
   ],
   "source": [
    "startdate = (datetime.now() - timedelta(1)).strftime(\"%Y-%m-%d\")\n",
    "enddate = (datetime.now() - timedelta(1)).strftime(\"%Y-%m-%d\")\n",
    "dates = [startdate,enddate]\n",
    "dates"
   ]
  },
  {
   "cell_type": "code",
   "execution_count": 0,
   "metadata": {
    "application/vnd.databricks.v1+cell": {
     "cellMetadata": {},
     "inputWidgets": {},
     "nuid": "3e8a2b22-14f9-4313-8dc1-26a36ade7b15",
     "showTitle": false,
     "title": ""
    }
   },
   "outputs": [],
   "source": [
    "# Reading from Delta Lake as a bulk\n",
    "file_path = \"s3://zalando-datalake-binary/test_raw_data\"\n",
    "raw_df = (\n",
    "        spark.read\n",
    "        .format(\"delta\")\n",
    "        .load(file_path)\n",
    "        .withColumn(\"source\", f.lit(\"raw\"))\n",
    "        .filter(f.col(\"dt\").between(*dates))\n",
    "        .limit(4)\n",
    "        )\n",
    "\n",
    "raw_df.display()"
   ]
  },
  {
   "cell_type": "code",
   "execution_count": 0,
   "metadata": {
    "application/vnd.databricks.v1+cell": {
     "cellMetadata": {},
     "inputWidgets": {},
     "nuid": "c4fac701-b465-481f-bb0b-6260e9a8c80e",
     "showTitle": false,
     "title": ""
    }
   },
   "outputs": [],
   "source": [
    "# Write as a bulk to Delta Lake\n",
    "save_path = \"/team/test_target_data\"\n",
    "\n",
    "(\n",
    "    raw_df\n",
    "    .write.format(\"delta\")\n",
    "    .mode(\"overwrite\")\n",
    "    .partitionBy(\"dt\")\n",
    "    .option(\"replaceWhere\", f\"dt >= '{start_date}' AND dt <= '{end_date}'\")\n",
    "    .save(save_path)\n",
    "    \n",
    ")"
   ]
  }
 ],
 "metadata": {
  "application/vnd.databricks.v1+notebook": {
   "dashboards": [],
   "environmentMetadata": null,
   "language": "python",
   "notebookMetadata": {
    "pythonIndentUnit": 4
   },
   "notebookName": "bulk_loading_example",
   "widgets": {
    "endDate": {
     "currentValue": "2024-08-11",
     "nuid": "1ef92543-06ee-465f-b9cf-80c70f593e4b",
     "typedWidgetInfo": {
      "autoCreated": false,
      "defaultValue": "",
      "label": null,
      "name": "endDate",
      "options": {
       "widgetDisplayType": "Text",
       "validationRegex": null
      },
      "parameterDataType": "String"
     },
     "widgetInfo": {
      "widgetType": "text",
      "defaultValue": "",
      "label": null,
      "name": "endDate",
      "options": {
       "widgetType": "text",
       "autoCreated": null,
       "validationRegex": null
      }
     }
    },
    "startDate": {
     "currentValue": "2024-08-11",
     "nuid": "55910c57-6044-4fb8-ad35-a9860b253585",
     "typedWidgetInfo": {
      "autoCreated": false,
      "defaultValue": "",
      "label": null,
      "name": "startDate",
      "options": {
       "widgetDisplayType": "Text",
       "validationRegex": null
      },
      "parameterDataType": "String"
     },
     "widgetInfo": {
      "widgetType": "text",
      "defaultValue": "",
      "label": null,
      "name": "startDate",
      "options": {
       "widgetType": "text",
       "autoCreated": null,
       "validationRegex": null
      }
     }
    }
   }
  }
 },
 "nbformat": 4,
 "nbformat_minor": 0
}
