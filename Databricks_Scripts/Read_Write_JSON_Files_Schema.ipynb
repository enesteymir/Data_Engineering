{
 "cells": [
  {
   "cell_type": "markdown",
   "metadata": {
    "application/vnd.databricks.v1+cell": {
     "cellMetadata": {},
     "inputWidgets": {},
     "nuid": "b507e194-a062-4473-b570-67c689982062",
     "showTitle": false,
     "title": ""
    }
   },
   "source": [
    "s3selectJSON is useful to read a subset of JSON files. For more details to see options or s3selectCSV : https://docs.aws.amazon.com/emr/latest/ReleaseGuide/emr-spark-s3select.html "
   ]
  },
  {
   "cell_type": "code",
   "execution_count": 0,
   "metadata": {
    "application/vnd.databricks.v1+cell": {
     "cellMetadata": {},
     "inputWidgets": {},
     "nuid": "1edca99b-11ed-4ae0-89e1-e21df93428b8",
     "showTitle": false,
     "title": ""
    }
   },
   "outputs": [],
   "source": [
    "%pip install s3fs --quiet"
   ]
  },
  {
   "cell_type": "code",
   "execution_count": 0,
   "metadata": {
    "application/vnd.databricks.v1+cell": {
     "cellMetadata": {
      "byteLimit": 2048000,
      "rowLimit": 10000
     },
     "inputWidgets": {},
     "nuid": "e82431a4-5a18-46f6-b10d-bef247066d3e",
     "showTitle": false,
     "title": ""
    }
   },
   "outputs": [],
   "source": [
    "# Disable caching , auto-cache makes this process just slower \n",
    "spark.conf.set(\"spark.databricks.io.cache.enabled\", \"false\") "
   ]
  },
  {
   "cell_type": "code",
   "execution_count": 0,
   "metadata": {
    "application/vnd.databricks.v1+cell": {
     "cellMetadata": {
      "byteLimit": 2048000,
      "rowLimit": 10000
     },
     "inputWidgets": {},
     "nuid": "d9763a04-2d4d-4697-bfc6-e0ee6f2ad69a",
     "showTitle": false,
     "title": ""
    }
   },
   "outputs": [],
   "source": [
    "from datetime import timedelta, datetime\n",
    "import s3fs\n",
    "\n",
    "s3 = s3fs.S3FileSystem()\n",
    "\n",
    "day = (datetime.now() - timedelta(1)).strftime(\"%Y-%m-%d\")\n",
    "\n",
    "events = [\n",
    "    \"shop.tracking.brand.change.v2\",\n",
    "    \"shop.tracking.brand.load.v2\",\n",
    "    \"shop.tracking.campaign-page.view.v2\",\n",
    "    \"shop.tracking.campaign.click.v2\",\n",
    "]"
   ]
  },
  {
   "cell_type": "code",
   "execution_count": 0,
   "metadata": {
    "application/vnd.databricks.v1+cell": {
     "cellMetadata": {},
     "inputWidgets": {},
     "nuid": "d7b49737-e343-463b-ac53-506d2dbcbe3c",
     "showTitle": false,
     "title": ""
    }
   },
   "outputs": [],
   "source": [
    "# Get each event's schema from s3 bucket directory and write them to s3 bucket\n",
    "for event_name in events:\n",
    "    try:\n",
    "        df_schema = (\n",
    "                    spark.read\n",
    "                    .format(\"s3selectJSON\")\n",
    "                    .json(f\"s3a://datalake-eu-central-1/data/eventqueue/{event_name}/dt={day}\" )\n",
    "                ).schema\n",
    "\n",
    "        with s3.open(f\"s3://teamanalytics/schemas/{event_name}.json\", \"w\") as f:\n",
    "            f.write(df_schema.json())\n",
    "\n",
    "    except Exception as e:\n",
    "        print(f\"Error processing {event_name}: {e}\")\n",
    "        continue  # Continue to the next iteration"
   ]
  },
  {
   "cell_type": "code",
   "execution_count": 0,
   "metadata": {
    "application/vnd.databricks.v1+cell": {
     "cellMetadata": {},
     "inputWidgets": {},
     "nuid": "baacfd16-a892-4c5b-af95-6f308f50e54d",
     "showTitle": false,
     "title": ""
    }
   },
   "outputs": [],
   "source": [
    "# Check the schema files\n",
    "dbutils.fs.ls(\"s3://teamanalytics/schemas/\")"
   ]
  }
 ],
 "metadata": {
  "application/vnd.databricks.v1+notebook": {
   "dashboards": [],
   "environmentMetadata": {
    "base_environment": "",
    "client": "1"
   },
   "language": "python",
   "notebookMetadata": {
    "pythonIndentUnit": 4
   },
   "notebookName": "Read_Wirte_JSON_Files_Schema",
   "widgets": {
    "day": {
     "currentValue": "2024-08-26",
     "nuid": "7e9e67ef-55b6-4b86-a46e-d8400896861c",
     "typedWidgetInfo": {
      "autoCreated": false,
      "defaultValue": "2024-08-26",
      "label": "Date YYYY-MM-DD",
      "name": "day",
      "options": {
       "widgetDisplayType": "Text",
       "validationRegex": null
      },
      "parameterDataType": "String"
     },
     "widgetInfo": {
      "widgetType": "text",
      "defaultValue": "2024-08-26",
      "label": "Date YYYY-MM-DD",
      "name": "day",
      "options": {
       "widgetType": "text",
       "autoCreated": null,
       "validationRegex": null
      }
     }
    }
   }
  }
 },
 "nbformat": 4,
 "nbformat_minor": 0
}
