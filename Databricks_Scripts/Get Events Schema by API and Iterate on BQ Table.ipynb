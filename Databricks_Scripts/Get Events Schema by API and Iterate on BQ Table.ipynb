{
 "cells": [
  {
   "cell_type": "code",
   "execution_count": 0,
   "metadata": {
    "application/vnd.databricks.v1+cell": {
     "cellMetadata": {},
     "inputWidgets": {},
     "nuid": "f6451204-bcf9-46dd-8970-8670554b2bb0",
     "showTitle": false,
     "title": ""
    }
   },
   "outputs": [],
   "source": [
    "%pip install google-cloud-bigquery --quiet\n",
    "%pip install pandas-gbq --quiet\n",
    "%pip install google-auth --quiet"
   ]
  },
  {
   "cell_type": "code",
   "execution_count": 0,
   "metadata": {
    "application/vnd.databricks.v1+cell": {
     "cellMetadata": {},
     "inputWidgets": {},
     "nuid": "060475c4-7d13-4f35-8b62-9a1a945a2ccc",
     "showTitle": false,
     "title": ""
    }
   },
   "outputs": [],
   "source": [
    "import pyspark.sql.functions as f\n",
    "import pyspark.sql.utils\n",
    "from pyspark.sql.types import *\n",
    "from pyspark.sql.window import Window\n",
    "\n",
    "import re\n",
    "import pandas as pd\n",
    "import requests as req\n",
    "import base64\n",
    "import json\n",
    "import logging\n",
    "import json\n",
    "\n",
    "from google.oauth2 import service_account\n",
    "\n",
    "import os\n",
    "from operator import and_, or_\n",
    "from functools import reduce\n",
    "\n",
    "# Import helper functions from py file\n",
    "from helpers import *"
   ]
  },
  {
   "cell_type": "markdown",
   "metadata": {
    "application/vnd.databricks.v1+cell": {
     "cellMetadata": {},
     "inputWidgets": {},
     "nuid": "b5a98e3c-1e21-4587-80e2-1b9fef2631a2",
     "showTitle": false,
     "title": ""
    }
   },
   "source": [
    "##### Get Events Schema from Registry API"
   ]
  },
  {
   "cell_type": "code",
   "execution_count": 0,
   "metadata": {
    "application/vnd.databricks.v1+cell": {
     "cellMetadata": {},
     "inputWidgets": {},
     "nuid": "cb413673-59bb-4548-b72f-878654d078f7",
     "showTitle": false,
     "title": ""
    }
   },
   "outputs": [],
   "source": [
    "# Get access_token for schema registry api \n",
    "access_token = '' "
   ]
  },
  {
   "cell_type": "code",
   "execution_count": 0,
   "metadata": {
    "application/vnd.databricks.v1+cell": {
     "cellMetadata": {},
     "inputWidgets": {},
     "nuid": "c0ac08a8-9b74-49b3-8bea-b777b191bfc2",
     "showTitle": false,
     "title": ""
    }
   },
   "outputs": [],
   "source": [
    "# function to get schema for a given event\n",
    "def event_schema(event_name):\n",
    "    global access_token\n",
    "    \n",
    "    url = f\"https://schema-registry-api....../events/{event_name}/sgtm\"\n",
    "    headers = {\n",
    "                \"Authorization\": 'Bearer '  + access_token\n",
    "            }\n",
    "    response = req.get(url = url, headers = headers)\n",
    "    dict_string = response.json()\n",
    "    return dict_string"
   ]
  },
  {
   "cell_type": "code",
   "execution_count": 0,
   "metadata": {
    "application/vnd.databricks.v1+cell": {
     "cellMetadata": {},
     "inputWidgets": {},
     "nuid": "610c05c0-91b5-4e9e-804d-3892c6425af2",
     "showTitle": false,
     "title": ""
    }
   },
   "outputs": [],
   "source": [
    "event_list = [\n",
    "                \"add_to_cart\" ,\"add_to_wishlist\"  ,\"begin_checkout\" ,\"join_group\" ,\"leave_group\",\"load_content\",\"login\" ,\"page_view\",\"purchase\"\n",
    "               ,\"remove_from_cart\",\"remove_from_wishlist\" ,\"screen_view\",\"search\" ,\"select_content\" ,\"select_item\" ,\"select_promotion\" ,\"sign_up\"\n",
    "               ,\"video_complete\" ,\"video_pause\" ,\"video_progress\" ,\"video_start\",\"view_cart\" ,\"view_content\",\"view_item\" ,\"view_item_list\",\"view_promotion\"\n",
    "            ]"
   ]
  },
  {
   "cell_type": "code",
   "execution_count": 0,
   "metadata": {
    "application/vnd.databricks.v1+cell": {
     "cellMetadata": {},
     "inputWidgets": {},
     "nuid": "dda576ab-f335-4d51-9c73-bd04ed273555",
     "showTitle": false,
     "title": ""
    }
   },
   "outputs": [],
   "source": [
    "# Creating a dict to store all events and their required fields\n",
    "all_required_dict = {}\n",
    "for event in event_list:\n",
    "    required_fields = []\n",
    "    schema = event_schema(event)\n",
    "    fields = schema['$defs']['/events/config/client/config_schema.json']['required']\n",
    "    for i in fields:\n",
    "        required_fields.append(i)\n",
    "    try:\n",
    "        if schema['$defs'][f'/events/{event}/client/{event}_schema.json']['required'] == ['items']:\n",
    "            item_fields = schema['$defs'][f'/modules/item.json']['required']\n",
    "            for x in item_fields:\n",
    "                required_fields.append(x)\n",
    "    except:\n",
    "        pass\n",
    "    required_fields.append('legacy_event_name') # Not required in the schema api yet but it should be\n",
    "    all_required_dict.update({f'{event}':required_fields})\n",
    "\n",
    "#all_required_dict"
   ]
  },
  {
   "cell_type": "code",
   "execution_count": 0,
   "metadata": {
    "application/vnd.databricks.v1+cell": {
     "cellMetadata": {},
     "inputWidgets": {},
     "nuid": "65802ba3-9b29-4afb-b965-e9a37dfa064c",
     "showTitle": false,
     "title": ""
    }
   },
   "outputs": [],
   "source": [
    "# Creating a dict to store all events and case statement\n",
    "required_case_statements = {}\n",
    "for key in all_required_dict.keys():\n",
    "    case_list = []\n",
    "    i = 0\n",
    "    while i < len(all_required_dict[key]):\n",
    "        case_list.append( f\" WHEN {all_required_dict[key][i]} IS NULL THEN '{all_required_dict[key][i]} is null' \")\n",
    "        i += 1\n",
    "    # Combine all cases into one statement\n",
    "    cases= \"CASE\"\n",
    "    for i in case_list: \n",
    "        cases = cases + i \n",
    "    case_statement = cases + \"ELSE 'Valid' END AS RequiredFieldsTest\"\n",
    "\n",
    "    required_case_statements.update({f'{key}':case_statement})"
   ]
  },
  {
   "cell_type": "markdown",
   "metadata": {
    "application/vnd.databricks.v1+cell": {
     "cellMetadata": {},
     "inputWidgets": {},
     "nuid": "ae610d27-640a-4795-95eb-bbd060f2f082",
     "showTitle": false,
     "title": ""
    }
   },
   "source": [
    "##### Check Last GA4 Events Data from BigQuery"
   ]
  },
  {
   "cell_type": "code",
   "execution_count": 0,
   "metadata": {
    "application/vnd.databricks.v1+cell": {
     "cellMetadata": {},
     "inputWidgets": {},
     "nuid": "6ee0c65d-edea-40f4-823e-184e458b4426",
     "showTitle": false,
     "title": ""
    }
   },
   "outputs": [],
   "source": [
    "# Get Service Account Credentials from Databricks Scope\n",
    "b64 = dbutils.secrets.get(scope=\"team-cope\", key=\"b64_.....acking\") \n",
    "creds = base64.b64decode(b64)\n",
    "key = json.loads(creds)"
   ]
  },
  {
   "cell_type": "code",
   "execution_count": 0,
   "metadata": {
    "application/vnd.databricks.v1+cell": {
     "cellMetadata": {},
     "inputWidgets": {},
     "nuid": "4e37b1be-e444-4d13-af3d-258d9f166381",
     "showTitle": false,
     "title": ""
    }
   },
   "outputs": [],
   "source": [
    "# Set Credentials for GCS : https://docs.databricks.com/en/connect/storage/gcs.html\n",
    "\n",
    "project_id = key[\"project_id\"]\n",
    "privateKeyId = key[\"private_key_id\"]\n",
    "privateKey = key[\"private_key\"]\n",
    "clientEmail = key[\"client_email\"]\n",
    "\n",
    "\n",
    "spark.conf.set(\"credentials\", b64)\n",
    "spark.conf.set(\"parentProject\", project_id)\n",
    "spark.conf.set(\"project\", project_id)\n",
    "\n",
    "\n",
    "sc._jsc.hadoopConfiguration().set(\"fs.gs.auth.service.account.private.key.id\", privateKeyId)\n",
    "sc._jsc.hadoopConfiguration().set(\"fs.gs.auth.service.account.private.key\", privateKey)\n",
    "sc._jsc.hadoopConfiguration().set(\"fs.gs.auth.service.account.email\", clientEmail)\n",
    "\n",
    "\n",
    "temporaryGcsBucket = 'tracking-eu-spark-bigquery-temp'\n",
    "materializationDataset = \"spark_staging_EU\" ## GCS Bucket for temporary data storage\n",
    "\n",
    "\n",
    "service_account_b64 = key\n",
    "credentials = service_account.Credentials.from_service_account_info(service_account_b64)"
   ]
  },
  {
   "cell_type": "code",
   "execution_count": 0,
   "metadata": {
    "application/vnd.databricks.v1+cell": {
     "cellMetadata": {},
     "inputWidgets": {},
     "nuid": "14e4fb6f-85fb-4143-aaf1-a4a4370da075",
     "showTitle": false,
     "title": ""
    }
   },
   "outputs": [],
   "source": [
    "# Get dates from widgets. If it's not set, then process data for yesterday\n",
    "try:\n",
    "    start = datetime.strptime(dbutils.widgets.get(\"startDate\"), \"%Y-%m-%d\")\n",
    "    end = datetime.strptime(dbutils.widgets.get(\"endDate\"), \"%Y-%m-%d\")\n",
    "except:\n",
    "    # start=datetime.strptime('2022-09-01','%Y-%m-%d')\n",
    "    # end=datetime.strptime('2022-09-01','%Y-%m-%d')\n",
    "    start = datetime.today() - timedelta(days=1)\n",
    "    end = datetime.today() - timedelta(days=1)\n",
    "\n",
    "\n",
    "yesterday = datetime.today() - timedelta(days=1)\n",
    "end_utc_adjusted = end + timedelta(days=1)\n",
    "\n",
    "# Prepare date filters for GA4 query\n",
    "startDate = start.strftime(\"%Y-%m-%d\")\n",
    "endDate = end.strftime(\"%Y-%m-%d\")\n",
    "startDateBQ = start.strftime(\"%Y%m%d\")\n",
    "\n",
    "if yesterday.date() == end.date():\n",
    "    endDateBQ = end.strftime(\"%Y%m%d\")\n",
    "    time_boundary = \"EXTRACT(hour FROM TIMESTAMP_MICROS(event_timestamp))<22\"\n",
    "else:\n",
    "    endDateBQ = end_utc_adjusted.strftime(\"%Y%m%d\")\n",
    "    time_boundary = \"1=1\"\n",
    "\n",
    "\n",
    "dates = [startDate, endDate]\n",
    "#dates_regx = generate_json_list(startDate, endDate)\n",
    "print(dates)\n",
    "print(startDate, endDate)\n",
    "print(startDateBQ, endDateBQ)"
   ]
  },
  {
   "cell_type": "code",
   "execution_count": 0,
   "metadata": {
    "application/vnd.databricks.v1+cell": {
     "cellMetadata": {},
     "inputWidgets": {},
     "nuid": "03b7390b-5a47-4141-b680-031c0b32db35",
     "showTitle": false,
     "title": ""
    }
   },
   "outputs": [],
   "source": [
    "# Assign manually\n",
    "#startDateBQ = 20240707\n",
    "#endDateBQ = 20240707"
   ]
  },
  {
   "cell_type": "code",
   "execution_count": 0,
   "metadata": {
    "application/vnd.databricks.v1+cell": {
     "cellMetadata": {},
     "inputWidgets": {},
     "nuid": "235bc723-dd8d-41e9-a589-d72bbc70e962",
     "showTitle": false,
     "title": ""
    }
   },
   "outputs": [],
   "source": [
    "# Check if the last available date data in GA4 dataset by function from helpers.py \n",
    "ga4_check(\n",
    "    credentials=credentials,\n",
    "    check_dataset=4......63,\n",
    "    end_date=endDateBQ,\n",
    "    anon=True,\n",
    "    maxTries=3,\n",
    ")"
   ]
  },
  {
   "cell_type": "code",
   "execution_count": 0,
   "metadata": {
    "application/vnd.databricks.v1+cell": {
     "cellMetadata": {},
     "inputWidgets": {},
     "nuid": "44755eb9-55f5-4617-8657-6ee6accf0bdf",
     "showTitle": false,
     "title": ""
    }
   },
   "outputs": [],
   "source": [
    "# Create DF for unvalid events\n",
    "GA4_schema = ( StructType()\n",
    "             .add('event_name', StringType())\n",
    "             .add('dt', StringType()) \n",
    "             .add('event_timestamp', LongType())\n",
    "             .add('event_previous_timestamp', LongType())\n",
    "             .add('event_server_timestamp_offset', LongType())\n",
    "             .add('event_value_in_usd', DoubleType())\n",
    "             .add('event_bundle_sequence_id', LongType())\n",
    "             .add('value', DoubleType())\n",
    "             .add('event_trigger_timestamp', StringType())\n",
    "             .add('legacy_event_name', StringType())\n",
    "             .add('parent_component_name', StringType())\n",
    "             .add('component_name', StringType())\n",
    "             .add('content_group', StringType())\n",
    "             .add('content_group_detail', StringType())\n",
    "             .add('market', StringType())\n",
    "             .add('browser_tab_id', StringType())\n",
    "             .add('deeplink', StringType())\n",
    "             .add('page_title', StringType())\n",
    "             .add('page_location', StringType())\n",
    "             .add('session_engaged', StringType())\n",
    "             .add('navigation_target_group', StringType())\n",
    "             .add('shop_language', StringType())\n",
    "             .add('currency', StringType())\n",
    "             .add('initial_flow_id', StringType())\n",
    "             .add('ignore_referrer', StringType())\n",
    "             .add('method',StringType())\n",
    "             .add('firebase_screen',StringType())\n",
    "             .add('firebase_screen_class',StringType())\n",
    "             .add('ga_session_id', LongType())\n",
    "             .add('ga_session_number', LongType())\n",
    "             .add('engagement_time_msec', LongType())\n",
    "             .add('firebase_conversion', LongType())\n",
    "             .add('batch_ordering_id', LongType())\n",
    "             .add('batch_page_id', LongType())\n",
    "             .add('engaged_session_event', LongType())\n",
    "             .add('client_id', StringType())\n",
    "             .add('device_consent_id', StringType())\n",
    "             .add('user_id', StringType())\n",
    "             .add('user_pseudo_id', StringType())\n",
    "             .add('is_active_user', BooleanType())\n",
    "             .add('analytics_storage', StringType())\n",
    "             .add('ads_storage', StringType())\n",
    "             .add('uses_transient_token', StringType())\n",
    "             .add('category', StringType())\n",
    "             .add('mobile_brand_name', StringType())\n",
    "             .add('mobile_model_name', StringType())\n",
    "             .add('mobile_marketing_name', StringType())\n",
    "             .add('operating_system', StringType())\n",
    "             .add('language', StringType())\n",
    "             .add('is_limited_ad_tracking', StringType())\n",
    "             .add('browser', StringType())\n",
    "             .add('browser_version', StringType())\n",
    "             .add('hostname', StringType())\n",
    "             .add('platform', StringType())\n",
    "             .add('id', StringType())\n",
    "             .add('version', StringType())\n",
    "             .add('install_store', StringType())\n",
    "             .add('firebase_app_id', StringType())\n",
    "             .add('install_source', StringType())\n",
    "             .add('city', StringType())\n",
    "             .add('country', StringType())\n",
    "             .add('continent', StringType())\n",
    "             .add('region', StringType())\n",
    "             .add('sub_continent', StringType())\n",
    "             .add('stream_id', StringType())\n",
    "             .add('total_item_quantity', LongType())\n",
    "             .add('purchase_revenue_in_usd', DoubleType())\n",
    "             .add('purchase_revenue', DoubleType())\n",
    "             .add('refund_value_in_usd', DoubleType())\n",
    "             .add('refund_value', DoubleType())\n",
    "             .add('shipping_value_in_usd', DoubleType())\n",
    "             .add('shipping_value', DoubleType())\n",
    "             .add('tax_value_in_usd', DoubleType())\n",
    "             .add('tax_value', DoubleType())\n",
    "             .add('unique_items', LongType())\n",
    "             .add('transaction_id', StringType())\n",
    "             .add('item_id', StringType())\n",
    "             .add('item_name', StringType())\n",
    "             .add('item_brand', StringType())\n",
    "             .add('item_variant', StringType())\n",
    "             .add('item_category', StringType())\n",
    "             .add('price_in_usd', DoubleType())\n",
    "             .add('price', DoubleType())\n",
    "             .add('quantity', LongType())\n",
    "             .add('item_revenue_in_usd', DoubleType())\n",
    "             .add('item_revenue', DoubleType())\n",
    "             .add('item_refund', DoubleType())\n",
    "             .add('coupon', StringType())\n",
    "             .add('affiliation', StringType())\n",
    "             .add('item_flags', StringType())\n",
    "             .add('size_availability', StringType())\n",
    "             .add('last_dt', LongType())\n",
    "             .add('FieldsValueTest', StringType())\n",
    "             .add('RequiredFieldsTest', StringType())\n",
    "             .add('PseudonymizationTest',StringType())\n",
    "            )"
   ]
  },
  {
   "cell_type": "code",
   "execution_count": 0,
   "metadata": {
    "application/vnd.databricks.v1+cell": {
     "cellMetadata": {},
     "inputWidgets": {},
     "nuid": "cbce9f64-5e13-4dae-ac96-6a2d6da2c995",
     "showTitle": false,
     "title": ""
    }
   },
   "outputs": [],
   "source": [
    "# Iterate each event and retrieve unvalid rows\n",
    "ga4_invalid_events = spark.createDataFrame(data = [], schema = GA4_schema)\n",
    "\n",
    "for event in event_list:\n",
    "  ga4_parsed_query = f'''\n",
    "\n",
    "CREATE TEMP FUNCTION IsDate(x STRING) AS \n",
    "(x IS NULL OR SAFE_CAST(x AS DATE) IS NOT NULL);  \n",
    "\n",
    "CREATE TEMP FUNCTION IsString(x STRING) AS \n",
    "(x IS NULL OR SAFE_CAST(x AS STRING) IS NOT NULL);  \n",
    "\n",
    "CREATE TEMP FUNCTION IsInteger(x INT64) AS \n",
    "(x IS NULL OR SAFE_CAST(x AS INT64) IS NOT NULL); \n",
    "\n",
    "CREATE TEMP FUNCTION IsFloat(x FLOAT64) AS \n",
    "(x IS NULL OR SAFE_CAST(x AS FLOAT64) IS NOT NULL);  \n",
    "\n",
    "WITH RAW_EVENTS AS (\n",
    "SELECT DISTINCT\n",
    "         event_name\n",
    "        ,event_date AS dt\n",
    "        ,(SELECT value.double_value FROM UNNEST(event_params) WHERE key = 'value') AS value\n",
    "        ,(SELECT value.string_value FROM UNNEST(event_params) WHERE key = 'event_trigger_timestamp') AS event_trigger_timestamp\n",
    "        ......\n",
    "        ,items.coupon\n",
    "        ,items.affiliation\n",
    "        ,(SELECT value.string_value from UNNEST(item_params) WHERE key = 'item_flags') AS item_flags\n",
    "        ,(SELECT value.string_value from UNNEST(item_params) WHERE key = 'size_availability') AS size_availability\n",
    "        ,0 AS last_dt\n",
    "        ,CASE \n",
    "            WHEN platform IS NOT NULL AND platform NOT IN ('WEB','IOS','ANDROID')\n",
    "              THEN 'platform is invalid'\n",
    "            WHEN device.category IS NOT NULL AND device.category NOT IN ('smart tv', 'tablet', 'mobile', 'desktop') \n",
    "              THEN 'device category is invalid'\n",
    "            WHEN (SELECT value.string_value FROM UNNEST(event_params) WHERE key = 'market') IS NOT NULL \n",
    "                  AND LENGTH((SELECT value.string_value FROM UNNEST(event_params) WHERE key = 'market')) <> 2 \n",
    "              THEN 'market is invalid'\n",
    "            ELSE 'Valid'\n",
    "          END AS FieldsValueTest\n",
    "  FROM `project.datasetname.events_*` , UNNEST(items) as items\n",
    "  WHERE 1=1\n",
    "  AND _table_suffix between '{startDateBQ}' and '{endDateBQ}'\n",
    "  AND event_name = '{event}'\n",
    "  )\n",
    "\n",
    ",FINAL AS (\n",
    "  SELECT *\n",
    "         ,{required_case_statements[event]}\n",
    "         ,CASE \n",
    "              WHEN user_id IS NOT NULL \n",
    "                AND user_id NOT LIKE 'pa.%' \n",
    "                AND user_id != 'PSEUDONYMIZATION_NOT_ALLOWED_01' \n",
    "                  THEN 'user_id Not Pseudonimized'\n",
    "              ELSE 'Valid'\n",
    "          END AS PseudonymizationTest\n",
    "  FROM RAW_EVENTS\n",
    ")\n",
    "\n",
    "SELECT *\n",
    "FROM FINAL \n",
    "WHERE FieldsValueTest <> 'Valid' OR RequiredFieldsTest <> 'Valid' OR PseudonymizationTest <> 'Valid'\n",
    "'''\n",
    "\n",
    "  ga4_parsed = (\n",
    "          spark.read.format(\"bigquery\")\n",
    "          .option(\"query\", ga4_parsed_query)\n",
    "          .option(\"materializationDataset\", \"spark_staging_EU\")\n",
    "          .option(\"arrowCompressionCodec\",\"ZSTD\")\n",
    "          .load()\n",
    "      )\n",
    "\n",
    "  ga4_invalid_events = ga4_invalid_events.unionAll(ga4_parsed)"
   ]
  },
  {
   "cell_type": "code",
   "execution_count": 0,
   "metadata": {
    "application/vnd.databricks.v1+cell": {
     "cellMetadata": {},
     "inputWidgets": {},
     "nuid": "fa8bf069-9603-4c48-9aa1-4b7544f20855",
     "showTitle": false,
     "title": ""
    }
   },
   "outputs": [],
   "source": [
    "#print(ga4_parsed_query)\n",
    "#ga4_invalid_events.display()"
   ]
  },
  {
   "cell_type": "markdown",
   "metadata": {
    "application/vnd.databricks.v1+cell": {
     "cellMetadata": {},
     "inputWidgets": {},
     "nuid": "0213fee6-d21e-4e87-854c-bafcc824fbbd",
     "showTitle": false,
     "title": ""
    }
   },
   "source": [
    "##### Write final data to BQ"
   ]
  },
  {
   "cell_type": "code",
   "execution_count": 0,
   "metadata": {
    "application/vnd.databricks.v1+cell": {
     "cellMetadata": {},
     "inputWidgets": {},
     "nuid": "cc44f54c-d9b8-4bff-af01-e057b892d5fb",
     "showTitle": false,
     "title": ""
    }
   },
   "outputs": [],
   "source": [
    "now=datetime.now()\n",
    "print(now)"
   ]
  },
  {
   "cell_type": "code",
   "execution_count": 0,
   "metadata": {
    "application/vnd.databricks.v1+cell": {
     "cellMetadata": {},
     "inputWidgets": {},
     "nuid": "ace05265-988c-49da-8790-e9d4452516ca",
     "showTitle": false,
     "title": ""
    }
   },
   "outputs": [],
   "source": [
    "# Write to BigQuery dataset table\n",
    "dataset='projectname.dashboard.GA4_invalid_events' \n",
    "write_proposition='append'\n",
    "\n",
    "ga4_invalid_events\\\n",
    "    .withColumn('last_executed',f.lit(now))\\\n",
    "    .write\\\n",
    "    .format(\"bigquery\") \\\n",
    "    .mode(write_proposition) \\\n",
    "    .option(\"temporaryGcsBucket\", temporaryGcsBucket) \\\n",
    "    .option(\"table\", f\"{dataset}\") \\\n",
    "    .save()"
   ]
  },
  {
   "cell_type": "code",
   "execution_count": 0,
   "metadata": {
    "application/vnd.databricks.v1+cell": {
     "cellMetadata": {},
     "inputWidgets": {},
     "nuid": "8e2c0d00-3d38-4595-8de2-269494b17560",
     "showTitle": false,
     "title": ""
    }
   },
   "outputs": [],
   "source": [
    "# Set last_dt\n",
    "lastday_query = f\"\"\"\n",
    "                    UPDATE {dataset} \n",
    "                    SET last_dt = 0 \n",
    "                    WHERE last_dt = 1 ;\n",
    "\n",
    "                    UPDATE {dataset}\n",
    "                    SET last_dt = 1\n",
    "                    WHERE dt = (SELECT MAX(dt) FROM {dataset})\n",
    "                 \"\"\"\n",
    "\n",
    "with bigquery.Client(credentials=credentials) as bq_client:\n",
    "    job=bq_client.query(lastday_query)\n",
    "    try:\n",
    "        job.result()\n",
    "        print(\"Updated Successfully.\")\n",
    "    except Exception as e:  \n",
    "        print('Error on query data')\n",
    "        print(e)\n",
    "        raise      "
   ]
  },
  {
   "cell_type": "code",
   "execution_count": 0,
   "metadata": {
    "application/vnd.databricks.v1+cell": {
     "cellMetadata": {},
     "inputWidgets": {},
     "nuid": "fe3693bd-99c3-4880-acd5-17d862ae7b82",
     "showTitle": false,
     "title": ""
    }
   },
   "outputs": [],
   "source": [
    "# Duplication Check on the target BQ table\n",
    "deduplication_query = f\"\"\" DELETE FROM {dataset_c} WHERE dt between '{startDateBQ}' and '{endDateBQ}' and  last_executed <> '{now}'   \"\"\"\n",
    "\n",
    "with bigquery.Client(credentials=credentials) as bq_client:\n",
    "    job=bq_client.query(deduplication_query)\n",
    "    try:\n",
    "        job.result()\n",
    "        print(\"Deleted the previous load Successfully.\")\n",
    "    except Exception  as e:  \n",
    "        print('Error on deduplicating data')\n",
    "        print(e)\n",
    "        raise     "
   ]
  }
 ],
 "metadata": {
  "application/vnd.databricks.v1+notebook": {
   "dashboards": [],
   "environmentMetadata": null,
   "language": "python",
   "notebookMetadata": {
    "pythonIndentUnit": 4
   },
   "notebookName": "Get Events Schema by API and Iterate on BQ Table",
   "widgets": {}
  }
 },
 "nbformat": 4,
 "nbformat_minor": 0
}
