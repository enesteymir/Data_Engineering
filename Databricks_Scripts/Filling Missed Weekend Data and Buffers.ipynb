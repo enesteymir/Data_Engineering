{
 "cells": [
  {
   "cell_type": "markdown",
   "metadata": {
    "application/vnd.databricks.v1+cell": {
     "cellMetadata": {},
     "inputWidgets": {},
     "nuid": "4b7af1e6-e3a2-40d5-bf4e-2dc3c2f10af3",
     "showTitle": false,
     "tableResultSettingsMap": {},
     "title": ""
    }
   },
   "source": [
    "- This script is reading JSON format currency data which includes 31 different currency code compare to EUR.\n",
    "- The weekends data are not available in the source\n",
    "- Generally the yesterday records are coming late. We may also need today records to use them in streaming pipelines\n",
    "- Thats why the functions below will fill weekends and also add buffer days for today and tomorrow.\n",
    "- Then it will flatten the data and update the columns."
   ]
  },
  {
   "cell_type": "code",
   "execution_count": 0,
   "metadata": {
    "application/vnd.databricks.v1+cell": {
     "cellMetadata": {
      "byteLimit": 2048000,
      "rowLimit": 10000
     },
     "inputWidgets": {},
     "nuid": "2e4cb8fa-c18e-4e7d-a2b3-cbb372336bed",
     "showTitle": false,
     "tableResultSettingsMap": {},
     "title": ""
    }
   },
   "outputs": [],
   "source": [
    "import time\n",
    "from datetime import datetime, timedelta\n",
    "from pyspark.sql import DataFrame, SparkSession\n",
    "from pyspark.sql.functions import col, to_timestamp, date_sub, current_date, to_date, date_format, when, min, max\n",
    "from pyspark.sql.types import StructType, StructField, StringType, ArrayType, DateType, DoubleType"
   ]
  },
  {
   "cell_type": "code",
   "execution_count": 0,
   "metadata": {
    "application/vnd.databricks.v1+cell": {
     "cellMetadata": {
      "byteLimit": 2048000,
      "rowLimit": 10000
     },
     "inputWidgets": {},
     "nuid": "8ecb34dc-27f0-4e4e-a399-28ae14125391",
     "showTitle": false,
     "tableResultSettingsMap": {},
     "title": ""
    }
   },
   "outputs": [],
   "source": [
    "curreny_from = date_sub(current_date(), 7)"
   ]
  },
  {
   "cell_type": "code",
   "execution_count": 0,
   "metadata": {
    "application/vnd.databricks.v1+cell": {
     "cellMetadata": {
      "byteLimit": 2048000,
      "rowLimit": 10000
     },
     "inputWidgets": {},
     "nuid": "3606d0d1-d8c1-4f86-af18-eeb410757622",
     "showTitle": false,
     "tableResultSettingsMap": {},
     "title": ""
    }
   },
   "outputs": [],
   "source": [
    "currency_source_path = \"s3://zalando-datalake-binary/event-types/data/exchange-rate-service.exchange-rate-change\""
   ]
  },
  {
   "cell_type": "code",
   "execution_count": 0,
   "metadata": {
    "application/vnd.databricks.v1+cell": {
     "cellMetadata": {
      "byteLimit": 2048000,
      "rowLimit": 10000
     },
     "inputWidgets": {},
     "nuid": "bf127ebc-4149-4c6b-b6f7-6a5c8501a684",
     "showTitle": false,
     "tableResultSettingsMap": {},
     "title": ""
    }
   },
   "outputs": [],
   "source": [
    "# Read the currency data\n",
    "currency_bulk_df = (\n",
    "            spark.read\n",
    "                .format(\"delta\")  \n",
    "                .load(currency_source_path)\n",
    "                .select(\n",
    "                        to_date(col('dt'), \"yyyy-MM-dd\").alias(\"date\") \n",
    "                        ,col(\"data\")\n",
    "                        )\n",
    "                .filter(col(\"date\") >= curreny_from ) \n",
    "        )"
   ]
  },
  {
   "cell_type": "code",
   "execution_count": 0,
   "metadata": {
    "application/vnd.databricks.v1+cell": {
     "cellMetadata": {
      "byteLimit": 2048000,
      "rowLimit": 10000
     },
     "inputWidgets": {},
     "nuid": "3029cfcd-619a-4b36-93ed-d0a6a2fbb200",
     "showTitle": false,
     "tableResultSettingsMap": {},
     "title": ""
    }
   },
   "outputs": [
    {
     "output_type": "display_data",
     "data": {
      "text/html": [
       "<style scoped>\n",
       "  .table-result-container {\n",
       "    max-height: 300px;\n",
       "    overflow: auto;\n",
       "  }\n",
       "  table, th, td {\n",
       "    border: 1px solid black;\n",
       "    border-collapse: collapse;\n",
       "  }\n",
       "  th, td {\n",
       "    padding: 5px;\n",
       "  }\n",
       "  th {\n",
       "    text-align: left;\n",
       "  }\n",
       "</style><div class='table-result-container'><table class='table-result'><thead style='background-color: white'><tr><th>date</th><th>data</th></tr></thead><tbody><tr><td>2024-12-24</td><td>List(2024-12-24T14:59:00.002Z, EUR, 1.0, HRK, 7.5345, null)</td></tr><tr><td>2024-12-24</td><td>List(2024-12-24T14:59:00.002Z, EUR, 1.0, USD, 1.0395, null)</td></tr><tr><td>2024-12-24</td><td>List(2024-12-24T14:59:00.002Z, EUR, 1.0, JPY, 163.25, null)</td></tr><tr><td>2024-12-24</td><td>List(2024-12-24T14:59:00.002Z, EUR, 1.0, BGN, 1.9558, null)</td></tr><tr><td>2024-12-24</td><td>List(2024-12-24T14:59:00.002Z, EUR, 1.0, CZK, 25.135, null)</td></tr><tr><td>2024-12-24</td><td>List(2024-12-24T14:59:00.002Z, EUR, 1.0, DKK, 7.4608, null)</td></tr><tr><td>2024-12-24</td><td>List(2024-12-24T14:59:00.002Z, EUR, 1.0, GBP, 0.82805, null)</td></tr><tr><td>2024-12-24</td><td>List(2024-12-24T14:59:00.002Z, EUR, 1.0, HUF, 411.73, null)</td></tr><tr><td>2024-12-24</td><td>List(2024-12-24T14:59:00.002Z, EUR, 1.0, PLN, 4.2715, null)</td></tr><tr><td>2024-12-24</td><td>List(2024-12-24T14:59:00.002Z, EUR, 1.0, RON, 4.9745, null)</td></tr><tr><td>2024-12-24</td><td>List(2024-12-24T14:59:00.002Z, EUR, 1.0, SEK, 11.5335, null)</td></tr><tr><td>2024-12-24</td><td>List(2024-12-24T14:59:00.002Z, EUR, 1.0, CHF, 0.9358, null)</td></tr><tr><td>2024-12-24</td><td>List(2024-12-24T14:59:00.002Z, EUR, 1.0, ISK, 145.1, null)</td></tr><tr><td>2024-12-24</td><td>List(2024-12-24T14:59:00.002Z, EUR, 1.0, NOK, 11.849, null)</td></tr><tr><td>2024-12-24</td><td>List(2024-12-24T14:59:00.002Z, EUR, 1.0, TRY, 36.6474, null)</td></tr><tr><td>2024-12-24</td><td>List(2024-12-24T14:59:00.002Z, EUR, 1.0, AUD, 1.6681, null)</td></tr><tr><td>2024-12-24</td><td>List(2024-12-24T14:59:00.002Z, EUR, 1.0, BRL, 6.4384, null)</td></tr><tr><td>2024-12-24</td><td>List(2024-12-24T14:59:00.002Z, EUR, 1.0, CAD, 1.4988, null)</td></tr><tr><td>2024-12-24</td><td>List(2024-12-24T14:59:00.002Z, EUR, 1.0, CNY, 7.5843, null)</td></tr><tr><td>2024-12-24</td><td>List(2024-12-24T14:59:00.002Z, EUR, 1.0, HKD, 8.0743, null)</td></tr><tr><td>2024-12-24</td><td>List(2024-12-24T14:59:00.002Z, EUR, 1.0, IDR, 16843.33, null)</td></tr><tr><td>2024-12-24</td><td>List(2024-12-24T14:59:00.002Z, EUR, 1.0, ILS, 3.8133, null)</td></tr><tr><td>2024-12-24</td><td>List(2024-12-24T14:59:00.002Z, EUR, 1.0, INR, 88.5275, null)</td></tr><tr><td>2024-12-24</td><td>List(2024-12-24T14:59:00.002Z, EUR, 1.0, KRW, 1515.98, null)</td></tr><tr><td>2024-12-24</td><td>List(2024-12-24T14:59:00.002Z, EUR, 1.0, MXN, 20.949, null)</td></tr><tr><td>2024-12-24</td><td>List(2024-12-24T14:59:00.002Z, EUR, 1.0, MYR, 4.6642, null)</td></tr><tr><td>2024-12-24</td><td>List(2024-12-24T14:59:00.002Z, EUR, 1.0, NZD, 1.8429, null)</td></tr><tr><td>2024-12-24</td><td>List(2024-12-24T14:59:00.002Z, EUR, 1.0, PHP, 60.787, null)</td></tr><tr><td>2024-12-24</td><td>List(2024-12-24T14:59:00.002Z, EUR, 1.0, SGD, 1.4129, null)</td></tr><tr><td>2024-12-24</td><td>List(2024-12-24T14:59:00.002Z, EUR, 1.0, THB, 35.489, null)</td></tr><tr><td>2024-12-24</td><td>List(2024-12-24T14:59:00.002Z, EUR, 1.0, ZAR, 19.3293, null)</td></tr></tbody></table></div>"
      ]
     },
     "metadata": {
      "application/vnd.databricks.v1+output": {
       "addedWidgets": {},
       "aggData": [],
       "aggError": "",
       "aggOverflow": false,
       "aggSchema": [],
       "aggSeriesLimitReached": false,
       "aggType": "",
       "arguments": {},
       "columnCustomDisplayInfos": {},
       "data": [
        [
         "2024-12-24",
         [
          "2024-12-24T14:59:00.002Z",
          "EUR",
          1.0,
          "HRK",
          7.5345,
          null
         ]
        ],
        [
         "2024-12-24",
         [
          "2024-12-24T14:59:00.002Z",
          "EUR",
          1.0,
          "USD",
          1.0395,
          null
         ]
        ],
        [
         "2024-12-24",
         [
          "2024-12-24T14:59:00.002Z",
          "EUR",
          1.0,
          "JPY",
          163.25,
          null
         ]
        ],
        [
         "2024-12-24",
         [
          "2024-12-24T14:59:00.002Z",
          "EUR",
          1.0,
          "BGN",
          1.9558,
          null
         ]
        ],
        [
         "2024-12-24",
         [
          "2024-12-24T14:59:00.002Z",
          "EUR",
          1.0,
          "CZK",
          25.135,
          null
         ]
        ],
        [
         "2024-12-24",
         [
          "2024-12-24T14:59:00.002Z",
          "EUR",
          1.0,
          "DKK",
          7.4608,
          null
         ]
        ],
        [
         "2024-12-24",
         [
          "2024-12-24T14:59:00.002Z",
          "EUR",
          1.0,
          "GBP",
          0.82805,
          null
         ]
        ],
        [
         "2024-12-24",
         [
          "2024-12-24T14:59:00.002Z",
          "EUR",
          1.0,
          "HUF",
          411.73,
          null
         ]
        ],
        [
         "2024-12-24",
         [
          "2024-12-24T14:59:00.002Z",
          "EUR",
          1.0,
          "PLN",
          4.2715,
          null
         ]
        ],
        [
         "2024-12-24",
         [
          "2024-12-24T14:59:00.002Z",
          "EUR",
          1.0,
          "RON",
          4.9745,
          null
         ]
        ],
        [
         "2024-12-24",
         [
          "2024-12-24T14:59:00.002Z",
          "EUR",
          1.0,
          "SEK",
          11.5335,
          null
         ]
        ],
        [
         "2024-12-24",
         [
          "2024-12-24T14:59:00.002Z",
          "EUR",
          1.0,
          "CHF",
          0.9358,
          null
         ]
        ],
        [
         "2024-12-24",
         [
          "2024-12-24T14:59:00.002Z",
          "EUR",
          1.0,
          "ISK",
          145.1,
          null
         ]
        ],
        [
         "2024-12-24",
         [
          "2024-12-24T14:59:00.002Z",
          "EUR",
          1.0,
          "NOK",
          11.849,
          null
         ]
        ],
        [
         "2024-12-24",
         [
          "2024-12-24T14:59:00.002Z",
          "EUR",
          1.0,
          "TRY",
          36.6474,
          null
         ]
        ],
        [
         "2024-12-24",
         [
          "2024-12-24T14:59:00.002Z",
          "EUR",
          1.0,
          "AUD",
          1.6681,
          null
         ]
        ],
        [
         "2024-12-24",
         [
          "2024-12-24T14:59:00.002Z",
          "EUR",
          1.0,
          "BRL",
          6.4384,
          null
         ]
        ],
        [
         "2024-12-24",
         [
          "2024-12-24T14:59:00.002Z",
          "EUR",
          1.0,
          "CAD",
          1.4988,
          null
         ]
        ],
        [
         "2024-12-24",
         [
          "2024-12-24T14:59:00.002Z",
          "EUR",
          1.0,
          "CNY",
          7.5843,
          null
         ]
        ],
        [
         "2024-12-24",
         [
          "2024-12-24T14:59:00.002Z",
          "EUR",
          1.0,
          "HKD",
          8.0743,
          null
         ]
        ],
        [
         "2024-12-24",
         [
          "2024-12-24T14:59:00.002Z",
          "EUR",
          1.0,
          "IDR",
          16843.33,
          null
         ]
        ],
        [
         "2024-12-24",
         [
          "2024-12-24T14:59:00.002Z",
          "EUR",
          1.0,
          "ILS",
          3.8133,
          null
         ]
        ],
        [
         "2024-12-24",
         [
          "2024-12-24T14:59:00.002Z",
          "EUR",
          1.0,
          "INR",
          88.5275,
          null
         ]
        ],
        [
         "2024-12-24",
         [
          "2024-12-24T14:59:00.002Z",
          "EUR",
          1.0,
          "KRW",
          1515.98,
          null
         ]
        ],
        [
         "2024-12-24",
         [
          "2024-12-24T14:59:00.002Z",
          "EUR",
          1.0,
          "MXN",
          20.949,
          null
         ]
        ],
        [
         "2024-12-24",
         [
          "2024-12-24T14:59:00.002Z",
          "EUR",
          1.0,
          "MYR",
          4.6642,
          null
         ]
        ],
        [
         "2024-12-24",
         [
          "2024-12-24T14:59:00.002Z",
          "EUR",
          1.0,
          "NZD",
          1.8429,
          null
         ]
        ],
        [
         "2024-12-24",
         [
          "2024-12-24T14:59:00.002Z",
          "EUR",
          1.0,
          "PHP",
          60.787,
          null
         ]
        ],
        [
         "2024-12-24",
         [
          "2024-12-24T14:59:00.002Z",
          "EUR",
          1.0,
          "SGD",
          1.4129,
          null
         ]
        ],
        [
         "2024-12-24",
         [
          "2024-12-24T14:59:00.002Z",
          "EUR",
          1.0,
          "THB",
          35.489,
          null
         ]
        ],
        [
         "2024-12-24",
         [
          "2024-12-24T14:59:00.002Z",
          "EUR",
          1.0,
          "ZAR",
          19.3293,
          null
         ]
        ]
       ],
       "datasetInfos": [],
       "dbfsResultPath": null,
       "isJsonSchema": true,
       "metadata": {},
       "overflow": false,
       "plotOptions": {
        "customPlotOptions": {},
        "displayType": "table",
        "pivotAggregation": null,
        "pivotColumns": null,
        "xColumns": null,
        "yColumns": null
       },
       "removedWidgets": [],
       "schema": [
        {
         "metadata": "{}",
         "name": "date",
         "type": "\"date\""
        },
        {
         "metadata": "{}",
         "name": "data",
         "type": "{\"type\":\"struct\",\"fields\":[{\"name\":\"since\",\"type\":\"string\",\"nullable\":true,\"metadata\":{}},{\"name\":\"source\",\"type\":\"string\",\"nullable\":true,\"metadata\":{}},{\"name\":\"source_amount\",\"type\":\"double\",\"nullable\":true,\"metadata\":{}},{\"name\":\"target\",\"type\":\"string\",\"nullable\":true,\"metadata\":{}},{\"name\":\"target_amount\",\"type\":\"double\",\"nullable\":true,\"metadata\":{}},{\"name\":\"until\",\"type\":\"string\",\"nullable\":true,\"metadata\":{}}]}"
        }
       ],
       "type": "table"
      }
     },
     "output_type": "display_data"
    }
   ],
   "source": [
    "currency_bulk_df.filter(col('date') == '2024-12-24').display()"
   ]
  },
  {
   "cell_type": "code",
   "execution_count": 0,
   "metadata": {
    "application/vnd.databricks.v1+cell": {
     "cellMetadata": {
      "byteLimit": 2048000,
      "rowLimit": 10000
     },
     "inputWidgets": {},
     "nuid": "0f3eab31-c3c4-47d0-a952-5fa8516faa1a",
     "showTitle": false,
     "tableResultSettingsMap": {},
     "title": ""
    }
   },
   "outputs": [],
   "source": [
    "def flatten_df(spark, nested_df: DataFrame, max_depth: int = 4) -> DataFrame:\n",
    "    \"\"\" Recursively flattens nested columns in a DataFrame \"\"\"\n",
    "    \n",
    "    def flatten_once(df: DataFrame) -> DataFrame:\n",
    "        flat_cols = []\n",
    "        nested_cols = []\n",
    "        \n",
    "        # Separate flat columns from nested columns\n",
    "        for column_name, dtype in df.dtypes:\n",
    "            if dtype.startswith(\"struct\"):\n",
    "                nested_cols.append(column_name)\n",
    "            else:\n",
    "                flat_cols.append(column_name)\n",
    "\n",
    "        # Select flat columns\n",
    "        selected_cols = [col(column) for column in flat_cols]\n",
    "        \n",
    "        # Expand nested columns\n",
    "        for nested_col in nested_cols:\n",
    "            expanded = [col(f\"{nested_col}.{subfield}\").alias(f\"{nested_col}_{subfield}\")\n",
    "                        for subfield in df.select(f\"{nested_col}.*\").columns]\n",
    "            selected_cols.extend(expanded)\n",
    "        \n",
    "        return df.select(*selected_cols)\n",
    "\n",
    "    # Apply flattening iteratively up to max_depth to handle nested structs within structs\n",
    "    flat_df = nested_df\n",
    "    for _ in range(max_depth):\n",
    "        flat_df = flatten_once(flat_df)\n",
    "        \n",
    "        # Check if further flattening is required\n",
    "        if all(not dtype.startswith(\"struct\") for _, dtype in flat_df.dtypes):\n",
    "            break  # If no more nested structs, we can stop\n",
    "        \n",
    "    return flat_df"
   ]
  },
  {
   "cell_type": "code",
   "execution_count": 0,
   "metadata": {
    "application/vnd.databricks.v1+cell": {
     "cellMetadata": {
      "byteLimit": 2048000,
      "rowLimit": 10000
     },
     "inputWidgets": {},
     "nuid": "b0a0e3c1-7eac-4b7e-b6d4-2fe46c837c05",
     "showTitle": false,
     "tableResultSettingsMap": {},
     "title": ""
    }
   },
   "outputs": [],
   "source": [
    "def fill_currency_df(spark, currency_bulk_df:DataFrame) -> DataFrame:\n",
    "    \n",
    "    \"\"\" Fill the missing weekends with the each related friday's data \"\"\"\n",
    "\n",
    "    currency_bulk_df = currency_bulk_df.withColumn(\"day_of_week\", date_format(col(\"date\"), \"EEEE\"))\n",
    "    friday_df = currency_bulk_df.filter(col(\"day_of_week\") == \"Friday\").drop(\"day_of_week\")  # Drop day_of_week from Friday data to avoid conflict\n",
    "\n",
    "    min_date = currency_bulk_df.agg(min(\"date\").alias(\"min_date\")).collect()[0][\"min_date\"]\n",
    "    max_date = currency_bulk_df.agg(max(\"date\").alias(\"max_date\")).collect()[0][\"max_date\"]\n",
    "\n",
    "    date_range_df = spark.sql(f\"SELECT explode(sequence(to_date('{min_date}'), to_date('{max_date}'), interval 1 day)) as date\")\n",
    "\n",
    "    existing_dates_df = currency_bulk_df.select(\"date\").distinct()\n",
    "    missing_dates_df = date_range_df.join(existing_dates_df, \"date\", \"leftanti\")\n",
    "\n",
    "    # Identify missing Saturdays and Sundays\n",
    "    missing_weekends_df = missing_dates_df.withColumn(\"day_of_week\", date_format(col(\"date\"), \"EEEE\")) \\\n",
    "                                     .filter((col(\"day_of_week\") == \"Saturday\") | (col(\"day_of_week\") == \"Sunday\"))\n",
    "\n",
    "    # Find the corresponding Friday's data for each missing weekend date\n",
    "    weekend_filled_df = missing_weekends_df \\\n",
    "                .withColumn(\"related_friday\", date_sub(col(\"date\"), when(col(\"day_of_week\") == \"Saturday\", 1).otherwise(2))) \\\n",
    "                .join(friday_df.withColumnRenamed(\"date\", \"friday_date\"), col(\"related_friday\") == col(\"friday_date\"), \"left\") \\\n",
    "                .drop(\"related_friday\", \"day_of_week\", \"friday_date\")  \n",
    "\n",
    "    currency_bulk_df = currency_bulk_df.drop('day_of_week')\n",
    "    filled_df = currency_bulk_df.unionByName(weekend_filled_df)\n",
    "\n",
    "    return filled_df"
   ]
  },
  {
   "cell_type": "code",
   "execution_count": 0,
   "metadata": {
    "application/vnd.databricks.v1+cell": {
     "cellMetadata": {
      "byteLimit": 2048000,
      "rowLimit": 10000
     },
     "inputWidgets": {},
     "nuid": "93699ba5-2f33-47d0-8ab5-4fddd96a9421",
     "showTitle": false,
     "tableResultSettingsMap": {},
     "title": ""
    }
   },
   "outputs": [],
   "source": [
    "def add_currency_buffer(spark, filled_df:DataFrame) -> DataFrame:\n",
    "\n",
    "    # Get today's and tomorrow's dates\n",
    "    today_str = datetime.today().strftime('%Y-%m-%d')\n",
    "    today = datetime.strptime(today_str, '%Y-%m-%d').date()\n",
    "    tomorrow = today + timedelta(days=1)\n",
    "\n",
    "    # Get the max date in the source data\n",
    "    max_date = filled_df.agg({\"date\": \"max\"}).collect()[0][0]\n",
    "\n",
    "    # Check if we need to fill for yesterday, today, or tomorrow\n",
    "    if max_date < today:\n",
    "        # Start adding rows from max_date + 1 to tomorrow\n",
    "        missing_dates = [max_date + timedelta(days=i) for i in range(1, (tomorrow - max_date).days + 1)]\n",
    "\n",
    "        # Get the rows corresponding to the max_date\n",
    "        max_rows = filled_df.filter(filled_df.date == max_date)\n",
    "\n",
    "        # Create new rows for missing dates by duplicating the max_date's rows\n",
    "        new_rows = [\n",
    "            (missing_date, row.data) \n",
    "            for missing_date in missing_dates \n",
    "            for row in max_rows.collect()\n",
    "        ]\n",
    "\n",
    "        # Define the schema for the new rows DataFrame\n",
    "        schema = StructType([\n",
    "            StructField(\"date\", DateType(), True),\n",
    "            StructField(\"data\", StructType([\n",
    "                StructField(\"since\", StringType(), True),\n",
    "                StructField(\"source\", StringType(), True),\n",
    "                StructField(\"source_amount\", DoubleType(), True),\n",
    "                StructField(\"target\", StringType(), True),\n",
    "                StructField(\"target_amount\", DoubleType(), True),\n",
    "                StructField(\"until\", StringType(), True)\n",
    "            ]), True),\n",
    "        ])\n",
    "\n",
    "        # Create a new DataFrame with the new rows\n",
    "        new_rows_df = spark.createDataFrame(new_rows, schema)\n",
    "\n",
    "        # Union the new rows with the existing DataFrame\n",
    "        final_df = filled_df.union(new_rows_df)\n",
    "        return final_df\n",
    "\n",
    "    # If no missing dates, return the original DataFrame\n",
    "    return filled_df"
   ]
  },
  {
   "cell_type": "code",
   "execution_count": 0,
   "metadata": {
    "application/vnd.databricks.v1+cell": {
     "cellMetadata": {
      "byteLimit": 2048000,
      "rowLimit": 10000
     },
     "inputWidgets": {},
     "nuid": "4595663d-6b87-4f24-bb87-19881faaca99",
     "showTitle": false,
     "tableResultSettingsMap": {},
     "title": ""
    }
   },
   "outputs": [],
   "source": [
    "def update_currency(spark, df: DataFrame)-> DataFrame:\n",
    "    df = df.withColumnRenamed(\"data_target\", \"currency\") \\\n",
    "            .withColumnRenamed(\"data_target_amount\", \"currency_amount\") \\\n",
    "            .withColumnRenamed(\"date\", \"currency_date\") \\\n",
    "            .select('currency_date','currency','currency_amount')\n",
    "\n",
    "    return df"
   ]
  },
  {
   "cell_type": "code",
   "execution_count": 0,
   "metadata": {
    "application/vnd.databricks.v1+cell": {
     "cellMetadata": {
      "byteLimit": 2048000,
      "rowLimit": 10000
     },
     "inputWidgets": {},
     "nuid": "73829d22-2613-4016-af07-c023e3290492",
     "showTitle": false,
     "tableResultSettingsMap": {},
     "title": ""
    }
   },
   "outputs": [],
   "source": [
    "# Fill the missed weekend data\n",
    "filled_currency_df = fill_currency_df(spark, currency_bulk_df)\n",
    "\n",
    "# Add buffer days\n",
    "buffered_currency_df = add_currency_buffer(spark,filled_currency_df)\n",
    "\n",
    "# Flatten the currency data\n",
    "flattened_currency_df = flatten_df(spark, buffered_currency_df, 3)\n",
    "\n",
    "# Update currency df\n",
    "final_currency_df = update_currency(spark, flattened_currency_df)"
   ]
  },
  {
   "cell_type": "code",
   "execution_count": 0,
   "metadata": {
    "application/vnd.databricks.v1+cell": {
     "cellMetadata": {
      "byteLimit": 2048000,
      "rowLimit": 10000
     },
     "inputWidgets": {},
     "nuid": "f4ee51c9-fee4-47e6-84dd-706178ca2ace",
     "showTitle": false,
     "tableResultSettingsMap": {},
     "title": ""
    }
   },
   "outputs": [
    {
     "output_type": "display_data",
     "data": {
      "text/html": [
       "<style scoped>\n",
       "  .table-result-container {\n",
       "    max-height: 300px;\n",
       "    overflow: auto;\n",
       "  }\n",
       "  table, th, td {\n",
       "    border: 1px solid black;\n",
       "    border-collapse: collapse;\n",
       "  }\n",
       "  th, td {\n",
       "    padding: 5px;\n",
       "  }\n",
       "  th {\n",
       "    text-align: left;\n",
       "  }\n",
       "</style><div class='table-result-container'><table class='table-result'><thead style='background-color: white'><tr><th>currency_date</th><th>currency</th><th>currency_amount</th></tr></thead><tbody><tr><td>2024-12-26</td><td>HRK</td><td>7.5345</td></tr><tr><td>2024-12-26</td><td>USD</td><td>1.0395</td></tr><tr><td>2024-12-26</td><td>JPY</td><td>163.25</td></tr><tr><td>2024-12-26</td><td>BGN</td><td>1.9558</td></tr><tr><td>2024-12-26</td><td>CZK</td><td>25.135</td></tr><tr><td>2024-12-26</td><td>DKK</td><td>7.4608</td></tr><tr><td>2024-12-26</td><td>GBP</td><td>0.82805</td></tr><tr><td>2024-12-26</td><td>HUF</td><td>411.73</td></tr><tr><td>2024-12-26</td><td>PLN</td><td>4.2715</td></tr><tr><td>2024-12-26</td><td>RON</td><td>4.9745</td></tr><tr><td>2024-12-26</td><td>SEK</td><td>11.5335</td></tr><tr><td>2024-12-26</td><td>CHF</td><td>0.9358</td></tr><tr><td>2024-12-26</td><td>ISK</td><td>145.1</td></tr><tr><td>2024-12-26</td><td>NOK</td><td>11.849</td></tr><tr><td>2024-12-26</td><td>TRY</td><td>36.6474</td></tr><tr><td>2024-12-26</td><td>AUD</td><td>1.6681</td></tr><tr><td>2024-12-26</td><td>BRL</td><td>6.4384</td></tr><tr><td>2024-12-26</td><td>CAD</td><td>1.4988</td></tr><tr><td>2024-12-26</td><td>CNY</td><td>7.5843</td></tr><tr><td>2024-12-26</td><td>HKD</td><td>8.0743</td></tr><tr><td>2024-12-26</td><td>IDR</td><td>16843.33</td></tr><tr><td>2024-12-26</td><td>ILS</td><td>3.8133</td></tr><tr><td>2024-12-26</td><td>INR</td><td>88.5275</td></tr><tr><td>2024-12-26</td><td>KRW</td><td>1515.98</td></tr><tr><td>2024-12-26</td><td>MXN</td><td>20.949</td></tr><tr><td>2024-12-26</td><td>MYR</td><td>4.6642</td></tr><tr><td>2024-12-26</td><td>NZD</td><td>1.8429</td></tr><tr><td>2024-12-26</td><td>PHP</td><td>60.787</td></tr><tr><td>2024-12-26</td><td>SGD</td><td>1.4129</td></tr><tr><td>2024-12-26</td><td>THB</td><td>35.489</td></tr><tr><td>2024-12-26</td><td>ZAR</td><td>19.3293</td></tr></tbody></table></div>"
      ]
     },
     "metadata": {
      "application/vnd.databricks.v1+output": {
       "addedWidgets": {},
       "aggData": [],
       "aggError": "",
       "aggOverflow": false,
       "aggSchema": [],
       "aggSeriesLimitReached": false,
       "aggType": "",
       "arguments": {},
       "columnCustomDisplayInfos": {},
       "data": [
        [
         "2024-12-26",
         "HRK",
         7.5345
        ],
        [
         "2024-12-26",
         "USD",
         1.0395
        ],
        [
         "2024-12-26",
         "JPY",
         163.25
        ],
        [
         "2024-12-26",
         "BGN",
         1.9558
        ],
        [
         "2024-12-26",
         "CZK",
         25.135
        ],
        [
         "2024-12-26",
         "DKK",
         7.4608
        ],
        [
         "2024-12-26",
         "GBP",
         0.82805
        ],
        [
         "2024-12-26",
         "HUF",
         411.73
        ],
        [
         "2024-12-26",
         "PLN",
         4.2715
        ],
        [
         "2024-12-26",
         "RON",
         4.9745
        ],
        [
         "2024-12-26",
         "SEK",
         11.5335
        ],
        [
         "2024-12-26",
         "CHF",
         0.9358
        ],
        [
         "2024-12-26",
         "ISK",
         145.1
        ],
        [
         "2024-12-26",
         "NOK",
         11.849
        ],
        [
         "2024-12-26",
         "TRY",
         36.6474
        ],
        [
         "2024-12-26",
         "AUD",
         1.6681
        ],
        [
         "2024-12-26",
         "BRL",
         6.4384
        ],
        [
         "2024-12-26",
         "CAD",
         1.4988
        ],
        [
         "2024-12-26",
         "CNY",
         7.5843
        ],
        [
         "2024-12-26",
         "HKD",
         8.0743
        ],
        [
         "2024-12-26",
         "IDR",
         16843.33
        ],
        [
         "2024-12-26",
         "ILS",
         3.8133
        ],
        [
         "2024-12-26",
         "INR",
         88.5275
        ],
        [
         "2024-12-26",
         "KRW",
         1515.98
        ],
        [
         "2024-12-26",
         "MXN",
         20.949
        ],
        [
         "2024-12-26",
         "MYR",
         4.6642
        ],
        [
         "2024-12-26",
         "NZD",
         1.8429
        ],
        [
         "2024-12-26",
         "PHP",
         60.787
        ],
        [
         "2024-12-26",
         "SGD",
         1.4129
        ],
        [
         "2024-12-26",
         "THB",
         35.489
        ],
        [
         "2024-12-26",
         "ZAR",
         19.3293
        ]
       ],
       "datasetInfos": [],
       "dbfsResultPath": null,
       "isJsonSchema": true,
       "metadata": {},
       "overflow": false,
       "plotOptions": {
        "customPlotOptions": {},
        "displayType": "table",
        "pivotAggregation": null,
        "pivotColumns": null,
        "xColumns": null,
        "yColumns": null
       },
       "removedWidgets": [],
       "schema": [
        {
         "metadata": "{}",
         "name": "currency_date",
         "type": "\"date\""
        },
        {
         "metadata": "{}",
         "name": "currency",
         "type": "\"string\""
        },
        {
         "metadata": "{}",
         "name": "currency_amount",
         "type": "\"double\""
        }
       ],
       "type": "table"
      }
     },
     "output_type": "display_data"
    }
   ],
   "source": [
    "final_currency_df.filter(col('currency_date') == '2024-12-26').display()"
   ]
  }
 ],
 "metadata": {
  "application/vnd.databricks.v1+notebook": {
   "computePreferences": null,
   "dashboards": [],
   "environmentMetadata": {
    "base_environment": "",
    "client": "1"
   },
   "language": "python",
   "notebookMetadata": {
    "pythonIndentUnit": 4
   },
   "notebookName": "Filling Missed Weekend Data and Buffers",
   "widgets": {}
  },
  "language_info": {
   "name": "python"
  }
 },
 "nbformat": 4,
 "nbformat_minor": 0
}