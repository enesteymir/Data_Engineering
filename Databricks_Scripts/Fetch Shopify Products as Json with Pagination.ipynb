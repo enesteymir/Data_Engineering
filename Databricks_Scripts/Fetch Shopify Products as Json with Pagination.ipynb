{
 "cells": [
  {
   "cell_type": "code",
   "execution_count": 0,
   "metadata": {
    "application/vnd.databricks.v1+cell": {
     "cellMetadata": {
      "byteLimit": 2048000,
      "rowLimit": 10000
     },
     "inputWidgets": {},
     "nuid": "3dfeb42e-d1ed-43f1-8772-de84b456b321",
     "showTitle": false,
     "tableResultSettingsMap": {},
     "title": ""
    }
   },
   "outputs": [],
   "source": [
    "import requests\n",
    "import json\n",
    "from pyspark.sql import SparkSession\n",
    "from datetime import datetime\n",
    "from time import sleep"
   ]
  },
  {
   "cell_type": "code",
   "execution_count": 0,
   "metadata": {
    "application/vnd.databricks.v1+cell": {
     "cellMetadata": {
      "byteLimit": 2048000,
      "rowLimit": 10000
     },
     "inputWidgets": {},
     "nuid": "f5b8da5a-fb68-4ed5-bc18-411147474f7d",
     "showTitle": false,
     "tableResultSettingsMap": {},
     "title": ""
    }
   },
   "outputs": [],
   "source": [
    "# Base API endpoint\n",
    "BASE_URL = \"https://azure-api.companyname.io/shopify/products\"\n",
    "\n",
    "# Output base path in DBFS\n",
    "BASE_PATH = \"dbfs:/mnt/shopify/\"\n",
    "\n",
    "# Get today's date to use in file name\n",
    "updated_date = datetime.utcnow().strftime(\"%Y-%m-%d\")\n",
    "\n",
    "\n",
    "# Function to save JSON to DBFS\n",
    "def save_to_dbfs(data, page_num):\n",
    "    path = f\"{BASE_PATH}shopify__{updated_date}__{page_num}.json\"\n",
    "    file = json.dumps(data)\n",
    "    dbutils.fs.put(path, file, overwrite=True)\n",
    "    print(f\"Saved page {page_num} to {path}\")\n",
    "\n",
    "\n",
    "# Load payloads to blob storage with page iteration\n",
    "def fetch_and_store_all_pages():\n",
    "    has_more = True\n",
    "    page = 1\n",
    "    since_id = None\n",
    "\n",
    "    while has_more:\n",
    "        if since_id:\n",
    "            url = f\"{BASE_URL}?page={page}&since_id={since_id}\"\n",
    "        else:\n",
    "            url = BASE_URL\n",
    "\n",
    "        response = requests.get(url)\n",
    "\n",
    "        if response.status_code != 200:\n",
    "            print(f\"Failed to fetch page {page}. Status: {response.status_code}\")\n",
    "            break\n",
    "\n",
    "        data = response.json()\n",
    "        save_to_dbfs(data, page)\n",
    "\n",
    "        # chech and iterate next page\n",
    "        has_more = data.get(\"has_more\", False)\n",
    "        since_id = data.get(\"since_id\")\n",
    "        page += 1\n",
    "        sleep(5)\n",
    "\n",
    "    print(\"All pages fetched and saved.\")"
   ]
  },
  {
   "cell_type": "code",
   "execution_count": 0,
   "metadata": {
    "application/vnd.databricks.v1+cell": {
     "cellMetadata": {
      "byteLimit": 2048000,
      "rowLimit": 10000
     },
     "inputWidgets": {},
     "nuid": "cadc62db-f872-43e7-b2fc-009ad60294f7",
     "showTitle": false,
     "tableResultSettingsMap": {},
     "title": ""
    }
   },
   "outputs": [
    {
     "output_type": "stream",
     "name": "stdout",
     "output_type": "stream",
     "text": [
      "/mnt/shopify has been unmounted.\n"
     ]
    }
   ],
   "source": [
    "containerName = \"shopify\"\n",
    "storageAccountName = \"blobexternals\"\n",
    "sas = \"?sv=2023-01-03&st=2025-06-09T00%3A45............Ea%2FU1s%3D\"\n",
    "config = \"fs.azure.sas.\" + containerName+ \".\" + storageAccountName + \".blob.core.windows.net\"\n",
    "\n",
    "try:\n",
    "    dbutils.fs.unmount(\"/mnt/shopify\")\n",
    "except:\n",
    "    pass\n",
    "    \n",
    "try:\n",
    "    dbutils.fs.mount(\n",
    "      source = \"wasbs://{}@{}.blob.core.windows.net\".format(containerName,storageAccountName),\n",
    "      mount_point = \"/mnt/shopify\",\n",
    "      extra_configs = {config : sas})\n",
    "except:\n",
    "    pass"
   ]
  },
  {
   "cell_type": "code",
   "execution_count": 0,
   "metadata": {
    "application/vnd.databricks.v1+cell": {
     "cellMetadata": {
      "byteLimit": 2048000,
      "rowLimit": 10000
     },
     "inputWidgets": {},
     "nuid": "77205540-ca0b-43da-b4b8-f7c00e90e03e",
     "showTitle": false,
     "tableResultSettingsMap": {},
     "title": ""
    }
   },
   "outputs": [
    {
     "output_type": "stream",
     "name": "stdout",
     "output_type": "stream",
     "text": [
      "Wrote 393042 bytes.\nSaved page 1 to dbfs:/mnt/shopify/shopify__2025-06-27__1.json\nWrote 397452 bytes.\nSaved page 2 to dbfs:/mnt/shopify/shopify__2025-06-27__2.json\nWrote 385427 bytes.\nSaved page 3 to dbfs:/mnt/shopify/shopify__2025-06-27__3.json\nWrote 397800 bytes.\nSaved page 4 to dbfs:/mnt/shopify/shopify__2025-06-27__4.json\n"
     ]
    }
   ],
   "source": [
    "# Fetch all products\n",
    "fetch_and_store_all_pages()"
   ]
  }
 ],
 "metadata": {
  "application/vnd.databricks.v1+notebook": {
   "computePreferences": null,
   "dashboards": [],
   "environmentMetadata": {
    "base_environment": "",
    "environment_version": "2"
   },
   "inputWidgetPreferences": null,
   "language": "python",
   "notebookMetadata": {
    "pythonIndentUnit": 4
   },
   "notebookName": "shopify_products",
   "widgets": {}
  },
  "language_info": {
   "name": "python"
  }
 },
 "nbformat": 4,
 "nbformat_minor": 0
}
