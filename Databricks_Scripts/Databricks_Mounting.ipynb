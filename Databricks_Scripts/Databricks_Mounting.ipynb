{
 "cells": [
  {
   "cell_type": "markdown",
   "metadata": {
    "application/vnd.databricks.v1+cell": {
     "cellMetadata": {},
     "inputWidgets": {},
     "nuid": "87421298-e5e6-44d2-8703-3282d30fa9c2",
     "showTitle": false,
     "title": ""
    }
   },
   "source": [
    "##### Mounting the Blob Storage Container by SAS Token\n",
    "sas token can be taken from the container settings > shared access tokens.\n",
    "Permissions should be given Read, Write, Delete ..(sp=racwdli&st) while generating sas token. Give expire date range widely so that dont get auth error."
   ]
  },
  {
   "cell_type": "code",
   "execution_count": null,
   "metadata": {
    "application/vnd.databricks.v1+cell": {
     "cellMetadata": {
      "byteLimit": 2048000,
      "rowLimit": 10000
     },
     "inputWidgets": {},
     "nuid": "f5ba9c74-a7bb-4398-9cb8-ba05d9e728f5",
     "showTitle": false,
     "title": ""
    }
   },
   "outputs": [
    {
     "name": "stdout",
     "output_type": "stream",
     "text": [
      "/mnt/blobbronzelayer/raw has been unmounted.\n"
     ]
    }
   ],
   "source": [
    "container_name = \"raw\"\n",
    "storage_account_name = \"blobbronzelayer\"\n",
    "sas = \"?sv=2020-02-10&st=2024-06-02T16%3A.................VVHd2cKpJWExNZqis%3D\"\n",
    "config = \"fs.azure.sas.\" + container_name+ \".\" + storage_account_name + \".blob.core.windows.net\"\n",
    "\n",
    "try:\n",
    "    dbutils.fs.unmount(f\"/mnt/{storage_account_name}/{container_name}\")\n",
    "except:\n",
    "    pass\n",
    "    \n",
    "try:\n",
    "    dbutils.fs.mount(\n",
    "      source = f\"wasbs://{container_name}@{storage_account_name}.blob.core.windows.net\",\n",
    "      mount_point = f\"/mnt/{storage_account_name}/{container_name}\",\n",
    "      extra_configs = {config : sas})\n",
    "except:\n",
    "    pass"
   ]
  },
  {
   "cell_type": "code",
   "execution_count": null,
   "metadata": {
    "application/vnd.databricks.v1+cell": {
     "cellMetadata": {},
     "inputWidgets": {},
     "nuid": "19e7b2e5-b7e0-4c11-9ed2-e7cb3c989fd4",
     "showTitle": false,
     "title": ""
    }
   },
   "outputs": [],
   "source": [
    "%fs mounts"
   ]
  },
  {
   "cell_type": "code",
   "execution_count": null,
   "metadata": {
    "application/vnd.databricks.v1+cell": {
     "cellMetadata": {
      "byteLimit": 2048000,
      "rowLimit": 10000
     },
     "inputWidgets": {},
     "nuid": "9028a64b-6813-441d-9c42-bac9ccc63037",
     "showTitle": false,
     "title": ""
    }
   },
   "outputs": [
    {
     "name": "stdout",
     "output_type": "stream",
     "text": [
      "Wrote 4 bytes.\n",
      "Out[13]: True"
     ]
    }
   ],
   "source": [
    "# Writing a file to mounting point\n",
    "file = 'test'\n",
    "dbutils.fs.put(f'dbfs:/mnt/{storage_account_name}/{container_name}/' + '.csv' , file, overwrite = True)"
   ]
  },
  {
   "cell_type": "code",
   "execution_count": null,
   "metadata": {
    "application/vnd.databricks.v1+cell": {
     "cellMetadata": {
      "byteLimit": 2048000,
      "rowLimit": 10000
     },
     "inputWidgets": {},
     "nuid": "f15c757f-0998-4874-9c99-15e02d4a5fbf",
     "showTitle": false,
     "title": ""
    }
   },
   "outputs": [
    {
     "name": "stdout",
     "output_type": "stream",
     "text": [
      "Out[14]: [FileInfo(path='dbfs:/mnt/blobbronzelayer/raw/.csv', name='.csv', size=4, modificationTime=1717349431000)]"
     ]
    }
   ],
   "source": [
    "# Check the existing files in mounting point\n",
    "dbutils.fs.ls(f'/mnt/{storage_account_name}/{container_name}')"
   ]
  },
  {
   "cell_type": "markdown",
   "metadata": {
    "application/vnd.databricks.v1+cell": {
     "cellMetadata": {},
     "inputWidgets": {},
     "nuid": "b024d445-9864-4c0b-87da-ee4684ff8a34",
     "showTitle": false,
     "title": ""
    }
   },
   "source": [
    "##### Mounting to Container with Service Principle Credentials\n",
    "To make mounting by this method, Soft Delete should be disabled for storage account. Otherwise the mounting script can give error. Go to Storage Account > Data Protection"
   ]
  },
  {
   "cell_type": "code",
   "execution_count": null,
   "metadata": {
    "application/vnd.databricks.v1+cell": {
     "cellMetadata": {
      "byteLimit": 2048000,
      "rowLimit": 10000
     },
     "inputWidgets": {},
     "nuid": "73657b18-9179-4af7-bfb1-f67f73d80ce6",
     "showTitle": false,
     "title": ""
    }
   },
   "outputs": [
    {
     "name": "stdout",
     "output_type": "stream",
     "text": [
      "/mnt/blobbronzelayer/raw has been unmounted.\n"
     ]
    }
   ],
   "source": [
    "storage_account_name = 'blobbronzelayer'\n",
    "container_name = \"raw\"\n",
    "client_id = '44702cb9-f.......56a'\n",
    "tenant_id = 'ea3ed546-1........403d4c'\n",
    "client_secret = 'h6E8Q........dGczA'\n",
    "\n",
    "\n",
    "configs = {\n",
    "            \"fs.azure.account.auth.type\": \"OAuth\",\n",
    "            \"fs.azure.account.oauth.provider.type\": \"org.apache.hadoop.fs.azurebfs.oauth2.ClientCredsTokenProvider\",\n",
    "            \"fs.azure.account.oauth2.client.id\": f\"{client_id}\",\n",
    "            \"fs.azure.account.oauth2.client.secret\": f\"{client_secret}\",\n",
    "            \"fs.azure.account.oauth2.client.endpoint\": f\"https://login.microsoftonline.com/{tenant_id}/oauth2/token\"\n",
    "          }\n",
    "\n",
    "\n",
    "try:\n",
    "    dbutils.fs.unmount(f\"/mnt/{storage_account_name}/{container_name}\")\n",
    "except:\n",
    "    pass\n",
    "    \n",
    "try:\n",
    "    dbutils.fs.mount(\n",
    "                     source = f\"abfss://{container_name}@{storage_account_name}.dfs.core.windows.net/\",\n",
    "                     mount_point = f\"/mnt/{storage_account_name}/{container_name}\",\n",
    "                     extra_configs = configs\n",
    "                    )\n",
    "except:\n",
    "    pass"
   ]
  },
  {
   "cell_type": "markdown",
   "metadata": {
    "application/vnd.databricks.v1+cell": {
     "cellMetadata": {},
     "inputWidgets": {},
     "nuid": "6e419529-74c9-493a-a7aa-ca95f135b8a0",
     "showTitle": false,
     "title": ""
    }
   },
   "source": [
    "##### Mounting Function to Container with by Secret Scope - Azure Key Vault with Azure Key - Vault\n",
    "After Creating Secret Scope in databricks and Azure Key Vault created  in Azure and settings done, we can get credentials from vault"
   ]
  },
  {
   "cell_type": "code",
   "execution_count": null,
   "metadata": {
    "application/vnd.databricks.v1+cell": {
     "cellMetadata": {
      "byteLimit": 2048000,
      "rowLimit": 10000
     },
     "inputWidgets": {},
     "nuid": "66b314b1-38ca-4615-94ce-6ae3c3bd2f40",
     "showTitle": false,
     "title": ""
    }
   },
   "outputs": [
    {
     "name": "stdout",
     "output_type": "stream",
     "text": [
      "Out[1]: [SecretScope(name='databricks-scope')]"
     ]
    }
   ],
   "source": [
    "# List all the scopes\n",
    "dbutils.secrets.listScopes()"
   ]
  },
  {
   "cell_type": "code",
   "execution_count": null,
   "metadata": {
    "application/vnd.databricks.v1+cell": {
     "cellMetadata": {
      "byteLimit": 2048000,
      "rowLimit": 10000
     },
     "inputWidgets": {},
     "nuid": "d1467bbc-2842-4c18-ad1a-9e8e9e6d6df7",
     "showTitle": false,
     "title": ""
    }
   },
   "outputs": [
    {
     "name": "stdout",
     "output_type": "stream",
     "text": [
      "Out[2]: [SecretMetadata(key='databricks-app-client-id'),\n",
      " SecretMetadata(key='databricks-app-client-secret'),\n",
      " SecretMetadata(key='databricks-app-tenant-id')]"
     ]
    }
   ],
   "source": [
    "# List the secrets in a scope\n",
    "dbutils.secrets.list(\"databricks-scope\")"
   ]
  },
  {
   "cell_type": "code",
   "execution_count": null,
   "metadata": {
    "application/vnd.databricks.v1+cell": {
     "cellMetadata": {
      "byteLimit": 2048000,
      "rowLimit": 10000
     },
     "inputWidgets": {},
     "nuid": "535fbe69-c162-4ea7-986d-c890f4c903ec",
     "showTitle": false,
     "title": ""
    }
   },
   "outputs": [],
   "source": [
    "storage_account_name = 'blobbronzelayer'\n",
    "client_id = dbutils.secrets.get(scope='databricks-scope', key='databricks-app-client-id')\n",
    "tenant_id = dbutils.secrets.get(scope='databricks-scope', key='databricks-app-tenant-id')\n",
    "client_secret = dbutils.secrets.get(scope='databricks-scope', key='databricks-app-client-secret')\n",
    "\n",
    "\n",
    "configs = {\n",
    "            \"fs.azure.account.auth.type\": \"OAuth\",\n",
    "            \"fs.azure.account.oauth.provider.type\": \"org.apache.hadoop.fs.azurebfs.oauth2.ClientCredsTokenProvider\",\n",
    "            \"fs.azure.account.oauth2.client.id\": f\"{client_id}\",\n",
    "            \"fs.azure.account.oauth2.client.secret\": f\"{client_secret}\",\n",
    "            \"fs.azure.account.oauth2.client.endpoint\": f\"https://login.microsoftonline.com/{tenant_id}/oauth2/token\"\n",
    "          }\n",
    "\n",
    "\n",
    "def mount_adls(container_name):\n",
    "    try:\n",
    "        dbutils.fs.mount(\n",
    "                        source = f\"abfss://{container_name}@{storage_account_name}.dfs.core.windows.net/\",\n",
    "                        mount_point = f\"/mnt/{storage_account_name}/{container_name}\",\n",
    "                        extra_configs = configs\n",
    "                        )\n",
    "        print('Mounted successfully')\n",
    "        \n",
    "    except:\n",
    "        pass"
   ]
  },
  {
   "cell_type": "code",
   "execution_count": null,
   "metadata": {
    "application/vnd.databricks.v1+cell": {
     "cellMetadata": {
      "byteLimit": 2048000,
      "rowLimit": 10000
     },
     "inputWidgets": {},
     "nuid": "fcf62776-c634-499d-9782-e4970cdab7e5",
     "showTitle": false,
     "title": ""
    }
   },
   "outputs": [
    {
     "name": "stdout",
     "output_type": "stream",
     "text": [
      "Mounted successfully\n"
     ]
    }
   ],
   "source": [
    "mount_adls('raw')"
   ]
  }
 ],
 "metadata": {
  "application/vnd.databricks.v1+notebook": {
   "dashboards": [],
   "environmentMetadata": null,
   "language": "python",
   "notebookMetadata": {
    "mostRecentlyExecutedCommandWithImplicitDF": {
     "commandId": 587604417982567,
     "dataframes": [
      "_sqldf"
     ]
    },
    "pythonIndentUnit": 4
   },
   "notebookName": "mounting_script",
   "widgets": {}
  },
  "language_info": {
   "name": "python"
  }
 },
 "nbformat": 4,
 "nbformat_minor": 0
}
