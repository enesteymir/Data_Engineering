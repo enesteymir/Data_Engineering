{
 "cells": [
  {
   "cell_type": "code",
   "execution_count": 0,
   "metadata": {
    "application/vnd.databricks.v1+cell": {
     "cellMetadata": {},
     "inputWidgets": {},
     "nuid": "e78c0702-89c3-4dec-bb05-b6c4036995f9",
     "showTitle": false,
     "tableResultSettingsMap": {},
     "title": ""
    }
   },
   "outputs": [],
   "source": [
    "%pip install s3fs --quiet"
   ]
  },
  {
   "cell_type": "code",
   "execution_count": 0,
   "metadata": {
    "application/vnd.databricks.v1+cell": {
     "cellMetadata": {
      "byteLimit": 2048000,
      "rowLimit": 10000
     },
     "inputWidgets": {},
     "nuid": "b11c1639-c409-457a-a27e-b6a593dca47b",
     "showTitle": false,
     "tableResultSettingsMap": {},
     "title": ""
    }
   },
   "outputs": [],
   "source": [
    "default_date = \"01-01-2023\"\n",
    "dbutils.widgets.text(\"day\", default_date , \"day\")\n",
    "day_str = dbutils.widgets.get(\"day\")"
   ]
  },
  {
   "cell_type": "code",
   "execution_count": 0,
   "metadata": {
    "application/vnd.databricks.v1+cell": {
     "cellMetadata": {
      "byteLimit": 2048000,
      "rowLimit": 10000
     },
     "inputWidgets": {},
     "nuid": "f7c933d7-94c0-4e1d-8857-2b48daba7add",
     "showTitle": false,
     "tableResultSettingsMap": {},
     "title": ""
    }
   },
   "outputs": [],
   "source": [
    "import s3fs\n",
    "import shutil\n",
    "import os\n",
    "import subprocess\n",
    "from time import strftime\n",
    "\n",
    "from datetime import date, timedelta\n",
    "from pyspark.sql.types import StructType, StructField, StringType, DoubleType\n",
    "import json\n",
    "import s3fs"
   ]
  },
  {
   "cell_type": "markdown",
   "metadata": {
    "application/vnd.databricks.v1+cell": {
     "cellMetadata": {},
     "inputWidgets": {},
     "nuid": "ca77cb79-c430-4bc8-aade-ab069af07cc9",
     "showTitle": false,
     "tableResultSettingsMap": {},
     "title": ""
    }
   },
   "source": [
    "##### Download Clickhouse that is open-source real-time data warehouse platform, we will use it to convert files"
   ]
  },
  {
   "cell_type": "code",
   "execution_count": 0,
   "metadata": {
    "application/vnd.databricks.v1+cell": {
     "cellMetadata": {},
     "inputWidgets": {},
     "nuid": "46a9fbca-7f3a-4792-8ed9-c5034f32c61a",
     "showTitle": false,
     "tableResultSettingsMap": {},
     "title": ""
    }
   },
   "outputs": [],
   "source": [
    "%sh \n",
    "cd /home/ubuntu/\n",
    "curl https://clickhouse.com/ | sh"
   ]
  },
  {
   "cell_type": "code",
   "execution_count": 0,
   "metadata": {
    "application/vnd.databricks.v1+cell": {
     "cellMetadata": {
      "byteLimit": 2048000,
      "rowLimit": 10000
     },
     "inputWidgets": {},
     "nuid": "7c230ee1-b2f1-4488-825e-66b894761439",
     "showTitle": false,
     "tableResultSettingsMap": {},
     "title": ""
    }
   },
   "outputs": [
    {
     "name": "stdout",
     "output_type": "stream",
     "text": [
      "clickhouse\n",
      "databricks\n"
     ]
    }
   ],
   "source": [
    "%sh\n",
    "cd /home/ubuntu/\n",
    "ls"
   ]
  },
  {
   "cell_type": "code",
   "execution_count": 0,
   "metadata": {
    "application/vnd.databricks.v1+cell": {
     "cellMetadata": {
      "byteLimit": 2048000,
      "rowLimit": 10000
     },
     "inputWidgets": {},
     "nuid": "45f04e67-80a4-4ce8-8d49-5be6f3d480e6",
     "showTitle": false,
     "tableResultSettingsMap": {},
     "title": ""
    }
   },
   "outputs": [],
   "source": [
    "# Function to delete files in the directory\n",
    "def remove_dir(directory):\n",
    "    try:\n",
    "        shutil.rmtree(directory)  \n",
    "    except FileNotFoundError:\n",
    "        pass  \n",
    "    except OSError as e:\n",
    "        print(f\"Error: {e}\")"
   ]
  },
  {
   "cell_type": "code",
   "execution_count": 0,
   "metadata": {
    "application/vnd.databricks.v1+cell": {
     "cellMetadata": {
      "byteLimit": 2048000,
      "rowLimit": 10000
     },
     "inputWidgets": {},
     "nuid": "69c7770c-d69f-4dac-8cd0-5a735c5af128",
     "showTitle": false,
     "tableResultSettingsMap": {},
     "title": ""
    }
   },
   "outputs": [],
   "source": [
    "# Delete if day folder exists in Linux folder and recreate\n",
    "remove_dir(f'/home/ubuntu/created_folder/{day_str}/')\n",
    "os.makedirs(f'/home/ubuntu/created_folder/{day_str}/', exist_ok=True)"
   ]
  },
  {
   "cell_type": "markdown",
   "metadata": {
    "application/vnd.databricks.v1+cell": {
     "cellMetadata": {},
     "inputWidgets": {},
     "nuid": "03965050-0a3c-476b-902b-afa65e801824",
     "showTitle": false,
     "tableResultSettingsMap": {},
     "title": ""
    }
   },
   "source": [
    "##### Option 1 - Download JSON files from s3 to our Linux folder, convert to parquet by clickhouse and Upload to s3"
   ]
  },
  {
   "cell_type": "code",
   "execution_count": 0,
   "metadata": {
    "application/vnd.databricks.v1+cell": {
     "cellMetadata": {
      "byteLimit": 2048000,
      "rowLimit": 10000
     },
     "inputWidgets": {},
     "nuid": "c64c820c-096a-44e3-a4de-f7176864618c",
     "showTitle": false,
     "tableResultSettingsMap": {},
     "title": ""
    }
   },
   "outputs": [
    {
     "data": {
      "text/plain": [
       "['consents-export/01-01-2024/consents-01-01-2024 00:00:06 UTC.json',\n",
       " 'consents-export/01-01-2024/consents-01-01-2024 00:15:07 UTC.json']"
      ]
     },
     "execution_count": 28,
     "metadata": {},
     "output_type": "execute_result"
    }
   ],
   "source": [
    "# Get the JSON files list\n",
    "fs = s3fs.S3FileSystem()\n",
    "files = fs.ls(f\"s3a://consents-export/{day_str}\")\n",
    "files[:2]"
   ]
  },
  {
   "cell_type": "code",
   "execution_count": null,
   "metadata": {},
   "outputs": [],
   "source": [
    "for file in files:\n",
    "   file_name = file.split('/')[2]\n",
    "   print(f\"downloading {file_name} from S3\")\n",
    "   fs.download(file, f\"/home/ubuntu/created_folder/{day_str}/{file_name}\")\n",
    "\n",
    "   print(f\"finished downloading {file_name} from S3\")\n",
    "\n",
    "   local_folder = f\"/home/ubuntu/created_folder/{day_str}\"\n",
    "   json_file = f\"{local_folder}/{file_name}\"\n",
    "   parquet_file = f\"{local_folder}/{file_name}.parquet\"\n",
    "\n",
    "   command = (\n",
    "         f\"TZ='Europe/Berlin' TZDIR='/usr/share/zoneinfo' \"\n",
    "         f\"/home/ubuntu/clickhouse --input_format_allow_errors_num 10000 \"\n",
    "         f\"-q \\\"SELECT * FROM file('{json_file}') INTO OUTFILE '{parquet_file}'\\\"\"\n",
    "      )\n",
    "\n",
    "   print(f\"converting {file_name} to parquet\")\n",
    "   subprocess.run(command, shell=True, check=True)\n",
    "\n",
    "   print(f\"uploading {file_name} to s3\")\n",
    "   fs.upload(f\"/home/ubuntu/created_folder/{day_str}/{file_name}.parquet\", f\"s3://tracking-analytics/consents-export-parquet/{day_str}/{file_name}.parquet\")\n",
    "\n",
    "   os.remove(f'/home/ubuntu/created_folder/{day_str}/{file_name}.parquet')\n",
    "   os.remove(f'/home/ubuntu/created_folder/{day_str}/{file_name}')\n",
    "   print(f\"removed {file_name} from local folder\")"
   ]
  },
  {
   "cell_type": "markdown",
   "metadata": {
    "application/vnd.databricks.v1+cell": {
     "cellMetadata": {},
     "inputWidgets": {},
     "nuid": "58117d8e-70e5-4340-8d3a-2bf55cd3704f",
     "showTitle": false,
     "tableResultSettingsMap": {},
     "title": ""
    }
   },
   "source": [
    "##### Option 2 - Read directly JSON files, convert to parquet by clickhouse and Upload to s3"
   ]
  },
  {
   "cell_type": "code",
   "execution_count": 0,
   "metadata": {
    "application/vnd.databricks.v1+cell": {
     "cellMetadata": {
      "byteLimit": 2048000,
      "rowLimit": 10000
     },
     "inputWidgets": {},
     "nuid": "9e4146e7-e834-44fd-afa7-4084ca2ff240",
     "showTitle": false,
     "tableResultSettingsMap": {},
     "title": ""
    }
   },
   "outputs": [],
   "source": [
    "from urllib.parse import quote"
   ]
  },
  {
   "cell_type": "code",
   "execution_count": 0,
   "metadata": {
    "application/vnd.databricks.v1+cell": {
     "cellMetadata": {},
     "inputWidgets": {},
     "nuid": "f4cc5633-5179-4ee3-b2a5-f508eca3045d",
     "showTitle": false,
     "tableResultSettingsMap": {},
     "title": ""
    }
   },
   "outputs": [],
   "source": [
    "for file in files:\n",
    "    file_name = file.split('/')[-1]\n",
    "    encoded_file_name = quote(file_name)\n",
    "\n",
    "    command = (\n",
    "        f\"TZ='Europe/Berlin' TZDIR='/usr/share/zoneinfo' \"\n",
    "        f\"/home/ubuntu/clickhouse -q \"\n",
    "        f\"\\\"SELECT * FROM s3('s3://consents-export/{day_str}/{encoded_file_name}') FORMAT Parquet\\\" > \"\n",
    "        f\"'{local_folder}/{file_name}.parquet'\"\n",
    "    )\n",
    "\n",
    "    print(f\"converting {file_name} to parquet\")\n",
    "    subprocess.run(\n",
    "        command,\n",
    "        shell=True,\n",
    "        check=True\n",
    "    )\n",
    "\n",
    "    print(f\"uploading {file_name} to s3\")\n",
    "    fs.upload(f\"/home/ubuntu/created_folder/{day_str}/{file_name}.parquet\", f\"s3://tracking-analytics/consents-export-parquet/{day_str}/{file_name}.parquet\")\n",
    "\n",
    "    os.remove(f'/home/ubuntu/created_folder/{day_str}/{file_name}.parquet')\n",
    "    print(f\"removed {file_name} from local folder\")"
   ]
  }
 ],
 "metadata": {
  "application/vnd.databricks.v1+notebook": {
   "computePreferences": null,
   "dashboards": [],
   "environmentMetadata": {
    "base_environment": "",
    "client": "1"
   },
   "language": "python",
   "notebookMetadata": {
    "mostRecentlyExecutedCommandWithImplicitDF": {
     "commandId": 820459366970054,
     "dataframes": [
      "_sqldf"
     ]
    },
    "pythonIndentUnit": 4
   },
   "notebookName": "JSON to Parquet - Upload to S3 by Linux",
   "widgets": {
    "day": {
     "currentValue": "01-01-2024",
     "nuid": "eb2d5bf2-7e41-4ba6-936c-fb4a599d9ebb",
     "typedWidgetInfo": {
      "autoCreated": false,
      "defaultValue": "01-01-2023",
      "label": "day",
      "name": "day",
      "options": {
       "validationRegex": null,
       "widgetDisplayType": "Text"
      },
      "parameterDataType": "String"
     },
     "widgetInfo": {
      "defaultValue": "01-01-2023",
      "label": "day",
      "name": "day",
      "options": {
       "autoCreated": null,
       "validationRegex": null,
       "widgetType": "text"
      },
      "widgetType": "text"
     }
    }
   }
  },
  "language_info": {
   "name": "python"
  }
 },
 "nbformat": 4,
 "nbformat_minor": 0
}
