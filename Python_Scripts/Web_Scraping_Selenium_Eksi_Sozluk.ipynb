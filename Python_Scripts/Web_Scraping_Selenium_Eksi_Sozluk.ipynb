{
 "cells": [
  {
   "cell_type": "markdown",
   "metadata": {},
   "source": [
    "https://selenium-python.readthedocs.io\n",
    "\n",
    "> Download the related browser driver. We prefer Chrome web driver. Then add the exe's path into Environment Variables > Path section.\n",
    "> Chrome : https://sites.google.com/chromium.org/driver/"
   ]
  },
    {
   "cell_type": "code",
   "execution_count": 1,
   "metadata": {},
   "outputs": [],
   "source": [
    "import pandas as pd\n",
    "from selenium import webdriver\n",
    "from selenium.webdriver.common.by import By\n",
    "import time\n",
    "import tqdm"
   ]
  },
  {
   "cell_type": "code",
   "execution_count": 42,
   "metadata": {},
   "outputs": [],
   "source": [
    "# it will opens a browser. We choose Chrome\n",
    "browser = webdriver.Chrome()"
   ]
  },
  {
   "cell_type": "code",
   "execution_count": 43,
   "metadata": {},
   "outputs": [],
   "source": [
    "url = \"https://eksisozluk.com/yazilimci-maasi--3199476?p=1\""
   ]
  },
  {
   "cell_type": "code",
   "execution_count": 44,
   "metadata": {},
   "outputs": [],
   "source": [
    "# open the url in the browser\n",
    "browser.get(url)"
   ]
  },
  {
   "cell_type": "code",
   "execution_count": 45,
   "metadata": {},
   "outputs": [],
   "source": [
    "# class 'ı content olan tüm elementleri çek diyoruz\n",
    "# find_element 1 adet seçerken find_elements denildiğinde tüm elementleri seçer\n",
    "elements = browser.find_elements(By.CSS_SELECTOR, value='.content')\n",
    "authors = browser.find_elements(By.CSS_SELECTOR, value='.entry-author')"
   ]
  },
  {
   "cell_type": "markdown",
   "metadata": {},
   "source": [
    "visit the site to see all the alternatives to locate elements methods : https://selenium-python.readthedocs.io/locating-elements.html"
   ]
  },
  {
   "cell_type": "code",
   "execution_count": 54,
   "metadata": {},
   "outputs": [],
   "source": [
    "entry_list = []\n",
    "for element in elements:\n",
    "    entry_list.append(element.text)\n",
    "\n",
    "author_list = []\n",
    "for author in authors:\n",
    "    author_list.append(author.text)"
   ]
  },
  {
   "cell_type": "code",
   "execution_count": 55,
   "metadata": {},
   "outputs": [
    {
     "data": {
      "text/plain": [
       "'her ne kadar bilgisayar mühendisi maaşı olarak vucut buluyor gibi görünse de esasında piyasadaki yazılımcıların yarıya yakını bilgisayar mühendisi değildir. yüksekokul veya açıköğretimden tutun da matematik mühendisine kadar değişik bir skalada değişen lisanslara sahip kimseler, yazılım geliştiriciliği işinde çalışırlar. bu bakımdan \"yazılımcı\" ya da diğer bir deyişle programcı titri ayrıca ele alınmalıdır.\\n\\npiyasa ortalamasını kestirmek gerçekten güç. ancak, ülkemiz şartlarında deneyimsiz bir yazılımcı 1000-1500, orta seviye bir yazılımcı 2500-3500, deneyimli ve projeyi her yakasından tutup götürebilen lider özelliğinde senior bir yazılımcı ise 4000-7000 arası maaş aladurur..'"
      ]
     },
     "execution_count": 55,
     "metadata": {},
     "output_type": "execute_result"
    }
   ],
   "source": [
    "entry_list[0]"
   ]
  },
  {
   "cell_type": "code",
   "execution_count": 56,
   "metadata": {},
   "outputs": [
    {
     "data": {
      "text/plain": [
       "'cekko'"
      ]
     },
     "execution_count": 56,
     "metadata": {},
     "output_type": "execute_result"
    }
   ],
   "source": [
    "author_list[0]"
   ]
  },
  {
   "cell_type": "markdown",
   "metadata": {},
   "source": [
    "### Pull all the entries from all pages"
   ]
  },
  {
   "cell_type": "code",
   "execution_count": 3,
   "metadata": {},
   "outputs": [
    {
     "name": "stderr",
     "output_type": "stream",
     "text": [
      "100%|████████████████████████████████████████████████████████████████████████████████████| 3/3 [01:57<00:00, 39.21s/it]\n"
     ]
    }
   ],
   "source": [
    "browser = webdriver.Chrome()\n",
    "\n",
    "entry_list = []\n",
    "author_list = []\n",
    "for page in tqdm.tqdm(range(1,4)):\n",
    "    url = \"https://eksisozluk.com/yazilimci-maasi--3199476?p={0}\".format(str(page))\n",
    "    browser.get(url)\n",
    "    elements = browser.find_elements(By.CSS_SELECTOR, value='.content')\n",
    "    authors = browser.find_elements(By.CSS_SELECTOR, value='.entry-author')\n",
    "    for element in elements:\n",
    "        entry_list.append(element.text)\n",
    "    for author in authors:\n",
    "        author_list.append(author.text)\n",
    "    time.sleep(0.1)\n",
    "    \n",
    "browser.close()"
   ]
  },
  {
   "cell_type": "code",
   "execution_count": 11,
   "metadata": {},
   "outputs": [
    {
     "data": {
      "text/html": [
       "<div>\n",
       "<style scoped>\n",
       "    .dataframe tbody tr th:only-of-type {\n",
       "        vertical-align: middle;\n",
       "    }\n",
       "\n",
       "    .dataframe tbody tr th {\n",
       "        vertical-align: top;\n",
       "    }\n",
       "\n",
       "    .dataframe thead th {\n",
       "        text-align: right;\n",
       "    }\n",
       "</style>\n",
       "<table border=\"1\" class=\"dataframe\">\n",
       "  <thead>\n",
       "    <tr style=\"text-align: right;\">\n",
       "      <th></th>\n",
       "      <th>Author</th>\n",
       "      <th>Entry</th>\n",
       "    </tr>\n",
       "  </thead>\n",
       "  <tbody>\n",
       "    <tr>\n",
       "      <th>0</th>\n",
       "      <td>cekko</td>\n",
       "      <td>her ne kadar bilgisayar mühendisi maaşı olarak...</td>\n",
       "    </tr>\n",
       "    <tr>\n",
       "      <th>1</th>\n",
       "      <td>evliya</td>\n",
       "      <td>(bkz: yazılımcı)\\n(bkz: bilgisayarcı)</td>\n",
       "    </tr>\n",
       "    <tr>\n",
       "      <th>2</th>\n",
       "      <td>angry engineer</td>\n",
       "      <td>türkiye şartlarında çok iyi y*rr*ktır gibi bir...</td>\n",
       "    </tr>\n",
       "    <tr>\n",
       "      <th>3</th>\n",
       "      <td>highborn</td>\n",
       "      <td>çalıştığım şirkette, 4 binden (euro, net, artı...</td>\n",
       "    </tr>\n",
       "    <tr>\n",
       "      <th>4</th>\n",
       "      <td>zeusunkiziartemis</td>\n",
       "      <td>o kadar düşük maaş aldıklarını sanmıyorum zira...</td>\n",
       "    </tr>\n",
       "    <tr>\n",
       "      <th>5</th>\n",
       "      <td>tengri biz menen</td>\n",
       "      <td>sikecek şirketlere girerseniz junior olarak as...</td>\n",
       "    </tr>\n",
       "    <tr>\n",
       "      <th>6</th>\n",
       "      <td>kolbasti oynayan koala</td>\n",
       "      <td>2020 istatistiklerinin twitter’daki öncekiyazı...</td>\n",
       "    </tr>\n",
       "    <tr>\n",
       "      <th>7</th>\n",
       "      <td>whatdreamsnevercome</td>\n",
       "      <td>orta - orta iyi bir yazılımcı için saatlik ücr...</td>\n",
       "    </tr>\n",
       "    <tr>\n",
       "      <th>8</th>\n",
       "      <td>hisli velet</td>\n",
       "      <td>türkiye şartlarında değişkenlik gösteren maaşt...</td>\n",
       "    </tr>\n",
       "    <tr>\n",
       "      <th>9</th>\n",
       "      <td>ementess</td>\n",
       "      <td>*** 27 aralık 2021 tarihinde entryi güncelledi...</td>\n",
       "    </tr>\n",
       "    <tr>\n",
       "      <th>10</th>\n",
       "      <td>kediye kafa atan hamsi</td>\n",
       "      <td>lokasyon : izmir\\ntecrübe : 9 yıl\\nposizyon : ...</td>\n",
       "    </tr>\n",
       "    <tr>\n",
       "      <th>11</th>\n",
       "      <td>opethian</td>\n",
       "      <td>maaşlarını bildiğim birkaç kişiyi yazayım da i...</td>\n",
       "    </tr>\n",
       "    <tr>\n",
       "      <th>12</th>\n",
       "      <td>psychogugu</td>\n",
       "      <td>ilk girişiniz 4500tl civarı\\n1 yıl sonra en az...</td>\n",
       "    </tr>\n",
       "    <tr>\n",
       "      <th>13</th>\n",
       "      <td>mantik hatasindan ote</td>\n",
       "      <td>lokasyon : istanbul\\ntecrübe : 9 yıl\\nposizyon...</td>\n",
       "    </tr>\n",
       "    <tr>\n",
       "      <th>14</th>\n",
       "      <td>xbarbie</td>\n",
       "      <td>japonya ozelinde --yurtdisi bazli bir bilgilen...</td>\n",
       "    </tr>\n",
       "    <tr>\n",
       "      <th>15</th>\n",
       "      <td>fredininmerkuru</td>\n",
       "      <td>özellikle doların 4 liralardan 7 liralara çıkt...</td>\n",
       "    </tr>\n",
       "    <tr>\n",
       "      <th>16</th>\n",
       "      <td>ssgnin kankasi</td>\n",
       "      <td>vertigo games'in patronu 2022 için verecekleri...</td>\n",
       "    </tr>\n",
       "    <tr>\n",
       "      <th>17</th>\n",
       "      <td>basim hafif donuyor gecer insallah</td>\n",
       "      <td>döviz kazanan bir işletmeyse ve çalışan ingili...</td>\n",
       "    </tr>\n",
       "    <tr>\n",
       "      <th>18</th>\n",
       "      <td>lostblue</td>\n",
       "      <td>yazılımcı bir arkadaşımın geçenlerde açıkladığ...</td>\n",
       "    </tr>\n",
       "    <tr>\n",
       "      <th>19</th>\n",
       "      <td>kararlsiz</td>\n",
       "      <td>gösterge bilgi niteliğinde paylaşıyorum:\\n\\n9-...</td>\n",
       "    </tr>\n",
       "    <tr>\n",
       "      <th>20</th>\n",
       "      <td>theylmz</td>\n",
       "      <td>ankete destek\\nremote calisiyorum, ege bolgesi...</td>\n",
       "    </tr>\n",
       "    <tr>\n",
       "      <th>21</th>\n",
       "      <td>hotkey</td>\n",
       "      <td>bir destekte benden remote (non-europe) 10k$ brut</td>\n",
       "    </tr>\n",
       "    <tr>\n",
       "      <th>22</th>\n",
       "      <td>merabasayindinleyen</td>\n",
       "      <td>stajyer.\\n\\ngeldiğim gün/5 * asgari\\n\\nedit: b...</td>\n",
       "    </tr>\n",
       "    <tr>\n",
       "      <th>23</th>\n",
       "      <td>kelesek</td>\n",
       "      <td>değişkendir. biraz şans, biraz tecrübe, biraz ...</td>\n",
       "    </tr>\n",
       "  </tbody>\n",
       "</table>\n",
       "</div>"
      ],
      "text/plain": [
       "                                Author  \\\n",
       "0                                cekko   \n",
       "1                               evliya   \n",
       "2                       angry engineer   \n",
       "3                             highborn   \n",
       "4                    zeusunkiziartemis   \n",
       "5                     tengri biz menen   \n",
       "6               kolbasti oynayan koala   \n",
       "7                  whatdreamsnevercome   \n",
       "8                          hisli velet   \n",
       "9                             ementess   \n",
       "10              kediye kafa atan hamsi   \n",
       "11                            opethian   \n",
       "12                          psychogugu   \n",
       "13               mantik hatasindan ote   \n",
       "14                             xbarbie   \n",
       "15                     fredininmerkuru   \n",
       "16                      ssgnin kankasi   \n",
       "17  basim hafif donuyor gecer insallah   \n",
       "18                            lostblue   \n",
       "19                           kararlsiz   \n",
       "20                             theylmz   \n",
       "21                              hotkey   \n",
       "22                 merabasayindinleyen   \n",
       "23                             kelesek   \n",
       "\n",
       "                                                Entry  \n",
       "0   her ne kadar bilgisayar mühendisi maaşı olarak...  \n",
       "1               (bkz: yazılımcı)\\n(bkz: bilgisayarcı)  \n",
       "2   türkiye şartlarında çok iyi y*rr*ktır gibi bir...  \n",
       "3   çalıştığım şirkette, 4 binden (euro, net, artı...  \n",
       "4   o kadar düşük maaş aldıklarını sanmıyorum zira...  \n",
       "5   sikecek şirketlere girerseniz junior olarak as...  \n",
       "6   2020 istatistiklerinin twitter’daki öncekiyazı...  \n",
       "7   orta - orta iyi bir yazılımcı için saatlik ücr...  \n",
       "8   türkiye şartlarında değişkenlik gösteren maaşt...  \n",
       "9   *** 27 aralık 2021 tarihinde entryi güncelledi...  \n",
       "10  lokasyon : izmir\\ntecrübe : 9 yıl\\nposizyon : ...  \n",
       "11  maaşlarını bildiğim birkaç kişiyi yazayım da i...  \n",
       "12  ilk girişiniz 4500tl civarı\\n1 yıl sonra en az...  \n",
       "13  lokasyon : istanbul\\ntecrübe : 9 yıl\\nposizyon...  \n",
       "14  japonya ozelinde --yurtdisi bazli bir bilgilen...  \n",
       "15  özellikle doların 4 liralardan 7 liralara çıkt...  \n",
       "16  vertigo games'in patronu 2022 için verecekleri...  \n",
       "17  döviz kazanan bir işletmeyse ve çalışan ingili...  \n",
       "18  yazılımcı bir arkadaşımın geçenlerde açıkladığ...  \n",
       "19  gösterge bilgi niteliğinde paylaşıyorum:\\n\\n9-...  \n",
       "20  ankete destek\\nremote calisiyorum, ege bolgesi...  \n",
       "21  bir destekte benden remote (non-europe) 10k$ brut  \n",
       "22  stajyer.\\n\\ngeldiğim gün/5 * asgari\\n\\nedit: b...  \n",
       "23  değişkendir. biraz şans, biraz tecrübe, biraz ...  "
      ]
     },
     "execution_count": 11,
     "metadata": {},
     "output_type": "execute_result"
    }
   ],
   "source": [
    "entries_df = pd.DataFrame( {'Author': author_list, 'Entry': entry_list } )\n",
    "entries_df"
   ]
  }
 ],
 "metadata": {
  "kernelspec": {
   "display_name": "Python 3",
   "language": "python",
   "name": "python3"
  },
  "language_info": {
   "codemirror_mode": {
    "name": "ipython",
    "version": 3
   },
   "file_extension": ".py",
   "mimetype": "text/x-python",
   "name": "python",
   "nbconvert_exporter": "python",
   "pygments_lexer": "ipython3",
   "version": "3.8.3"
  }
 },
 "nbformat": 4,
 "nbformat_minor": 4
}
