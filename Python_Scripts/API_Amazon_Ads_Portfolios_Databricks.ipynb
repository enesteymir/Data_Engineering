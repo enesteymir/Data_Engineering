{
 "cells": [
  {
   "cell_type": "code",
   "execution_count": 0,
   "metadata": {
    "application/vnd.databricks.v1+cell": {
     "inputWidgets": {},
     "nuid": "85a74f25-2114-41d2-9813-1f784bec80eb",
     "showTitle": false,
     "title": ""
    }
   },
   "outputs": [
    {
     "data": {
      "text/html": [
       "<style scoped>\n",
       "  .ansiout {\n",
       "    display: block;\n",
       "    unicode-bidi: embed;\n",
       "    white-space: pre-wrap;\n",
       "    word-wrap: break-word;\n",
       "    word-break: break-all;\n",
       "    font-family: \"Source Code Pro\", \"Menlo\", monospace;;\n",
       "    font-size: 13px;\n",
       "    color: #555;\n",
       "    margin-left: 4px;\n",
       "    line-height: 19px;\n",
       "  }\n",
       "</style>\n",
       "<div class=\"ansiout\"></div>"
      ]
     },
     "metadata": {
      "application/vnd.databricks.v1+output": {
       "addedWidgets": {},
       "arguments": {},
       "data": "<div class=\"ansiout\"></div>",
       "datasetInfos": [],
       "metadata": {},
       "removedWidgets": [],
       "type": "html"
      }
     },
     "output_type": "display_data"
    }
   ],
   "source": [
    "from time import sleep\n",
    "import requests\n",
    "import re\n",
    "import json\n",
    "import datetime\n",
    "import gzip\n",
    "\n",
    "\n",
    "# LwA Dev User infos\n",
    "C_KEY = 'amzn1.application-oa2-client.c..........82777b0b3'\n",
    "C_SECRET_KEY = 'd12827396da..............a767c4'\n",
    "C_REFRESH_TOKEN = 'Atzr|IwE.......SnTEaO'\n",
    "\n",
    "ProfileId_DE = '216......4659'\n",
    "ProfileId_IT = '215......123194'\n",
    "ProfileId_FR = '118.....966079'\n",
    "ProfileId_NL = '371.....4632014'\n",
    "ProfileId_ES = '121.....53006'\n",
    "ProfileId_UK = '3411......77547'   "
   ]
  },
  {
   "cell_type": "code",
   "execution_count": 0,
   "metadata": {
    "application/vnd.databricks.v1+cell": {
     "inputWidgets": {},
     "nuid": "ffa14823-5de8-42ed-9538-b3cc432f6f76",
     "showTitle": false,
     "title": ""
    }
   },
   "outputs": [
    {
     "data": {
      "text/html": [
       "<style scoped>\n",
       "  .ansiout {\n",
       "    display: block;\n",
       "    unicode-bidi: embed;\n",
       "    white-space: pre-wrap;\n",
       "    word-wrap: break-word;\n",
       "    word-break: break-all;\n",
       "    font-family: \"Source Code Pro\", \"Menlo\", monospace;;\n",
       "    font-size: 13px;\n",
       "    color: #555;\n",
       "    margin-left: 4px;\n",
       "    line-height: 19px;\n",
       "  }\n",
       "</style>\n",
       "<div class=\"ansiout\"></div>"
      ]
     },
     "metadata": {
      "application/vnd.databricks.v1+output": {
       "addedWidgets": {},
       "arguments": {},
       "data": "<div class=\"ansiout\"></div>",
       "datasetInfos": [],
       "metadata": {},
       "removedWidgets": [],
       "type": "html"
      }
     },
     "output_type": "display_data"
    }
   ],
   "source": [
    "# Get Access Token\n",
    "def get_access_token():\n",
    "    global refresh_token\n",
    "    url = \"https://api.amazon.co.uk/auth/o2/token\"\n",
    "\n",
    "    body = {\n",
    "            \"grant_type\":\"refresh_token\",\n",
    "            \"client_id\": C_KEY,\n",
    "            \"client_secret\": C_SECRET_KEY,\n",
    "            \"refresh_token\":C_REFRESH_TOKEN\n",
    "           }\n",
    " \n",
    "    response = requests.post(url = url, data = body)\n",
    "    return response.json()['access_token']\n",
    "\n",
    "C_ACCESS_TOKEN = get_access_token()"
   ]
  },
  {
   "cell_type": "code",
   "execution_count": 0,
   "metadata": {
    "application/vnd.databricks.v1+cell": {
     "inputWidgets": {},
     "nuid": "e9d582ea-58ec-42d2-926a-1d9a6adf20b1",
     "showTitle": false,
     "title": ""
    }
   },
   "outputs": [
    {
     "data": {
      "text/html": [
       "<style scoped>\n",
       "  .ansiout {\n",
       "    display: block;\n",
       "    unicode-bidi: embed;\n",
       "    white-space: pre-wrap;\n",
       "    word-wrap: break-word;\n",
       "    word-break: break-all;\n",
       "    font-family: \"Source Code Pro\", \"Menlo\", monospace;;\n",
       "    font-size: 13px;\n",
       "    color: #555;\n",
       "    margin-left: 4px;\n",
       "    line-height: 19px;\n",
       "  }\n",
       "</style>\n",
       "<div class=\"ansiout\"></div>"
      ]
     },
     "metadata": {
      "application/vnd.databricks.v1+output": {
       "addedWidgets": {},
       "arguments": {},
       "data": "<div class=\"ansiout\"></div>",
       "datasetInfos": [],
       "metadata": {},
       "removedWidgets": [],
       "type": "html"
      }
     },
     "output_type": "display_data"
    }
   ],
   "source": [
    "# Function to Request the Portfolios\n",
    "def portfolio(ProfileId):\n",
    "    global C_ACCESS_TOKEN, C_KEY\n",
    "    url = \"https://advertising-api-eu.amazon.com/v2/portfolios\"\n",
    "\n",
    "    headers = {\n",
    "                'Authorization'                   : 'Bearer ' + C_ACCESS_TOKEN,\n",
    "                'Amazon-Advertising-API-ClientId' :  C_KEY,\n",
    "                'Amazon-Advertising-API-Scope'    :  ProfileId,\n",
    "                'Content-Type'                    : 'application/json'\n",
    "                }\n",
    "\n",
    "\n",
    "    response = requests.get(url = url, headers = headers)\n",
    "    response = response.json()\n",
    "    file = json.dumps(response)\n",
    "    return file"
   ]
  },
  {
   "cell_type": "code",
   "execution_count": 0,
   "metadata": {
    "application/vnd.databricks.v1+cell": {
     "inputWidgets": {},
     "nuid": "6f1ba6d9-e164-4146-b5fc-353b512e2955",
     "showTitle": false,
     "title": ""
    }
   },
   "outputs": [
    {
     "data": {
      "text/html": [
       "<style scoped>\n",
       "  .ansiout {\n",
       "    display: block;\n",
       "    unicode-bidi: embed;\n",
       "    white-space: pre-wrap;\n",
       "    word-wrap: break-word;\n",
       "    word-break: break-all;\n",
       "    font-family: \"Source Code Pro\", \"Menlo\", monospace;;\n",
       "    font-size: 13px;\n",
       "    color: #555;\n",
       "    margin-left: 4px;\n",
       "    line-height: 19px;\n",
       "  }\n",
       "</style>\n",
       "<div class=\"ansiout\"></div>"
      ]
     },
     "metadata": {
      "application/vnd.databricks.v1+output": {
       "addedWidgets": {},
       "arguments": {},
       "data": "<div class=\"ansiout\"></div>",
       "datasetInfos": [],
       "metadata": {},
       "removedWidgets": [],
       "type": "html"
      }
     },
     "output_type": "display_data"
    }
   ],
   "source": [
    "# Get the responses\n",
    "file_DE = portfolio(ProfileId_DE)\n",
    "file_IT = portfolio(ProfileId_IT)\n",
    "file_FR = portfolio(ProfileId_FR)\n",
    "file_NL = portfolio(ProfileId_NL)\n",
    "file_ES = portfolio(ProfileId_ES)\n",
    "file_UK = portfolio(ProfileId_UK)"
   ]
  },
  {
   "cell_type": "code",
   "execution_count": 0,
   "metadata": {
    "application/vnd.databricks.v1+cell": {
     "inputWidgets": {},
     "nuid": "7522e6dd-f0aa-4428-874e-c5b945d2d574",
     "showTitle": false,
     "title": ""
    }
   },
   "outputs": [
    {
     "data": {
      "text/html": [
       "<style scoped>\n",
       "  .ansiout {\n",
       "    display: block;\n",
       "    unicode-bidi: embed;\n",
       "    white-space: pre-wrap;\n",
       "    word-wrap: break-word;\n",
       "    word-break: break-all;\n",
       "    font-family: \"Source Code Pro\", \"Menlo\", monospace;;\n",
       "    font-size: 13px;\n",
       "    color: #555;\n",
       "    margin-left: 4px;\n",
       "    line-height: 19px;\n",
       "  }\n",
       "</style>\n",
       "<div class=\"ansiout\"></div>"
      ]
     },
     "metadata": {
      "application/vnd.databricks.v1+output": {
       "addedWidgets": {},
       "arguments": {},
       "data": "<div class=\"ansiout\"></div>",
       "datasetInfos": [],
       "metadata": {},
       "removedWidgets": [],
       "type": "html"
      }
     },
     "output_type": "display_data"
    }
   ],
   "source": [
    "# Connect to Blob Storage and Mounting. \n",
    "# sas token can be taken from the container settings > shared access tokens.\n",
    "# Permissions should be given Read, Write, Delete ..(sp=racwdli&st) while generating sas token. Give expire date range widely so that dont get auth error. \n",
    "containerName = \"amazon-portfolio\"\n",
    "storageAccountName = \"advertising\"\n",
    "sas = \"sp=racwdli&st=2022......EwV4%3D\"\n",
    "config = \"fs.azure.sas.\" + containerName+ \".\" + storageAccountName + \".blob.core.windows.net\"\n",
    "\n",
    "try:\n",
    "    dbutils.fs.unmount(\"/mnt/amazon-portfolio\")\n",
    "except:\n",
    "    pass\n",
    "    \n",
    "try:\n",
    "    dbutils.fs.mount( source = \"wasbs://{}@{}.blob.core.windows.net\".format(containerName,storageAccountName),\n",
    "                      mount_point = \"/mnt/amazon-portfolio\",\n",
    "                      extra_configs = {config : sas}\n",
    "                    )\n",
    "except:\n",
    "    pass"
   ]
  },
  {
   "cell_type": "code",
   "execution_count": 0,
   "metadata": {
    "application/vnd.databricks.v1+cell": {
     "inputWidgets": {},
     "nuid": "a5516673-9079-4e23-aef3-aa87e649e5cd",
     "showTitle": false,
     "title": ""
    }
   },
   "outputs": [
    {
     "data": {
      "text/html": [
       "<style scoped>\n",
       "  .ansiout {\n",
       "    display: block;\n",
       "    unicode-bidi: embed;\n",
       "    white-space: pre-wrap;\n",
       "    word-wrap: break-word;\n",
       "    word-break: break-all;\n",
       "    font-family: \"Source Code Pro\", \"Menlo\", monospace;;\n",
       "    font-size: 13px;\n",
       "    color: #555;\n",
       "    margin-left: 4px;\n",
       "    line-height: 19px;\n",
       "  }\n",
       "</style>\n",
       "<div class=\"ansiout\">Wrote 16149 bytes.\n",
       "Wrote 3716 bytes.\n",
       "Wrote 4431 bytes.\n",
       "Wrote 669 bytes.\n",
       "Wrote 2569 bytes.\n",
       "Wrote 3141 bytes.\n",
       "Out[45]: True</div>"
      ]
     },
     "metadata": {
      "application/vnd.databricks.v1+output": {
       "addedWidgets": {},
       "arguments": {},
       "data": "<div class=\"ansiout\">Wrote 16149 bytes.\nWrote 3716 bytes.\nWrote 4431 bytes.\nWrote 669 bytes.\nWrote 2569 bytes.\nWrote 3141 bytes.\nOut[45]: True</div>",
       "datasetInfos": [],
       "metadata": {},
       "removedWidgets": [],
       "type": "html"
      }
     },
     "output_type": "display_data"
    }
   ],
   "source": [
    "# Put files to the blob container\n",
    "dbutils.fs.put('dbfs:/mnt/amazon-portfolio/' + 'Ads' + '__DE' + '.json', file_DE, overwrite = True)\n",
    "dbutils.fs.put('dbfs:/mnt/amazon-portfolio/' + 'Ads' + '__IT' + '.json', file_IT, overwrite = True)\n",
    "dbutils.fs.put('dbfs:/mnt/amazon-portfolio/' + 'Ads' + '__FR' + '.json', file_FR, overwrite = True)\n",
    "dbutils.fs.put('dbfs:/mnt/amazon-portfolio/' + 'Ads' + '__NL' + '.json', file_NL, overwrite = True)\n",
    "dbutils.fs.put('dbfs:/mnt/amazon-portfolio/' + 'Ads' + '__ES' + '.json', file_ES, overwrite = True)\n",
    "dbutils.fs.put('dbfs:/mnt/amazon-portfolio/' + 'Ads' + '__UK' + '.json', file_UK, overwrite = True)"
   ]
  }
 ],
 "metadata": {
  "application/vnd.databricks.v1+notebook": {
   "dashboards": [],
   "language": "python",
   "notebookMetadata": {
    "pythonIndentUnit": 4,
    "widgetLayout": []
   },
   "notebookName": "amazon_portfolio_sira",
   "notebookOrigID": 1566130283901308,
   "widgets": {}
  },
  "kernelspec": {
   "display_name": "Python 3",
   "language": "python",
   "name": "python3"
  },
  "language_info": {
   "codemirror_mode": {
    "name": "ipython",
    "version": 3
   },
   "file_extension": ".py",
   "mimetype": "text/x-python",
   "name": "python",
   "nbconvert_exporter": "python",
   "pygments_lexer": "ipython3",
   "version": "3.8.3"
  }
 },
 "nbformat": 4,
 "nbformat_minor": 1
}
