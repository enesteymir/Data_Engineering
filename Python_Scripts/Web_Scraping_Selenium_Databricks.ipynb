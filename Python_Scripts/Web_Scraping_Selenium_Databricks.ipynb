{
 "cells": [
  {
   "cell_type": "markdown",
   "metadata": {
    "application/vnd.databricks.v1+cell": {
     "inputWidgets": {},
     "nuid": "c74f2a09-153e-4582-9e8e-31d011881d06",
     "showTitle": false,
     "title": ""
    }
   },
   "source": [
    "###### Install Selenium"
   ]
  },
  {
   "cell_type": "code",
   "execution_count": 0,
   "metadata": {
    "application/vnd.databricks.v1+cell": {
     "inputWidgets": {},
     "nuid": "03d38733-c636-4a98-8c5c-daf25bcd7ddf",
     "showTitle": false,
     "title": ""
    }
   },
   "outputs": [],
   "source": [
    "%pip install selenium"
   ]
  },
  {
   "cell_type": "code",
   "execution_count": 0,
   "metadata": {
    "application/vnd.databricks.v1+cell": {
     "inputWidgets": {},
     "nuid": "cc00f2a4-4cd4-479f-92ee-bfe61a9386c9",
     "showTitle": false,
     "title": ""
    }
   },
   "outputs": [
    {
     "data": {
      "text/html": [
       "<style scoped>\n",
       "  .ansiout {\n",
       "    display: block;\n",
       "    unicode-bidi: embed;\n",
       "    white-space: pre-wrap;\n",
       "    word-wrap: break-word;\n",
       "    word-break: break-all;\n",
       "    font-family: \"Source Code Pro\", \"Menlo\", monospace;;\n",
       "    font-size: 13px;\n",
       "    color: #555;\n",
       "    margin-left: 4px;\n",
       "    line-height: 19px;\n",
       "  }\n",
       "</style>\n",
       "<div class=\"ansiout\"></div>"
      ]
     },
     "metadata": {
      "application/vnd.databricks.v1+output": {
       "addedWidgets": {},
       "arguments": {},
       "data": "<div class=\"ansiout\"></div>",
       "datasetInfos": [],
       "metadata": {},
       "removedWidgets": [],
       "type": "html"
      }
     },
     "output_type": "display_data"
    }
   ],
   "source": [
    "import pickle as pkl\n",
    "from datetime import datetime\n",
    "from selenium import webdriver\n",
    "from selenium.webdriver.chrome.service import Service\n",
    "from selenium.webdriver.chrome.options import Options"
   ]
  },
  {
   "cell_type": "markdown",
   "metadata": {
    "application/vnd.databricks.v1+cell": {
     "inputWidgets": {},
     "nuid": "61021acd-9f4b-4688-b2ef-f8b5b6ebed7a",
     "showTitle": false,
     "title": ""
    }
   },
   "source": [
    "###### Download the latest ChromeDriver to the DBFS root storage /tmp/. The curl command will get the latest Chrome version and store in the version variable. %sh command allows us to execute shell commands on the driver. Dont put space."
   ]
  },
  {
   "cell_type": "code",
   "execution_count": null,
   "metadata": {},
   "outputs": [],
   "source": [
    "%sh\n",
    "version=`curl -sS https://chromedriver.storage.googleapis.com/LATEST_RELEASE`\n",
    "wget -N https://chromedriver.storage.googleapis.com/${version}/chromedriver_linux64.zip -O /tmp/chromedriver_linux64.zip"
   ]
  },
  {
   "cell_type": "markdown",
   "metadata": {
    "application/vnd.databricks.v1+cell": {
     "inputWidgets": {},
     "nuid": "3dc3520b-bb6f-4bcc-8976-3a77296b57c6",
     "showTitle": false,
     "title": ""
    }
   },
   "source": [
    "###### Unzip the file to a new folder in the DBFS root /tmp/."
   ]
  },
  {
   "cell_type": "code",
   "execution_count": 0,
   "metadata": {
    "application/vnd.databricks.v1+cell": {
     "inputWidgets": {},
     "nuid": "404581ec-1bbd-456c-96ca-b991be2634a6",
     "showTitle": false,
     "title": ""
    }
   },
   "outputs": [
    {
     "data": {
      "text/html": [
       "<style scoped>\n",
       "  .ansiout {\n",
       "    display: block;\n",
       "    unicode-bidi: embed;\n",
       "    white-space: pre-wrap;\n",
       "    word-wrap: break-word;\n",
       "    word-break: break-all;\n",
       "    font-family: \"Source Code Pro\", \"Menlo\", monospace;;\n",
       "    font-size: 13px;\n",
       "    color: #555;\n",
       "    margin-left: 4px;\n",
       "    line-height: 19px;\n",
       "  }\n",
       "</style>\n",
       "<div class=\"ansiout\">Archive:  /tmp/chromedriver_linux64.zip\n",
       "  inflating: /tmp/chromedriver/chromedriver  \n",
       "</div>"
      ]
     },
     "metadata": {
      "application/vnd.databricks.v1+output": {
       "addedWidgets": {},
       "arguments": {},
       "data": "<div class=\"ansiout\">Archive:  /tmp/chromedriver_linux64.zip\n  inflating: /tmp/chromedriver/chromedriver  \n</div>",
       "datasetInfos": [],
       "metadata": {},
       "removedWidgets": [],
       "type": "html"
      }
     },
     "output_type": "display_data"
    }
   ],
   "source": [
    "%sh\n",
    "unzip /tmp/chromedriver_linux64.zip -d /tmp/chromedriver/"
   ]
  },
  {
   "cell_type": "markdown",
   "metadata": {
    "application/vnd.databricks.v1+cell": {
     "inputWidgets": {},
     "nuid": "a640310f-c3f2-4a51-a3e9-5ca548f050d5",
     "showTitle": false,
     "title": ""
    }
   },
   "source": [
    "###### Get the latest Chrome download and install it."
   ]
  },
  {
   "cell_type": "code",
   "execution_count": null,
   "metadata": {},
   "outputs": [],
   "source": [
    "%sh\n",
    "sudo curl -sS -o - https://dl-ssl.google.com/linux/linux_signing_key.pub | apt-key add\n",
    "sudo echo \"deb https://dl.google.com/linux/chrome/deb/ stable main\" >> /etc/apt/sources.list.d/google-chrome.list\n",
    "sudo apt-get -y update\n",
    "sudo apt-get -y install google-chrome-stable"
   ]
  },
  {
   "cell_type": "markdown",
   "metadata": {
    "application/vnd.databricks.v1+cell": {
     "inputWidgets": {},
     "nuid": "2e2acba1-d881-4d1c-ab98-39b5870847a7",
     "showTitle": false,
     "title": ""
    }
   },
   "source": [
    "##### Mounting to the Blob container"
   ]
  },
  {
   "cell_type": "code",
   "execution_count": 0,
   "metadata": {
    "application/vnd.databricks.v1+cell": {
     "inputWidgets": {},
     "nuid": "66f77fa3-e25a-4bc3-b9b2-2f2de3b35bd9",
     "showTitle": false,
     "title": ""
    }
   },
   "outputs": [
    {
     "data": {
      "text/html": [
       "<style scoped>\n",
       "  .ansiout {\n",
       "    display: block;\n",
       "    unicode-bidi: embed;\n",
       "    white-space: pre-wrap;\n",
       "    word-wrap: break-word;\n",
       "    word-break: break-all;\n",
       "    font-family: \"Source Code Pro\", \"Menlo\", monospace;;\n",
       "    font-size: 13px;\n",
       "    color: #555;\n",
       "    margin-left: 4px;\n",
       "    line-height: 19px;\n",
       "  }\n",
       "</style>\n",
       "<div class=\"ansiout\">/mnt/kaufland-ads was already mounted.\n",
       "Utils folder: /mnt/kaufland-ads/utils/selenium/\n",
       "Raw folder: /mnt/kaufland-ads/raw/\n",
       "</div>"
      ]
     },
     "metadata": {
      "application/vnd.databricks.v1+output": {
       "addedWidgets": {},
       "arguments": {},
       "data": "<div class=\"ansiout\">/mnt/kaufland-ads was already mounted.\nUtils folder: /mnt/kaufland-ads/utils/selenium/\nRaw folder: /mnt/kaufland-ads/raw/\n</div>",
       "datasetInfos": [],
       "metadata": {},
       "removedWidgets": [],
       "type": "html"
      }
     },
     "output_type": "display_data"
    }
   ],
   "source": [
    "containerName = \"kaufland-ads\"\n",
    "storageAccountName = \"advertising\"\n",
    "sas = \"sp=racwdli&st=2022-08-30T11:1.......ljme%2B3t8GwvuMX2KDq6UtVQ%3D\"\n",
    "config = \"fs.azure.sas.\" + containerName+ \".\" + storageAccountName + \".blob.core.windows.net\"\n",
    "mount_point = \"/mnt/kaufland-ads\"\n",
    "utils_folder = mount_point + \"/utils/selenium/\"\n",
    "raw_folder = mount_point + \"/raw/\"\n",
    "\n",
    "if not any(mount_point in mount_info for mount_info in dbutils.fs.mounts()):\n",
    "    dbutils.fs.mount( source = \"wasbs://{}@{}.blob.core.windows.net\".format(containerName,storageAccountName),\n",
    "                      mount_point = mount_point,\n",
    "                      extra_configs = {config : sas}\n",
    "                    )\n",
    "    print(f\"{mount_point} was mounted.\")\n",
    "\n",
    "else:\n",
    "    print(mount_point + \" was already mounted.\")\n",
    "    print(f\"Utils folder: {utils_folder}\")\n",
    "    print(f\"Raw folder: {raw_folder}\")"
   ]
  },
  {
   "cell_type": "markdown",
   "metadata": {
    "application/vnd.databricks.v1+cell": {
     "inputWidgets": {},
     "nuid": "ed44c53a-7a31-4315-931e-976d580215a1",
     "showTitle": false,
     "title": ""
    }
   },
   "source": [
    "##### Create method for Chrome browser"
   ]
  },
  {
   "cell_type": "code",
   "execution_count": 0,
   "metadata": {
    "application/vnd.databricks.v1+cell": {
     "inputWidgets": {},
     "nuid": "90f8867e-f207-4df8-ac14-d5c0f6e85382",
     "showTitle": false,
     "title": ""
    }
   },
   "outputs": [
    {
     "data": {
      "text/html": [
       "<style scoped>\n",
       "  .ansiout {\n",
       "    display: block;\n",
       "    unicode-bidi: embed;\n",
       "    white-space: pre-wrap;\n",
       "    word-wrap: break-word;\n",
       "    word-break: break-all;\n",
       "    font-family: \"Source Code Pro\", \"Menlo\", monospace;;\n",
       "    font-size: 13px;\n",
       "    color: #555;\n",
       "    margin-left: 4px;\n",
       "    line-height: 19px;\n",
       "  }\n",
       "</style>\n",
       "<div class=\"ansiout\"></div>"
      ]
     },
     "metadata": {
      "application/vnd.databricks.v1+output": {
       "addedWidgets": {},
       "arguments": {},
       "data": "<div class=\"ansiout\"></div>",
       "datasetInfos": [],
       "metadata": {},
       "removedWidgets": [],
       "type": "html"
      }
     },
     "output_type": "display_data"
    }
   ],
   "source": [
    "# If the url needs cookies, then put cookies in a pickle in related path as pickle file\n",
    "def init_chrome_browser(download_path, chrome_driver_path, cookies_path, url): \n",
    "    options = Options()\n",
    "    now = datetime.now()\n",
    "    prefs = {'download.default_directory' : download_path}\n",
    "    options.add_experimental_option('prefs', prefs)\n",
    "    options.add_argument('--no-sandbox')\n",
    "    options.add_argument('--headless')\n",
    "    options.add_argument('--disable-dev-shm-usage')\n",
    "    options.add_argument('--start-maximized')\n",
    "    options.add_argument('window-size=2560,1440')\n",
    "    print(f\"{now}    Launching Chrome...\")\n",
    "    browser = webdriver.Chrome(service=Service(chrome_driver_path), options=options)\n",
    "    print(f\"{now}    Chrome launched.\")\n",
    "    browser.get(url)\n",
    "    #print(f\"{now}    Loading cookies...\")\n",
    "    #cookies = pkl.load(open(cookies_path, \"rb\"))\n",
    "    #for cookie in cookies:\n",
    "    #    browser.add_cookie(cookie)\n",
    "    browser.get(url)\n",
    "    print(f\"{now}    Cookies loaded.\")\n",
    "    print(f\"{now}    Browser ready to use.\")\n",
    "    return browser"
   ]
  },
  {
   "cell_type": "markdown",
   "metadata": {
    "application/vnd.databricks.v1+cell": {
     "inputWidgets": {},
     "nuid": "8f4f3be7-d618-47fe-8128-255924d6f3ba",
     "showTitle": false,
     "title": ""
    }
   },
   "source": [
    "##### Open Chrome browser"
   ]
  },
  {
   "cell_type": "code",
   "execution_count": 0,
   "metadata": {
    "application/vnd.databricks.v1+cell": {
     "inputWidgets": {},
     "nuid": "4c499fc0-5536-4a89-bef0-0f36f9aba452",
     "showTitle": false,
     "title": ""
    }
   },
   "outputs": [
    {
     "data": {
      "text/html": [
       "<style scoped>\n",
       "  .ansiout {\n",
       "    display: block;\n",
       "    unicode-bidi: embed;\n",
       "    white-space: pre-wrap;\n",
       "    word-wrap: break-word;\n",
       "    word-break: break-all;\n",
       "    font-family: \"Source Code Pro\", \"Menlo\", monospace;;\n",
       "    font-size: 13px;\n",
       "    color: #555;\n",
       "    margin-left: 4px;\n",
       "    line-height: 19px;\n",
       "  }\n",
       "</style>\n",
       "<div class=\"ansiout\">2022-08-30 13:39:30.192227    Launching Chrome...\n",
       "2022-08-30 13:39:30.192227    Chrome launched.\n",
       "2022-08-30 13:39:30.192227    Cookies loaded.\n",
       "2022-08-30 13:39:30.192227    Browser ready to use.\n",
       "</div>"
      ]
     },
     "metadata": {
      "application/vnd.databricks.v1+output": {
       "addedWidgets": {},
       "arguments": {},
       "data": "<div class=\"ansiout\">2022-08-30 13:39:30.192227    Launching Chrome...\n2022-08-30 13:39:30.192227    Chrome launched.\n2022-08-30 13:39:30.192227    Cookies loaded.\n2022-08-30 13:39:30.192227    Browser ready to use.\n</div>",
       "datasetInfos": [],
       "metadata": {},
       "removedWidgets": [],
       "type": "html"
      }
     },
     "output_type": "display_data"
    }
   ],
   "source": [
    "browser = init_chrome_browser(\n",
    "                              download_path = \"/tmp/downloads\",\n",
    "                              chrome_driver_path = \"/tmp/chromedriver/chromedriver\",\n",
    "                              cookies_path = \"/dbfs\"+ utils_folder + \"cookies.pkl\",\n",
    "                              url = \"https://sellerportal.kaufland.de/login\"\n",
    "                             )"
   ]
  }
 ],
 "metadata": {
  "application/vnd.databricks.v1+notebook": {
   "dashboards": [],
   "language": "python",
   "notebookMetadata": {
    "pythonIndentUnit": 4
   },
   "notebookName": "kaufland_ads_selenium",
   "notebookOrigID": 3506985174211814,
   "widgets": {}
  },
  "kernelspec": {
   "display_name": "Python 3",
   "language": "python",
   "name": "python3"
  },
  "language_info": {
   "codemirror_mode": {
    "name": "ipython",
    "version": 3
   },
   "file_extension": ".py",
   "mimetype": "text/x-python",
   "name": "python",
   "nbconvert_exporter": "python",
   "pygments_lexer": "ipython3",
   "version": "3.8.3"
  }
 },
 "nbformat": 4,
 "nbformat_minor": 1
}
