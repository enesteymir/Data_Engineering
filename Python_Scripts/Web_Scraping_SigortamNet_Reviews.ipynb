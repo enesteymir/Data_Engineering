{
 "cells": [
  {
   "cell_type": "code",
   "execution_count": 1,
   "metadata": {},
   "outputs": [],
   "source": [
    "import requests\n",
    "import pandas as pd\n",
    "import re\n",
    "from ast import literal_eval\n",
    "from lxml import html\n",
    "import tqdm\n",
    "import time"
   ]
  },
  {
   "cell_type": "markdown",
   "metadata": {},
   "source": [
    "#### 1. Yöntem. Datayı ana kaynaktan alır ve içerikler tam olarak çekilir."
   ]
  },
  {
   "cell_type": "code",
   "execution_count": 99,
   "metadata": {
    "pycharm": {
     "name": "#%%\n"
    }
   },
   "outputs": [],
   "source": [
    "# Site bizi bot sanmasın diye headersları da belirtip istek atıyoruz. Headersız istediğimiz datayı sunmuyor. Postman' e cURL import edilerek ilgili script elde edilir.\n",
    "\n",
    "url = \"https://www.sikayetvar.com/agesa-hayat-ve-emeklilik?page={0}\".format(1)\n",
    "\n",
    "headers = {\n",
    "    'Connection': 'keep-alive',\n",
    "    'Cache-Control': 'max-age=0',\n",
    "    'sec-ch-ua': '\" Not;A Brand\";v=\"99\", \"Google Chrome\";v=\"97\", \"Chromium\";v=\"97\"',\n",
    "    'sec-ch-ua-mobile': '?0',\n",
    "    'sec-ch-ua-platform': '\"Windows\"',\n",
    "    'Upgrade-Insecure-Requests': '1',\n",
    "    'User-Agent': 'Mozilla/5.0 (Windows NT 10.0; Win64; x64) AppleWebKit/537.36 (KHTML, like Gecko) Chrome/97.0.4692.99 Safari/537.36',\n",
    "    'Accept': 'text/html,application/xhtml+xml,application/xml;q=0.9,image/avif,image/webp,image/apng,*/*;q=0.8,application/signed-exchange;v=b3;q=0.9',\n",
    "    'Sec-Fetch-Site': 'same-origin',\n",
    "    'Sec-Fetch-Mode': 'navigate',\n",
    "    'Sec-Fetch-User': '?1',\n",
    "    'Sec-Fetch-Dest': 'document',\n",
    "    'Referer': 'https://www.sikayetvar.com/',\n",
    "    'Accept-Language': 'en-US,en;q=0.9,de;q=0.8,ms;q=0.7,tr;q=0.6,ru;q=0.5,az;q=0.4',\n",
    "    'Cookie': '_svhash=cf0a6e6adbab352a58b4c4c49425e701; _gid=GA1.2.1338087073.1643790897; sv-cookie-msg=true; _svuid=s%3ArC54L_-rT2GS1ncuDhAguytVZtN1TOVe.N40Sv4mS9L24CHcpBxc1m8Ln6NApkA0UoJrDGqtcco8; JSESSIONID=709A7F267AE6530B30707F8E9C0CE7F2; _ga=GA  .1067635138.1642427186; _ga_FXTD430HRD=GS1.1.1643958543.5.1.1643958957.44; resolved-complaint-count={%22current%22:1875553%2C%22target%22:1875568}'\n",
    "      }\n",
    "\n",
    "response = requests.request(\"GET\", url, headers=headers)"
   ]
  },
  {
   "cell_type": "code",
   "execution_count": 100,
   "metadata": {
    "pycharm": {
     "name": "#%%\n"
    }
   },
   "outputs": [
    {
     "data": {
      "text/plain": [
       "<Element html at 0x7f5ca7a42868>"
      ]
     },
     "execution_count": 100,
     "metadata": {},
     "output_type": "execute_result"
    }
   ],
   "source": [
    "# html.fromstring provides us an object of HtmlElement type. This object has the xpath method which we can use to query the HTML document.This provides us with a structured way to extract information from an HTML document.\n",
    "tree = html.fromstring(response.text)\n",
    "tree"
   ]
  },
  {
   "cell_type": "code",
   "execution_count": 101,
   "metadata": {
    "pycharm": {
     "name": "#%%\n"
    }
   },
   "outputs": [
    {
     "data": {
      "text/plain": [
       "[<Element script at 0x7f5ca7a4ef48>, <Element script at 0x7f5caee42548>]"
      ]
     },
     "execution_count": 101,
     "metadata": {},
     "output_type": "execute_result"
    }
   ],
   "source": [
    "# Reviewler site source code içerisinde iki <script type=application/ld+json> arasında yer alıyor\n",
    "temp_list = tree.xpath(\"//script[@type='application/ld+json']\")\n",
    "temp_list"
   ]
  },
  {
   "cell_type": "code",
   "execution_count": null,
   "metadata": {},
   "outputs": [],
   "source": [
    "# Baştaki ve sondaki boşlukları silmek için, boşluk olunca literal_eval hata alıyor\n",
    "raw_json = temp_list[0].text.strip()"
   ]
  },
  {
   "cell_type": "code",
   "execution_count": 103,
   "metadata": {
    "pycharm": {
     "name": "#%%\n"
    }
   },
   "outputs": [
    {
     "data": {
      "text/plain": [
       "{'@context': 'https://schema.org',\n",
       " '@type': 'WebPage',\n",
       " 'inLanguage': 'tr-TR',\n",
       " 'isFamilyFriendly': 'true',\n",
       " 'url': 'https://www.sikayetvar.com/agesa-hayat-ve-emeklilik',\n",
       " 'headline': 'AgeSA Hayat ve Emeklilik',\n",
       " 'description': \"AvivaSA Emeklilik şikayet ve yorumları Şikayetvar'da! Siz de AvivaSA Emeklilik şikayet ve yorumlarınızı sayfamız üzerinden yayınlayabilirsiniz.\",\n",
       " 'relatedLink': ['https://www.sikayetvar.com/agesa-hayat-ve-emeklilik/iptal',\n",
       "  'https://www.sikayetvar.com/agesa-hayat-ve-emeklilik/para-iadesi',\n",
       "  'https://www.sikayetvar.com/agesa-hayat-ve-emeklilik/musteri-hizmetleri',\n",
       "  'https://www.sikayetvar.com/agesa-hayat-ve-emeklilik/telefon-numarasi',\n",
       "  'https://www.sikayetvar.com/agesa-hayat-ve-emeklilik/para-cekme',\n",
       "  'https://www.sikayetvar.com/agesa-hayat-ve-emeklilik/police-iptali',\n",
       "  'https://www.sikayetvar.com/agesa-hayat-ve-emeklilik/fon',\n",
       "  'https://www.sikayetvar.com/agesa-hayat-ve-emeklilik/odeme',\n",
       "  'https://www.sikayetvar.com/agesa-hayat-ve-emeklilik/iptal-etme',\n",
       "  'https://www.sikayetvar.com/agesa-hayat-ve-emeklilik/banka',\n",
       "  'https://www.sikayetvar.com/agesa-hayat-ve-emeklilik/bes',\n",
       "  'https://www.sikayetvar.com/agesa-hayat-ve-emeklilik/sigorta',\n",
       "  'https://www.sikayetvar.com/agesa-hayat-ve-emeklilik/ayrilma-talep-formu',\n",
       "  'https://www.sikayetvar.com/agesa-hayat-ve-emeklilik/dolar',\n",
       "  'https://www.sikayetvar.com/agesa-hayat-ve-emeklilik/mesaj',\n",
       "  'https://www.sikayetvar.com/agesa-hayat-ve-emeklilik/iptal-formu',\n",
       "  'https://www.sikayetvar.com/agesa-hayat-ve-emeklilik/sigorta-iptali',\n",
       "  'https://www.sikayetvar.com/agesa-hayat-ve-emeklilik/cikis-islemi',\n",
       "  'https://www.sikayetvar.com/agesa-hayat-ve-emeklilik/devlet-katkisi',\n",
       "  'https://www.sikayetvar.com/agesa-hayat-ve-emeklilik/bes-cayma'],\n",
       " 'breadcrumb': {'@type': 'BreadcrumbList',\n",
       "  'numberOfItems': 2,\n",
       "  'itemListElement': [{'@type': 'ListItem',\n",
       "    'position': 1,\n",
       "    'item': {'@id': 'https://www.sikayetvar.com', 'name': 'Ana Sayfa'}},\n",
       "   {'@type': 'ListItem',\n",
       "    'position': 2,\n",
       "    'item': {'@id': 'https://www.sikayetvar.com/agesa-hayat-ve-emeklilik',\n",
       "     'name': 'AgeSA Hayat ve Emeklilik'}}]},\n",
       " '@graph': {'@type': 'LocalBusiness',\n",
       "  'name': 'AgeSA Hayat ve Emeklilik',\n",
       "  'aggregateRating': {'@type': 'AggregateRating',\n",
       "   'reviewCount': 593,\n",
       "   'bestRating': 5,\n",
       "   'worstRating': 1,\n",
       "   'ratingValue': '2.8'},\n",
       "  'address': {'@type': 'PostalAddress',\n",
       "   'addressCountry': 'TR',\n",
       "   'streetAddress': 'Saray Mah. Dr. Adnan Büyükdeniz Cad. No:12 34768',\n",
       "   'addressLocality': 'İstanbul'},\n",
       "  'url': 'http://www.avivasa.com.tr/',\n",
       "  'image': 'https://files.sikayetvar.com/company/screenshot/ag/agesa-hayat-ve-emeklilik.png',\n",
       "  'email': 'ilker.erturk@agesa.com.tr',\n",
       "  'review': [{'@type': 'Review',\n",
       "    'headline': 'AgeSA Hayat Ve Emeklilik Kredili Hayat Sigortası İptali',\n",
       "    'itemReviewed': {'@type': 'Thing', 'name': 'AgeSA Hayat ve Emeklilik'},\n",
       "    'author': {'@type': 'Person',\n",
       "     'name': 'Serdal',\n",
       "     'url': 'https://www.sikayetvar.com/uye/serdal-10028680'},\n",
       "    'datePublished': '2022-02-06',\n",
       "    'reviewBody': 'Akbank\\'tan kullandığım İhtiyaç Kredisi kapsamında V7039392-0 poliçe numaralı Hayat ve Emeklilik Sigortası Poliçesi uygulanmıştır. 1 hafta önce musteri@agesa.com.tr adresine poliçe iptal formunu gönderdim. Beni arayarak poliçenin iptal edilemeyeceğini söylüyorsunuz. Siz insan mı yanıltıyorsunuz. Yıllardır çalıştığım Akbank ve bankaya bağlı agesa\\'ya bunu yakıştıramadım. Söz konusu krediyle ilgili başka sigorta şirketinden hayat sigortası yaptığımdan dolayı; Sigortacılık mevzuatı ilgili BDDK tebliğleri ve 6502 sayılı Tüketicinin Korunması hakkında Kanunun ilgili maddesi gereği, krediye bağlı sigorta için sigortalının talebi olması halinde poliçe iptali ve ilgili tutarın müşteri hesabına iadesi söz konusudur. Agesa tarafından yapılan \"kredim güvende kredili hayat\" iptal edilip ücretin hesabıma aktarılmasını rica ediyorum ve bu işlemin hızlıca bir an önce yapılmasını istiyorum.',\n",
       "    'publisher': {'@type': 'Organization',\n",
       "     'name': 'Şikayetvar',\n",
       "     'sameAs': 'https://www.sikayetvar.com',\n",
       "     'logo': {'@type': 'ImageObject',\n",
       "      'url': 'https://cdn.sikayetvar.com/public/images/logo.svg'}}},\n",
       "   {'@type': 'Review',\n",
       "    'headline': 'AgeSA Hayat Ve Emeklilik Telefonla Ulaşmak İmkansız.',\n",
       "    'itemReviewed': {'@type': 'Thing', 'name': 'AgeSA Hayat ve Emeklilik'},\n",
       "    'author': {'@type': 'Person',\n",
       "     'name': 'Filiz',\n",
       "     'url': 'https://www.sikayetvar.com/uye/filiz-10028593'},\n",
       "    'datePublished': '2022-02-06',\n",
       "    'reviewBody': \"Agesa Akbank'a ait bir sigorta şirketi. İhtiyacınız olduğunda arayın ulaşmak imkansız gibi. Telefonda ondan ona aktarıyor hepsine bilgilerini veriyorsun e sizi diğer departmana aktaralım. Sonuç konuşmadan telefon kesiliyor. Bir daha ki sigortalarımı asla agesa ya yaptırmam.\",\n",
       "    'publisher': {'@type': 'Organization',\n",
       "     'name': 'Şikayetvar',\n",
       "     'sameAs': 'https://www.sikayetvar.com',\n",
       "     'logo': {'@type': 'ImageObject',\n",
       "      'url': 'https://cdn.sikayetvar.com/public/images/logo.svg'}}},\n",
       "   {'@type': 'Review',\n",
       "    'headline': 'Agesa Hayat Ve Emeklilik Onaylanmayan Primin Geri Ödemesini Yapmıyor',\n",
       "    'itemReviewed': {'@type': 'Thing', 'name': 'AgeSA Hayat ve Emeklilik'},\n",
       "    'author': {'@type': 'Person',\n",
       "     'name': 'Ebru',\n",
       "     'url': 'https://www.sikayetvar.com/uye/ebru-5891669'},\n",
       "    'datePublished': '2022-02-06',\n",
       "    'reviewBody': \"Akbank'tan ihtiyaç kredisi kullanımı sonrasında v7772052 numaralı Agesa Hayat ve emeklilik sigortası poliçesi uygulanmıştır. İstemediğimi belirtmeme rağmen bu para hesabımdan kesilmiştir. İptal etmek istiyorum ve istenilen tüm bilgileri göndermeme rağmen size ulaşılamadı gibi bir mail alıyorum. Sigortanın iptal edilip ücretin hesabıma aktarılmasını talep etmekteyim.\",\n",
       "    'publisher': {'@type': 'Organization',\n",
       "     'name': 'Şikayetvar',\n",
       "     'sameAs': 'https://www.sikayetvar.com',\n",
       "     'logo': {'@type': 'ImageObject',\n",
       "      'url': 'https://cdn.sikayetvar.com/public/images/logo.svg'}}},\n",
       "   {'@type': 'Review',\n",
       "    'headline': 'AgeSA Hayat Ve Emeklilik Hizmet Sözleşmesi Diye Dekont Attılar Çıkmak İstiyorum',\n",
       "    'itemReviewed': {'@type': 'Thing', 'name': 'AgeSA Hayat ve Emeklilik'},\n",
       "    'author': {'@type': 'Person',\n",
       "     'name': 'Metin',\n",
       "     'url': 'https://www.sikayetvar.com/uye/metin-9698868'},\n",
       "    'datePublished': '2022-02-06',\n",
       "    'reviewBody': \"Agesa'ya abone olmadım bana sözleşme formu göndermişler lütfen iptal edebilir misiniz sizden ricam caymak istiyorum ben kayıt olmadım sizden ricam iptal talebinde bulunacağım lütfe agesa neyin nesidir bilmiyorum ve form göndermişler kayıtlı mıyım değilim onu bile bilmiyorum.\",\n",
       "    'publisher': {'@type': 'Organization',\n",
       "     'name': 'Şikayetvar',\n",
       "     'sameAs': 'https://www.sikayetvar.com',\n",
       "     'logo': {'@type': 'ImageObject',\n",
       "      'url': 'https://cdn.sikayetvar.com/public/images/logo.svg'}}},\n",
       "   {'@type': 'Review',\n",
       "    'headline': 'AgeSA Hayat Ve Emeklilik Akbank - Erken Kapama Sigorta Bedeli!',\n",
       "    'itemReviewed': {'@type': 'Thing', 'name': 'AgeSA Hayat ve Emeklilik'},\n",
       "    'author': {'@type': 'Person',\n",
       "     'name': 'Semih',\n",
       "     'url': 'https://www.sikayetvar.com/uye/semih-10026311'},\n",
       "    'datePublished': '2022-02-05',\n",
       "    'reviewBody': 'Agesa sigorta şirketi Akbank üzerinden insanları yanıltıyor.\\n\\n12. Ayda 50.000 TL kredi çektim şubat da ödedim. İki ay için benden 1400 TL kesinti oldu. Agesa ve Akbank ile iletişime geçtim yardımcı olmadılar.\\nArkadaşım ile ufak bir ticaret yaptık. Aynı tarih de aynı şartlarda farklı bankadan kredi çekti erken kapama da 100 TL zararı oldu. Benim neden 1400 TL zararım oluyor? Böyle saçmalık olur mu?\\n\\nBorcumu ödeyip kredi kartımı vs. Tüm hesaplarımı kapatacağım.\\nKredi yurtlar kurumu vs. Şikayet edeceğim',\n",
       "    'publisher': {'@type': 'Organization',\n",
       "     'name': 'Şikayetvar',\n",
       "     'sameAs': 'https://www.sikayetvar.com',\n",
       "     'logo': {'@type': 'ImageObject',\n",
       "      'url': 'https://cdn.sikayetvar.com/public/images/logo.svg'}}},\n",
       "   {'@type': 'Review',\n",
       "    'headline': 'Agesa Hayat Ve Emeklilik Hayat Sigortası İadesi',\n",
       "    'itemReviewed': {'@type': 'Thing', 'name': 'AgeSA Hayat ve Emeklilik'},\n",
       "    'author': {'@type': 'Person',\n",
       "     'name': 'Barış',\n",
       "     'url': 'https://www.sikayetvar.com/uye/baris-10027337'},\n",
       "    'datePublished': '2022-02-05',\n",
       "    'reviewBody': \"Akbank' tan kredi kullandım 18 ay 20.500 TL 1 ayını ödedim akabinde hemen kredimi kapattım 431 TL kesilen hayat sigortam iadesi 90 TL olarak hesabıma yattı. Başka bankalar bu kadar hayat sigortası kesmiyor ve kredi yi kapatınca hemen geri iade ediyor bunlar paranın 4/3 kesti.\",\n",
       "    'publisher': {'@type': 'Organization',\n",
       "     'name': 'Şikayetvar',\n",
       "     'sameAs': 'https://www.sikayetvar.com',\n",
       "     'logo': {'@type': 'ImageObject',\n",
       "      'url': 'https://cdn.sikayetvar.com/public/images/logo.svg'}}},\n",
       "   {'@type': 'Review',\n",
       "    'headline': 'AgeSA Hayat Ve Emeklilik Bilgim Olmadan Sözleşme Yapılması',\n",
       "    'itemReviewed': {'@type': 'Thing', 'name': 'AgeSA Hayat ve Emeklilik'},\n",
       "    'author': {'@type': 'Person',\n",
       "     'name': 'Bahar',\n",
       "     'url': 'https://www.sikayetvar.com/uye/bahar-4771182'},\n",
       "    'datePublished': '2022-02-05',\n",
       "    'reviewBody': 'Bu şirketi hiç tanımamama ve işlem yaptırmamış olmama rağmen bana kendilerinden 2 keredir mail gelip \"Değerli Müşterimiz,\\nHayatınızdaki 1iyikilere bir yenisini eklediniz. Otomatik Katılım sözleşmeniz için tıklayınız\" yazmaktadır. Ben böyle bir sözleşme yapmadım ve kendileriyle hiç görüşmedim. Tüm sorumluluk ve yükümlülük kendilerinde olup düzeltilmemesi halinde yasal yollara başvuracağımı bilmelerini isterim.',\n",
       "    'publisher': {'@type': 'Organization',\n",
       "     'name': 'Şikayetvar',\n",
       "     'sameAs': 'https://www.sikayetvar.com',\n",
       "     'logo': {'@type': 'ImageObject',\n",
       "      'url': 'https://cdn.sikayetvar.com/public/images/logo.svg'}}},\n",
       "   {'@type': 'Review',\n",
       "    'headline': 'Agesa Hayat Ve Emeklilik\\xa0\\xa0Aktaracağız Deyip Telefonu Kapatıyorlar',\n",
       "    'itemReviewed': {'@type': 'Thing', 'name': 'AgeSA Hayat ve Emeklilik'},\n",
       "    'reviewRating': {'@type': 'Rating',\n",
       "     'bestRating': 5,\n",
       "     'worstRating': 1,\n",
       "     'ratingValue': 1},\n",
       "    'author': {'@type': 'Person',\n",
       "     'name': 'Es Ka',\n",
       "     'url': 'https://www.sikayetvar.com/uye/es-ka-5401162'},\n",
       "    'datePublished': '2022-02-05',\n",
       "    'reviewBody': 'İşsizlik teminatlı kredi çekmiştim. 8 gündür arıyorum. Aktaracağız deyip telefonu kapatıyorlar. Üstelik defalarca mail attım olayı anlattım ilgili birime ulaşamıyorum beni arayın, 3 kere talep oluşturdum geri aranmak için hala bir haber yok. İlgili birim yerine memnuniyet için arıyorlar beni şaka gibi dalga geçiyorlar başka açıklaması yok. 0 puan vermişim diye arıyor. Onlara da durumu anlatıyorum arıcaklar diyorlar. Daha kötü bir sigorta olamaz.',\n",
       "    'publisher': {'@type': 'Organization',\n",
       "     'name': 'Şikayetvar',\n",
       "     'sameAs': 'https://www.sikayetvar.com',\n",
       "     'logo': {'@type': 'ImageObject',\n",
       "      'url': 'https://cdn.sikayetvar.com/public/images/logo.svg'}}},\n",
       "   {'@type': 'Review',\n",
       "    'headline': \"Agesa Hayat Ve Emeklilik BES'in Tamamını İade Etmedi!\",\n",
       "    'itemReviewed': {'@type': 'Thing', 'name': 'AgeSA Hayat ve Emeklilik'},\n",
       "    'reviewRating': {'@type': 'Rating',\n",
       "     'bestRating': 5,\n",
       "     'worstRating': 1,\n",
       "     'ratingValue': 1},\n",
       "    'author': {'@type': 'Person',\n",
       "     'name': 'Cigdem',\n",
       "     'url': 'https://www.sikayetvar.com/uye/cigdem-5556904'},\n",
       "    'datePublished': '2022-02-05',\n",
       "    'reviewBody': \"Otomatik BES katılımı gerçekleştirildiği için maaşımdan 250 TL kesinti oluşmuştu. BES iptali gerçekleştirdim paranın 144 TL si yattı geri kalan 106 TL'ye ne oldu anlam veremiyorum. İnsanlar zar zor ekmek parası kazanıyor siz de yeme peşindesiniz 106 TL iadesini istiyorum.\",\n",
       "    'publisher': {'@type': 'Organization',\n",
       "     'name': 'Şikayetvar',\n",
       "     'sameAs': 'https://www.sikayetvar.com',\n",
       "     'logo': {'@type': 'ImageObject',\n",
       "      'url': 'https://cdn.sikayetvar.com/public/images/logo.svg'}}},\n",
       "   {'@type': 'Review',\n",
       "    'headline': 'Agesa Hayat Ve Emeklilik Telefon Numarası Değiştirme',\n",
       "    'itemReviewed': {'@type': 'Thing', 'name': 'AgeSA Hayat ve Emeklilik'},\n",
       "    'author': {'@type': 'Person',\n",
       "     'name': 'Gökay',\n",
       "     'url': 'https://www.sikayetvar.com/uye/gokay-10021126'},\n",
       "    'datePublished': '2022-02-04',\n",
       "    'reviewBody': 'Telefon numarasını değiştirmek bu kadar zor olmamalı uzun bir süresi çağrı merkezinizi arıyorum sistemdeki telefon numaramı değiştirmeliyim müşteri temsilcinizden ulaşamıyorum internetten Avivasa bireysel sayfama ulaşamıyorum.',\n",
       "    'publisher': {'@type': 'Organization',\n",
       "     'name': 'Şikayetvar',\n",
       "     'sameAs': 'https://www.sikayetvar.com',\n",
       "     'logo': {'@type': 'ImageObject',\n",
       "      'url': 'https://cdn.sikayetvar.com/public/images/logo.svg'}}},\n",
       "   {'@type': 'Review',\n",
       "    'headline': 'AgeSA Hayat ve Emeklilik Haksız Ücret Kesiyor',\n",
       "    'itemReviewed': {'@type': 'Thing', 'name': 'AgeSA Hayat ve Emeklilik'},\n",
       "    'author': {'@type': 'Person',\n",
       "     'name': 'Hatice',\n",
       "     'url': 'https://www.sikayetvar.com/uye/hatice-7708511'},\n",
       "    'datePublished': '2022-02-04',\n",
       "    'reviewBody': \"AgeSA sigorta 28 Aralık'ta çektiğim ve 35 gün sonra kapattığım kredinin sigorta iptalinde 700 lira civarı para kesiyor, asla kabul etmiyorum bu kesintiyi ilk defa sigortadan geri ödeme almıyorum ilk defa\\xa0AgeSA\\xa0 sigortada rastladım bu kesintiye, gereğinin yapılmasını istiyorum, sonuna kadar hakkımı arayacağım.\",\n",
       "    'publisher': {'@type': 'Organization',\n",
       "     'name': 'Şikayetvar',\n",
       "     'sameAs': 'https://www.sikayetvar.com',\n",
       "     'logo': {'@type': 'ImageObject',\n",
       "      'url': 'https://cdn.sikayetvar.com/public/images/logo.svg'}}},\n",
       "   {'@type': 'Review',\n",
       "    'headline': 'AgeSA Hayat ve Emeklilik BES İptali İçin 25 Gündür Oyalıyor',\n",
       "    'itemReviewed': {'@type': 'Thing', 'name': 'AgeSA Hayat ve Emeklilik'},\n",
       "    'author': {'@type': 'Person',\n",
       "     'name': 'İltan',\n",
       "     'url': 'https://www.sikayetvar.com/uye/iltan-9247619'},\n",
       "    'datePublished': '2022-02-04',\n",
       "    'reviewBody': 'AgeSA eski adıyla Avivasa da bireysel emekliliğim vardı iptal ettirdim 1. Çok kolay oldu ve 3 günde parası yattı 2. De oyalandım da oyalandım ilk müşteri temsilcisine 4 gün ulaşamadım sonra ulaştım fakat bu sefer yok 6 sene içinde adınızı soyadınızı değiştirdiniz mi yok t. C. Biz çıkmıyor bilmem ne ama komiktir ki 4 gün öncesinde çok basit şekilde halloldu gün içinde dönüş yapacağız denildi dönüş yapılmadı 2 gün sonra tekrar zor bela ulaştım 4 kişi ben bu işlemi yapamıyorum diyerek başkasına aktardı durdu en sonda hattan düşürüldüm daha sonra tekrar ulaştım tekrardan 3 kişiye aktarılmam sonucunda işlemim yapıldı ve 10 gün içinde paranın yatacağı söylenildi bugün 11. Gün az önce yine görüştüm dalga geçer gibi dinleyip dinleyip ben işlem yapamıyorum sizi yetkili birime aktaracağım dedi 15 dakika hatta bekletilip hattan düşürüldüm,\\xa0eğer bugün çözümlenmezse Tüketici Hakları heyetine başvuracağım yeter artık.',\n",
       "    'publisher': {'@type': 'Organization',\n",
       "     'name': 'Şikayetvar',\n",
       "     'sameAs': 'https://www.sikayetvar.com',\n",
       "     'logo': {'@type': 'ImageObject',\n",
       "      'url': 'https://cdn.sikayetvar.com/public/images/logo.svg'}}},\n",
       "   {'@type': 'Review',\n",
       "    'headline': 'AgeSA Hayat ve Emeklilik Sigorta İptali',\n",
       "    'itemReviewed': {'@type': 'Thing', 'name': 'AgeSA Hayat ve Emeklilik'},\n",
       "    'reviewRating': {'@type': 'Rating',\n",
       "     'bestRating': 5,\n",
       "     'worstRating': 1,\n",
       "     'ratingValue': 1},\n",
       "    'author': {'@type': 'Person',\n",
       "     'name': 'Ali',\n",
       "     'url': 'https://www.sikayetvar.com/uye/ali-6204515'},\n",
       "    'datePublished': '2022-02-04',\n",
       "    'reviewBody': \"2021 Mayıs ayında Akbank'tan kullanmış olduğum 36 ay vadeli kredinin kapanması sonucu AgeSA sigorta iptalim oldu. AgeSA müşteri hizmetleri 794 TL tutarlı sigorta bedelinin 04/02/2021 tarihiyle 170 TL'sini iade edeceklerini söyledi 1 yıl bile geçmeyen kredide gün hesaplaması yapılmıyor mu bu konuda mağdur edildim.\",\n",
       "    'publisher': {'@type': 'Organization',\n",
       "     'name': 'Şikayetvar',\n",
       "     'sameAs': 'https://www.sikayetvar.com',\n",
       "     'logo': {'@type': 'ImageObject',\n",
       "      'url': 'https://cdn.sikayetvar.com/public/images/logo.svg'}}},\n",
       "   {'@type': 'Review',\n",
       "    'headline': 'Agesa Hayat ve Emeklilik Hayat Sigortası İptali',\n",
       "    'itemReviewed': {'@type': 'Thing', 'name': 'AgeSA Hayat ve Emeklilik'},\n",
       "    'reviewRating': {'@type': 'Rating',\n",
       "     'bestRating': 5,\n",
       "     'worstRating': 1,\n",
       "     'ratingValue': 1},\n",
       "    'author': {'@type': 'Person',\n",
       "     'name': 'Burak',\n",
       "     'url': 'https://www.sikayetvar.com/uye/burak-10018518'},\n",
       "    'datePublished': '2022-02-03',\n",
       "    'reviewBody': \"Akbank'tan kullanmış olduğum 42.000₺ kredi için benden bana sorulmadan 1972,06₺ hayat sigortası için para kesildi. En kısa sürede hayat sigortasının iptalini ve tutarın tarafıma iadesini istiyorum. Aksi takdirde Tüketici Hakem Heyeti'ne başvuracağım.\",\n",
       "    'publisher': {'@type': 'Organization',\n",
       "     'name': 'Şikayetvar',\n",
       "     'sameAs': 'https://www.sikayetvar.com',\n",
       "     'logo': {'@type': 'ImageObject',\n",
       "      'url': 'https://cdn.sikayetvar.com/public/images/logo.svg'}}},\n",
       "   {'@type': 'Review',\n",
       "    'headline': 'Agesa Hayat Ve Emeklilik Cayma Bedeli Kesintisi!',\n",
       "    'itemReviewed': {'@type': 'Thing', 'name': 'AgeSA Hayat ve Emeklilik'},\n",
       "    'author': {'@type': 'Person',\n",
       "     'name': 'Enver',\n",
       "     'url': 'https://www.sikayetvar.com/uye/enver-5228580'},\n",
       "    'datePublished': '2022-02-03',\n",
       "    'reviewBody': 'Agesa sigorta cayma sonrası paranın 4 te 3 yiyor 40 günlük bir sigorta için ortalama 750 TL kesinti yapmış olacak gibi değil insanları ya sigorta da kalın ya da cayma yok demeye getiriyor 40 zaman diliminde bir şey olsa haklılar fakat bu kadar kesinti kabul edilir gibi değil el insaf.',\n",
       "    'publisher': {'@type': 'Organization',\n",
       "     'name': 'Şikayetvar',\n",
       "     'sameAs': 'https://www.sikayetvar.com',\n",
       "     'logo': {'@type': 'ImageObject',\n",
       "      'url': 'https://cdn.sikayetvar.com/public/images/logo.svg'}}},\n",
       "   {'@type': 'Review',\n",
       "    'headline': 'Agesa Hayat Ve Emeklilik\\xa0 Müşteri Temsilcisine Bağlanamıyorum!',\n",
       "    'itemReviewed': {'@type': 'Thing', 'name': 'AgeSA Hayat ve Emeklilik'},\n",
       "    'author': {'@type': 'Person',\n",
       "     'name': 'Merve',\n",
       "     'url': 'https://www.sikayetvar.com/uye/merve-5603945'},\n",
       "    'datePublished': '2022-02-02',\n",
       "    'reviewBody': '444 11 11 aradım müşteri temsilcisi bağlandım bilgilerimi verdim BES iptali için sizi başkasına aktarıyoruz diyor. 30 dakika bekledim kimse yanıt vermedi lütfen tarafıma dönüş yapılmasını rica ediyorum.-444 11 11 aradım müşteri temsilcisi bağlandım bilgilerimi verdim BES iptali için sizi başkasına aktarıyoruz diyor 30 dakika bekledim kimse yanıt vermedi lütfen tarafıma dönüş yapılmasını rica ediyorum.',\n",
       "    'publisher': {'@type': 'Organization',\n",
       "     'name': 'Şikayetvar',\n",
       "     'sameAs': 'https://www.sikayetvar.com',\n",
       "     'logo': {'@type': 'ImageObject',\n",
       "      'url': 'https://cdn.sikayetvar.com/public/images/logo.svg'}}},\n",
       "   {'@type': 'Review',\n",
       "    'headline': 'Agesa Hayat Ve Emeklilik\\xa0 \\xa0Mobil 300 TL Kesinti Yaptı!',\n",
       "    'itemReviewed': {'@type': 'Thing', 'name': 'AgeSA Hayat ve Emeklilik'},\n",
       "    'reviewRating': {'@type': 'Rating',\n",
       "     'bestRating': 5,\n",
       "     'worstRating': 1,\n",
       "     'ratingValue': 5},\n",
       "    'author': {'@type': 'Person',\n",
       "     'name': 'Uğur',\n",
       "     'url': 'https://www.sikayetvar.com/uye/ugur-2650638'},\n",
       "    'datePublished': '2022-02-02',\n",
       "    'reviewBody': 'Akbank Agesa işlemleri herhangi yatırım yapmadan 300 TL kesinti yapılmış hesabımdan bu konuda bana bilgi verilmedi. Agesa çıkmak istediğimi söyledim aktif olmadığı için çıkamazsınız dedi 300 TL kesintinin iptal edilip Agesa çıkışımın kolaylaştırılması rica ediyorum.',\n",
       "    'publisher': {'@type': 'Organization',\n",
       "     'name': 'Şikayetvar',\n",
       "     'sameAs': 'https://www.sikayetvar.com',\n",
       "     'logo': {'@type': 'ImageObject',\n",
       "      'url': 'https://cdn.sikayetvar.com/public/images/logo.svg'}}},\n",
       "   {'@type': 'Review',\n",
       "    'headline': 'Agesa Hayat Ve Emeklilik BES Sistemi',\n",
       "    'itemReviewed': {'@type': 'Thing', 'name': 'AgeSA Hayat ve Emeklilik'},\n",
       "    'reviewRating': {'@type': 'Rating',\n",
       "     'bestRating': 5,\n",
       "     'worstRating': 1,\n",
       "     'ratingValue': 5},\n",
       "    'author': {'@type': 'Person',\n",
       "     'name': 'Sait',\n",
       "     'url': 'https://www.sikayetvar.com/uye/sait-10011938'},\n",
       "    'datePublished': '2022-02-02',\n",
       "    'reviewBody': 'Agesa paramı tam yatırmadı aradığımda telefonu yüzüme kapattılar. Başına böyle bir olay gelmiş olan var mı? Her türlü merciden şikayetçi olacağımı da bilmelerini isterim. Benim paramı ortada yok ettiler.',\n",
       "    'publisher': {'@type': 'Organization',\n",
       "     'name': 'Şikayetvar',\n",
       "     'sameAs': 'https://www.sikayetvar.com',\n",
       "     'logo': {'@type': 'ImageObject',\n",
       "      'url': 'https://cdn.sikayetvar.com/public/images/logo.svg'}}},\n",
       "   {'@type': 'Review',\n",
       "    'headline': 'Agesa Hayat Ve Emeklilik Haberim Olmamasına Rağmen Talep Onay Mesajı Göndermesi',\n",
       "    'itemReviewed': {'@type': 'Thing', 'name': 'AgeSA Hayat ve Emeklilik'},\n",
       "    'author': {'@type': 'Person',\n",
       "     'name': 'Dilara',\n",
       "     'url': 'https://www.sikayetvar.com/uye/dilara-9515352'},\n",
       "    'datePublished': '2022-02-02',\n",
       "    'reviewBody': \"Bu Agesa 'yı ilk defa duyuyorum dün mesaj geldi. Arama izni onay talebinizi aldık vs. Ben herhangi bir talepte bulunmadım istemiyorum da ne münasebetle bu şekilde bir iletişim imkanı sağlanıyor benimle anlamadım. Ulaşamıyorum da hiçbir şekilde müşteri temsilcisine. En kısa zamanda geri dönüş bekliyorum değilse hiç üşenmem keyfi olarak bile uğraşırım. Ben böyle bir saçmalık görmedim\",\n",
       "    'publisher': {'@type': 'Organization',\n",
       "     'name': 'Şikayetvar',\n",
       "     'sameAs': 'https://www.sikayetvar.com',\n",
       "     'logo': {'@type': 'ImageObject',\n",
       "      'url': 'https://cdn.sikayetvar.com/public/images/logo.svg'}}},\n",
       "   {'@type': 'Review',\n",
       "    'headline': 'Agesa Hayat Ve Emeklilik Avivasa Tazminat Ödemesi',\n",
       "    'itemReviewed': {'@type': 'Thing', 'name': 'AgeSA Hayat ve Emeklilik'},\n",
       "    'author': {'@type': 'Person',\n",
       "     'name': 'Simge',\n",
       "     'url': 'https://www.sikayetvar.com/uye/simge-8089599'},\n",
       "    'datePublished': '2022-02-02',\n",
       "    'reviewBody': 'Yakın akrabam olan bir aile derdim için adli tıp raporuna dayanarak bize tazminat ödemesi yapılacağı bildirilmişti. Ancak konu hakkında defalarca mail attığım halde aile bireylerinden birine ödeme yapıldı. Bize de ödeme yapılacağı bildirildi ancak ilgilenen olmadı. Konu hakkında yardım rica ederim.',\n",
       "    'publisher': {'@type': 'Organization',\n",
       "     'name': 'Şikayetvar',\n",
       "     'sameAs': 'https://www.sikayetvar.com',\n",
       "     'logo': {'@type': 'ImageObject',\n",
       "      'url': 'https://cdn.sikayetvar.com/public/images/logo.svg'}}},\n",
       "   {'@type': 'Review',\n",
       "    'headline': 'Agesa Hayat Ve Emeklilik İşsizlik Teminatlı Hayat Sigortasında Verilen Eksik Bilgiler',\n",
       "    'itemReviewed': {'@type': 'Thing', 'name': 'AgeSA Hayat ve Emeklilik'},\n",
       "    'reviewRating': {'@type': 'Rating',\n",
       "     'bestRating': 5,\n",
       "     'worstRating': 1,\n",
       "     'ratingValue': 5},\n",
       "    'author': {'@type': 'Person',\n",
       "     'name': 'Fetullah',\n",
       "     'url': 'https://www.sikayetvar.com/uye/fetullah-10011107'},\n",
       "    'datePublished': '2022-02-02',\n",
       "    'reviewBody': '28.06.2020 tarihinde kullandığım krediye istinaden işsizlik teminatlı hayat sigortası poliçesi satın aldım. Bana verilen bilgilerde veya poliçede İşkur işsizlik tazminatı ile ilgili hiçbir bilgi aktarılmamış olup, işsiz kaldığım takdirde kredimin taksitleri ödenecek diye bilgi aldığım için satın aldım. Ama işsiz kaldığım zaman agesa müşteri hizmetlerini aradığımda da müşteri temsilcisi bana sadece 180 gün aynı iş yerinde çalışma ve işveren tarafından işten çıkarılma şartlarını sundu. Ben de buna istinaden işsizlik teminatına (tazminatına ) başvurdum bana verilen bilgiler arasında İşkur işsizlik tazminatı alma şartından bahsedildi. Ben bu poliçeyi satın aldığımda bu bilgiler bana verilmemiş olup istenilen evrakların teslimatı sırasında işsizlik tazminatı alma şartından bahsedildi ve yanıltıldığımı fark ettim. İşsiz kaldım ve kredimi ödeyecek durumum olmadığı için yaptığım poliçenin bir anlam ifade etmesini istiyorum. Eğer bir işe yaramayacak ise neden poliçe yapılıp para alındı benden. Bu sorunun en kısa zamanda çözülmesini rica ediyorum aksi takdirde adli mercilere başvurup hakkımı alacağım.',\n",
       "    'publisher': {'@type': 'Organization',\n",
       "     'name': 'Şikayetvar',\n",
       "     'sameAs': 'https://www.sikayetvar.com',\n",
       "     'logo': {'@type': 'ImageObject',\n",
       "      'url': 'https://cdn.sikayetvar.com/public/images/logo.svg'}}},\n",
       "   {'@type': 'Review',\n",
       "    'headline': 'AgeSA Hayat Ve Emeklilik Müşteri Hizmetlerine Ulaşılmıyor!',\n",
       "    'itemReviewed': {'@type': 'Thing', 'name': 'AgeSA Hayat ve Emeklilik'},\n",
       "    'author': {'@type': 'Person',\n",
       "     'name': 'Beyza',\n",
       "     'url': 'https://www.sikayetvar.com/uye/beyza-7786362'},\n",
       "    'datePublished': '2022-02-01',\n",
       "    'reviewBody': 'İptal için kesinlikle ulaşamıyorsunuz. Paranızı almak için süründürüyor. Kayıt şifre deyin hemen bağlıyorlar fakat iptal deyince yarım saat bekliyorsunuz. Böyle bir çalışma olmaz. Agesa müşteri temsilcilerini denetlesin!',\n",
       "    'publisher': {'@type': 'Organization',\n",
       "     'name': 'Şikayetvar',\n",
       "     'sameAs': 'https://www.sikayetvar.com',\n",
       "     'logo': {'@type': 'ImageObject',\n",
       "      'url': 'https://cdn.sikayetvar.com/public/images/logo.svg'}}},\n",
       "   {'@type': 'Review',\n",
       "    'headline': 'Agesa Hayat Ve Emeklilik Mağdurum Benim Olan Paramı Kullanıyorlar!',\n",
       "    'itemReviewed': {'@type': 'Thing', 'name': 'AgeSA Hayat ve Emeklilik'},\n",
       "    'author': {'@type': 'Person',\n",
       "     'name': 'Ömer',\n",
       "     'url': 'https://www.sikayetvar.com/uye/omer-10008465'},\n",
       "    'datePublished': '2022-02-01',\n",
       "    'reviewBody': \"3 iş günü içinde kesilen sigorta pirimi iptali hala ödeme yapılmadı 13 gündür benim paramı kullanıyorlar\\xa0mağdurum kardeşim ben ne diye böyle güvensiz şirketle çalışır bankalar bir daha asla Akbank'ın kapısından bile geçmem valiliğe suç duyurusunda bulunacağım.\",\n",
       "    'publisher': {'@type': 'Organization',\n",
       "     'name': 'Şikayetvar',\n",
       "     'sameAs': 'https://www.sikayetvar.com',\n",
       "     'logo': {'@type': 'ImageObject',\n",
       "      'url': 'https://cdn.sikayetvar.com/public/images/logo.svg'}}},\n",
       "   {'@type': 'Review',\n",
       "    'headline': 'Akbank Agesa Hayat Ve Emeklilik Sigortası Poliçesi Sorunu!',\n",
       "    'itemReviewed': {'@type': 'Thing', 'name': 'AgeSA Hayat ve Emeklilik'},\n",
       "    'author': {'@type': 'Person',\n",
       "     'name': 'Özer',\n",
       "     'url': 'https://www.sikayetvar.com/uye/ozer-7263369'},\n",
       "    'datePublished': '2022-02-01',\n",
       "    'reviewBody': \"Akbank'tan 85.000 TL'lik İhtiyaç Kredisi kullanımı sonrasında tarafıma 3.745.47 Tl 'lik bana sorulmadan ve iletişime geçip iptalini istediğim halde agesa Hayat ve Emeklilik Sigortası Poliçesi uygulanmıştır. Sigortacılık mevzuatı ilgili BDDK tebliğleri ve 6502 sayılı Tüketicinin Korunması hakkında Kanunun ilgili maddesi gereği krediye bağlı yapılan sigorta için sigortalının talebi olması halinde poliçe iptali ve ilgili tutarın müşteri hesabına iadesi söz konusudur. Sigortanın iptal edilip ücretin hesabıma aktarılmasını rica ediyorum ve bu işlemin hızlıca halledilmesini umuyorum.\",\n",
       "    'publisher': {'@type': 'Organization',\n",
       "     'name': 'Şikayetvar',\n",
       "     'sameAs': 'https://www.sikayetvar.com',\n",
       "     'logo': {'@type': 'ImageObject',\n",
       "      'url': 'https://cdn.sikayetvar.com/public/images/logo.svg'}}}]}}"
      ]
     },
     "execution_count": 103,
     "metadata": {},
     "output_type": "execute_result"
    }
   ],
   "source": [
    "# literal_aval() function helps to make strings more readable , and also helps python to understand the datatype. String halındekı json dosyasını gercek json'a çeviriyor.\n",
    "raw_data = literal_eval(raw_json)\n",
    "raw_data"
   ]
  },
  {
   "cell_type": "code",
   "execution_count": 104,
   "metadata": {
    "pycharm": {
     "name": "#%%\n"
    }
   },
   "outputs": [
    {
     "data": {
      "text/plain": [
       "{'@type': 'Review',\n",
       " 'headline': 'Agesa Hayat Ve Emeklilik\\xa0\\xa0Aktaracağız Deyip Telefonu Kapatıyorlar',\n",
       " 'itemReviewed': {'@type': 'Thing', 'name': 'AgeSA Hayat ve Emeklilik'},\n",
       " 'reviewRating': {'@type': 'Rating',\n",
       "  'bestRating': 5,\n",
       "  'worstRating': 1,\n",
       "  'ratingValue': 1},\n",
       " 'author': {'@type': 'Person',\n",
       "  'name': 'Es Ka',\n",
       "  'url': 'https://www.sikayetvar.com/uye/es-ka-5401162'},\n",
       " 'datePublished': '2022-02-05',\n",
       " 'reviewBody': 'İşsizlik teminatlı kredi çekmiştim. 8 gündür arıyorum. Aktaracağız deyip telefonu kapatıyorlar. Üstelik defalarca mail attım olayı anlattım ilgili birime ulaşamıyorum beni arayın, 3 kere talep oluşturdum geri aranmak için hala bir haber yok. İlgili birim yerine memnuniyet için arıyorlar beni şaka gibi dalga geçiyorlar başka açıklaması yok. 0 puan vermişim diye arıyor. Onlara da durumu anlatıyorum arıcaklar diyorlar. Daha kötü bir sigorta olamaz.',\n",
       " 'publisher': {'@type': 'Organization',\n",
       "  'name': 'Şikayetvar',\n",
       "  'sameAs': 'https://www.sikayetvar.com',\n",
       "  'logo': {'@type': 'ImageObject',\n",
       "   'url': 'https://cdn.sikayetvar.com/public/images/logo.svg'}}}"
      ]
     },
     "execution_count": 104,
     "metadata": {},
     "output_type": "execute_result"
    }
   ],
   "source": [
    "# Review başlığı altında toplanan veriler\n",
    "raw_data['@graph']['review'][7]"
   ]
  },
  {
   "cell_type": "code",
   "execution_count": 105,
   "metadata": {
    "pycharm": {
     "name": "#%%\n"
    }
   },
   "outputs": [
    {
     "data": {
      "text/plain": [
       "'Agesa Hayat Ve Emeklilik\\xa0\\xa0Aktaracağız Deyip Telefonu Kapatıyorlar'"
      ]
     },
     "execution_count": 105,
     "metadata": {},
     "output_type": "execute_result"
    }
   ],
   "source": [
    "# See an example's values in the 7.index\n",
    "raw_data['@graph']['review'][7]['headline']"
   ]
  },
  {
   "cell_type": "code",
   "execution_count": 106,
   "metadata": {
    "pycharm": {
     "name": "#%%\n"
    }
   },
   "outputs": [
    {
     "data": {
      "text/plain": [
       "'2022-02-05'"
      ]
     },
     "execution_count": 106,
     "metadata": {},
     "output_type": "execute_result"
    }
   ],
   "source": [
    "raw_data['@graph']['review'][7]['datePublished']"
   ]
  },
  {
   "cell_type": "code",
   "execution_count": 107,
   "metadata": {
    "pycharm": {
     "name": "#%%\n"
    }
   },
   "outputs": [
    {
     "data": {
      "text/plain": [
       "1"
      ]
     },
     "execution_count": 107,
     "metadata": {},
     "output_type": "execute_result"
    }
   ],
   "source": [
    "raw_data['@graph']['review'][7]['reviewRating']['ratingValue']"
   ]
  },
  {
   "cell_type": "code",
   "execution_count": 108,
   "metadata": {
    "pycharm": {
     "name": "#%%\n"
    }
   },
   "outputs": [
    {
     "data": {
      "text/plain": [
       "'İşsizlik teminatlı kredi çekmiştim. 8 gündür arıyorum. Aktaracağız deyip telefonu kapatıyorlar. Üstelik defalarca mail attım olayı anlattım ilgili birime ulaşamıyorum beni arayın, 3 kere talep oluşturdum geri aranmak için hala bir haber yok. İlgili birim yerine memnuniyet için arıyorlar beni şaka gibi dalga geçiyorlar başka açıklaması yok. 0 puan vermişim diye arıyor. Onlara da durumu anlatıyorum arıcaklar diyorlar. Daha kötü bir sigorta olamaz.'"
      ]
     },
     "execution_count": 108,
     "metadata": {},
     "output_type": "execute_result"
    }
   ],
   "source": [
    "raw_data['@graph']['review'][7]['reviewBody']"
   ]
  },
  {
   "cell_type": "code",
   "execution_count": 67,
   "metadata": {
    "pycharm": {
     "name": "#%%\n"
    }
   },
   "outputs": [
    {
     "data": {
      "text/plain": [
       "193"
      ]
     },
     "execution_count": 67,
     "metadata": {},
     "output_type": "execute_result"
    }
   ],
   "source": [
    "# Find the max page number of reviews\n",
    "page_list = tree.xpath(\"//ul[@class='pagination']/li/a/text()\")      # contains the numbers that seen in the website\n",
    "page_list = [int(i) for i in page_list if i != ' ' ]\n",
    "max(page_list)"
   ]
  },
  {
   "cell_type": "code",
   "execution_count": 68,
   "metadata": {
    "pycharm": {
     "name": "#%%\n"
    }
   },
   "outputs": [
    {
     "name": "stderr",
     "output_type": "stream",
     "text": [
      "100%|██████████| 193/193 [03:03<00:00,  1.05it/s]\n"
     ]
    }
   ],
   "source": [
    "headers = {\n",
    "    'Connection': 'keep-alive',\n",
    "    'Cache-Control': 'max-age=0',\n",
    "    'sec-ch-ua': '\" Not;A Brand\";v=\"99\", \"Google Chrome\";v=\"97\", \"Chromium\";v=\"97\"',\n",
    "    'sec-ch-ua-mobile': '?0',\n",
    "    'sec-ch-ua-platform': '\"Windows\"',\n",
    "    'Upgrade-Insecure-Requests': '1',\n",
    "    'User-Agent': 'Mozilla/5.0 (Windows NT 10.0; Win64; x64) AppleWebKit/537.36 (KHTML, like Gecko) Chrome/97.0.4692.99 Safari/537.36',\n",
    "    'Accept': 'text/html,application/xhtml+xml,application/xml;q=0.9,image/avif,image/webp,image/apng,*/*;q=0.8,application/signed-exchange;v=b3;q=0.9',\n",
    "    'Sec-Fetch-Site': 'same-origin',\n",
    "    'Sec-Fetch-Mode': 'navigate',\n",
    "    'Sec-Fetch-User': '?1',\n",
    "    'Sec-Fetch-Dest': 'document',\n",
    "    'Referer': 'https://www.sikayetvar.com/',\n",
    "    'Accept-Language': 'en-US,en;q=0.9,de;q=0.8,ms;q=0.7,tr;q=0.6,ru;q=0.5,az;q=0.4',\n",
    "    'Cookie': '_svhash=cf0a6e6adbab352a58b4c4c49425e701; _gid=GA1.2.1338087073.1643790897; sv-cookie-msg=true; _svuid=s%3ArC54L_-rT2GS1ncuDhAguytVZtN1TOVe.N40Sv4mS9L24CHcpBxc1m8Ln6NApkA0UoJrDGqtcco8; JSESSIONID=709A7F267AE6530B30707F8E9C0CE7F2; _ga=GA  .1067635138.1642427186; _ga_FXTD430HRD=GS1.1.1643958543.5.1.1643958957.44; resolved-complaint-count={%22current%22:1875553%2C%22target%22:1875568}'\n",
    "}\n",
    "\n",
    "\n",
    "df1 = pd.DataFrame( [], columns = [\"Company\", \"Headline\", \"DatePublished\" , \"RatingValue\", \"Review\"] )    # for reviews that has rating value\n",
    "df2 = pd.DataFrame( [], columns = [\"Company\", \"Headline\", \"DatePublished\" , \"RatingValue\", \"Review\"] )   # for reviews that has'nt rating value\n",
    "for page in tqdm.tqdm(range(1, max(page_list)+1) ):\n",
    "    url = \"https://www.sikayetvar.com/agesa-hayat-ve-emeklilik?page={0}\".format(str(page))\n",
    "    response = requests.request(\"GET\", url, headers=headers)\n",
    "    tree = html.fromstring(response.text)\n",
    "    temp_list = tree.xpath(\"//script[@type='application/ld+json']\")\n",
    "    raw_json = temp_list[0].text.strip()\n",
    "    raw_data = literal_eval(raw_json)\n",
    "\n",
    "    for i in range(0,len(raw_data['@graph']['review'])):\n",
    "        try:\n",
    "            rev = ['Agesa Hayat Ve Emeklilik',raw_data['@graph']['review'][i]['headline'],raw_data['@graph']['review'][i]['datePublished'],raw_data['@graph']['review'][i]['reviewRating']['ratingValue'],raw_data['@graph']['review'][i]['reviewBody'] ]\n",
    "            df1_length = len(df1)\n",
    "            df1.loc[df1_length] = rev\n",
    "\n",
    "        except KeyError:\n",
    "            rev2 = ['Agesa Hayat Ve Emeklilik',raw_data['@graph']['review'][i]['headline'],raw_data['@graph']['review'][i]['datePublished'],'-',raw_data['@graph']['review'][i]['reviewBody'] ]\n",
    "            df2_length = len(df2)\n",
    "            df2.loc[df2_length] = rev2\n",
    "\n",
    "        except  Exception:\n",
    "            pass\n",
    "\n",
    "    time.sleep(0.5)     # to set time between loops\n",
    "\n",
    "df = pd.concat([df1,df2])\n",
    "agesa_df = df.copy()\n",
    "agesa_df.reset_index(drop=True, inplace=True)"
   ]
  },
  {
   "cell_type": "code",
   "execution_count": 75,
   "metadata": {
    "pycharm": {
     "name": "#%%\n"
    }
   },
   "outputs": [
    {
     "data": {
      "text/html": [
       "<div>\n",
       "<style scoped>\n",
       "    .dataframe tbody tr th:only-of-type {\n",
       "        vertical-align: middle;\n",
       "    }\n",
       "\n",
       "    .dataframe tbody tr th {\n",
       "        vertical-align: top;\n",
       "    }\n",
       "\n",
       "    .dataframe thead th {\n",
       "        text-align: right;\n",
       "    }\n",
       "</style>\n",
       "<table border=\"1\" class=\"dataframe\">\n",
       "  <thead>\n",
       "    <tr style=\"text-align: right;\">\n",
       "      <th></th>\n",
       "      <th>Company</th>\n",
       "      <th>Headline</th>\n",
       "      <th>DatePublished</th>\n",
       "      <th>RatingValue</th>\n",
       "      <th>Review</th>\n",
       "    </tr>\n",
       "  </thead>\n",
       "  <tbody>\n",
       "    <tr>\n",
       "      <th>0</th>\n",
       "      <td>Agesa Hayat Ve Emeklilik</td>\n",
       "      <td>Agesa Hayat Ve Emeklilik  Aktaracağız Deyip Te...</td>\n",
       "      <td>2022-02-05</td>\n",
       "      <td>1</td>\n",
       "      <td>İşsizlik teminatlı kredi çekmiştim. 8 gündür a...</td>\n",
       "    </tr>\n",
       "    <tr>\n",
       "      <th>1</th>\n",
       "      <td>Agesa Hayat Ve Emeklilik</td>\n",
       "      <td>Agesa Hayat Ve Emeklilik BES'in Tamamını İade ...</td>\n",
       "      <td>2022-02-05</td>\n",
       "      <td>1</td>\n",
       "      <td>Otomatik BES katılımı gerçekleştirildiği için ...</td>\n",
       "    </tr>\n",
       "    <tr>\n",
       "      <th>2</th>\n",
       "      <td>Agesa Hayat Ve Emeklilik</td>\n",
       "      <td>AgeSA Hayat ve Emeklilik Sigorta İptali</td>\n",
       "      <td>2022-02-04</td>\n",
       "      <td>1</td>\n",
       "      <td>2021 Mayıs ayında Akbank'tan kullanmış olduğum...</td>\n",
       "    </tr>\n",
       "    <tr>\n",
       "      <th>3</th>\n",
       "      <td>Agesa Hayat Ve Emeklilik</td>\n",
       "      <td>Agesa Hayat ve Emeklilik Hayat Sigortası İptali</td>\n",
       "      <td>2022-02-03</td>\n",
       "      <td>1</td>\n",
       "      <td>Akbank'tan kullanmış olduğum 42.000₺ kredi içi...</td>\n",
       "    </tr>\n",
       "    <tr>\n",
       "      <th>4</th>\n",
       "      <td>Agesa Hayat Ve Emeklilik</td>\n",
       "      <td>Agesa Hayat Ve Emeklilik   Mobil 300 TL Kesint...</td>\n",
       "      <td>2022-02-02</td>\n",
       "      <td>5</td>\n",
       "      <td>Akbank Agesa işlemleri herhangi yatırım yapmad...</td>\n",
       "    </tr>\n",
       "    <tr>\n",
       "      <th>...</th>\n",
       "      <td>...</td>\n",
       "      <td>...</td>\n",
       "      <td>...</td>\n",
       "      <td>...</td>\n",
       "      <td>...</td>\n",
       "    </tr>\n",
       "    <tr>\n",
       "      <th>4621</th>\n",
       "      <td>Agesa Hayat Ve Emeklilik</td>\n",
       "      <td>Avivasa Emeklilik BES İçin Muhatap Bulamıyorum!</td>\n",
       "      <td>2017-02-07</td>\n",
       "      <td>-</td>\n",
       "      <td>İletişim merkezine ulaşamıyorum, çözümcül bir ...</td>\n",
       "    </tr>\n",
       "    <tr>\n",
       "      <th>4622</th>\n",
       "      <td>Agesa Hayat Ve Emeklilik</td>\n",
       "      <td>Avivasa Emeklilik Otomatik Katılımdan Çıkamıyo...</td>\n",
       "      <td>2017-02-07</td>\n",
       "      <td>-</td>\n",
       "      <td>Otomatik katılım ile Avivasa'dan BES sözleşmem...</td>\n",
       "    </tr>\n",
       "    <tr>\n",
       "      <th>4623</th>\n",
       "      <td>Agesa Hayat Ve Emeklilik</td>\n",
       "      <td>Avivasa Emeklilik 'e Ulaşamıyorum</td>\n",
       "      <td>2017-02-07</td>\n",
       "      <td>-</td>\n",
       "      <td>Devletin zorunlu yaptığı bireysel emekliliğin ...</td>\n",
       "    </tr>\n",
       "    <tr>\n",
       "      <th>4624</th>\n",
       "      <td>Agesa Hayat Ve Emeklilik</td>\n",
       "      <td>Avivasa Emeklilik Hayat Sigortası İptali Sorunu!</td>\n",
       "      <td>2017-02-07</td>\n",
       "      <td>-</td>\n",
       "      <td>Akbank A.Ş'den konut kredisi çektim ancak tara...</td>\n",
       "    </tr>\n",
       "    <tr>\n",
       "      <th>4625</th>\n",
       "      <td>Agesa Hayat Ve Emeklilik</td>\n",
       "      <td>Avivasa Emeklilik Bireysel Emeklilik Sistemi F...</td>\n",
       "      <td>2017-02-07</td>\n",
       "      <td>-</td>\n",
       "      <td>28.11.2016 sözleşme yürürlük tarihli, Akbank a...</td>\n",
       "    </tr>\n",
       "  </tbody>\n",
       "</table>\n",
       "<p>4626 rows × 5 columns</p>\n",
       "</div>"
      ],
      "text/plain": [
       "                       Company  \\\n",
       "0     Agesa Hayat Ve Emeklilik   \n",
       "1     Agesa Hayat Ve Emeklilik   \n",
       "2     Agesa Hayat Ve Emeklilik   \n",
       "3     Agesa Hayat Ve Emeklilik   \n",
       "4     Agesa Hayat Ve Emeklilik   \n",
       "...                        ...   \n",
       "4621  Agesa Hayat Ve Emeklilik   \n",
       "4622  Agesa Hayat Ve Emeklilik   \n",
       "4623  Agesa Hayat Ve Emeklilik   \n",
       "4624  Agesa Hayat Ve Emeklilik   \n",
       "4625  Agesa Hayat Ve Emeklilik   \n",
       "\n",
       "                                               Headline DatePublished  \\\n",
       "0     Agesa Hayat Ve Emeklilik  Aktaracağız Deyip Te...    2022-02-05   \n",
       "1     Agesa Hayat Ve Emeklilik BES'in Tamamını İade ...    2022-02-05   \n",
       "2               AgeSA Hayat ve Emeklilik Sigorta İptali    2022-02-04   \n",
       "3       Agesa Hayat ve Emeklilik Hayat Sigortası İptali    2022-02-03   \n",
       "4     Agesa Hayat Ve Emeklilik   Mobil 300 TL Kesint...    2022-02-02   \n",
       "...                                                 ...           ...   \n",
       "4621    Avivasa Emeklilik BES İçin Muhatap Bulamıyorum!    2017-02-07   \n",
       "4622  Avivasa Emeklilik Otomatik Katılımdan Çıkamıyo...    2017-02-07   \n",
       "4623                  Avivasa Emeklilik 'e Ulaşamıyorum    2017-02-07   \n",
       "4624   Avivasa Emeklilik Hayat Sigortası İptali Sorunu!    2017-02-07   \n",
       "4625  Avivasa Emeklilik Bireysel Emeklilik Sistemi F...    2017-02-07   \n",
       "\n",
       "     RatingValue                                             Review  \n",
       "0              1  İşsizlik teminatlı kredi çekmiştim. 8 gündür a...  \n",
       "1              1  Otomatik BES katılımı gerçekleştirildiği için ...  \n",
       "2              1  2021 Mayıs ayında Akbank'tan kullanmış olduğum...  \n",
       "3              1  Akbank'tan kullanmış olduğum 42.000₺ kredi içi...  \n",
       "4              5  Akbank Agesa işlemleri herhangi yatırım yapmad...  \n",
       "...          ...                                                ...  \n",
       "4621           -  İletişim merkezine ulaşamıyorum, çözümcül bir ...  \n",
       "4622           -  Otomatik katılım ile Avivasa'dan BES sözleşmem...  \n",
       "4623           -  Devletin zorunlu yaptığı bireysel emekliliğin ...  \n",
       "4624           -  Akbank A.Ş'den konut kredisi çektim ancak tara...  \n",
       "4625           -  28.11.2016 sözleşme yürürlük tarihli, Akbank a...  \n",
       "\n",
       "[4626 rows x 5 columns]"
      ]
     },
     "execution_count": 75,
     "metadata": {},
     "output_type": "execute_result"
    }
   ],
   "source": [
    "agesa_df"
   ]
  },
  {
   "cell_type": "markdown",
   "metadata": {
    "pycharm": {
     "name": "#%% md\n"
    }
   },
   "source": [
    "## 2.Yöntem\n",
    "##### Bu yöntemde sadece ekranda görünen bilgileri alabiliyorsun. yorumda devamını oku kısmındaki yorumlar gelmez örneğin.\n",
    "##### Path'leri almak için; review için örneğin ; site Console üzerinde   $x(\"normalize-space(//*[@id='main-content']/div[1]/div[2]/article[1]/section/p)\")   yazılarak erişilebiliyor."
   ]
  },
  {
   "cell_type": "code",
   "execution_count": 299,
   "metadata": {
    "pycharm": {
     "name": "#%%\n"
    }
   },
   "outputs": [],
   "source": [
    "# !pip install scrapy\n",
    "import scrapy"
   ]
  },
  {
   "cell_type": "code",
   "execution_count": 298,
   "metadata": {
    "pycharm": {
     "name": "#%%\n"
    }
   },
   "outputs": [
    {
     "data": {
      "text/plain": [
       "'Özlem'"
      ]
     },
     "execution_count": 298,
     "metadata": {},
     "output_type": "execute_result"
    }
   ],
   "source": [
    "name_xpath = \"normalize-space(//*[@id='main-content']/div[1]/div[2]/article[1]/header/div/div/a/span)\"\n",
    "name = scrapy.Selector(text = response.text).xpath(name_xpath).extract()[0]\n",
    "name"
   ]
  },
  {
   "cell_type": "code",
   "execution_count": 302,
   "metadata": {
    "pycharm": {
     "name": "#%%\n"
    }
   },
   "outputs": [
    {
     "data": {
      "text/plain": [
       "'Otomatik katılım ile Avivasa\\'dan BES sözleşmem yapıldı. Cayma hakkı için Avivasa\\'nın 1tıklaotomatikkatilim web sitesine TCK ile giriş yapılıyor. Sisteme giriş yapıldığı anda \"Kişisel Verilerin işlenmesi ve 3. kişilerle paylaşımı izin bilgilendirme formu\" bizi karşılıyor. Buna \"tamam\" demeden (ret şa...'"
      ]
     },
     "execution_count": 302,
     "metadata": {},
     "output_type": "execute_result"
    }
   ],
   "source": [
    "review_xpath = \"normalize-space(//*[@id='main-content']/div[1]/div[2]/article[1]/section/p)\"\n",
    "review = scrapy.Selector(text = response.text).xpath(review_xpath).extract()[0]\n",
    "review"
   ]
  },
  {
   "cell_type": "code",
   "execution_count": 305,
   "metadata": {
    "pycharm": {
     "name": "#%%\n"
    }
   },
   "outputs": [
    {
     "data": {
      "text/plain": [
       "'Avivasa Emeklilik Otomatik Katılımdan Çıkamıyorum!'"
      ]
     },
     "execution_count": 305,
     "metadata": {},
     "output_type": "execute_result"
    }
   ],
   "source": [
    "headline_xpath = \"normalize-space(//*[@id='main-content']/div[1]/div[2]/article[1]/section/h2/a)\"\n",
    "headline = scrapy.Selector(text = response.text).xpath(headline_xpath).extract()[0]\n",
    "headline"
   ]
  },
  {
   "cell_type": "code",
   "execution_count": 313,
   "metadata": {
    "pycharm": {
     "name": "#%%\n"
    }
   },
   "outputs": [
    {
     "name": "stdout",
     "output_type": "stream",
     "text": [
      "Burak \n",
      " Agesa Hayat ve Emeklilik Hayat Sigortası İptali \n",
      " Akbank'tan kullanmış olduğum 42.000₺ kredi için benden bana sorulmadan 1972,06₺ hayat sigortası için para kesildi. En kısa sürede hayat sigortasının iptalini ve tutarın tarafıma iadesini istiyorum. Aksi takdirde Tüketici Hakem Heyeti'ne başvuracağım. \n",
      "\n",
      "Enver \n",
      " Agesa Hayat Ve Emeklilik Cayma Bedeli Kesintisi! \n",
      " Agesa sigorta cayma sonrası paranın 4 te 3 yiyor 40 günlük bir sigorta için ortalama 750 TL kesinti yapmış olacak gibi değil insanları ya sigorta da kalın ya da cayma yok demeye getiriyor 40 zaman diliminde bir şey olsa haklılar fakat bu kadar kesinti kabul edilir gibi değil el insaf. \n",
      "\n",
      "Merve \n",
      " Agesa Hayat Ve Emeklilik  Müşteri Temsilcisine Bağlanamıyorum! \n",
      " 444 11 11 aradım müşteri temsilcisi bağlandım bilgilerimi verdim BES iptali için sizi başkasına aktarıyoruz diyor. 30 dakika bekledim kimse yanıt vermedi lütfen tarafıma dönüş yapılmasını rica ediyorum.-444 11 11 aradım müşteri temsilcisi bağlandım bilgilerimi verdim BES iptali için sizi başkasına a... \n",
      "\n",
      "Uğur \n",
      "  \n",
      "  \n",
      "\n",
      "Sait \n",
      " Agesa Hayat Ve Emeklilik BES Sistemi \n",
      " Agesa paramı tam yatırmadı aradığımda telefonu yüzüme kapattılar. Başına böyle bir olay gelmiş olan var mı? Her türlü merciden şikayetçi olacağımı da ... \n",
      "\n",
      "Dilara \n",
      " Agesa Hayat Ve Emeklilik Haberim Olmamasına Rağmen Talep Onay Mesajı Göndermesi \n",
      " Bu Agesa 'yı ilk defa duyuyorum dün mesaj geldi. Arama izni onay talebinizi aldık vs. Ben herhangi bir talepte bulunmadım istemiyorum da ne münasebetle bu şekilde bir iletişim imkanı sağlanıyor benimle anlamadım. Ulaşamıyorum da hiçbir şekilde müşteri temsilcisine. En kısa zamanda geri dönüş bekliyo... \n",
      "\n",
      "Simge \n",
      " Agesa Hayat Ve Emeklilik Avivasa Tazminat Ödemesi \n",
      " Yakın akrabam olan bir aile derdim için adli tıp raporuna dayanarak bize tazminat ödemesi yapılacağı bildirilmişti. Ancak konu hakkında defalarca mail attığım halde aile bireylerinden birine ödeme yapıldı. Bize de ödeme yapılacağı bildirildi ancak ilgilenen olmadı. Konu hakkında yardım rica ederim. \n",
      "\n",
      "Fetullah \n",
      " Agesa Hayat Ve Emeklilik İşsizlik Teminatlı Hayat Sigortasında Verilen Eksik Bilgiler \n",
      " 28.06.2020 tarihinde kullandığım krediye istinaden işsizlik teminatlı hayat sigortası poliçesi satın aldım. Bana verilen bilgilerde veya poliçede İşkur işsizlik tazminatı ile ilgili hiçbir bilgi aktarılmamış olup, işsiz kaldığım takdirde kredimin taksitleri ödenecek diye bilgi aldığım için satın ald... \n",
      "\n",
      "Beyza \n",
      " AgeSA Hayat Ve Emeklilik Müşteri Hizmetlerine Ulaşılmıyor! \n",
      " İptal için kesinlikle ulaşamıyorsunuz. Paranızı almak için süründürüyor. Kayıt şifre deyin hemen bağlıyorlar fakat iptal deyince yarım saat bekliyorsunuz. Böyle bir çalışma olmaz. Agesa müşteri temsilcilerini denetlesin! \n",
      "\n",
      "Ömer \n",
      " Agesa Hayat Ve Emeklilik Mağdurum Benim Olan Paramı Kullanıyorlar! \n",
      " 3 iş günü içinde kesilen sigorta pirimi iptali hala ödeme yapılmadı 13 gündür benim paramı kullanıyorlar mağdurum kardeşim ben ne diye böyle güvensiz şirketle çalışır bankalar bir daha asla Akbank'ın kapısından bile geçmem valiliğe suç duyurusunda bulunacağım. \n",
      "\n",
      "Özer \n",
      " Akbank Agesa Hayat Ve Emeklilik Sigortası Poliçesi Sorunu! \n",
      " Akbank'tan 85.000 TL'lik İhtiyaç Kredisi kullanımı sonrasında tarafıma 3.745.47 Tl 'lik bana sorulmadan ve iletişime geçip iptalini istediğim halde agesa Hayat ve Emeklilik Sigortası Poliçesi uygulanmıştır. Sigortacılık mevzuatı ilgili BDDK tebliğleri ve 6502 sayılı Tüketicinin Korunması hakkında Ka... \n",
      "\n",
      "Onur \n",
      " Agesa Hayat Ve Emeklilik Haberim Olmadan Kesilen Sigorta Parası! \n",
      " Akbank'tan 01/02/2022 tarihinde 36 ay taksitle 20 bin tl kredi çektim, dosya masrafları hariç Avivasa bireysel emeklilik ödeme ücreti adı altında 468 TL ve Avivasa bireysel kredili poliçe ilk prim tahsilatı adı altında 512.50 TL kesilmiş olup neyi nasıl ödeyeceğimi şaşırmışken, en kısa sürede kesile... \n",
      "\n",
      "Emrah \n",
      " AgeSA Hayat ve Emeklilik Bilgim Dışında İşlem! \n",
      " Akbank 31 bin kredi çekimde 761 TL sigortalamış kendini güvenceye almış benim haberim olmadan iptal işlemi yapıyorum cayma gününüz dolmuş deniliyor 1 yıl bekleyecekmişim paramı iade etmelerini rica ediyorum aksi takdirde şikayetçi olacağım. \n",
      "\n",
      "Ebru \n",
      " Agesa Hayat Ve Emeklilik Bes Uygulaması Hakkında \n",
      " Agesa hayat ve emeklilik (BES) hakkında. İş değiştirme sebebi ile farklı banka maaş müşterisi olduğum için, Allianz Sigorta BES uygulamasına geçmek istedim,  fakat tam 2,5 ay oldu hala fonum aktarılamadı Agesa'dan Allianz'a bu kadar çağ atlamış iken bu kadar zor mudur bilmiyorum yoksa bilerek mi yap... \n",
      "\n",
      "Serhat \n",
      " Agesa Hayat Ve Emeklilik Haksız Kazanç Sağlayan Şirketler \n",
      " Akbank tan kullanmış olduğum krediye istinaden agesa hayat ve emeklilik a. Ş. Den hayat sigortası yapıldı. Sigorta ücretinin yüksek olması sebebiyle kredimi 1 ay 10 gün sonra toplu kapatarak sigorta iadesi beklerken, 926₺ ödediğim sigorta için 292₺ ücret iadesi yapıldı. \n",
      "\n",
      "Ali \n",
      " AgeSA Hayat ve Emeklilik Bireysel Kredili Poliçe İlk Prim Tahsilatı \n",
      " Akbank'tan 50000 TL kredi çektim, 31.01.2022 tarihinde dosya masrafları hariç Avivasa bireysel kredili poliçe ilk prim tahsilatı adı altında 1.775.11 TL para kesintisi olmuştur. En kısa sürede kesilen prim ödemesinin iptalini ve hesabıma yatırılmasını iade edilmesini istiyorum. Aksi takdirde Tüketic... \n",
      "\n",
      "Orçun \n",
      "  \n",
      "  \n",
      "\n",
      "Aşkın \n",
      " Agesa Hayat Ve Emeklilik İptal Gerçekleştirdim Para Henüz Hesabıma Yatmadı! \n",
      " İptal gerçekleştirdim para henüz hesabıma yatmadı değişik bir sistem değişik bir hizmet anlam ifade edemiyorum çok mu zor parayı geri iade etmesi bana geri dönüş yapılmasını arz ediyorum otomatik olarak gerçekleşen işlemlerden oldu olası rahatsız ediyor. \n",
      "\n",
      "Gamze \n",
      " Agesa Hayat Ve Emeklilik Bireysel Emeklilik İptali \n",
      " BES iptalini 1 ay önce belirttim ama hiçbir evrak elime ulaşmadı. Paraya acil ihtiyacım var paranın hemen hesabıma yatırılmasını istiyorum. 2 aydır bekliyorum herhangi bir bilgi verilmedi. İnsanlar bu kadar mağdur edilmemeli. Bir an önce işlemin başlatılmasını bekliyorum. \n",
      "\n"
     ]
    }
   ],
   "source": [
    "for i in range(1,20):\n",
    "    headline_xpath = \"normalize-space(//*[@id='main-content']/div[1]/div[2]/article[{0}]/section/h2/a)\".format(i)\n",
    "    name_xpath = \"normalize-space(//*[@id='main-content']/div[1]/div[2]/article[{0}]/header/div/div/a/span)\".format(i)\n",
    "    review_xpath = \"normalize-space(//*[@id='main-content']/div[1]/div[2]/article[{0}]/section/p)\".format(i)\n",
    "    headline = scrapy.Selector(text = response.text).xpath(headline_xpath).extract()[0]\n",
    "    name = scrapy.Selector(text = response.text).xpath(name_xpath).extract()[0]\n",
    "    review = scrapy.Selector(text = response.text).xpath(review_xpath).extract()[0]\n",
    "    print(name,'\\n', headline,'\\n', review,'\\n')"
   ]
  }
 ],
 "metadata": {
  "kernelspec": {
   "display_name": "Python 3",
   "language": "python",
   "name": "python3"
  },
  "language_info": {
   "codemirror_mode": {
    "name": "ipython",
    "version": 3
   },
   "file_extension": ".py",
   "mimetype": "text/x-python",
   "name": "python",
   "nbconvert_exporter": "python",
   "pygments_lexer": "ipython3",
   "version": "3.6.8"
  }
 },
 "nbformat": 4,
 "nbformat_minor": 1
}
