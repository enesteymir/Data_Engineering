{
 "cells": [
  {
   "cell_type": "code",
   "execution_count": 24,
   "metadata": {
    "pycharm": {
     "name": "#%%\n"
    }
   },
   "outputs": [],
   "source": [
    "import pandas as pd\n",
    "import psutil\n",
    "import re\n",
    "import subprocess\n",
    "import requests\n",
    "import tabulate\n",
    "\n",
    "kernel_regex = re.compile(r\".+kernel-(.+)\\.json\")\n",
    "notebook_regex = re.compile(r\"(https?://([^:/]+):?(\\d+)?)/?(\\?token=([a-z0-9]+))?\")"
   ]
  },
  {
   "cell_type": "code",
   "execution_count": 5,
   "metadata": {
    "pycharm": {
     "name": "#%%\n"
    }
   },
   "outputs": [],
   "source": [
    "def get_proc_info():\n",
    "    pids = psutil.pids()\n",
    "\n",
    "    # memory info from psutil.Process\n",
    "    df_mem = []\n",
    "\n",
    "    for pid in pids:\n",
    "        try:\n",
    "            proc = psutil.Process(pid)\n",
    "            cmd = \" \".join(proc.cmdline())\n",
    "        except psutil.NoSuchProcess:\n",
    "            continue\n",
    "\n",
    "        if len(cmd) > 0 and (\"jupyter\" in cmd or \"ipython\" in cmd) and \"kernel\" in cmd:\n",
    "            # kernel\n",
    "            kernel_ID = re.sub(kernel_regex, r\"\\1\", cmd)\n",
    "\n",
    "            # memory\n",
    "            mem = proc.memory_info()[0] / float(1e9)\n",
    "\n",
    "            uname = proc.username()\n",
    "\n",
    "            # user, pid, memory, kernel_ID\n",
    "            df_mem.append([uname, pid, mem, kernel_ID])\n",
    "\n",
    "    df_mem = pd.DataFrame(df_mem)\n",
    "    df_mem.columns = [\"user\", \"pid\", \"memory_GB\", \"kernel_ID\"]\n",
    "    return df_mem"
   ]
  },
  {
   "cell_type": "code",
   "execution_count": 9,
   "metadata": {
    "pycharm": {
     "name": "#%%\n"
    }
   },
   "outputs": [],
   "source": [
    "def get_session_info(password=None):\n",
    "    df_nb = []\n",
    "    kernels = []\n",
    "\n",
    "    for notebook in get_running_notebooks():\n",
    "        s = requests.Session()\n",
    "        if notebook[\"token\"] is not None:\n",
    "            s.get(notebook[\"base_url\"] + \"/?token=\" + notebook[\"token\"])\n",
    "        else:\n",
    "            # do a get to the base url to get the session cookies\n",
    "            s.get(notebook[\"base_url\"])\n",
    "        if password is not None:\n",
    "            # Seems jupyter auth process has changed, need to first get a cookie,\n",
    "            # then add that cookie to the data being sent over with the password\n",
    "            data = {\"password\": password}\n",
    "            data.update(s.cookies)\n",
    "            s.post(notebook[\"base_url\"] + \"/login\", data=data)\n",
    "\n",
    "        res = s.get(notebook[\"base_url\"] + \"/api/sessions\")\n",
    "\n",
    "        if res.status_code != 200:\n",
    "            raise Exception(res.json())\n",
    "\n",
    "        for sess in res.json():\n",
    "            kernel_ID = sess[\"kernel\"][\"id\"]\n",
    "            if kernel_ID not in kernels:\n",
    "                kernel = {\n",
    "                    \"kernel_ID\": kernel_ID,\n",
    "                    \"kernel_name\": sess[\"kernel\"][\"name\"],\n",
    "                    \"kernel_state\": sess[\"kernel\"][\"execution_state\"],\n",
    "                    \"kernel_connections\": sess[\"kernel\"][\"connections\"],\n",
    "                    # \"notebook_url\": notebook[\"base_url\"] + \"/notebook/\" + sess[\"id\"],\n",
    "                    \"notebook_path\": sess[\"path\"],\n",
    "                }\n",
    "                kernel.update(notebook)\n",
    "                df_nb.append(kernel)\n",
    "                kernels.append(kernel_ID)\n",
    "\n",
    "    df_nb = pd.DataFrame(df_nb)\n",
    "    del df_nb[\"token\"]\n",
    "    return df_nb"
   ]
  },
  {
   "cell_type": "code",
   "execution_count": 20,
   "metadata": {
    "pycharm": {
     "name": "#%%\n"
    }
   },
   "outputs": [],
   "source": [
    "def get_running_notebooks():\n",
    "    notebooks = []\n",
    "\n",
    "    for n in subprocess.Popen(\n",
    "            [\"jupyter\", \"notebook\", \"list\"], stdout=subprocess.PIPE\n",
    "    ).stdout.readlines()[1:]:\n",
    "        match = re.match(notebook_regex, n.decode())\n",
    "        if match:\n",
    "            base_url, host, port, _, token = match.groups()\n",
    "            notebooks.append({\"base_url\": base_url, \"token\": token})\n",
    "        else:\n",
    "            print(\"Unknown format: {}\".format(n.decode()))\n",
    "\n",
    "    return notebooks"
   ]
  },
  {
   "cell_type": "code",
   "execution_count": 10,
   "metadata": {
    "pycharm": {
     "name": "#%%\n"
    }
   },
   "outputs": [],
   "source": [
    "def blame(password='password_of_jupyter', print_ascii=False):\n",
    "    df_mem = get_proc_info()\n",
    "    df_nb = get_session_info(password)\n",
    "\n",
    "    # joining tables\n",
    "    df = pd.merge(df_nb, df_mem, on=[\"kernel_ID\"], how=\"inner\")\n",
    "    df = df.sort_values(\"memory_GB\", ascending=False).reset_index(drop=True)\n",
    "    if print_ascii:\n",
    "        print(tabulate.tabulate(df, headers=(df.columns.tolist())))\n",
    "    return df"
   ]
  },
  {
   "cell_type": "code",
   "execution_count": null,
   "metadata": {},
   "outputs": [],
   "source": [
    "blame(password='password_of_jupyter', print_ascii=False)"
   ]
  }
 ],
 "metadata": {
  "kernelspec": {
   "display_name": "Python 3",
   "language": "python",
   "name": "python3"
  },
  "language_info": {
   "codemirror_mode": {
    "name": "ipython",
    "version": 3
   },
   "file_extension": ".py",
   "mimetype": "text/x-python",
   "name": "python",
   "nbconvert_exporter": "python",
   "pygments_lexer": "ipython3",
   "version": "3.6.8"
  }
 },
 "nbformat": 4,
 "nbformat_minor": 1
}
