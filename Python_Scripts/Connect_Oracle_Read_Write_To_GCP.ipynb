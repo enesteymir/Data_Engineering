{
 "cells": [
  {
   "cell_type": "code",
   "execution_count": 8,
   "metadata": {},
   "outputs": [],
   "source": [
    "# import module that enables access to Oracle Database\n",
    "import pandas as pd\n",
    "from sqlalchemy import create_engine\n",
    "import cx_Oracle"
   ]
  },
  {
   "cell_type": "code",
   "execution_count": 5,
   "metadata": {},
   "outputs": [],
   "source": [
    "# Oracle connection infos for engine\n",
    "oracle_connection_string = ( 'oracle+cx_oracle://{username}:{password}@' \n",
    "                             + cx_Oracle.makedsn('{hostname}', '{port}',service_name='{service_name}')  )\n",
    "\n",
    "engine = create_engine( oracle_connection_string.format(username='enesteymir',\n",
    "                                                        password='nopass',\n",
    "                                                        hostname='n11.com',\n",
    "                                                        port='1521',\n",
    "                                                        service_name='n11.ssk.satis',\n",
    "                                                        ) )"
   ]
  },
  {
   "cell_type": "code",
   "execution_count": null,
   "metadata": {},
   "outputs": [],
   "source": [
    "# look for the tables in the db and related schema name\n",
    "tables = \"\"\" SELECT DISTINCT OWNER, OBJECT_NAME \n",
    "             FROM DBA_OBJECTS\n",
    "             WHERE OBJECT_TYPE = 'TABLE'\n",
    "             AND OWNER = 'schema_name'\n",
    "         \"\"\"\n",
    "df = pd.read_sql(tables, engine)\n",
    "df"
   ]
  },
  {
   "cell_type": "code",
   "execution_count": null,
   "metadata": {},
   "outputs": [],
   "source": [
    "#reading and store as dataframe \n",
    "query = \"\"\" select * from dwh.siparis_satis_kalemleri \"\"\"\n",
    "n11_ssk = pd.read_sql(query, engine)"
   ]
  },
  {
   "cell_type": "code",
   "execution_count": null,
   "metadata": {},
   "outputs": [],
   "source": [
    "# writing data to BigQuery table. When this script will be run, it will want us to enter authorization code to connect bigquery\n",
    "\n",
    "for datapart in n11_ssk:\n",
    "     result.to_gbq(destination_table='n11_VA_tablolari.siparis_satis_kalemleri',\n",
    "                   project_id='n11-DEDS-veri',\n",
    "                   table_schema=schemaname,\n",
    "                   if_exists='append')"
   ]
  }
 ],
 "metadata": {
  "kernelspec": {
   "display_name": "Python 3",
   "language": "python",
   "name": "python3"
  },
  "language_info": {
   "codemirror_mode": {
    "name": "ipython",
    "version": 3
   },
   "file_extension": ".py",
   "mimetype": "text/x-python",
   "name": "python",
   "nbconvert_exporter": "python",
   "pygments_lexer": "ipython3",
   "version": "3.8.3"
  }
 },
 "nbformat": 4,
 "nbformat_minor": 4
}
