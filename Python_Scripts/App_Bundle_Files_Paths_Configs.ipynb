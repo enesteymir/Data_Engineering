{
 "cells": [
  {
   "cell_type": "markdown",
   "metadata": {},
   "source": [
    "#### Reading JSON Config file"
   ]
  },
  {
   "cell_type": "code",
   "execution_count": null,
   "metadata": {
    "pycharm": {
     "name": "#%%\n"
    }
   },
   "outputs": [],
   "source": [
    "# config.json can be like this to get the csv names and columns that will be used in script\n",
    "{\n",
    "    \"file1\":\n",
    "        {\n",
    "            \"filename\": \"input.csv\",\n",
    "            \"columns\":\n",
    "                {\n",
    "                    \"column1\" :  \"column1\",\n",
    "                    \"column2\" :  \"column2\"\n",
    "                }\n",
    "        }\n",
    "}"
   ]
  },
  {
   "cell_type": "code",
   "execution_count": 11,
   "metadata": {
    "pycharm": {
     "name": "#%%\n"
    }
   },
   "outputs": [],
   "source": [
    "import sys\n",
    "import os\n",
    "import json\n",
    "import time\n",
    "\n",
    "def check_files():\n",
    "    cf = open(\"config.json\")\n",
    "    data = json.load(cf)\n",
    "    df_filename = data['file1']['filename']\n",
    "    df_columns  = data['file1']['columns']\n",
    "\n",
    "    if os.path.exists(df_filename) :\n",
    "        print(\"The file indicated in the config.json was read successfully. \")\n",
    "        return  df_filename,  df_columns\n",
    "    else:\n",
    "        print(\"The file indicated in the config.json is not in the related folder.\")\n",
    "        time.sleep(5)\n",
    "        sys.exit()"
   ]
  },
  {
   "cell_type": "code",
   "execution_count": 12,
   "metadata": {
    "pycharm": {
     "name": "#%%\n"
    }
   },
   "outputs": [
    {
     "name": "stdout",
     "output_type": "stream",
     "text": [
      "The file indicated in the Config.json was read successfully. \n"
     ]
    },
    {
     "data": {
      "text/plain": [
       "('input.csv', {'column1': 'column1', 'column2': 'column2'})"
      ]
     },
     "execution_count": 12,
     "metadata": {},
     "output_type": "execute_result"
    }
   ],
   "source": [
    "check_files()"
   ]
  },
  {
   "cell_type": "markdown",
   "metadata": {},
   "source": [
    "#### Finding the Path of the Current Python File"
   ]
  },
  {
   "cell_type": "code",
   "execution_count": 25,
   "metadata": {
    "pycharm": {
     "name": "#%%\n"
    }
   },
   "outputs": [
    {
     "data": {
      "text/plain": [
       "'C:\\\\Users\\\\enes.teymir\\\\OneDrive - sabancidx.com\\\\Desktop\\\\Python_Files'"
      ]
     },
     "execution_count": 25,
     "metadata": {},
     "output_type": "execute_result"
    }
   ],
   "source": [
    "# Full path of the current file\n",
    "import os\n",
    "import sys\n",
    "full_path = os.path.abspath('')\n",
    "full_path"
   ]
  },
  {
   "cell_type": "markdown",
   "metadata": {
    "pycharm": {
     "name": "#%% md\n"
    }
   },
   "source": [
    "PyInstaller can bundle your script and all its dependencies into a single executable named myscript ( myscript.exe in Windows).\n",
    "When your program is not frozen, the standard Python variable __file__ is the full path to the script now executing. When a bundled app starts up, the bootloader sets the sys.frozen attribute and stores the absolute path to the bundle folder in sys._MEIPASS. For a one-folder bundle, this is the path to that folder, wherever the user may have put it. For a one-file bundle, this is the path to the _MEIxxxxxx"
   ]
  },
  {
   "cell_type": "code",
   "execution_count": null,
   "metadata": {
    "pycharm": {
     "name": "#%%\n"
    }
   },
   "outputs": [],
   "source": [
    "file_path = os.path.abspath(os.path.dirname(__file__))        # the absolute path of the directory where the program resides.\n",
    "parent_path = os.path.join(os.path.dirname(__file__), '..')   # the parent directory of the directory where program resides."
   ]
  },
  {
   "cell_type": "code",
   "execution_count": 33,
   "metadata": {
    "pycharm": {
     "name": "#%%\n"
    }
   },
   "outputs": [
    {
     "data": {
      "text/plain": [
       "'C:\\\\Users\\\\enes.teymir\\\\OneDrive - sabancidx.com\\\\Desktop\\\\Python_Files'"
      ]
     },
     "execution_count": 33,
     "metadata": {},
     "output_type": "execute_result"
    }
   ],
   "source": [
    "# This will check the _MEIPASS to get the path of folder. If it is not found then getattr will return ''.\n",
    "meipass = getattr(sys, \"_MEIPASS\", '')\n",
    "full_path = os.path.abspath(meipass)\n",
    "full_path"
   ]
  },
  {
   "cell_type": "code",
   "execution_count": null,
   "metadata": {
    "pycharm": {
     "name": "#%%\n"
    }
   },
   "outputs": [],
   "source": [
    "# this will give the bundle path, it will check _MEIPASS variable at first, if it is not found then will get the path from the __file__ variable\n",
    "# os.path.dirname() returns the directory name of pathname path\n",
    "bundle_dir = getattr(sys, '_MEIPASS', os.path.abspath(os.path.dirname(__file__)))"
   ]
  },
  {
   "cell_type": "code",
   "execution_count": 35,
   "metadata": {
    "pycharm": {
     "name": "#%%\n"
    }
   },
   "outputs": [
    {
     "data": {
      "text/plain": [
       "'C:\\\\Users\\\\enes.teymir\\\\OneDrive - sabancidx.com\\\\Desktop'"
      ]
     },
     "execution_count": 35,
     "metadata": {},
     "output_type": "execute_result"
    }
   ],
   "source": [
    "# If we apply it to our file's path, we can see the file name is not included in the path's end\n",
    "getattr(sys, '_MEIPASS', os.path.abspath(os.path.dirname(full_path)))"
   ]
  },
  {
   "cell_type": "code",
   "execution_count": null,
   "metadata": {
    "pycharm": {
     "name": "#%%\n"
    }
   },
   "outputs": [],
   "source": [
    "# If we want to get the path to spesific file in the bundle app folder, use this\n",
    "path_to_file = os.path.abspath(os.path.join(bundle_dir, 'filename'))"
   ]
  },
  {
   "cell_type": "code",
   "execution_count": null,
   "metadata": {
    "pycharm": {
     "name": "#%%\n"
    }
   },
   "outputs": [],
   "source": [
    "# special variables can be seen in global()\n",
    "print(globals())"
   ]
  },
  {
   "cell_type": "markdown",
   "metadata": {
    "pycharm": {
     "name": "#%% md\n"
    }
   },
   "source": [
    "Python files are called modules and they are identified by the .py file extension. A module can define functions, classes, and variables.\n",
    "So when the interpreter runs a module, the __name__ variable will be set as  __main__ if the module that is being run is the main program.\n",
    "But if the code is importing the module from another module, then the __name__  variable will be set to that module’s name.\n",
    "The variable __name__ for the file/module that is run will be always __main__. But the __name__ variable for all other modules that are being imported will be set to their module's name.\n",
    "For more : https://www.freecodecamp.org/news/if-name-main-python-example/"
   ]
  },
  {
   "cell_type": "code",
   "execution_count": 5,
   "metadata": {
    "pycharm": {
     "name": "#%%\n"
    }
   },
   "outputs": [
    {
     "name": "stdout",
     "output_type": "stream",
     "text": [
      "__main__\n"
     ]
    }
   ],
   "source": [
    "print(__name__)"
   ]
  },
  {
   "cell_type": "markdown",
   "metadata": {
    "pycharm": {
     "name": "#%% md\n"
    }
   },
   "source": [
    "#### After checking files, creating sqlite db and related tables , and put the csv files in the folder. We can run our script"
   ]
  },
  {
   "cell_type": "code",
   "execution_count": null,
   "metadata": {
    "pycharm": {
     "name": "#%%\n"
    }
   },
   "outputs": [],
   "source": [
    "if __name__ == '__main__':                             # used to execute some code only if the file was run directly, and not imported.\n",
    "\n",
    "    df_filename, df_columns = check_files()            # get the file name and columns name from check function\n",
    "    bundle_dir = getattr(sys, '_MEIPASS', os.path.abspath(os.path.dirname(__file__)))\n",
    "    path_to_db = os.path.abspath(os.path.join(bundle_dir, 'dbname.db'))\n",
    "    path_to_pkl = os.path.abspath(os.path.join(bundle_dir, 'iForest.pkl'))\n",
    "    iforest = pickle.load(open(path_to_pkl, 'rb'))\n",
    "    engine = create_engine(f'sqlite:///{path_to_db}', echo=False)    # You can write the files to sqlite db. Create a db on python folder and create tables. Then define the path to db. U can use DB Browser for SQLite\n",
    "    loc_df = pd.read_sql_table('loc_df', engine)\n",
    "    new_df = pd.read_csv(df_filename)               # read the file as defined in config file\n",
    "    new_df = new_df[list(df_columns.values())]      # make column names as defined in json file\n",
    "    new_df.columns = list(df_columns.keys())        # change column names the ones that will be used in model\n",
    "\n",
    "else:\n",
    "    print(\"File was imported ! You should execute it directly to get the results !\")"
   ]
  },
  {
   "cell_type": "markdown",
   "metadata": {
    "pycharm": {
     "name": "#%% md\n"
    }
   },
   "source": [
    "#### Creating a SPEC File : Pysinstaller create this file automatically when you run it. You can modify it."
   ]
  },
  {
   "cell_type": "code",
   "execution_count": null,
   "metadata": {
    "pycharm": {
     "name": "#%%\n"
    }
   },
   "outputs": [],
   "source": [
    "# -*- mode: python -*-\n",
    "options = [ ('v', None, 'OPTION')]\n",
    "block_cipher = None\n",
    "\n",
    "a = Analysis(['python_file_name.py'],                               # write the file name with .py\n",
    "             pathex=[],\n",
    "             binaries=[],\n",
    "             datas=[('iforest.pkl', '.'), ('dbname.db', '.')],     # write the files name here like pickle, database, csv ...  the added data files are copied into the folder with the executable.\n",
    "             hiddenimports=['sklearn','sklearn.ensemble.IsolationForest'],   # write the hidden imports that raise errors. And remove them from the python script\n",
    "             hookspath=[],\n",
    "             runtime_hooks=[],\n",
    "             excludes=[],\n",
    "             win_no_prefer_redirects=False,\n",
    "             win_private_assemblies=False,\n",
    "             cipher=block_cipher\n",
    "             )\n",
    "\n",
    "pyz = PYZ(a.pure, a.zipped_data,\n",
    "          cipher=block_cipher\n",
    "          )\n",
    "\n",
    "exe = EXE(pyz,\n",
    "          a.scripts,\n",
    "          a.binaries,\n",
    "          a.zipfiles,\n",
    "          a.datas,\n",
    "          [],\n",
    "          name='python_file_name',                                   # write the py file's name only\n",
    "          debug=False,\n",
    "          bootloader_ignore_signals=False,\n",
    "          strip=False,\n",
    "          upx=True,\n",
    "          upx_exclude=[],\n",
    "          runtime_tmpdir=None,\n",
    "          console=True,\n",
    "          disable_windowed_traceback=False,\n",
    "          target_arch=None,\n",
    "          codesign_identity=None,\n",
    "          entitlements_file=None\n",
    "          )"
   ]
  },
  {
   "cell_type": "code",
   "execution_count": null,
   "metadata": {
    "pycharm": {
     "name": "#%%\n"
    }
   },
   "outputs": [],
   "source": [
    "#You can write command like this also to add hidden imports instead of writing in the spec file.\n",
    "pyinstaller --onefile --hidden-import sklearn.ensemble.IsolationForest  spec_file_name.spec"
   ]
  },
  {
   "cell_type": "code",
   "execution_count": null,
   "metadata": {
    "pycharm": {
     "name": "#%%\n"
    }
   },
   "outputs": [],
   "source": [
    "# After you prepare the spec file , then can create an exe by this command. Exe will be created in \"dist\" folder at the end\n",
    "# You can write \"cmd\" in the path section in related folder then write this command in terminal\n",
    "pyinstaller -F --clean  spec_file_name.spec \n",
    "# pyinstaller --clean  spec_file_name.spec"
   ]
  },
  {
   "cell_type": "code",
   "execution_count": null,
   "metadata": {},
   "outputs": [],
   "source": [
    "# In Linux,at first env should be activated or global variable should be defined before. And py file path should be defined\n",
    "source env/bin/activate \n",
    "pyinstaller -F --clean  /home/artibir_user/notebooks/Enes/Exe/clustering.spec "
   ]
  }
 ],
 "metadata": {
  "kernelspec": {
   "display_name": "Python 3",
   "language": "python",
   "name": "python3"
  },
  "language_info": {
   "codemirror_mode": {
    "name": "ipython",
    "version": 3
   },
   "file_extension": ".py",
   "mimetype": "text/x-python",
   "name": "python",
   "nbconvert_exporter": "python",
   "pygments_lexer": "ipython3",
   "version": "3.6.8"
  }
 },
 "nbformat": 4,
 "nbformat_minor": 1
}
