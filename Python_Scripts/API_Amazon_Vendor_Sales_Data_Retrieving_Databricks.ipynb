{
 "cells": [
  {
   "cell_type": "code",
   "execution_count": 0,
   "metadata": {
    "application/vnd.databricks.v1+cell": {
     "inputWidgets": {},
     "nuid": "8c176e29-0241-4715-8f52-e96e18da4875",
     "showTitle": false,
     "title": ""
    }
   },
   "outputs": [
    {
     "data": {
      "text/html": [
       "<style scoped>\n",
       "  .ansiout {\n",
       "    display: block;\n",
       "    unicode-bidi: embed;\n",
       "    white-space: pre-wrap;\n",
       "    word-wrap: break-word;\n",
       "    word-break: break-all;\n",
       "    font-family: \"Source Code Pro\", \"Menlo\", monospace;;\n",
       "    font-size: 13px;\n",
       "    color: #555;\n",
       "    margin-left: 4px;\n",
       "    line-height: 19px;\n",
       "  }\n",
       "</style>\n",
       "<div class=\"ansiout\"></div>"
      ]
     },
     "metadata": {
      "application/vnd.databricks.v1+output": {
       "addedWidgets": {},
       "arguments": {},
       "data": "<div class=\"ansiout\"></div>",
       "datasetInfos": [],
       "metadata": {},
       "removedWidgets": [],
       "type": "html"
      }
     },
     "output_type": "display_data"
    }
   ],
   "source": [
    "# Define databricks parameters and API Credentials\n",
    "dbutils.widgets.text('start', '')\n",
    "dbutils.widgets.text('end', '')\n",
    "dbutils.widgets.text('vendor', '')\n",
    "\n",
    "start = dbutils.widgets.get('start')\n",
    "end = dbutils.widgets.get('end')\n",
    "vendor = dbutils.widgets.get('vendor')\n",
    "\n",
    "# Access Key, Access Secret and ARN Role will be taken from AWS IAM\n",
    "A_KEY = 'AKI.......2GE'\n",
    "A_SECRET = 'Kz54......zb20vBx'\n",
    "ARN = 'arn:aws:iam::46..47:role/ebzsellingapiRole'\n",
    "\n",
    "MarketplaceID = 'A1PA6795UKMFR9'\n",
    "\n",
    "# Client Key, Client Secret and Refresh Token will be taken from Vendor Central API Integration Page\n",
    "C_KEY, C_SECRET_KEY, C_REFRESH_TOKEN = '', '', ''\n",
    "\n",
    "if vendor == 'SW':\n",
    "    C_KEY = 'amzn1.application-oa2-client........846'\n",
    "    C_SECRET_KEY = 'cf5...................d8ceac1443a1cd93'\n",
    "    C_REFRESH_TOKEN = 'Atzr.............................HdflK4'\n",
    "\n",
    "elif vendor == 'NP':\n",
    "    C_KEY = 'amzn1.application-oa2-client........846'\n",
    "    C_SECRET_KEY = 'cf5...................d8ceac1443a1cd93'\n",
    "    C_REFRESH_TOKEN = 'Atzr.............................HdflK4'"
   ]
  },
  {
   "cell_type": "code",
   "execution_count": 0,
   "metadata": {
    "application/vnd.databricks.v1+cell": {
     "inputWidgets": {},
     "nuid": "06f20977-a945-4534-b43d-f77e552058d0",
     "showTitle": false,
     "title": ""
    }
   },
   "outputs": [
    {
     "data": {
      "text/html": [
       "<style scoped>\n",
       "  .ansiout {\n",
       "    display: block;\n",
       "    unicode-bidi: embed;\n",
       "    white-space: pre-wrap;\n",
       "    word-wrap: break-word;\n",
       "    word-break: break-all;\n",
       "    font-family: \"Source Code Pro\", \"Menlo\", monospace;;\n",
       "    font-size: 13px;\n",
       "    color: #555;\n",
       "    margin-left: 4px;\n",
       "    line-height: 19px;\n",
       "  }\n",
       "</style>\n",
       "<div class=\"ansiout\"></div>"
      ]
     },
     "metadata": {
      "application/vnd.databricks.v1+output": {
       "addedWidgets": {},
       "arguments": {},
       "data": "<div class=\"ansiout\"></div>",
       "datasetInfos": [],
       "metadata": {},
       "removedWidgets": [],
       "type": "html"
      }
     },
     "output_type": "display_data"
    }
   ],
   "source": [
    "from time import sleep\n",
    "import requests\n",
    "import re\n",
    "import json\n",
    "import datetime\n",
    "import gzip\n",
    "from requests_aws4auth import AWS4Auth\n",
    "\n",
    "def get_datetime():\n",
    "    return datetime.datetime.utcnow().strftime(\"%Y%m%dT%H%M%SZ\")\n",
    "\n",
    "\n",
    "\n",
    "\n",
    "def get_access_token():\n",
    "    global C_KEY, C_SECRET_KEY, C_REFRESH_TOKEN\n",
    "    r = requests.post(f\"https://api.amazon.com/auth/o2/token\", data={\n",
    "        \"grant_type\":\"refresh_token\",\n",
    "        \"refresh_token\":C_REFRESH_TOKEN,\n",
    "        \"client_id\": C_KEY,\n",
    "        \"client_secret\": C_SECRET_KEY\n",
    "    })\n",
    "\n",
    "    return r.json()['access_token']\n",
    "\n",
    "\n",
    "\n",
    "\n",
    "def assume_role():\n",
    "    r = requests.get(f\"https://sts.amazonaws.com?Version=2011-06-15&Action=AssumeRole&RoleSessionName=Test&RoleArn={ARN}&DurationSeconds=3600\", \n",
    "        auth=AWS4Auth(A_KEY, A_SECRET, 'us-east-1', 'sts'))\n",
    "\n",
    "    return (re.findall('<AccessKeyId>(.+)</AccessKeyId>', r.text)[0], re.findall('<SecretAccessKey>(.+)</SecretAccessKey>', r.text)[0], re.findall('<SessionToken>(.+)</SessionToken>', r.text)[0])\n",
    "\n",
    "\n",
    "\n",
    "\n",
    "\n",
    "def g(rel_url):\n",
    "    global access_token, key, secret_key, session_token\n",
    "\n",
    "    r = requests.get(f\"https://sellingpartnerapi-eu.amazon.com{rel_url}\", \n",
    "        headers={'x-amz-access-token': access_token},\n",
    "        auth=AWS4Auth(key, secret_key, 'eu-west-1', 'execute-api', session_token=session_token))\n",
    "\n",
    "    return(r.json())\n",
    "\n",
    "\n",
    "\n",
    "\n",
    "\n",
    "def gg(rel_url, params):\n",
    "    global access_token, key, secret_key, session_token\n",
    "\n",
    "    r = requests.get(f\"https://sellingpartnerapi-eu.amazon.com{rel_url}\", \n",
    "        params=params,\n",
    "        headers={'x-amz-access-token': access_token},\n",
    "        auth=AWS4Auth(key, secret_key, 'eu-west-1', 'execute-api', session_token=session_token))\n",
    "\n",
    "    return(r.json()) \n",
    "\n",
    "\n",
    "\n",
    "\n",
    "def gd(url):\n",
    "    r = requests.get(url)\n",
    "    return(r.content) \n",
    "\n",
    "\n",
    "\n",
    "\n",
    "def p(rel_url, data):\n",
    "    global access_token, key, secret_key, session_token\n",
    "\n",
    "    r = requests.post(f\"https://sellingpartnerapi-eu.amazon.com{rel_url}\",\n",
    "        data=json.dumps(data),\n",
    "        headers={\n",
    "            'x-amz-access-token': access_token,\n",
    "            'Content-Type': 'application/json'\n",
    "        },\n",
    "        auth=AWS4Auth(key, secret_key, 'eu-west-1', 'execute-api', session_token=session_token))\n",
    "\n",
    "    return (r.json())\n",
    "\n",
    "\n",
    "\n",
    "\n",
    "\n",
    "def generate(REPORT_TYPE, start, end, type):\n",
    "    c_r = p('/reports/2021-06-30/reports', {\n",
    "                                            \"marketplaceIds\": [MarketplaceID],\n",
    "                                            'reportType': REPORT_TYPE,\n",
    "                                            'dataStartTime': start,\n",
    "                                            'dataEndTime': end,\n",
    "                                            \"reportOptions\": { \n",
    "                                                                \"reportPeriod\": \"DAY\" ,\n",
    "                                                                \"sellingProgram\": \"RETAIL\",\n",
    "                                                                \"distributorView\": type \n",
    "                                                             }\n",
    "                                            }\n",
    "           )\n",
    "\n",
    "    print(c_r)\n",
    "    return c_r['reportId']\n",
    "\n",
    "\n",
    "\n",
    "\n",
    "\n",
    "def download(report_id):\n",
    "    g_r = g(f'/reports/2021-06-30/reports/{report_id}')\n",
    "    print(g_r)\n",
    "    doc_id = g_r['reportDocumentId']\n",
    "    d_r = g(f'/reports/2021-06-30/documents/{doc_id}')\n",
    "    bt = (gd(d_r['url']))\n",
    "    file = (gzip.decompress(bt).decode('utf-8'))\n",
    "    return file\n",
    "\n"
   ]
  },
  {
   "cell_type": "code",
   "execution_count": null,
   "metadata": {},
   "outputs": [],
   "source": [
    "access_token = get_access_token()\n",
    "key, secret_key, session_token = assume_role()"
   ]
  },
  {
   "cell_type": "code",
   "execution_count": null,
   "metadata": {},
   "outputs": [],
   "source": [
    "# Connect to Blob Storage and Mounting. \n",
    "# sas token can be taken from the container settings > shared access tokens.\n",
    "# Permissions should be given Read, Write, Delete ..(sp=racwdli&st) while generating sas token. Give expire date range widely so that dont get auth error. \n",
    "containerName = \"amazon-vendors-api\"\n",
    "storageAccountName = \"blobsaless\"\n",
    "sas = \"?sp=racwdli&st=20229%2F7.........................PtdFkx0%3D\"\n",
    "config = \"fs.azure.sas.\" + containerName+ \".\" + storageAccountName + \".blob.core.windows.net\"\n",
    "\n",
    "try:\n",
    "    dbutils.fs.unmount(\"/mnt/vendor-data-api\")\n",
    "except:\n",
    "    pass\n",
    "    \n",
    "try:\n",
    "    dbutils.fs.mount(\n",
    "      source = f\"wasbs://{containerName}@{storageAccountName}.blob.core.windows.net\",\n",
    "      mount_point = \"/mnt/vendor-data-api\",\n",
    "      extra_configs = {config : sas})\n",
    "except:\n",
    "    pass"
   ]
  },
  {
   "cell_type": "code",
   "execution_count": null,
   "metadata": {},
   "outputs": [],
   "source": [
    "# %fs mounts"
   ]
  },
  {
   "cell_type": "code",
   "execution_count": 0,
   "metadata": {
    "application/vnd.databricks.v1+cell": {
     "inputWidgets": {},
     "nuid": "28a6308a-c3a7-4933-96dd-788e484a55ac",
     "showTitle": false,
     "title": ""
    }
   },
   "outputs": [],
   "source": [
    "# Download and Put files to the blob container\n",
    "def gen_down_save(vendor, start, end, type):\n",
    "    report_id = generate('GET_VENDOR_SALES_REPORT', start, end, type)\n",
    "    print(report_id)\n",
    "\n",
    "    sleep(600)\n",
    "\n",
    "    jsonFile = download(report_id)\n",
    "\n",
    "    dbutils.fs.put('dbfs:/mnt/vendor-data-api/' + vendor + '__' + start.replace(\":\", \"_\") + '__' + end.replace(\":\", \"_\") + '__' + type + '.json', jsonFile)\n",
    "\n",
    "    \n",
    "\n",
    "gen_down_save(vendor, start, end, \"MANUFACTURING\")\n",
    "gen_down_save(vendor, start, end, \"SOURCING\")"
   ]
  }
 ],
 "metadata": {
  "application/vnd.databricks.v1+notebook": {
   "dashboards": [],
   "language": "python",
   "notebookMetadata": {
    "pythonIndentUnit": 4,
    "widgetLayout": [
     {
      "breakBefore": false,
      "name": "end",
      "width": 220
     },
     {
      "breakBefore": false,
      "name": "start",
      "width": 220
     },
     {
      "breakBefore": false,
      "name": "vendor",
      "width": 220
     }
    ]
   },
   "notebookName": "aws-token",
   "notebookOrigID": 1006347826237492,
   "widgets": {
    "end": {
     "currentValue": "2022-06-20T00:00:00",
     "nuid": "b241332a-dcee-40df-87e5-c421ad6ff699",
     "widgetInfo": {
      "defaultValue": "",
      "label": null,
      "name": "end",
      "options": {
       "validationRegex": null,
       "widgetType": "text"
      },
      "widgetType": "text"
     }
    },
    "start": {
     "currentValue": "2022-06-15T00:00:00",
     "nuid": "006aeb2e-3988-445a-a999-1a649d613f1b",
     "widgetInfo": {
      "defaultValue": "",
      "label": null,
      "name": "start",
      "options": {
       "validationRegex": null,
       "widgetType": "text"
      },
      "widgetType": "text"
     }
    },
    "vendor": {
     "currentValue": "SW",
     "nuid": "7e79ce01-3678-4d2b-8930-8290d22dabf0",
     "widgetInfo": {
      "defaultValue": "",
      "label": null,
      "name": "vendor",
      "options": {
       "validationRegex": null,
       "widgetType": "text"
      },
      "widgetType": "text"
     }
    }
   }
  },
  "kernelspec": {
   "display_name": "Python 3",
   "language": "python",
   "name": "python3"
  },
  "language_info": {
   "codemirror_mode": {
    "name": "ipython",
    "version": 3
   },
   "file_extension": ".py",
   "mimetype": "text/x-python",
   "name": "python",
   "nbconvert_exporter": "python",
   "pygments_lexer": "ipython3",
   "version": "3.8.3"
  }
 },
 "nbformat": 4,
 "nbformat_minor": 1
}
