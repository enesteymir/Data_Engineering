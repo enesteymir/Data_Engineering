{
 "cells": [
  {
   "cell_type": "code",
   "execution_count": 0,
   "metadata": {
    "application/vnd.databricks.v1+cell": {
     "inputWidgets": {},
     "nuid": "85a74f25-2114-41d2-9813-1f784bec80eb",
     "showTitle": false,
     "title": ""
    }
   },
   "outputs": [
    {
     "data": {
      "text/html": [
       "<style scoped>\n",
       "  .ansiout {\n",
       "    display: block;\n",
       "    unicode-bidi: embed;\n",
       "    white-space: pre-wrap;\n",
       "    word-wrap: break-word;\n",
       "    word-break: break-all;\n",
       "    font-family: \"Source Code Pro\", \"Menlo\", monospace;;\n",
       "    font-size: 13px;\n",
       "    color: #555;\n",
       "    margin-left: 4px;\n",
       "    line-height: 19px;\n",
       "  }\n",
       "</style>\n",
       "<div class=\"ansiout\"></div>"
      ]
     },
     "metadata": {
      "application/vnd.databricks.v1+output": {
       "addedWidgets": {},
       "arguments": {},
       "data": "<div class=\"ansiout\"></div>",
       "datasetInfos": [],
       "metadata": {},
       "removedWidgets": [],
       "type": "html"
      }
     },
     "output_type": "display_data"
    }
   ],
   "source": [
    "from time import sleep\n",
    "import requests\n",
    "import re\n",
    "import json\n",
    "import datetime\n",
    "import gzip\n",
    "\n",
    "\n",
    "dbutils.widgets.text('reportdate', '')\n",
    "dbutils.widgets.text('marketplace', '')\n",
    "\n",
    "ReportDate = dbutils.widgets.get('reportdate')\n",
    "ReportDate = ReportDate[0:4]+ReportDate[5:7]+ReportDate[8:10]  #yyyyMMdd\n",
    "marketplace = dbutils.widgets.get('marketplace')\n",
    "\n",
    "# LwA Dev User \n",
    "C_KEY = 'amzn1.applicat..............8d82777b0b3'\n",
    "C_SECRET_KEY = 'd12827396da1.................d07e2a89a767c4'\n",
    "C_REFRESH_TOKEN = 'Atzr|IwEBILSZA-9uzSdXoA...................tHWH7r4UJWzMLp--2n5R7r3bXFg'\n",
    "\n",
    "# ProfileIds can be retrieved from request: https://advertising-api-eu.amazon.com/v2/profiles\n",
    "if marketplace == 'DE':\n",
    "    ProfileId = '21692...4659'\n",
    "    \n",
    "elif  marketplace == 'IT':\n",
    "    ProfileId = '2155...123194'\n",
    "    \n",
    "elif marketplace == 'FR':\n",
    "    ProfileId = '11836...6966079'\n",
    "    \n",
    "elif marketplace == 'NL':\n",
    "     ProfileId = '37179...632014'\n",
    "        \n",
    "elif marketplace == 'ES':\n",
    "     ProfileId = '12197...53006'\n",
    "        \n",
    "elif marketplace == 'UK':\n",
    "     ProfileId = '3411...77547'   "
   ]
  },
  {
   "cell_type": "code",
   "execution_count": 0,
   "metadata": {
    "application/vnd.databricks.v1+cell": {
     "inputWidgets": {},
     "nuid": "ffa14823-5de8-42ed-9538-b3cc432f6f76",
     "showTitle": false,
     "title": ""
    }
   },
   "outputs": [
    {
     "data": {
      "text/html": [
       "<style scoped>\n",
       "  .ansiout {\n",
       "    display: block;\n",
       "    unicode-bidi: embed;\n",
       "    white-space: pre-wrap;\n",
       "    word-wrap: break-word;\n",
       "    word-break: break-all;\n",
       "    font-family: \"Source Code Pro\", \"Menlo\", monospace;;\n",
       "    font-size: 13px;\n",
       "    color: #555;\n",
       "    margin-left: 4px;\n",
       "    line-height: 19px;\n",
       "  }\n",
       "</style>\n",
       "<div class=\"ansiout\"></div>"
      ]
     },
     "metadata": {
      "application/vnd.databricks.v1+output": {
       "addedWidgets": {},
       "arguments": {},
       "data": "<div class=\"ansiout\"></div>",
       "datasetInfos": [],
       "metadata": {},
       "removedWidgets": [],
       "type": "html"
      }
     },
     "output_type": "display_data"
    }
   ],
   "source": [
    "# Get Access Token\n",
    "def get_access_token():\n",
    "    global refresh_token\n",
    "    url = \"https://api.amazon.co.uk/auth/o2/token\"\n",
    "\n",
    "    body = {\n",
    "            \"grant_type\":\"refresh_token\",\n",
    "            \"client_id\": C_KEY,\n",
    "            \"client_secret\": C_SECRET_KEY,\n",
    "            \"refresh_token\":C_REFRESH_TOKEN\n",
    "           }\n",
    " \n",
    "    response = requests.post(url = url, data = body)\n",
    "    return response.json()['access_token']\n",
    "\n",
    "C_ACCESS_TOKEN = get_access_token()"
   ]
  },
  {
   "cell_type": "code",
   "execution_count": 0,
   "metadata": {
    "application/vnd.databricks.v1+cell": {
     "inputWidgets": {},
     "nuid": "a1b3e3a9-7470-4a09-9e3e-0ad464f73327",
     "showTitle": false,
     "title": ""
    }
   },
   "outputs": [
    {
     "data": {
      "text/html": [
       "<style scoped>\n",
       "  .ansiout {\n",
       "    display: block;\n",
       "    unicode-bidi: embed;\n",
       "    white-space: pre-wrap;\n",
       "    word-wrap: break-word;\n",
       "    word-break: break-all;\n",
       "    font-family: \"Source Code Pro\", \"Menlo\", monospace;;\n",
       "    font-size: 13px;\n",
       "    color: #555;\n",
       "    margin-left: 4px;\n",
       "    line-height: 19px;\n",
       "  }\n",
       "</style>\n",
       "<div class=\"ansiout\"></div>"
      ]
     },
     "metadata": {
      "application/vnd.databricks.v1+output": {
       "addedWidgets": {},
       "arguments": {},
       "data": "<div class=\"ansiout\"></div>",
       "datasetInfos": [],
       "metadata": {},
       "removedWidgets": [],
       "type": "html"
      }
     },
     "output_type": "display_data"
    }
   ],
   "source": [
    "# Generate Report and Get ReportId. In metrics, sku is only for Seller Accounts. If it is Vendor Account delete sku. \n",
    "url = \"https://advertising-api-eu.amazon.com/v2/sp/productAds/report\"\n",
    "\n",
    "headers = {\n",
    "            'Authorization'                   : 'Bearer ' + C_ACCESS_TOKEN,\n",
    "            'Amazon-Advertising-API-ClientId' :  C_KEY,\n",
    "            'Amazon-Advertising-API-Scope'    :  ProfileId,\n",
    "            'Content-Type'                    : 'application/json'\n",
    "            }\n",
    "\n",
    "body = {\n",
    "            'reportDate'  : ReportDate,\n",
    "            'stateFilter' : 'enabled,paused,archived',\n",
    "            'metrics': 'adGroupId,adGroupName,asin,sku,campaignId,campaignName,campaignStatus,clicks,cost,currency,impressions,attributedConversions14d,attributedConversions14dSameSKU,attributedConversions1d,attributedConversions1dSameSKU,attributedConversions30d,attributedConversions30dSameSKU,attributedConversions7d,attributedConversions7dSameSKU,attributedSales14d,attributedSales14dSameSKU,attributedSales1d,attributedSales1dSameSKU,attributedSales30d,attributedSales30dSameSKU,attributedSales7d,attributedSales7dSameSKU,attributedUnitsOrdered14d,attributedUnitsOrdered14dSameSKU,attributedUnitsOrdered1d,attributedUnitsOrdered1dSameSKU,attributedUnitsOrdered30d,attributedUnitsOrdered30dSameSKU,attributedUnitsOrdered7d,attributedUnitsOrdered7dSameSKU,campaignBudget,campaignBudgetType'\n",
    "          }\n",
    "\n",
    "\n",
    "body = json.dumps(body)\n",
    "generate = requests.post(url = url, headers = headers, data = body)\n",
    "reportId = generate.json()['reportId']"
   ]
  },
  {
   "cell_type": "code",
   "execution_count": 0,
   "metadata": {
    "application/vnd.databricks.v1+cell": {
     "inputWidgets": {},
     "nuid": "e9d582ea-58ec-42d2-926a-1d9a6adf20b1",
     "showTitle": false,
     "title": ""
    }
   },
   "outputs": [
    {
     "data": {
      "text/html": [
       "<style scoped>\n",
       "  .ansiout {\n",
       "    display: block;\n",
       "    unicode-bidi: embed;\n",
       "    white-space: pre-wrap;\n",
       "    word-wrap: break-word;\n",
       "    word-break: break-all;\n",
       "    font-family: \"Source Code Pro\", \"Menlo\", monospace;;\n",
       "    font-size: 13px;\n",
       "    color: #555;\n",
       "    margin-left: 4px;\n",
       "    line-height: 19px;\n",
       "  }\n",
       "</style>\n",
       "<div class=\"ansiout\"></div>"
      ]
     },
     "metadata": {
      "application/vnd.databricks.v1+output": {
       "addedWidgets": {},
       "arguments": {},
       "data": "<div class=\"ansiout\"></div>",
       "datasetInfos": [],
       "metadata": {},
       "removedWidgets": [],
       "type": "html"
      }
     },
     "output_type": "display_data"
    }
   ],
   "source": [
    "# Download the Report - Report generation can take as long as 15 minutes\n",
    "sleep(900)\n",
    "url = f\"https://advertising-api-eu.amazon.com/v2/reports/{reportId}/download\"\n",
    "\n",
    "headers = {\n",
    "            'Authorization'                   : 'Bearer ' + C_ACCESS_TOKEN,\n",
    "            'Amazon-Advertising-API-ClientId' :  C_KEY,\n",
    "            'Amazon-Advertising-API-Scope'    :  ProfileId,\n",
    "            'Content-Type'                    : 'application/json'\n",
    "            }\n",
    "\n",
    "\n",
    "report = requests.get(url = url, headers = headers)\n",
    "zipfile = report.content\n",
    "file = (gzip.decompress(zipfile).decode('utf-8'))"
   ]
  },
  {
   "cell_type": "code",
   "execution_count": 0,
   "metadata": {
    "application/vnd.databricks.v1+cell": {
     "inputWidgets": {},
     "nuid": "7522e6dd-f0aa-4428-874e-c5b945d2d574",
     "showTitle": false,
     "title": ""
    }
   },
   "outputs": [
    {
     "data": {
      "text/html": [
       "<style scoped>\n",
       "  .ansiout {\n",
       "    display: block;\n",
       "    unicode-bidi: embed;\n",
       "    white-space: pre-wrap;\n",
       "    word-wrap: break-word;\n",
       "    word-break: break-all;\n",
       "    font-family: \"Source Code Pro\", \"Menlo\", monospace;;\n",
       "    font-size: 13px;\n",
       "    color: #555;\n",
       "    margin-left: 4px;\n",
       "    line-height: 19px;\n",
       "  }\n",
       "</style>\n",
       "<div class=\"ansiout\">/mnt/amzn-api-sp has been unmounted.\n",
       "</div>"
      ]
     },
     "metadata": {
      "application/vnd.databricks.v1+output": {
       "addedWidgets": {},
       "arguments": {},
       "data": "<div class=\"ansiout\">/mnt/amzn-api-sp has been unmounted.\n</div>",
       "datasetInfos": [],
       "metadata": {},
       "removedWidgets": [],
       "type": "html"
      }
     },
     "output_type": "display_data"
    }
   ],
   "source": [
    "# Connect to Blob Storage and Mounting. \n",
    "# sas token can be taken from the container settings > shared access tokens.\n",
    "# Permissions should be given Read, Write, Delete ..(sp=racwdli&st) while generating sas token. Give expire date range widely so that dont get auth error. \n",
    "containerName = \"amzn-api-sp\"\n",
    "storageAccountName = \"stgaadvertising\"\n",
    "sas = \"sp=racwdli&st=2022-08-01T14:42:20Z&se=2029-08-01.......hksYzi4vfbzD80K%2BAPjwtm0%3D\"\n",
    "config = \"fs.azure.sas.\" + containerName+ \".\" + storageAccountName + \".blob.core.windows.net\"\n",
    "\n",
    "try:\n",
    "    dbutils.fs.unmount(\"/mnt/amzn-api-sp\")\n",
    "except:\n",
    "    pass\n",
    "    \n",
    "try:\n",
    "    dbutils.fs.mount( source = \"wasbs://{}@{}.blob.core.windows.net\".format(containerName,storageAccountName),\n",
    "                      mount_point = \"/mnt/amzn-api-sp\",\n",
    "                      extra_configs = {config : sas}\n",
    "                    )\n",
    "except:\n",
    "    pass"
   ]
  },
  {
   "cell_type": "code",
   "execution_count": 0,
   "metadata": {
    "application/vnd.databricks.v1+cell": {
     "inputWidgets": {},
     "nuid": "a5516673-9079-4e23-aef3-aa87e649e5cd",
     "showTitle": false,
     "title": ""
    }
   },
   "outputs": [
    {
     "data": {
      "text/html": [
       "<style scoped>\n",
       "  .ansiout {\n",
       "    display: block;\n",
       "    unicode-bidi: embed;\n",
       "    white-space: pre-wrap;\n",
       "    word-wrap: break-word;\n",
       "    word-break: break-all;\n",
       "    font-family: \"Source Code Pro\", \"Menlo\", monospace;;\n",
       "    font-size: 13px;\n",
       "    color: #555;\n",
       "    margin-left: 4px;\n",
       "    line-height: 19px;\n",
       "  }\n",
       "</style>\n",
       "<div class=\"ansiout\">Wrote 13745376 bytes.\n",
       "Out[25]: True</div>"
      ]
     },
     "metadata": {
      "application/vnd.databricks.v1+output": {
       "addedWidgets": {},
       "arguments": {},
       "data": "<div class=\"ansiout\">Wrote 13745376 bytes.\nOut[25]: True</div>",
       "datasetInfos": [],
       "metadata": {},
       "removedWidgets": [],
       "type": "html"
      }
     },
     "output_type": "display_data"
    }
   ],
   "source": [
    "# Put file to the blob container\n",
    "dbutils.fs.put('dbfs:/mnt/amzn-api-sp/' + ReportDate + '__' + marketplace + '.json', file)"
   ]
  }
 ],
 "metadata": {
  "application/vnd.databricks.v1+notebook": {
   "dashboards": [],
   "language": "python",
   "notebookMetadata": {
    "pythonIndentUnit": 4,
    "widgetLayout": []
   },
   "notebookName": "amzn_ads_sp",
   "notebookOrigID": 2303853588777001,
   "widgets": {
    "marketplace": {
     "currentValue": "DE",
     "nuid": "b2f2e3e6-f944-4e89-b9cd-4968b2548efd",
     "widgetInfo": {
      "defaultValue": "",
      "label": null,
      "name": "marketplace",
      "options": {
       "validationRegex": null,
       "widgetType": "text"
      },
      "widgetType": "text"
     }
    },
    "reportdate": {
     "currentValue": "2022-07-01",
     "nuid": "b1b2852c-ab67-4981-811b-53213d72a579",
     "widgetInfo": {
      "defaultValue": "",
      "label": null,
      "name": "reportdate",
      "options": {
       "validationRegex": null,
       "widgetType": "text"
      },
      "widgetType": "text"
     }
    }
   }
  },
  "kernelspec": {
   "display_name": "Python 3",
   "language": "python",
   "name": "python3"
  },
  "language_info": {
   "codemirror_mode": {
    "name": "ipython",
    "version": 3
   },
   "file_extension": ".py",
   "mimetype": "text/x-python",
   "name": "python",
   "nbconvert_exporter": "python",
   "pygments_lexer": "ipython3",
   "version": "3.8.3"
  }
 },
 "nbformat": 4,
 "nbformat_minor": 1
}
