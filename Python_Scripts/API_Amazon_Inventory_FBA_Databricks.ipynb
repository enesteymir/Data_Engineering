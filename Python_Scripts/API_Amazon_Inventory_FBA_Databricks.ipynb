{
 "cells": [
  {
   "cell_type": "code",
   "execution_count": 0,
   "metadata": {
    "application/vnd.databricks.v1+cell": {
     "inputWidgets": {},
     "nuid": "7ebbbcef-7f14-45d4-bda0-ee4432106246",
     "showTitle": false,
     "title": ""
    }
   },
   "outputs": [
    {
     "data": {
      "text/html": [
       "<style scoped>\n",
       "  .ansiout {\n",
       "    display: block;\n",
       "    unicode-bidi: embed;\n",
       "    white-space: pre-wrap;\n",
       "    word-wrap: break-word;\n",
       "    word-break: break-all;\n",
       "    font-family: \"Source Code Pro\", \"Menlo\", monospace;;\n",
       "    font-size: 13px;\n",
       "    color: #555;\n",
       "    margin-left: 4px;\n",
       "    line-height: 19px;\n",
       "  }\n",
       "</style>\n",
       "<div class=\"ansiout\"></div>"
      ]
     },
     "metadata": {
      "application/vnd.databricks.v1+output": {
       "addedWidgets": {},
       "arguments": {},
       "data": "<div class=\"ansiout\"></div>",
       "datasetInfos": [],
       "metadata": {},
       "removedWidgets": [],
       "type": "html"
      }
     },
     "output_type": "display_data"
    }
   ],
   "source": [
    "dbutils.widgets.text('marketplace', '')\n",
    "marketplace = dbutils.widgets.get('marketplace')\n",
    "\n",
    "\n",
    "A_KEY = 'AKIAW.....GXH2GE'\n",
    "A_SECRET = 'Kz54x......zb20vBx'\n",
    "ARN = 'arn:aws:iam::466...117:role/e..ngapiRole'\n",
    "\n",
    "\n",
    "C_KEY = 'amzn1.application-oa2-client.c895cc.......31cee69f'\n",
    "C_SECRET_KEY = '712278808........8ed55a46827d1d09c76'\n",
    "C_REFRESH_TOKEN = 'Atzr|IwEBIDL............09E0nLwVypkXhs'\n",
    "\n",
    "\n",
    "if marketplace == 'DE':\n",
    "    MarketplaceID = 'A1PA6795UKMFR9'\n",
    "    \n",
    "elif  marketplace == 'IT':\n",
    "    MarketplaceID = 'APJ6JRA9NG5V4'\n",
    "    \n",
    "elif marketplace == 'FR':\n",
    "    MarketplaceID = 'A13V1IB3VIYZZH'\n",
    "    \n",
    "elif marketplace == 'NL':\n",
    "     MarketplaceID = 'A1805IZSGTT6HS'\n",
    "        \n",
    "elif marketplace == 'ES':\n",
    "     MarketplaceID = 'A1RKKUPIHCS9HS'\n",
    "        \n",
    "elif marketplace == 'UK':\n",
    "     MarketplaceID = 'A1F83G8C2ARO7P'   \n",
    "        \n",
    "elif marketplace == 'SE':\n",
    "     MarketplaceID = 'A2NODRKZP88ZB9'   \n",
    "\n",
    "elif marketplace == 'PL':\n",
    "     MarketplaceID = 'A1C3SOZRARQ6R3'   "
   ]
  },
  {
   "cell_type": "code",
   "execution_count": 0,
   "metadata": {
    "application/vnd.databricks.v1+cell": {
     "inputWidgets": {},
     "nuid": "47074208-15e3-4c70-aeca-fa61b146369d",
     "showTitle": false,
     "title": ""
    }
   },
   "outputs": [
    {
     "data": {
      "text/html": [
       "<style scoped>\n",
       "  .ansiout {\n",
       "    display: block;\n",
       "    unicode-bidi: embed;\n",
       "    white-space: pre-wrap;\n",
       "    word-wrap: break-word;\n",
       "    word-break: break-all;\n",
       "    font-family: \"Source Code Pro\", \"Menlo\", monospace;;\n",
       "    font-size: 13px;\n",
       "    color: #555;\n",
       "    margin-left: 4px;\n",
       "    line-height: 19px;\n",
       "  }\n",
       "</style>\n",
       "<div class=\"ansiout\"></div>"
      ]
     },
     "metadata": {
      "application/vnd.databricks.v1+output": {
       "addedWidgets": {},
       "arguments": {},
       "data": "<div class=\"ansiout\"></div>",
       "datasetInfos": [],
       "metadata": {},
       "removedWidgets": [],
       "type": "html"
      }
     },
     "output_type": "display_data"
    }
   ],
   "source": [
    "from time import sleep\n",
    "import requests\n",
    "import re\n",
    "import json\n",
    "import datetime\n",
    "import gzip\n",
    "from requests_aws4auth import AWS4Auth\n",
    "\n",
    "\n",
    "\n",
    "def get_date():\n",
    "    return datetime.datetime.utcnow().strftime(\"%Y%m%d\")\n",
    "\n",
    "\n",
    "\n",
    "def get_access_token():\n",
    "    global C_KEY, C_SECRET_KEY, C_REFRESH_TOKEN\n",
    "    r = requests.post(\"https://api.amazon.com/auth/o2/token\",\n",
    "                      data={\n",
    "                            \"grant_type\":\"refresh_token\",\n",
    "                            \"refresh_token\":C_REFRESH_TOKEN,\n",
    "                            \"client_id\": C_KEY,\n",
    "                            \"client_secret\": C_SECRET_KEY\n",
    "                            })\n",
    "\n",
    "    return r.json()['access_token']\n",
    "\n",
    "\n",
    "\n",
    "\n",
    "def assume_role():\n",
    "    r = requests.get( f\"https://sts.amazonaws.com?Version=2011-06-15&Action=AssumeRole&RoleSessionName=Test&RoleArn={ARN}&DurationSeconds=3600\", \n",
    "                      auth = AWS4Auth(A_KEY, A_SECRET, 'us-east-1', 'sts') )\n",
    "    \n",
    "    return (re.findall('<AccessKeyId>(.+)</AccessKeyId>', r.text)[0], re.findall('<SecretAccessKey>(.+)</SecretAccessKey>', r.text)[0], re.findall('<SessionToken>(.+)</SessionToken>', r.text)[0])\n",
    "\n",
    "\n",
    "\n",
    "# Get the Access Keys\n",
    "access_token = get_access_token()\n",
    "access_key, secret_key, session_token = assume_role()\n",
    "\n",
    "\n",
    "# Europe endpoint : https://sellingpartnerapi-eu.amazon.com\n",
    "# Europe AWS region : eu-west-1\n",
    "\n",
    "# This request needs parameters. Use the 'params' in the request.\n",
    "# For requests that needs body information, use 'data' in the request.\n",
    " \n",
    "\n",
    "\n",
    "def get_data(related_url, parameters):\n",
    "    global access_token, access_key, secret_key, session_token\n",
    "\n",
    "    req = requests.get(\n",
    "                       f\"https://sellingpartnerapi-eu.amazon.com{related_url}\",\n",
    "                       params = parameters,\n",
    "                       headers = {'x-amz-access-token': access_token, 'Content-Type': 'application/x-www-form-urlencoded'},\n",
    "                       auth = AWS4Auth(access_key,\n",
    "                                       secret_key,\n",
    "                                       'eu-west-1',\n",
    "                                       'execute-api',\n",
    "                                       session_token = session_token)  )\n",
    "    return(req.json())\n",
    "\n",
    "\n",
    "\n",
    "\n",
    "# Define related url and parameters, put the each responses to mounted container, get nextToken from previous result\n",
    "# When a response exceeds the pageSize, pagination occurs. This means the response is divided into individual pages.\n",
    "# To retrieve the next page or the previous page, you must pass the nextToken value or the previousToken value as the \"nextToken\" parameter in the next request.\n",
    "def get_data_all(nextToken, id,  fileName):\n",
    "    global MarketplaceID\n",
    "\n",
    "    if nextToken is None:\n",
    "        req = get_data('/fba/inventory/v1/summaries', { 'details'          : 'true',\n",
    "                                                        'granularityType'  : 'Marketplace',\n",
    "                                                        'granularityId'    :  MarketplaceID,\n",
    "                                                        'marketplaceIds'   :  MarketplaceID } )\n",
    "    else:\n",
    "        req = get_data('/fba/inventory/v1/summaries', { 'nextToken'        :  nextToken,\n",
    "                                                        'details'          : 'true',\n",
    "                                                        'granularityType'  : 'Marketplace',\n",
    "                                                        'granularityId'    :  MarketplaceID,\n",
    "                                                        'marketplaceIds'   :  MarketplaceID } )\n",
    "        \n",
    "    print('dbfs:/mnt/' + containerName + '/' + f'{fileName}_{id}.json')\n",
    "    dbutils.fs.put('dbfs:/mnt/' + containerName + '/' + f'{fileName}_{id}.json', json.dumps(req, indent=4), overwrite = True)\n",
    "    print('Done: ', id)\n",
    "    try:\n",
    "        return (req[\"pagination\"][\"nextToken\"])\n",
    "    except:\n",
    "        return None\n",
    "    \n",
    "    \n",
    "    \n",
    "    \n",
    "# Retrieve all data recursively until there is no pagination nextToken. \n",
    "def download_data_all(fileName):\n",
    "    global access_token, access_key, secret_key, session_token\n",
    "    i = 1\n",
    "    nexttoken = get_data_all(None, 1, fileName)\n",
    "    \n",
    "    while nexttoken is not None:\n",
    "        i+=1\n",
    "        nexttoken = get_data_all(nexttoken, i, fileName=fileName)\n",
    "        if i % 30 == 0:\n",
    "            print('sleeping')\n",
    "            sleep(20)\n",
    "        if i % 500 == 0:\n",
    "            print('Refreshing Keys...')\n",
    "            access_token = get_access_token()\n",
    "            access_key, secret_key, session_token = assume_role()\n",
    "            print('Keys Refreshed!')\n"
   ]
  },
  {
   "cell_type": "code",
   "execution_count": null,
   "metadata": {},
   "outputs": [],
   "source": [
    "# Mounting to the blob container\n",
    "containerName = \"amazon-inventory\"\n",
    "storageAccountName = \"blobinventory\"\n",
    "sas = \"sp=racwdli&st=2022-08-1Hx9.............R5JY%3D\"\n",
    "config = \"fs.azure.sas.\" + containerName+ \".\" + storageAccountName + \".blob.core.windows.net\"\n",
    "\n",
    "try:\n",
    "    dbutils.fs.unmount(\"/mnt/amazon-inventory\")\n",
    "except:\n",
    "    pass\n",
    "    \n",
    "try:\n",
    "    dbutils.fs.mount(\n",
    "      source = f\"wasbs://{containerName}@{storageAccountName}.blob.core.windows.net\",\n",
    "      mount_point = \"/mnt/amazon-inventory\",\n",
    "      extra_configs = {config : sas})\n",
    "except:\n",
    "    pass"
   ]
  },
  {
   "cell_type": "code",
   "execution_count": null,
   "metadata": {},
   "outputs": [],
   "source": [
    "# Download Inventory data into blob\n",
    "current_day = get_date()\n",
    "download_data_all(f\"{current_day}_DE\")"
   ]
  }
 ],
 "metadata": {
  "application/vnd.databricks.v1+notebook": {
   "dashboards": [],
   "language": "python",
   "notebookMetadata": {
    "pythonIndentUnit": 4
   },
   "notebookName": "amazon_inventory_fba_sira",
   "notebookOrigID": 1488918928185715,
   "widgets": {
    "marketplace": {
     "currentValue": "DE",
     "nuid": "4294b3f2-ead6-4350-8127-0fb46e011b08",
     "widgetInfo": {
      "defaultValue": "",
      "label": null,
      "name": "marketplace",
      "options": {
       "validationRegex": null,
       "widgetType": "text"
      },
      "widgetType": "text"
     }
    }
   }
  },
  "kernelspec": {
   "display_name": "Python 3",
   "language": "python",
   "name": "python3"
  },
  "language_info": {
   "codemirror_mode": {
    "name": "ipython",
    "version": 3
   },
   "file_extension": ".py",
   "mimetype": "text/x-python",
   "name": "python",
   "nbconvert_exporter": "python",
   "pygments_lexer": "ipython3",
   "version": "3.8.3"
  }
 },
 "nbformat": 4,
 "nbformat_minor": 1
}
