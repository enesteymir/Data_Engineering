{
 "cells": [
  {
   "cell_type": "code",
   "execution_count": 0,
   "metadata": {
    "application/vnd.databricks.v1+cell": {
     "inputWidgets": {},
     "nuid": "7ebbbcef-7f14-45d4-bda0-ee4432106246",
     "showTitle": false,
     "title": ""
    }
   },
   "outputs": [
    {
     "data": {
      "text/html": [
       "<style scoped>\n",
       "  .ansiout {\n",
       "    display: block;\n",
       "    unicode-bidi: embed;\n",
       "    white-space: pre-wrap;\n",
       "    word-wrap: break-word;\n",
       "    word-break: break-all;\n",
       "    font-family: \"Source Code Pro\", \"Menlo\", monospace;;\n",
       "    font-size: 13px;\n",
       "    color: #555;\n",
       "    margin-left: 4px;\n",
       "    line-height: 19px;\n",
       "  }\n",
       "</style>\n",
       "<div class=\"ansiout\"></div>"
      ]
     },
     "metadata": {
      "application/vnd.databricks.v1+output": {
       "addedWidgets": {},
       "arguments": {},
       "data": "<div class=\"ansiout\"></div>",
       "datasetInfos": [],
       "metadata": {},
       "removedWidgets": [],
       "type": "html"
      }
     },
     "output_type": "display_data"
    }
   ],
   "source": [
    "dbutils.widgets.text('marketplace', '')\n",
    "marketplace = dbutils.widgets.get('marketplace')\n",
    "\n",
    "# IAM User : ebzspapi_new\n",
    "# IAM Role : ebzsellingapiRole\n",
    "# AVC App Client : ebzspapiApp_new\n",
    "A_KEY = 'AKIA........2GE'\n",
    "A_SECRET = 'Kz54x6P............zb20vBx'\n",
    "ARN = 'arn:aws:iam::4668...4117:role/ebzsellingapiRole'\n",
    "\n",
    "\n",
    "C_KEY = 'amzn1.application-oa2-client.c895.........1cee69f'\n",
    "C_SECRET_KEY = '7122788088f86.............ed55a46827d1d09c76'\n",
    "C_REFRESH_TOKEN = 'Atzr|IwEBIDL5-mE5P_.......ypkXhs'\n",
    "\n",
    "\n",
    "if marketplace == 'DE':\n",
    "    MarketplaceID = 'A1PA6795UKMFR9'\n",
    "    \n",
    "elif  marketplace == 'IT':\n",
    "    MarketplaceID = 'APJ6JRA9NG5V4'\n",
    "    \n",
    "elif marketplace == 'FR':\n",
    "    MarketplaceID = 'A13V1IB3VIYZZH'\n",
    "    \n",
    "elif marketplace == 'NL':\n",
    "     MarketplaceID = 'A1805IZSGTT6HS'\n",
    "        \n",
    "elif marketplace == 'ES':\n",
    "     MarketplaceID = 'A1RKKUPIHCS9HS'\n",
    "        \n",
    "elif marketplace == 'UK':\n",
    "     MarketplaceID = 'A1F83G8C2ARO7P'   \n",
    "        \n",
    "elif marketplace == 'SE':\n",
    "     MarketplaceID = 'A2NODRKZP88ZB9'   \n",
    "\n",
    "elif marketplace == 'PL':\n",
    "     MarketplaceID = 'A1C3SOZRARQ6R3'   "
   ]
  },
  {
   "cell_type": "code",
   "execution_count": 0,
   "metadata": {
    "application/vnd.databricks.v1+cell": {
     "inputWidgets": {},
     "nuid": "47074208-15e3-4c70-aeca-fa61b146369d",
     "showTitle": false,
     "title": ""
    }
   },
   "outputs": [
    {
     "data": {
      "text/html": [
       "<style scoped>\n",
       "  .ansiout {\n",
       "    display: block;\n",
       "    unicode-bidi: embed;\n",
       "    white-space: pre-wrap;\n",
       "    word-wrap: break-word;\n",
       "    word-break: break-all;\n",
       "    font-family: \"Source Code Pro\", \"Menlo\", monospace;;\n",
       "    font-size: 13px;\n",
       "    color: #555;\n",
       "    margin-left: 4px;\n",
       "    line-height: 19px;\n",
       "  }\n",
       "</style>\n",
       "<div class=\"ansiout\"></div>"
      ]
     },
     "metadata": {
      "application/vnd.databricks.v1+output": {
       "addedWidgets": {},
       "arguments": {},
       "data": "<div class=\"ansiout\"></div>",
       "datasetInfos": [],
       "metadata": {},
       "removedWidgets": [],
       "type": "html"
      }
     },
     "output_type": "display_data"
    }
   ],
   "source": [
    "from time import sleep\n",
    "import requests\n",
    "import re\n",
    "import json\n",
    "import datetime\n",
    "import gzip\n",
    "from requests_aws4auth import AWS4Auth\n",
    "\n",
    "\n",
    "def get_datetime():\n",
    "    return datetime.datetime.utcnow().strftime(\"%Y%m%dT%H%M%SZ\")\n",
    "\n",
    "\n",
    "def get_access_token():\n",
    "    global C_KEY, C_SECRET_KEY, C_REFRESH_TOKEN\n",
    "    r = requests.post(\"https://api.amazon.com/auth/o2/token\",\n",
    "                      data={\n",
    "                            \"grant_type\":\"refresh_token\",\n",
    "                            \"refresh_token\":C_REFRESH_TOKEN,\n",
    "                            \"client_id\": C_KEY,\n",
    "                            \"client_secret\": C_SECRET_KEY\n",
    "                            })\n",
    "\n",
    "    return r.json()['access_token']\n",
    "\n",
    "\n",
    "\n",
    "def assume_role():\n",
    "    r = requests.get(f\"https://sts.amazonaws.com?Version=2011-06-15&Action=AssumeRole&RoleSessionName=Test&RoleArn={ARN}&DurationSeconds=3600\", \n",
    "                      auth = AWS4Auth(A_KEY, A_SECRET, 'us-east-1', 'sts')\n",
    "                    )\n",
    "\n",
    "    return (re.findall('<AccessKeyId>(.+)</AccessKeyId>', r.text)[0], re.findall('<SecretAccessKey>(.+)</SecretAccessKey>', r.text)[0], re.findall('<SessionToken>(.+)</SessionToken>', r.text)[0])\n",
    "\n",
    "\n",
    "access_token = get_access_token()\n",
    "access_key, secret_key, session_token = assume_role()\n"
   ]
  },
  {
   "cell_type": "code",
   "execution_count": 0,
   "metadata": {
    "application/vnd.databricks.v1+cell": {
     "inputWidgets": {},
     "nuid": "2e53a267-68a3-4332-abcb-fbb917ae152a",
     "showTitle": false,
     "title": ""
    }
   },
   "outputs": [
    {
     "data": {
      "text/html": [
       "<style scoped>\n",
       "  .ansiout {\n",
       "    display: block;\n",
       "    unicode-bidi: embed;\n",
       "    white-space: pre-wrap;\n",
       "    word-wrap: break-word;\n",
       "    word-break: break-all;\n",
       "    font-family: \"Source Code Pro\", \"Menlo\", monospace;;\n",
       "    font-size: 13px;\n",
       "    color: #555;\n",
       "    margin-left: 4px;\n",
       "    line-height: 19px;\n",
       "  }\n",
       "</style>\n",
       "<div class=\"ansiout\"></div>"
      ]
     },
     "metadata": {
      "application/vnd.databricks.v1+output": {
       "addedWidgets": {},
       "arguments": {},
       "data": "<div class=\"ansiout\"></div>",
       "datasetInfos": [],
       "metadata": {},
       "removedWidgets": [],
       "type": "html"
      }
     },
     "output_type": "display_data"
    }
   ],
   "source": [
    "# Europe endpoint : https://sellingpartnerapi-eu.amazon.com\n",
    "# Europe AWS region : eu-west-1\n",
    "\n",
    "# This request needs parameters. Use the 'params' in the request.\n",
    "# For requests that needs body information, use 'data' in the request.\n",
    "\n",
    "\n",
    "url = \"https://sellingpartnerapi-eu.amazon.com/fba/inventory/v1/summaries\"\n",
    "\n",
    "headers= {\n",
    "            'x-amz-access-token': access_token,\n",
    "            'Content-Type': 'application/json'\n",
    "         }\n",
    "\n",
    "params = {\n",
    "            'details'          : 'true',\n",
    "            'granularityType'  : 'Marketplace',\n",
    "            'granularityId'    :  MarketplaceID,\n",
    "            'marketplaceIds'   :  MarketplaceID\n",
    "    \n",
    "          }\n",
    "\n",
    "auth = AWS4Auth(access_key, secret_key, 'eu-west-1', 'execute-api', session_token=session_token)\n",
    "\n",
    "response = requests.get(url = url, headers = headers, params = params, auth = auth)\n",
    "jsonfile = response.json()\n",
    "file = json.dumps(jsonfile)"
   ]
  },
  {
   "cell_type": "code",
   "execution_count": 0,
   "metadata": {
    "application/vnd.databricks.v1+cell": {
     "inputWidgets": {},
     "nuid": "d411a629-009a-456e-bdca-4c3a51f28476",
     "showTitle": false,
     "title": ""
    }
   },
   "outputs": [
    {
     "data": {
      "text/html": [
       "<style scoped>\n",
       "  .ansiout {\n",
       "    display: block;\n",
       "    unicode-bidi: embed;\n",
       "    white-space: pre-wrap;\n",
       "    word-wrap: break-word;\n",
       "    word-break: break-all;\n",
       "    font-family: \"Source Code Pro\", \"Menlo\", monospace;;\n",
       "    font-size: 13px;\n",
       "    color: #555;\n",
       "    margin-left: 4px;\n",
       "    line-height: 19px;\n",
       "  }\n",
       "</style>\n",
       "<div class=\"ansiout\">/mnt/amazon-inventory-sira has been unmounted.\n",
       "</div>"
      ]
     },
     "metadata": {
      "application/vnd.databricks.v1+output": {
       "addedWidgets": {},
       "arguments": {},
       "data": "<div class=\"ansiout\">/mnt/amazon-inventory-sira has been unmounted.\n</div>",
       "datasetInfos": [],
       "metadata": {},
       "removedWidgets": [],
       "type": "html"
      }
     },
     "output_type": "display_data"
    }
   ],
   "source": [
    "containerName = \"amazon-inventory-sira\"\n",
    "storageAccountName = \"blobinventory\"\n",
    "sas = \"sp=racwdli&st=2022-08-10T2.................5JY%3D\"\n",
    "config = \"fs.azure.sas.\" + containerName+ \".\" + storageAccountName + \".blob.core.windows.net\"\n",
    "\n",
    "try:\n",
    "    dbutils.fs.unmount(\"/mnt/amazon-inventory-sira\")\n",
    "except:\n",
    "    pass\n",
    "    \n",
    "try:\n",
    "    dbutils.fs.mount(\n",
    "      source = f\"wasbs://{containerName}@{storageAccountName}.blob.core.windows.net\",\n",
    "      mount_point = \"/mnt/amazon-inventory-sira\",\n",
    "      extra_configs = {config : sas})\n",
    "except:\n",
    "    pass"
   ]
  },
  {
   "cell_type": "code",
   "execution_count": 0,
   "metadata": {
    "application/vnd.databricks.v1+cell": {
     "inputWidgets": {},
     "nuid": "22f635c3-0093-4d73-bb71-a45e0e979252",
     "showTitle": false,
     "title": ""
    }
   },
   "outputs": [
    {
     "data": {
      "text/html": [
       "<style scoped>\n",
       "  .ansiout {\n",
       "    display: block;\n",
       "    unicode-bidi: embed;\n",
       "    white-space: pre-wrap;\n",
       "    word-wrap: break-word;\n",
       "    word-break: break-all;\n",
       "    font-family: \"Source Code Pro\", \"Menlo\", monospace;;\n",
       "    font-size: 13px;\n",
       "    color: #555;\n",
       "    margin-left: 4px;\n",
       "    line-height: 19px;\n",
       "  }\n",
       "</style>\n",
       "<div class=\"ansiout\">Wrote 58871 bytes.\n",
       "Out[33]: True</div>"
      ]
     },
     "metadata": {
      "application/vnd.databricks.v1+output": {
       "addedWidgets": {},
       "arguments": {},
       "data": "<div class=\"ansiout\">Wrote 58871 bytes.\nOut[33]: True</div>",
       "datasetInfos": [],
       "metadata": {},
       "removedWidgets": [],
       "type": "html"
      }
     },
     "output_type": "display_data"
    }
   ],
   "source": [
    "dbutils.fs.put('dbfs:/mnt/amazon-inventory-sira/' + marketplace + '.json' , file)"
   ]
  }
 ],
 "metadata": {
  "application/vnd.databricks.v1+notebook": {
   "dashboards": [],
   "language": "python",
   "notebookMetadata": {
    "pythonIndentUnit": 4
   },
   "notebookName": "amazon_inventory_fba_sira",
   "notebookOrigID": 1488918928185715,
   "widgets": {
    "marketplace": {
     "currentValue": "DE",
     "nuid": "4294b3f2-ead6-4350-8127-0fb46e011b08",
     "widgetInfo": {
      "defaultValue": "",
      "label": null,
      "name": "marketplace",
      "options": {
       "validationRegex": null,
       "widgetType": "text"
      },
      "widgetType": "text"
     }
    }
   }
  },
  "kernelspec": {
   "display_name": "Python 3",
   "language": "python",
   "name": "python3"
  },
  "language_info": {
   "codemirror_mode": {
    "name": "ipython",
    "version": 3
   },
   "file_extension": ".py",
   "mimetype": "text/x-python",
   "name": "python",
   "nbconvert_exporter": "python",
   "pygments_lexer": "ipython3",
   "version": "3.8.3"
  }
 },
 "nbformat": 4,
 "nbformat_minor": 1
}
