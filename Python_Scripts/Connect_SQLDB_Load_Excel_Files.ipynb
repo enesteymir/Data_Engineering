{
 "cells": [
  {
   "cell_type": "code",
   "execution_count": 185,
   "metadata": {},
   "outputs": [],
   "source": [
    "import pypyodbc as odbc  ## to connect sql server\n",
    "import pandas as pd\n",
    "import os                ## to indicate the csv files folder"
   ]
  },
  {
   "cell_type": "code",
   "execution_count": 186,
   "metadata": {},
   "outputs": [],
   "source": [
    "# setting the working directory\n",
    "os.chdir(\"C:\\\\Users\\\\Enes Teymir\\\\Desktop\\\\Assignment Answers\\\\etl_files\")"
   ]
  },
  {
   "cell_type": "code",
   "execution_count": 187,
   "metadata": {},
   "outputs": [
    {
     "name": "stdout",
     "output_type": "stream",
     "text": [
      "seller01_products_08082021.xlsx\n",
      "seller01_products_09082021.xlsx\n",
      "seller01_sales_08082021.xlsx\n",
      "seller01_sales_09082021.xlsx\n",
      "seller07_products_08082021.xlsx\n",
      "seller07_products_09082021.xlsx\n"
     ]
    }
   ],
   "source": [
    "import glob\n",
    "path = \"*.xlsx\"\n",
    "for fname in glob.glob(path):\n",
    "    print(fname)"
   ]
  },
  {
   "cell_type": "code",
   "execution_count": 188,
   "metadata": {},
   "outputs": [],
   "source": [
    "# Concat data rows as one df for product and sales\n",
    "\n",
    "main_sales_df = pd.DataFrame()\n",
    "main_product_df = pd.DataFrame()\n",
    "\n",
    "import pandas as pd\n",
    "import glob\n",
    "path = \"*.xlsx\"\n",
    "\n",
    "for i in glob.glob(path):\n",
    "    if i.startswith(\"seller\"):\n",
    "        if \"sales\" in i:\n",
    "            df=pd.read_excel(i)\n",
    "            main_sales_df = pd.concat([df, main_sales_df])\n",
    "        elif \"product\" in i:\n",
    "            df=pd.read_excel(i)\n",
    "            main_product_df = pd.concat([df, main_product_df])"
   ]
  },
  {
   "cell_type": "code",
   "execution_count": 189,
   "metadata": {},
   "outputs": [],
   "source": [
    "# Take records to list\n",
    "sales = main_sales_df.values.tolist()\n",
    "product = main_product_df.values.tolist()"
   ]
  },
  {
   "cell_type": "code",
   "execution_count": 190,
   "metadata": {},
   "outputs": [],
   "source": [
    "# Create a SQL Server Connection\n",
    "\n",
    "DRIVER = 'SQL Server'\n",
    "SERVER_NAME = 'DESKTOP-36NO1H6\\ENSDB'\n",
    "DATABASE_NAME = 'DWHAdventureWorks'"
   ]
  },
  {
   "cell_type": "code",
   "execution_count": 191,
   "metadata": {},
   "outputs": [],
   "source": [
    "conn =  odbc.connect( 'Driver={SQL Server};'\n",
    "                      'Server=DESKTOP-36NO1H6\\ENSDB;'\n",
    "                      'Database=DWHAdventureWorks;'\n",
    "                      'Trusted_Connection=yes;')"
   ]
  },
  {
   "cell_type": "code",
   "execution_count": 192,
   "metadata": {},
   "outputs": [],
   "source": [
    "# Create a Cursor\n",
    "cursor = conn.cursor()"
   ]
  },
  {
   "cell_type": "code",
   "execution_count": 193,
   "metadata": {},
   "outputs": [],
   "source": [
    "# SQL Script to insert Values to SellerProducts Table\n",
    "sql_insert_p = '''\n",
    "                INSERT INTO dbo.SellerProducts\n",
    "                VALUES (?,?,?)\n",
    "'''"
   ]
  },
  {
   "cell_type": "code",
   "execution_count": 196,
   "metadata": {},
   "outputs": [],
   "source": [
    "# SQL Script to insert Values to SellerSales Table\n",
    "sql_insert_s = '''\n",
    "                INSERT INTO dbo.SellerSales\n",
    "                VALUES (?,?,?,?)\n",
    "'''"
   ]
  },
  {
   "cell_type": "code",
   "execution_count": 197,
   "metadata": {},
   "outputs": [],
   "source": [
    "cursor = conn.cursor()\n",
    "cursor.executemany(sql_insert_p, product)\n",
    "cursor.executemany(sql_insert_s, sales)\n",
    "cursor.commit()"
   ]
  },
  {
   "cell_type": "code",
   "execution_count": 198,
   "metadata": {},
   "outputs": [],
   "source": [
    "# close the connection\n",
    "conn.close()"
   ]
  }
 ],
 "metadata": {
  "kernelspec": {
   "display_name": "Python 3",
   "language": "python",
   "name": "python3"
  },
  "language_info": {
   "codemirror_mode": {
    "name": "ipython",
    "version": 3
   },
   "file_extension": ".py",
   "mimetype": "text/x-python",
   "name": "python",
   "nbconvert_exporter": "python",
   "pygments_lexer": "ipython3",
   "version": "3.8.3"
  }
 },
 "nbformat": 4,
 "nbformat_minor": 4
}
