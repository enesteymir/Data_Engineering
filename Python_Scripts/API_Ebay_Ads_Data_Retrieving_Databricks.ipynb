{
 "cells": [
  {
   "cell_type": "code",
   "execution_count": 0,
   "metadata": {
    "application/vnd.databricks.v1+cell": {
     "inputWidgets": {},
     "nuid": "8604b29b-8c4b-4027-b121-2de3336c01ea",
     "showTitle": false,
     "title": ""
    }
   },
   "outputs": [
    {
     "data": {
      "text/html": [
       "<style scoped>\n",
       "  .ansiout {\n",
       "    display: block;\n",
       "    unicode-bidi: embed;\n",
       "    white-space: pre-wrap;\n",
       "    word-wrap: break-word;\n",
       "    word-break: break-all;\n",
       "    font-family: \"Source Code Pro\", \"Menlo\", monospace;;\n",
       "    font-size: 13px;\n",
       "    color: #555;\n",
       "    margin-left: 4px;\n",
       "    line-height: 19px;\n",
       "  }\n",
       "</style>\n",
       "<div class=\"ansiout\"></div>"
      ]
     },
     "metadata": {
      "application/vnd.databricks.v1+output": {
       "addedWidgets": {},
       "arguments": {},
       "data": "<div class=\"ansiout\"></div>",
       "datasetInfos": [],
       "metadata": {},
       "removedWidgets": [],
       "type": "html"
      }
     },
     "output_type": "display_data"
    }
   ],
   "source": [
    "# Create widgets for parameters\n",
    "dbutils.widgets.text('datefrom', '')\n",
    "dbutils.widgets.text('dateto', '')\n",
    "\n",
    "datefrom_p = dbutils.widgets.get('datefrom')\n",
    "dateto_p = dbutils.widgets.get('dateto')\n",
    "\n",
    "# make them fit to eBay standards\n",
    "datefrom = datefrom_p + '.000Z'\n",
    "dateto = dateto_p + '.000Z'"
   ]
  },
  {
   "cell_type": "code",
   "execution_count": 0,
   "metadata": {
    "application/vnd.databricks.v1+cell": {
     "inputWidgets": {},
     "nuid": "5fb5ee7a-d917-4d5d-9361-ddca5ee69a66",
     "showTitle": false,
     "title": ""
    }
   },
   "outputs": [
    {
     "data": {
      "text/html": [
       "<style scoped>\n",
       "  .ansiout {\n",
       "    display: block;\n",
       "    unicode-bidi: embed;\n",
       "    white-space: pre-wrap;\n",
       "    word-wrap: break-word;\n",
       "    word-break: break-all;\n",
       "    font-family: \"Source Code Pro\", \"Menlo\", monospace;;\n",
       "    font-size: 13px;\n",
       "    color: #555;\n",
       "    margin-left: 4px;\n",
       "    line-height: 19px;\n",
       "  }\n",
       "</style>\n",
       "<div class=\"ansiout\"></div>"
      ]
     },
     "metadata": {
      "application/vnd.databricks.v1+output": {
       "addedWidgets": {},
       "arguments": {},
       "data": "<div class=\"ansiout\"></div>",
       "datasetInfos": [],
       "metadata": {},
       "removedWidgets": [],
       "type": "html"
      }
     },
     "output_type": "display_data"
    }
   ],
   "source": [
    "# Get the Access Token by using Refresh Token\n",
    "import pandas as pd\n",
    "import requests\n",
    "import json\n",
    "from time import sleep\n",
    "import gzip\n",
    "\n",
    "\n",
    "refresh_token  = 'put_refresh_token_here'\n",
    "\n",
    "def get_access_token():\n",
    "    global refresh_token\n",
    "    url = \"https://api.ebay.com/identity/v1/oauth2/token\"\n",
    "    headers = {\n",
    "               \"Content-Type\": \"application/x-www-form-urlencoded ; charset=utf-8\",\n",
    "               \"Authorization\": \"Basic  base64coded(Client ID:Client Secret)\"\n",
    "              }\n",
    "    data = {\n",
    "            \"grant_type\":\"refresh_token\",\n",
    "            \"refresh_token\" :refresh_token\n",
    "           }\n",
    " \n",
    "    response = requests.post(url = url, headers = headers, data = data)\n",
    "    return response.json()['access_token']\n",
    "\n",
    "access_token = get_access_token()"
   ]
  },
  {
   "cell_type": "code",
   "execution_count": 0,
   "metadata": {
    "application/vnd.databricks.v1+cell": {
     "inputWidgets": {},
     "nuid": "cebb064a-3cac-4c8b-8cda-96edbb0baee0",
     "showTitle": false,
     "title": ""
    }
   },
   "outputs": [
    {
     "data": {
      "text/html": [
       "<style scoped>\n",
       "  .ansiout {\n",
       "    display: block;\n",
       "    unicode-bidi: embed;\n",
       "    white-space: pre-wrap;\n",
       "    word-wrap: break-word;\n",
       "    word-break: break-all;\n",
       "    font-family: \"Source Code Pro\", \"Menlo\", monospace;;\n",
       "    font-size: 13px;\n",
       "    color: #555;\n",
       "    margin-left: 4px;\n",
       "    line-height: 19px;\n",
       "  }\n",
       "</style>\n",
       "<div class=\"ansiout\">&lt;Response [202]&gt;\n",
       "</div>"
      ]
     },
     "metadata": {
      "application/vnd.databricks.v1+output": {
       "addedWidgets": {},
       "arguments": {},
       "data": "<div class=\"ansiout\">&lt;Response [202]&gt;\n</div>",
       "datasetInfos": [],
       "metadata": {},
       "removedWidgets": [],
       "type": "html"
      }
     },
     "output_type": "display_data"
    }
   ],
   "source": [
    "# Post request to generate report\n",
    "g_url = \"https://api.ebay.com/sell/marketing/v1/ad_report_task\"\n",
    "\n",
    "g_headers= {\n",
    "           'Authorization': \"Bearer \" + access_token,\n",
    "           'Content-Type': 'application/json'\n",
    "           }\n",
    "\n",
    "g_data = {\n",
    "        \"reportType\": \"CAMPAIGN_PERFORMANCE_REPORT\",\n",
    "        \"marketplaceId\": \"EBAY_DE\",\n",
    "        \"dateFrom\": datefrom,\n",
    "        \"dateTo\": dateto,\n",
    "        \"fundingModels\": [\"COST_PER_CLICK\"],\n",
    "        \"campaignIds\": [],                          \n",
    "        \"reportFormat\": \"TSV_GZIP\",\n",
    "        \"metricKeys\": [\n",
    "                    \"cpc_impressions\",\n",
    "                    \"cpc_clicks\",\n",
    "                    \"cpc_ctr\",\n",
    "                    \"cpc_attributed_sales\",\n",
    "                    \"cpc_conversion_rate\",\n",
    "                    \"cpc_sale_amount_listingsite_currency\",\n",
    "                    \"cost_per_click\",\n",
    "                    \"cpc_avg_cost_per_sale\",\n",
    "                    \"cpc_ad_fees_listingsite_currency\",\n",
    "                    \"cpc_return_on_ad_spend\",\n",
    "                    \"cpc_ad_fees_payout_currency\",\n",
    "                    \"cpc_sale_amount_payout_currency\"\n",
    "                     ],\n",
    "        \"dimensions\": [\n",
    "                            {\n",
    "                                \"annotationKeys\": [ \"campaign_name\",\"campaign_start_date\", \"campaign_end_date\" ],\n",
    "                                \"dimensionKey\": \"campaign_id\"\n",
    "                            },\n",
    "                            {\n",
    "                                \"annotationKeys\": [ \"ad_group_name\" ],\n",
    "                                \"dimensionKey\": \"ad_group_id\"\n",
    "                            },\n",
    "                            {\n",
    "                                \"annotationKeys\": [ \"listing_title\",\"listing_quantity_sold\", \"listing_quantity_available\" ],\n",
    "                                \"dimensionKey\": \"listing_id\"\n",
    "                            },\n",
    "                            {\n",
    "                                \"dimensionKey\": \"inventory_reference_id\"\n",
    "                            },\n",
    "                            {\n",
    "                                \"dimensionKey\": \"day\"\n",
    "                            }\n",
    "                      ] }\n",
    "\n",
    "\n",
    "g_data = json.dumps(g_data)\n",
    "generate = requests.post(url = g_url, headers = g_headers, data = g_data)\n",
    "print(generate)"
   ]
  },
  {
   "cell_type": "code",
   "execution_count": 0,
   "metadata": {
    "application/vnd.databricks.v1+cell": {
     "inputWidgets": {},
     "nuid": "a231aef2-5867-493a-888f-52c7149068dc",
     "showTitle": false,
     "title": ""
    }
   },
   "outputs": [
    {
     "data": {
      "text/html": [
       "<style scoped>\n",
       "  .ansiout {\n",
       "    display: block;\n",
       "    unicode-bidi: embed;\n",
       "    white-space: pre-wrap;\n",
       "    word-wrap: break-word;\n",
       "    word-break: break-all;\n",
       "    font-family: \"Source Code Pro\", \"Menlo\", monospace;;\n",
       "    font-size: 13px;\n",
       "    color: #555;\n",
       "    margin-left: 4px;\n",
       "    line-height: 19px;\n",
       "  }\n",
       "</style>\n",
       "<div class=\"ansiout\">41902510011\n",
       "</div>"
      ]
     },
     "metadata": {
      "application/vnd.databricks.v1+output": {
       "addedWidgets": {},
       "arguments": {},
       "data": "<div class=\"ansiout\">41902510011\n</div>",
       "datasetInfos": [],
       "metadata": {},
       "removedWidgets": [],
       "type": "html"
      }
     },
     "output_type": "display_data"
    }
   ],
   "source": [
    "# Get the ReportId from the last generated report.\n",
    "sleep(120)\n",
    "r_url = \"https://api.ebay.com/sell/marketing/v1/ad_report_task\"\n",
    "\n",
    "r_headers= {\n",
    "           'Authorization': \"Bearer \" + access_token\n",
    "           }\n",
    "\n",
    "reports = requests.get(url = r_url, headers = r_headers)\n",
    "reportId = reports.json()['reportTasks'][0]['reportId']\n",
    "print(reportId)"
   ]
  },
  {
   "cell_type": "code",
   "execution_count": 0,
   "metadata": {
    "application/vnd.databricks.v1+cell": {
     "inputWidgets": {},
     "nuid": "8c9de2d0-9df3-4404-9bc9-347555aedad4",
     "showTitle": false,
     "title": ""
    }
   },
   "outputs": [
    {
     "data": {
      "text/html": [
       "<style scoped>\n",
       "  .ansiout {\n",
       "    display: block;\n",
       "    unicode-bidi: embed;\n",
       "    white-space: pre-wrap;\n",
       "    word-wrap: break-word;\n",
       "    word-break: break-all;\n",
       "    font-family: \"Source Code Pro\", \"Menlo\", monospace;;\n",
       "    font-size: 13px;\n",
       "    color: #555;\n",
       "    margin-left: 4px;\n",
       "    line-height: 19px;\n",
       "  }\n",
       "</style>\n",
       "<div class=\"ansiout\"></div>"
      ]
     },
     "metadata": {
      "application/vnd.databricks.v1+output": {
       "addedWidgets": {},
       "arguments": {},
       "data": "<div class=\"ansiout\"></div>",
       "datasetInfos": [],
       "metadata": {},
       "removedWidgets": [],
       "type": "html"
      }
     },
     "output_type": "display_data"
    }
   ],
   "source": [
    "# Download the Report\n",
    "d_url = \"https://api.ebay.com/sell/marketing/v1/ad_report/{}\".format(reportId)\n",
    "\n",
    "d_headers= {\n",
    "           'Authorization': \"Bearer \" + access_token\n",
    "           }\n",
    "\n",
    "report = requests.get(url = d_url, headers = d_headers)\n",
    "zipfile = report.content\n",
    "file = (gzip.decompress(zipfile).decode('utf-8'))"
   ]
  },
  {
   "cell_type": "code",
   "execution_count": 0,
   "metadata": {
    "application/vnd.databricks.v1+cell": {
     "inputWidgets": {},
     "nuid": "863462b3-706a-4704-9d77-8bb6e5307347",
     "showTitle": false,
     "title": ""
    }
   },
   "outputs": [
    {
     "data": {
      "text/html": [
       "<style scoped>\n",
       "  .ansiout {\n",
       "    display: block;\n",
       "    unicode-bidi: embed;\n",
       "    white-space: pre-wrap;\n",
       "    word-wrap: break-word;\n",
       "    word-break: break-all;\n",
       "    font-family: \"Source Code Pro\", \"Menlo\", monospace;;\n",
       "    font-size: 13px;\n",
       "    color: #555;\n",
       "    margin-left: 4px;\n",
       "    line-height: 19px;\n",
       "  }\n",
       "</style>\n",
       "<div class=\"ansiout\">/mnt/ebay-data-api has been unmounted.\n",
       "</div>"
      ]
     },
     "metadata": {
      "application/vnd.databricks.v1+output": {
       "addedWidgets": {},
       "arguments": {},
       "data": "<div class=\"ansiout\">/mnt/ebay-data-api has been unmounted.\n</div>",
       "datasetInfos": [],
       "metadata": {},
       "removedWidgets": [],
       "type": "html"
      }
     },
     "output_type": "display_data"
    }
   ],
   "source": [
    "# Connect to Blob Storage and Mounting. \n",
    "# sas token can be taken from the container settings > shared access tokens.\n",
    "# Permissions should be given Read, Write, Delete ..(sp=racwdli&st) while generating sas token. Give expire date range widely so that dont get auth error. \n",
    "containerName = \"ebay-api-de\"\n",
    "storageAccountName = \"blobads\"\n",
    "sas = \"sp=racwdli&st=20..............................%3D\"\n",
    "config = \"fs.azure.sas.\" + containerName+ \".\" + storageAccountName + \".blob.core.windows.net\"\n",
    "\n",
    "try:\n",
    "    dbutils.fs.unmount(\"/mnt/ebay-data-api\")\n",
    "except:\n",
    "    pass\n",
    "    \n",
    "try:\n",
    "    dbutils.fs.mount(\n",
    "      source = \"wasbs://{}@{}.blob.core.windows.net\".format(containerName,storageAccountName),\n",
    "      mount_point = \"/mnt/ebay-data-api\",\n",
    "      extra_configs = {config : sas})\n",
    "except:\n",
    "    pass"
   ]
  },
  {
   "cell_type": "code",
   "execution_count": 0,
   "metadata": {
    "application/vnd.databricks.v1+cell": {
     "inputWidgets": {},
     "nuid": "d80a5ae3-3b4c-4bc1-8559-1d70ec689b5b",
     "showTitle": false,
     "title": ""
    }
   },
   "outputs": [
    {
     "data": {
      "text/html": [
       "<style scoped>\n",
       "  .ansiout {\n",
       "    display: block;\n",
       "    unicode-bidi: embed;\n",
       "    white-space: pre-wrap;\n",
       "    word-wrap: break-word;\n",
       "    word-break: break-all;\n",
       "    font-family: \"Source Code Pro\", \"Menlo\", monospace;;\n",
       "    font-size: 13px;\n",
       "    color: #555;\n",
       "    margin-left: 4px;\n",
       "    line-height: 19px;\n",
       "  }\n",
       "</style>\n",
       "<div class=\"ansiout\"></div>"
      ]
     },
     "metadata": {
      "application/vnd.databricks.v1+output": {
       "addedWidgets": {},
       "arguments": {},
       "data": "<div class=\"ansiout\"></div>",
       "datasetInfos": [],
       "metadata": {},
       "removedWidgets": [],
       "type": "html"
      }
     },
     "output_type": "display_data"
    }
   ],
   "source": [
    "# %fs mounts"
   ]
  },
  {
   "cell_type": "code",
   "execution_count": 0,
   "metadata": {
    "application/vnd.databricks.v1+cell": {
     "inputWidgets": {},
     "nuid": "2ebaf943-b782-4b80-8563-c909b9181cca",
     "showTitle": false,
     "title": ""
    }
   },
   "outputs": [
    {
     "data": {
      "text/html": [
       "<style scoped>\n",
       "  .ansiout {\n",
       "    display: block;\n",
       "    unicode-bidi: embed;\n",
       "    white-space: pre-wrap;\n",
       "    word-wrap: break-word;\n",
       "    word-break: break-all;\n",
       "    font-family: \"Source Code Pro\", \"Menlo\", monospace;;\n",
       "    font-size: 13px;\n",
       "    color: #555;\n",
       "    margin-left: 4px;\n",
       "    line-height: 19px;\n",
       "  }\n",
       "</style>\n",
       "<div class=\"ansiout\">Wrote 18126 bytes.\n",
       "Out[93]: True</div>"
      ]
     },
     "metadata": {
      "application/vnd.databricks.v1+output": {
       "addedWidgets": {},
       "arguments": {},
       "data": "<div class=\"ansiout\">Wrote 18126 bytes.\nOut[93]: True</div>",
       "datasetInfos": [],
       "metadata": {},
       "removedWidgets": [],
       "type": "html"
      }
     },
     "output_type": "display_data"
    }
   ],
   "source": [
    "# Put file to the blob container\n",
    "dbutils.fs.put('dbfs:/mnt/ebay-data-api/' + datefrom_p.replace(\":\", \"_\") + '__' + dateto_p.replace(\":\", \"_\") + '.tsv', file)"
   ]
  }
 ],
 "metadata": {
  "application/vnd.databricks.v1+notebook": {
   "dashboards": [],
   "language": "python",
   "notebookMetadata": {
    "pythonIndentUnit": 4
   },
   "notebookName": "ebay_ads",
   "notebookOrigID": 4170214680920288,
   "widgets": {
    "datefrom": {
     "currentValue": "2022-07-05T00:00:00",
     "nuid": "826f5e5b-3e7b-467f-bbcf-92094368241a",
     "widgetInfo": {
      "defaultValue": "",
      "label": null,
      "name": "datefrom",
      "options": {
       "validationRegex": null,
       "widgetType": "text"
      },
      "widgetType": "text"
     }
    },
    "dateto": {
     "currentValue": "2022-07-12T00:00:00",
     "nuid": "7760536e-87e8-478e-b63b-e7d73e53ce4f",
     "widgetInfo": {
      "defaultValue": "",
      "label": null,
      "name": "dateto",
      "options": {
       "validationRegex": null,
       "widgetType": "text"
      },
      "widgetType": "text"
     }
    }
   }
  },
  "kernelspec": {
   "display_name": "Python 3",
   "language": "python",
   "name": "python3"
  },
  "language_info": {
   "codemirror_mode": {
    "name": "ipython",
    "version": 3
   },
   "file_extension": ".py",
   "mimetype": "text/x-python",
   "name": "python",
   "nbconvert_exporter": "python",
   "pygments_lexer": "ipython3",
   "version": "3.8.3"
  }
 },
 "nbformat": 4,
 "nbformat_minor": 1
}
