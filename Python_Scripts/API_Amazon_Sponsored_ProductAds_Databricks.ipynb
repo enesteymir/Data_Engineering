{
 "cells": [
  {
   "cell_type": "code",
   "execution_count": 0,
   "metadata": {
    "application/vnd.databricks.v1+cell": {
     "cellMetadata": {},
     "inputWidgets": {},
     "nuid": "cf523ba1-e496-47c9-b6ad-9d18e0f61dea",
     "showTitle": false,
     "title": ""
    }
   },
   "outputs": [
    {
     "data": {
      "text/html": [
       "<style scoped>\n",
       "  .ansiout {\n",
       "    display: block;\n",
       "    unicode-bidi: embed;\n",
       "    white-space: pre-wrap;\n",
       "    word-wrap: break-word;\n",
       "    word-break: break-all;\n",
       "    font-family: \"Source Code Pro\", \"Menlo\", monospace;;\n",
       "    font-size: 13px;\n",
       "    color: #555;\n",
       "    margin-left: 4px;\n",
       "    line-height: 19px;\n",
       "  }\n",
       "</style>\n",
       "<div class=\"ansiout\"></div>"
      ]
     },
     "metadata": {
      "application/vnd.databricks.v1+output": {
       "addedWidgets": {},
       "arguments": {},
       "data": "<div class=\"ansiout\"></div>",
       "datasetInfos": [],
       "metadata": {},
       "removedWidgets": [],
       "type": "html"
      }
     },
     "output_type": "display_data"
    }
   ],
   "source": [
    "from time import sleep\n",
    "import requests\n",
    "import re\n",
    "import json\n",
    "import datetime\n",
    "import gzip\n",
    "\n",
    "\n",
    "dbutils.widgets.text('account', '')\n",
    "dbutils.widgets.text('startdate', '')\n",
    "dbutils.widgets.text('enddate', '')\n",
    "dbutils.widgets.text('marketplace', '')\n",
    "\n",
    "account = dbutils.widgets.get('account')\n",
    "startdate = dbutils.widgets.get('startdate')\n",
    "enddate = dbutils.widgets.get('enddate')\n",
    "marketplace = dbutils.widgets.get('marketplace')\n",
    "\n",
    "# Customer Key and Customer Secret Key are same for all account\n",
    "C_KEY = 'amzn1.application-oa2-client.c478........b0b3'\n",
    "C_SECRET_KEY = 'd12827396da1f8........67c4'\n",
    "C_REFRESH_TOKEN = ''\n",
    "\n",
    "# Retrieve ProfileIds of by using https://advertising-api-eu.amazon.com/v2/profiles endpoint\n",
    "# Account1 \n",
    "if account == 'Account1':\n",
    "    C_REFRESH_TOKEN = 'Atzr|IwEB.........R7r3bXFg'\n",
    "    if marketplace == 'DE':\n",
    "        ProfileId = '2169250159944659'   \n",
    "    elif marketplace == 'IT':\n",
    "        ProfileId = '2155969205123194' \n",
    "    elif marketplace == 'FR':\n",
    "        ProfileId = '1183680406966079'    \n",
    "    elif marketplace == 'NL':\n",
    "        ProfileId = '3717916644632014'        \n",
    "    elif marketplace == 'ES':\n",
    "        ProfileId = '121977915853006'        \n",
    "    elif marketplace == 'UK':\n",
    "        ProfileId = '3411391515577547'  \n",
    "\n",
    "        \n",
    "# Account2 \n",
    "elif account == 'Account2':\n",
    "    C_REFRESH_TOKEN = 'Atzr|IwE........RC7cOJ'\n",
    "    if marketplace == 'DE':\n",
    "        ProfileId = '1722443589807669'\n",
    "    elif marketplace == 'FR':\n",
    "        ProfileId = '2182027654244981'\n",
    "    elif marketplace == 'ES':\n",
    "        ProfileId = '2593565687415862'\n",
    "    elif marketplace == 'UK':\n",
    "        ProfileId = '3143856789969928' "
   ]
  },
  {
   "cell_type": "code",
   "execution_count": 0,
   "metadata": {
    "application/vnd.databricks.v1+cell": {
     "cellMetadata": {},
     "inputWidgets": {},
     "nuid": "3a470338-0d38-4e9a-b833-98705ada0ca6",
     "showTitle": false,
     "title": ""
    }
   },
   "outputs": [
    {
     "data": {
      "text/html": [
       "<style scoped>\n",
       "  .ansiout {\n",
       "    display: block;\n",
       "    unicode-bidi: embed;\n",
       "    white-space: pre-wrap;\n",
       "    word-wrap: break-word;\n",
       "    word-break: break-all;\n",
       "    font-family: \"Source Code Pro\", \"Menlo\", monospace;;\n",
       "    font-size: 13px;\n",
       "    color: #555;\n",
       "    margin-left: 4px;\n",
       "    line-height: 19px;\n",
       "  }\n",
       "</style>\n",
       "<div class=\"ansiout\"></div>"
      ]
     },
     "metadata": {
      "application/vnd.databricks.v1+output": {
       "addedWidgets": {},
       "arguments": {},
       "data": "<div class=\"ansiout\"></div>",
       "datasetInfos": [],
       "metadata": {},
       "removedWidgets": [],
       "type": "html"
      }
     },
     "output_type": "display_data"
    }
   ],
   "source": [
    "# Get Access Token\n",
    "def get_access_token():\n",
    "    global refresh_token\n",
    "    url = \"https://api.amazon.co.uk/auth/o2/token\"\n",
    "\n",
    "    body = {\n",
    "            \"grant_type\":\"refresh_token\",\n",
    "            \"client_id\": C_KEY,\n",
    "            \"client_secret\": C_SECRET_KEY,\n",
    "            \"refresh_token\": C_REFRESH_TOKEN\n",
    "           }\n",
    " \n",
    "    response = requests.post(url = url, data = body)\n",
    "    return response.json()['access_token']\n",
    "\n",
    "C_ACCESS_TOKEN = get_access_token()"
   ]
  },
  {
   "cell_type": "code",
   "execution_count": null,
   "metadata": {},
   "outputs": [],
   "source": [
    "# Generate Report\n",
    "url = \"https://advertising-api-eu.amazon.com/reporting/reports\"\n",
    "\n",
    "headers = {\n",
    "            'Authorization'                   : 'Bearer ' + C_ACCESS_TOKEN,\n",
    "            'Amazon-Advertising-API-ClientId' :  C_KEY,\n",
    "            'Amazon-Advertising-API-Scope'    :  ProfileId,\n",
    "            'Content-Type'                    : 'application/vnd.createasyncreportrequest.v3+json'\n",
    "            }\n",
    "\n",
    "body = {\n",
    "          \"name\": \"Sponsored_Products\",\n",
    "          \"startDate\": startdate,\n",
    "          \"endDate\": enddate,\n",
    "          \"configuration\":{\n",
    "                            \"adProduct\": \"SPONSORED_PRODUCTS\",\n",
    "                            \"columns\": [\n",
    "                                        \"date\", \"campaignId\", \"campaignName\",\"adGroupId\",\"adGroupName\",\"adId\",\"portfolioId\",\"advertisedAsin\", \"advertisedSku\",\n",
    "                                        \"impressions\",\"clicks\",\"costPerClick\",\"clickThroughRate\", \"cost\",\"spend\", \"campaignBudgetCurrencyCode\", \"campaignBudgetAmount\",\n",
    "                                        \"campaignBudgetType\", \"campaignStatus\", \"purchases1d\",\"purchases7d\",\"purchases14d\",\"purchases30d\",\"sales1d\",\"sales7d\", \"sales14d\",\"sales30d\",\n",
    "                                        \"attributedSalesSameSku1d\",\"attributedSalesSameSku7d\",\"attributedSalesSameSku14d\",\"attributedSalesSameSku30d\",\"unitsSoldSameSku1d\",\n",
    "                                        \"unitsSoldSameSku7d\",\"unitsSoldSameSku14d\",\"unitsSoldSameSku30d\",\"unitsSoldOtherSku7d\",\"acosClicks7d\",\"acosClicks14d\",\"roasClicks7d\",\"roasClicks14d\"\n",
    "                                       ],\n",
    "                            \"reportTypeId\": \"spAdvertisedProduct\",\n",
    "                            \"format\": \"GZIP_JSON\",\n",
    "                            \"groupBy\": [\"advertiser\"],\n",
    "                            \"timeUnit\": \"DAILY\"\n",
    "                          }\n",
    "        }\n",
    "\n",
    "body = json.dumps(body)\n",
    "generate = requests.post(url = url, headers = headers, data = body)\n",
    "reportId = generate.json()['reportId']\n",
    "print(reportId)"
   ]
  },
  {
   "cell_type": "code",
   "execution_count": 0,
   "metadata": {
    "application/vnd.databricks.v1+cell": {
     "cellMetadata": {},
     "inputWidgets": {},
     "nuid": "bad295be-b8f0-431c-becc-ab4f67646b54",
     "showTitle": false,
     "title": ""
    }
   },
   "outputs": [
    {
     "data": {
      "text/html": [
       "<style scoped>\n",
       "  .ansiout {\n",
       "    display: block;\n",
       "    unicode-bidi: embed;\n",
       "    white-space: pre-wrap;\n",
       "    word-wrap: break-word;\n",
       "    word-break: break-all;\n",
       "    font-family: \"Source Code Pro\", \"Menlo\", monospace;;\n",
       "    font-size: 13px;\n",
       "    color: #555;\n",
       "    margin-left: 4px;\n",
       "    line-height: 19px;\n",
       "  }\n",
       "</style>\n",
       "<div class=\"ansiout\"></div>"
      ]
     },
     "metadata": {
      "application/vnd.databricks.v1+output": {
       "addedWidgets": {},
       "arguments": {},
       "data": "<div class=\"ansiout\"></div>",
       "datasetInfos": [],
       "metadata": {},
       "removedWidgets": [],
       "type": "html"
      }
     },
     "output_type": "display_data"
    }
   ],
   "source": [
    "# Get the status and URL of the report\n",
    "sleep(900)\n",
    "url = f\"https://advertising-api-eu.amazon.com/reporting/reports/{reportId}\"\n",
    "\n",
    "headers = {\n",
    "            'Authorization'                   : 'Bearer ' + C_ACCESS_TOKEN,\n",
    "            'Amazon-Advertising-API-ClientId' :  C_KEY,\n",
    "            'Amazon-Advertising-API-Scope'    :  ProfileId,\n",
    "            'Content-Type'                    : 'application/vnd.createasyncreportrequest.v3+json'\n",
    "            }\n",
    "\n",
    "result = requests.get(url = url, headers = headers)\n",
    "report_url = result.json()['url']"
   ]
  },
  {
   "cell_type": "code",
   "execution_count": 0,
   "metadata": {
    "application/vnd.databricks.v1+cell": {
     "cellMetadata": {},
     "inputWidgets": {},
     "nuid": "cae07209-60f3-4bd0-b893-679ec0bff0b0",
     "showTitle": false,
     "title": ""
    }
   },
   "outputs": [
    {
     "data": {
      "text/html": [
       "<style scoped>\n",
       "  .ansiout {\n",
       "    display: block;\n",
       "    unicode-bidi: embed;\n",
       "    white-space: pre-wrap;\n",
       "    word-wrap: break-word;\n",
       "    word-break: break-all;\n",
       "    font-family: \"Source Code Pro\", \"Menlo\", monospace;;\n",
       "    font-size: 13px;\n",
       "    color: #555;\n",
       "    margin-left: 4px;\n",
       "    line-height: 19px;\n",
       "  }\n",
       "</style>\n",
       "<div class=\"ansiout\"></div>"
      ]
     },
     "metadata": {
      "application/vnd.databricks.v1+output": {
       "addedWidgets": {},
       "arguments": {},
       "data": "<div class=\"ansiout\"></div>",
       "datasetInfos": [],
       "metadata": {},
       "removedWidgets": [],
       "type": "html"
      }
     },
     "output_type": "display_data"
    }
   ],
   "source": [
    "# Downlaod the report\n",
    "url = report_url\n",
    "report = requests.get(url = url)\n",
    "zipfile = report.content\n",
    "file = (gzip.decompress(zipfile).decode('utf-8'))"
   ]
  },
  {
   "cell_type": "code",
   "execution_count": 0,
   "metadata": {
    "application/vnd.databricks.v1+cell": {
     "cellMetadata": {},
     "inputWidgets": {},
     "nuid": "36a1448d-cdb6-4fab-ab19-0a8c7836a6b3",
     "showTitle": false,
     "title": ""
    }
   },
   "outputs": [
    {
     "data": {
      "text/html": [
       "<style scoped>\n",
       "  .ansiout {\n",
       "    display: block;\n",
       "    unicode-bidi: embed;\n",
       "    white-space: pre-wrap;\n",
       "    word-wrap: break-word;\n",
       "    word-break: break-all;\n",
       "    font-family: \"Source Code Pro\", \"Menlo\", monospace;;\n",
       "    font-size: 13px;\n",
       "    color: #555;\n",
       "    margin-left: 4px;\n",
       "    line-height: 19px;\n",
       "  }\n",
       "</style>\n",
       "<div class=\"ansiout\"></div>"
      ]
     },
     "metadata": {
      "application/vnd.databricks.v1+output": {
       "addedWidgets": {},
       "arguments": {},
       "data": "<div class=\"ansiout\"></div>",
       "datasetInfos": [],
       "metadata": {},
       "removedWidgets": [],
       "type": "html"
      }
     },
     "output_type": "display_data"
    }
   ],
   "source": [
    "# Connect to Blob Storage and Mounting. \n",
    "# sas token can be taken from the container settings > shared access tokens.\n",
    "# Permissions should be given Read, Write, Delete ..(sp=racwdli&st) while generating sas token. Give expire date range widely so that dont get auth error. \n",
    "containerName = \"amazon-api-sp-all\"\n",
    "storageAccountName = \"blobads\"\n",
    "sas = \"sp=racwdli&st=2023-01-09T22:45:32..................xtI%3D\"\n",
    "config = \"fs.azure.sas.\" + containerName+ \".\" + storageAccountName + \".blob.core.windows.net\"\n",
    "\n",
    "try:\n",
    "    dbutils.fs.unmount(\"/mnt/amazon-api-sp-all\")\n",
    "except:\n",
    "    pass\n",
    "    \n",
    "try:\n",
    "    dbutils.fs.mount( source = \"wasbs://{}@{}.blob.core.windows.net\".format(containerName,storageAccountName),\n",
    "                      mount_point = \"/mnt/amazon-api-sp-all\",\n",
    "                      extra_configs = {config : sas}\n",
    "                    )\n",
    "except:\n",
    "    pass"
   ]
  },
  {
   "cell_type": "code",
   "execution_count": null,
   "metadata": {},
   "outputs": [],
   "source": [
    "dbutils.fs.put('dbfs:/mnt/amazon-api-sp-all/' + 'SP__' + account + '__' + startdate + '__' + enddate + '__' + marketplace + '.json', file, overwrite = True)"
   ]
  }
 ],
 "metadata": {
  "application/vnd.databricks.v1+notebook": {
   "dashboards": [],
   "language": "python",
   "notebookMetadata": {
    "pythonIndentUnit": 4
   },
   "notebookName": "amazon_ads_sp_all",
   "notebookOrigID": 733915249665221,
   "widgets": {
    "account": {
     "currentValue": "BRHWPR",
     "nuid": "4c4984b9-df8f-445f-90fb-8c8a1b50277c",
     "widgetInfo": {
      "defaultValue": "",
      "label": null,
      "name": "account",
      "options": {
       "validationRegex": null,
       "widgetType": "text"
      },
      "widgetType": "text"
     }
    },
    "enddate": {
     "currentValue": "2023-01-09",
     "nuid": "24080974-4c03-41f3-8d42-c34fea563f51",
     "widgetInfo": {
      "defaultValue": "",
      "label": null,
      "name": "enddate",
      "options": {
       "validationRegex": null,
       "widgetType": "text"
      },
      "widgetType": "text"
     }
    },
    "marketplace": {
     "currentValue": "DE",
     "nuid": "f97073f9-ec21-4c66-9d6b-27967d62ebb5",
     "widgetInfo": {
      "defaultValue": "",
      "label": null,
      "name": "marketplace",
      "options": {
       "validationRegex": null,
       "widgetType": "text"
      },
      "widgetType": "text"
     }
    },
    "startdate": {
     "currentValue": "2022-12-11",
     "nuid": "67aa2112-9a02-408d-a7c5-fb7eff7ffde0",
     "widgetInfo": {
      "defaultValue": "",
      "label": null,
      "name": "startdate",
      "options": {
       "validationRegex": null,
       "widgetType": "text"
      },
      "widgetType": "text"
     }
    }
   }
  },
  "kernelspec": {
   "display_name": "Python 3",
   "language": "python",
   "name": "python3"
  },
  "language_info": {
   "codemirror_mode": {
    "name": "ipython",
    "version": 3
   },
   "file_extension": ".py",
   "mimetype": "text/x-python",
   "name": "python",
   "nbconvert_exporter": "python",
   "pygments_lexer": "ipython3",
   "version": "3.8.3"
  }
 },
 "nbformat": 4,
 "nbformat_minor": 1
}
