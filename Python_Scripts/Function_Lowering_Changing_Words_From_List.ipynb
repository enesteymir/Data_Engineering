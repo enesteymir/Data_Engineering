{
 "cells": [
  {
   "cell_type": "code",
   "execution_count": null,
   "metadata": {},
   "outputs": [],
   "source": [
    "def mahalle_matching(df_input):\n",
    "    try:\n",
    "        df_input['MAHALLE'] = df_input['MAHALLE'].str.lower()\n",
    "        df_input['MAHALLE'] = df_input['MAHALLE'].astype(str)\n",
    "        df_input['IL']      = df_input['IL'].str.lower()\n",
    "        df_input['IL']      = df_input['IL'].astype(str)\n",
    "        df_input['ILCE']    = df_input['ILCE'].str.lower()\n",
    "        df_input['ILCE']    = df_input['ILCE'].astype(str)\n",
    "    except:\n",
    "        pass\n",
    "    try:\n",
    "        df_input['mahalle'] = df_input['mahalle'].str.lower()\n",
    "        df_input['mahalle'] = df_input['mahalle'].astype(str)\n",
    "        df_input['il']      = df_input['il'].str.lower()\n",
    "        df_input['il']      = df_input['il'].astype(str)\n",
    "        df_input['ilce']    = df_input['ilce'].str.lower()\n",
    "        df_input['ilce']    = df_input['ilce'].astype(str)\n",
    "    except:\n",
    "        pass\n",
    " \n",
    " \n",
    "    mahalle_list = ['mah','mah.','mh.','mh','köyü','köy','mahallesi','koy','koy.','koyu','mahallesı']\n",
    " \n",
    "    def mahalle_converter(mahalle_column):\n",
    "        mahalle_splitted = mahalle_column.split()              #kelimeleri ayırma\n",
    "        new_mahalle_as_list = []\n",
    "        for word in mahalle_splitted :\n",
    "            if word not in mahalle_list:\n",
    "                    new_mahalle_as_list.append(word)           #listede olmayan kelimeyi yeni listeye atma\n",
    "            else:\n",
    "                    yeni_adres_as_list.append(\"mahalle\")       #listede olanlar yerine 'mahalle' yazma\n",
    "        new_mah_as_string =  \" \".join(new_mahalle_as_list)     #listedeki kelimeleri birleştirme\n",
    "        return new_mah_as_string\n",
    " \n",
    "    try:\n",
    "        df_input['MAHALLE'] = df_input['MAHALLE'].apply(mahalle_converter)   #sütun adı büyük yazılan için\n",
    "    except:\n",
    "        pass\n",
    "    try:\n",
    "        df_input['mahalle'] = df_input['mahalle'].apply(mahalle_converter)   #sütun adı küçük yazılan için\n",
    "    except:\n",
    "        pass\n",
    "    \n",
    "    return df_input"
   ]
  }
 ],
 "metadata": {
  "kernelspec": {
   "display_name": "Python 3",
   "language": "python",
   "name": "python3"
  },
  "language_info": {
   "codemirror_mode": {
    "name": "ipython",
    "version": 3
   },
   "file_extension": ".py",
   "mimetype": "text/x-python",
   "name": "python",
   "nbconvert_exporter": "python",
   "pygments_lexer": "ipython3",
   "version": "3.8.3"
  }
 },
 "nbformat": 4,
 "nbformat_minor": 4
}
