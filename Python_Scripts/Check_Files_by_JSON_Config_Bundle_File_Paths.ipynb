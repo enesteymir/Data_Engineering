{
 "cells": [
  {
   "cell_type": "markdown",
   "metadata": {},
   "source": [
    "#### Reading JSON Config file to get the csv names and columns that will be used in script"
   ]
  },
  {
   "cell_type": "code",
   "execution_count": null,
   "metadata": {},
   "outputs": [],
   "source": [
    "# config.json\n",
    " {\n",
    "  \"file1\":\n",
    "  {\n",
    "    \"filename\": \"input.csv\",\n",
    "    \"columns\":\n",
    "     {\n",
    "      \"column1\" :  \"column1\",\n",
    "      \"column2\" :  \"column2\"\n",
    "     }\n",
    "   }\n",
    "  }"
   ]
  },
  {
   "cell_type": "code",
   "execution_count": 11,
   "metadata": {
    "pycharm": {
     "name": "#%%\n"
    }
   },
   "outputs": [],
   "source": [
    "import sys\n",
    "import os\n",
    "import json\n",
    "import time\n",
    "\n",
    "def check_files():\n",
    "    cf = open(\"config.json\")\n",
    "    data = json.load(cf)\n",
    "    df_filename = data['file1']['filename']\n",
    "    df_columns  = data['file1']['columns']\n",
    "\n",
    "    if os.path.exists(df_filename) :\n",
    "        print(\"The file indicated in the config.json was read successfully. \")\n",
    "        return  df_filename,  df_columns\n",
    "    else:\n",
    "        print(\"The file indicated in the config.json is not in the related folder.\")\n",
    "        time.sleep(5)\n",
    "        sys.exit()"
   ]
  },
  {
   "cell_type": "code",
   "execution_count": 12,
   "metadata": {
    "pycharm": {
     "name": "#%%\n"
    }
   },
   "outputs": [
    {
     "name": "stdout",
     "output_type": "stream",
     "text": [
      "The file indicated in the Config.json was read successfully. \n"
     ]
    },
    {
     "data": {
      "text/plain": [
       "('input.csv', {'column1': 'column1', 'column2': 'column2'})"
      ]
     },
     "execution_count": 12,
     "metadata": {},
     "output_type": "execute_result"
    }
   ],
   "source": [
    "check_files()"
   ]
  },
  {
   "cell_type": "markdown",
   "metadata": {},
   "source": [
    "#### Finding the Path of the Current Python File"
   ]
  },
  {
   "cell_type": "code",
   "execution_count": 25,
   "metadata": {
    "pycharm": {
     "name": "#%%\n"
    }
   },
   "outputs": [
    {
     "data": {
      "text/plain": [
       "'C:\\\\Users\\\\enes.teymir\\\\OneDrive - sabancidx.com\\\\Desktop\\\\Python_Files'"
      ]
     },
     "execution_count": 25,
     "metadata": {},
     "output_type": "execute_result"
    }
   ],
   "source": [
    "# Full path of the current file\n",
    "import os\n",
    "import sys\n",
    "full_path = os.path.abspath('')\n",
    "full_path"
   ]
  },
  {
   "cell_type": "markdown",
   "metadata": {
    "pycharm": {
     "name": "#%% md\n"
    }
   },
   "source": [
    "PyInstaller can bundle your script and all its dependencies into a single executable named myscript ( myscript.exe in Windows).\n",
    "When your program is not frozen, the standard Python variable __file__ is the full path to the script now executing. When a bundled app starts up, the bootloader sets the sys.frozen attribute and stores the absolute path to the bundle folder in sys._MEIPASS. For a one-folder bundle, this is the path to that folder, wherever the user may have put it. For a one-file bundle, this is the path to the _MEIxxxxxx"
   ]
  },
  {
   "cell_type": "code",
   "execution_count": null,
   "metadata": {
    "pycharm": {
     "name": "#%%\n"
    }
   },
   "outputs": [],
   "source": [
    "file_path = os.path.abspath(os.path.dirname(__file__))        # the absolute path of the directory where the program resides.\n",
    "parent_path = os.path.join(os.path.dirname(__file__), '..')   # the parent directory of the directory where program resides."
   ]
  },
  {
   "cell_type": "code",
   "execution_count": 33,
   "metadata": {
    "pycharm": {
     "name": "#%%\n"
    }
   },
   "outputs": [
    {
     "data": {
      "text/plain": [
       "'C:\\\\Users\\\\enes.teymir\\\\OneDrive - sabancidx.com\\\\Desktop\\\\Python_Files'"
      ]
     },
     "execution_count": 33,
     "metadata": {},
     "output_type": "execute_result"
    }
   ],
   "source": [
    "# This will check the _MEIPASS to get the path of folder. If it is not found then getattr will return ''.\n",
    "meipass = getattr(sys, \"_MEIPASS\", '')\n",
    "full_path = os.path.abspath(meipass)\n",
    "full_path"
   ]
  },
  {
   "cell_type": "code",
   "execution_count": null,
   "metadata": {
    "pycharm": {
     "name": "#%%\n"
    }
   },
   "outputs": [],
   "source": [
    "# this will give the bundle path, it will check _MEIPASS variable at first, if it is not found then will get the path from the __file__ variable\n",
    "# os.path.dirname() returns the directory name of pathname path\n",
    "bundle_dir = getattr(sys, '_MEIPASS', os.path.abspath(os.path.dirname(__file__)))"
   ]
  },
  {
   "cell_type": "code",
   "execution_count": 35,
   "metadata": {
    "pycharm": {
     "name": "#%%\n"
    }
   },
   "outputs": [
    {
     "data": {
      "text/plain": [
       "'C:\\\\Users\\\\enes.teymir\\\\OneDrive - sabancidx.com\\\\Desktop'"
      ]
     },
     "execution_count": 35,
     "metadata": {},
     "output_type": "execute_result"
    }
   ],
   "source": [
    "# If we apply it to our file's path, as we can see the file name is not included in the path\n",
    "getattr(sys, '_MEIPASS', os.path.abspath(os.path.dirname(full_path)))"
   ]
  },
  {
   "cell_type": "code",
   "execution_count": null,
   "metadata": {
    "pycharm": {
     "name": "#%%\n"
    }
   },
   "outputs": [],
   "source": [
    "# If we want to get the path to spesific file in the bundle app folder, use this\n",
    "path_to_file = os.path.abspath(os.path.join(bundle_dir, 'filename'))"
   ]
  },
  {
   "cell_type": "code",
   "execution_count": null,
   "metadata": {
    "pycharm": {
     "name": "#%%\n"
    }
   },
   "outputs": [],
   "source": [
    "# special variables can be seen in global()\n",
    "print(globals())"
   ]
  },
  {
   "cell_type": "code",
   "execution_count": 19,
   "metadata": {
    "pycharm": {
     "name": "#%%\n"
    }
   },
   "outputs": [
    {
     "name": "stdout",
     "output_type": "stream",
     "text": [
      "__main__\n"
     ]
    }
   ],
   "source": [
    "# Often, you want to write a script that can be executed directly or imported as a module. The __name__ variable allows you to do that.\n",
    "# When you run the script directly, Python sets the __name__ variable to '__main__'.\n",
    "# However, if you import a file as a module to another file and run it, Python sets the module name to the __name__ variable.\n",
    "print(__name__)"
   ]
  }
 ],
 "metadata": {
  "kernelspec": {
   "display_name": "Python 3",
   "language": "python",
   "name": "python3"
  },
  "language_info": {
   "codemirror_mode": {
    "name": "ipython",
    "version": 3
   },
   "file_extension": ".py",
   "mimetype": "text/x-python",
   "name": "python",
   "nbconvert_exporter": "python",
   "pygments_lexer": "ipython3",
   "version": "3.6.8"
  }
 },
 "nbformat": 4,
 "nbformat_minor": 1
}
