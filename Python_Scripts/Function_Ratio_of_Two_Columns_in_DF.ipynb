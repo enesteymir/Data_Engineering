{
 "cells": [
  {
   "cell_type": "code",
   "execution_count": null,
   "metadata": {},
   "outputs": [],
   "source": [
    "# Function to calculate the ratio of two columns in a df such as Likes / (Likes + Dislikes)\n",
    "def likes_ratio(likes,dislikes):\n",
    "    likesList = list()\n",
    "    dislikesList = list()\n",
    "    for key,value in likes.iteritems():\n",
    "        likesList.append(value)\n",
    "    for key,value in dislikes.iteritems():\n",
    "        dislikesList.append(value)\n",
    "    \n",
    "    likeanddislikeratio = list()\n",
    "    for like,dislike in zip(likesList,dislikesList): \n",
    "        if like + dislike == 0:\n",
    "            likeanddislikeratio.append(0)\n",
    "        else:\n",
    "            likeanddislikeratio.append(like/(like + dislike))\n",
    "    return likeanddislikeratio"
   ]
  },
  {
   "cell_type": "code",
   "execution_count": null,
   "metadata": {},
   "outputs": [],
   "source": [
    "# create new column of ratio\n",
    "df[\"likes_dislikes\"] = likes_ratio(df[\"likes\"], df[\"dislikes\"])"
   ]
  }
 ],
 "metadata": {
  "kernelspec": {
   "display_name": "Python 3",
   "language": "python",
   "name": "python3"
  },
  "language_info": {
   "codemirror_mode": {
    "name": "ipython",
    "version": 3
   },
   "file_extension": ".py",
   "mimetype": "text/x-python",
   "name": "python",
   "nbconvert_exporter": "python",
   "pygments_lexer": "ipython3",
   "version": "3.8.3"
  }
 },
 "nbformat": 4,
 "nbformat_minor": 4
}
