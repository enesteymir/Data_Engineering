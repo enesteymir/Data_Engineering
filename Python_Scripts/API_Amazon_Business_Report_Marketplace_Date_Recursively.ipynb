{
 "cells": [
  {
   "cell_type": "code",
   "execution_count": 0,
   "metadata": {
    "application/vnd.databricks.v1+cell": {
     "inputWidgets": {},
     "nuid": "332d4ccf-15bb-4898-8bf2-7f36c7be7edc",
     "showTitle": false,
     "title": ""
    }
   },
   "outputs": [
    {
     "data": {
      "text/html": [
       "<style scoped>\n",
       "  .ansiout {\n",
       "    display: block;\n",
       "    unicode-bidi: embed;\n",
       "    white-space: pre-wrap;\n",
       "    word-wrap: break-word;\n",
       "    word-break: break-all;\n",
       "    font-family: \"Source Code Pro\", \"Menlo\", monospace;;\n",
       "    font-size: 13px;\n",
       "    color: #555;\n",
       "    margin-left: 4px;\n",
       "    line-height: 19px;\n",
       "  }\n",
       "</style>\n",
       "<div class=\"ansiout\"></div>"
      ]
     },
     "metadata": {
      "application/vnd.databricks.v1+output": {
       "addedWidgets": {},
       "arguments": {},
       "data": "<div class=\"ansiout\"></div>",
       "datasetInfos": [],
       "metadata": {},
       "removedWidgets": [],
       "type": "html"
      }
     },
     "output_type": "display_data"
    }
   ],
   "source": [
    "dbutils.widgets.text('fromdate', '')\n",
    "dbutils.widgets.text('enddate', '')\n",
    "\n",
    "fromdate = dbutils.widgets.get('fromdate')\n",
    "enddate = dbutils.widgets.get('enddate')\n",
    "\n",
    "\n",
    "from time import sleep\n",
    "import requests\n",
    "import re\n",
    "import json\n",
    "import datetime\n",
    "import gzip\n",
    "from requests_aws4auth import AWS4Auth\n",
    "\n",
    "\n",
    "# ebazaaris\n",
    "C_KEY = 'amzn1.application-oa2-client.10a.....'\n",
    "C_SECRET_KEY = 'ab61c932490a........34efc34ad8'\n",
    "C_REFRESH_TOKEN = 'Atzr|IwEBIIHldgx2EZ_PfbXqn........TIwkqJKb8'\n",
    "\n",
    "\n",
    "markets = [\n",
    "    ('A1PA6795UKMFR9', 'de'),\n",
    "    ('A13V1IB3VIYZZH', 'fr'),\n",
    "    ('A1805IZSGTT6HS', 'nl'),\n",
    "    ('A1C3SOZRARQ6R3', 'pl'),\n",
    "    ('A1F83G8C2ARO7P', 'co.uk'),\n",
    "    ('A1RKKUPIHCS9HS', 'es'),\n",
    "    ('A2NODRKZP88ZB9', 'se'),\n",
    "    ('APJ6JRA9NG5V4', 'it')]"
   ]
  },
  {
   "cell_type": "code",
   "execution_count": 0,
   "metadata": {
    "application/vnd.databricks.v1+cell": {
     "inputWidgets": {},
     "nuid": "b2cf5f58-9137-41a2-9f3b-5ab18329691d",
     "showTitle": false,
     "title": ""
    }
   },
   "outputs": [
    {
     "data": {
      "text/html": [
       "<style scoped>\n",
       "  .ansiout {\n",
       "    display: block;\n",
       "    unicode-bidi: embed;\n",
       "    white-space: pre-wrap;\n",
       "    word-wrap: break-word;\n",
       "    word-break: break-all;\n",
       "    font-family: \"Source Code Pro\", \"Menlo\", monospace;;\n",
       "    font-size: 13px;\n",
       "    color: #555;\n",
       "    margin-left: 4px;\n",
       "    line-height: 19px;\n",
       "  }\n",
       "</style>\n",
       "<div class=\"ansiout\"></div>"
      ]
     },
     "metadata": {
      "application/vnd.databricks.v1+output": {
       "addedWidgets": {},
       "arguments": {},
       "data": "<div class=\"ansiout\"></div>",
       "datasetInfos": [],
       "metadata": {},
       "removedWidgets": [],
       "type": "html"
      }
     },
     "output_type": "display_data"
    }
   ],
   "source": [
    "def get_datetime():\n",
    "    return datetime.datetime.utcnow().strftime(\"%Y%m%dT%H%M%SZ\")\n",
    "\n",
    "\n",
    "\n",
    "def get_access_token():\n",
    "    global C_KEY, C_SECRET_KEY, C_REFRESH_TOKEN\n",
    "    r = requests.post(f\"https://api.amazon.com/auth/o2/token\", data={\n",
    "        \"grant_type\":\"refresh_token\",\n",
    "        \"refresh_token\":C_REFRESH_TOKEN,\n",
    "        \"client_id\": C_KEY,\n",
    "        \"client_secret\": C_SECRET_KEY\n",
    "    })\n",
    "\n",
    "    # print(r.json())\n",
    "\n",
    "    return r.json()['access_token']\n",
    "\n",
    "\n",
    "\n",
    "\n",
    "def assume_role():\n",
    "    r = requests.get(f\"https://sts.amazonaws.com?Version=2011-06-15&Action=AssumeRole&RoleSessionName=Test&RoleArn=arn:aws:iam::466....17:role/SellingPartnerApiRole&DurationSeconds=3600\",\n",
    "        auth=AWS4Auth('AKIAW.....RR6N', 'g6VDrBF.....1eV', 'us-east-1', 'sts'))\n",
    "\n",
    "    return (re.findall('<AccessKeyId>(.+)</AccessKeyId>', r.text)[0], re.findall('<SecretAccessKey>(.+)</SecretAccessKey>', r.text)[0], re.findall('<SessionToken>(.+)</SessionToken>', r.text)[0])\n",
    "\n",
    "\n",
    "\n",
    "\n",
    "def g(rel_url):\n",
    "    global access_token, key, secret_key, session_token\n",
    "\n",
    "    r = requests.get(f\"https://sellingpartnerapi-eu.amazon.com{rel_url}\",\n",
    "        headers={'x-amz-access-token': access_token},\n",
    "        auth=AWS4Auth(key, secret_key, 'eu-west-1', 'execute-api', session_token=session_token))\n",
    "\n",
    "    return(r.json())\n",
    "\n",
    "\n",
    "\n",
    "\n",
    "def gg(rel_url, params):\n",
    "    global access_token, key, secret_key, session_token\n",
    "\n",
    "    r = requests.get(f\"https://sellingpartnerapi-eu.amazon.com{rel_url}\",\n",
    "        params=params,\n",
    "        headers={'x-amz-access-token': access_token},\n",
    "        auth=AWS4Auth(key, secret_key, 'eu-west-1', 'execute-api', session_token=session_token))\n",
    "\n",
    "    print(r.text)\n",
    "\n",
    "    return(r.json())\n",
    "\n",
    "\n",
    "\n",
    "\n",
    "def gd(url):\n",
    "    r = requests.get(url)\n",
    "    return(r.content)\n",
    "\n",
    "\n",
    "\n",
    "\n",
    "def p(rel_url, data):\n",
    "    global access_token, key, secret_key, session_token\n",
    "\n",
    "    r = requests.post(f\"https://sellingpartnerapi-eu.amazon.com{rel_url}\",\n",
    "        data=json.dumps(data),\n",
    "        headers={\n",
    "            'x-amz-access-token': access_token,\n",
    "            'Content-Type': 'application/json'\n",
    "        },\n",
    "        auth=AWS4Auth(key, secret_key, 'eu-west-1', 'execute-api', session_token=session_token))\n",
    "\n",
    "    return (r.json())\n",
    "\n",
    "\n",
    "access_token = get_access_token()\n",
    "key, secret_key, session_token = assume_role()\n",
    "\n",
    "\n",
    "\n",
    "\n",
    "def genn(REPORT_TYPE, market, start, end):\n",
    "    c_r = p('/reports/2021-06-30/reports', {\n",
    "        \"marketplaceIds\": [market],\n",
    "        'reportType': REPORT_TYPE,\n",
    "        'dataStartTime': start,\n",
    "        'dataEndTime': end,\n",
    "        \"reportOptions\": {\n",
    "            \"dateGranularity\": \"DAY\",\n",
    "            \"asinGranularity\": \"SKU\",\n",
    "            \"reportPeriod\": \"DAY\"\n",
    "        }\n",
    "    })\n",
    "\n",
    "    # print(c_r)\n",
    "    return c_r['reportId']\n",
    "\n",
    "\n",
    "\n",
    "def down(report_id):\n",
    "    g_r = g(f'/reports/2021-06-30/reports/{report_id}')\n",
    "    doc_id = g_r['reportDocumentId']\n",
    "    d_r = g(f'/reports/2021-06-30/documents/{doc_id}')\n",
    "    bt = (gd(d_r['url']))\n",
    "    file = (gzip.decompress(bt).decode('utf-8'))\n",
    "    return file\n",
    "\n",
    "\n",
    "\n",
    "def get_report(title, market, fileName, dt):\n",
    "    report_id = genn(title, market, dt, dt)\n",
    "    sleep(100)\n",
    "    file = down(report_id)\n",
    "    dbutils.fs.put('dbfs:/mnt/' + containerName + '/' + f'{fileName}.json', file , overwrite = True )\n",
    "    return file\n"
   ]
  },
  {
   "cell_type": "code",
   "execution_count": 0,
   "metadata": {
    "application/vnd.databricks.v1+cell": {
     "inputWidgets": {},
     "nuid": "82097781-6438-4d00-ac80-c6e4016c35cd",
     "showTitle": false,
     "title": ""
    }
   },
   "outputs": [
    {
     "data": {
      "text/html": [
       "<style scoped>\n",
       "  .ansiout {\n",
       "    display: block;\n",
       "    unicode-bidi: embed;\n",
       "    white-space: pre-wrap;\n",
       "    word-wrap: break-word;\n",
       "    word-break: break-all;\n",
       "    font-family: \"Source Code Pro\", \"Menlo\", monospace;;\n",
       "    font-size: 13px;\n",
       "    color: #555;\n",
       "    margin-left: 4px;\n",
       "    line-height: 19px;\n",
       "  }\n",
       "</style>\n",
       "<div class=\"ansiout\">/mnt/amazon-seller-api has been unmounted.\n",
       "</div>"
      ]
     },
     "metadata": {
      "application/vnd.databricks.v1+output": {
       "addedWidgets": {},
       "arguments": {},
       "data": "<div class=\"ansiout\">/mnt/amazon-seller-api has been unmounted.\n</div>",
       "datasetInfos": [],
       "metadata": {},
       "removedWidgets": [],
       "type": "html"
      }
     },
     "output_type": "display_data"
    }
   ],
   "source": [
    "containerName = \"amazon-seller-api\"\n",
    "storageAccountName = \"blobsaless\"\n",
    "sas = \"sp=racwdli&st=2022-10-10T14:15:25Z&se=2030-10-1.........X6E%3D\"\n",
    "config = \"fs.azure.sas.\" + containerName+ \".\" + storageAccountName + \".blob.core.windows.net\"\n",
    "\n",
    "try:\n",
    "    dbutils.fs.unmount(\"/mnt/amazon-seller-api\")\n",
    "except:\n",
    "    pass\n",
    "    \n",
    "try:\n",
    "    dbutils.fs.mount( source = \"wasbs://{}@{}.blob.core.windows.net\".format(containerName,storageAccountName),\n",
    "                      mount_point = \"/mnt/amazon-seller-api\",\n",
    "                      extra_configs = {config : sas}\n",
    "                    )\n",
    "except:\n",
    "    pass"
   ]
  },
  {
   "cell_type": "code",
   "execution_count": null,
   "metadata": {},
   "outputs": [],
   "source": [
    "# Generate and Download Report for each marketplace in the list and for each date between range\n",
    "\n",
    "cur = datetime.date.fromisoformat(fromdate)\n",
    "end = datetime.date.fromisoformat(enddate)\n",
    "i = 0\n",
    "\n",
    "\n",
    "while cur < end:\n",
    "    print('Getting: ', str(cur))\n",
    "\n",
    "    if i % 2 == 0:\n",
    "        access_token = get_access_token()\n",
    "\n",
    "    for m in markets[:]:\n",
    "        get_report('GET_SALES_AND_TRAFFIC_REPORT', m[0], f'reports/GET_SALES_AND_TRAFFIC_REPORT__{str(cur)}__{m[1]}', str(cur))\n",
    "    \n",
    "    cur = cur + datetime.timedelta(days=1)\n",
    "    i += 1\n",
    "\n",
    "    \n",
    "print('Done!!!')"
   ]
  }
 ],
 "metadata": {
  "application/vnd.databricks.v1+notebook": {
   "dashboards": [],
   "language": "python",
   "notebookMetadata": {
    "pythonIndentUnit": 4
   },
   "notebookName": "amazon_business_reports_sira",
   "notebookOrigID": 3054926472097879,
   "widgets": {
    "enddate": {
     "currentValue": "2022-10-08",
     "nuid": "dc9b1428-3007-4eaa-992a-ac628aaa2b19",
     "widgetInfo": {
      "defaultValue": "",
      "label": null,
      "name": "enddate",
      "options": {
       "validationRegex": null,
       "widgetType": "text"
      },
      "widgetType": "text"
     }
    },
    "fromdate": {
     "currentValue": "2022-10-05",
     "nuid": "1ee24c85-c302-4539-a37f-e4bce4f117e5",
     "widgetInfo": {
      "defaultValue": "",
      "label": null,
      "name": "fromdate",
      "options": {
       "validationRegex": null,
       "widgetType": "text"
      },
      "widgetType": "text"
     }
    }
   }
  },
  "kernelspec": {
   "display_name": "Python 3",
   "language": "python",
   "name": "python3"
  },
  "language_info": {
   "codemirror_mode": {
    "name": "ipython",
    "version": 3
   },
   "file_extension": ".py",
   "mimetype": "text/x-python",
   "name": "python",
   "nbconvert_exporter": "python",
   "pygments_lexer": "ipython3",
   "version": "3.8.3"
  }
 },
 "nbformat": 4,
 "nbformat_minor": 1
}
