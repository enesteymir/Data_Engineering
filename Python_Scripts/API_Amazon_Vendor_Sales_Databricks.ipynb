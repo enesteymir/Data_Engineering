{
 "cells": [
  {
   "cell_type": "code",
   "execution_count": 0,
   "metadata": {
    "application/vnd.databricks.v1+cell": {
     "inputWidgets": {},
     "nuid": "4b8f6164-60e1-4a4f-8845-b884ac3accb6",
     "showTitle": false,
     "title": ""
    }
   },
   "outputs": [
    {
     "data": {
      "text/html": [
       "<style scoped>\n",
       "  .ansiout {\n",
       "    display: block;\n",
       "    unicode-bidi: embed;\n",
       "    white-space: pre-wrap;\n",
       "    word-wrap: break-word;\n",
       "    word-break: break-all;\n",
       "    font-family: \"Source Code Pro\", \"Menlo\", monospace;;\n",
       "    font-size: 13px;\n",
       "    color: #555;\n",
       "    margin-left: 4px;\n",
       "    line-height: 19px;\n",
       "  }\n",
       "</style>\n",
       "<div class=\"ansiout\"></div>"
      ]
     },
     "metadata": {
      "application/vnd.databricks.v1+output": {
       "addedWidgets": {},
       "arguments": {},
       "data": "<div class=\"ansiout\"></div>",
       "datasetInfos": [],
       "metadata": {},
       "removedWidgets": [],
       "type": "html"
      }
     },
     "output_type": "display_data"
    }
   ],
   "source": [
    "dbutils.widgets.text('start', '')\n",
    "dbutils.widgets.text('end', '')\n",
    "dbutils.widgets.text('vendor', '')\n",
    "dbutils.widgets.text('marketplace', '')\n",
    "\n",
    "start = dbutils.widgets.get('start')\n",
    "end = dbutils.widgets.get('end')\n",
    "vendor = dbutils.widgets.get('vendor')\n",
    "marketplace = dbutils.widgets.get('marketplace')\n",
    "\n",
    "\n",
    "# IAM User Credentials , IAM Role \n",
    "A_KEY = 'AKIA.........UGXH2GE'\n",
    "A_SECRET = 'Kz54.........x'\n",
    "ARN = 'arn:aws:iam::46....17:role/sellingapiRole'\n",
    "\n",
    "\n",
    "\n",
    "if marketplace == 'DE':\n",
    "    MarketplaceID = 'A1PA6795UKMFR9'\n",
    "elif marketplace == 'FR':\n",
    "    MarketplaceID = 'A13V1IB3VIYZZH'\n",
    "elif marketplace == 'ES':\n",
    "    MarketplaceID = 'A1RKKUPIHCS9HS'\n",
    "elif marketplace == 'UK':\n",
    "    MarketplaceID = 'A1F83G8C2ARO7P'\n",
    "elif marketplace == 'IT':\n",
    "    MarketplaceID = 'APJ6JRA9NG5V4'\n",
    "elif marketplace == 'NL':\n",
    "    MarketplaceID = 'A1805IZSGTT6HS'\n",
    "elif marketplace == 'PL':\n",
    "    MarketplaceID = 'A1C3SOZRARQ6R3'\n",
    "elif marketplace == 'SE':\n",
    "    MarketplaceID = 'A2NODRKZP88ZB9'\n",
    "\n",
    "\n",
    "# Amazon Vendor Central App Client credentials based on Marketplace and Vendor Account    \n",
    "if vendor == 'NP' and marketplace == 'DE':\n",
    "    C_KEY = 'amzn1.application-oa2-client............a3eb46e5d'\n",
    "    C_SECRET_KEY = 'a22637...................1e9da2d'\n",
    "    C_REFRESH_TOKEN = 'Atzr|IwEx03-46D.....................5KIJ1QFPIXK_5HCHU'\n",
    "\n",
    "\n",
    "elif vendor == 'SW' and marketplace == 'FR':\n",
    "    C_KEY = 'amzn1.application-oa2-client.......f5110b16'\n",
    "    C_SECRET_KEY = '927933fbfe01f332.........6359d10a9629'\n",
    "    C_REFRESH_TOKEN = 'Atzr|IwEBILtbEPHrTcQ.M........RyYOmAVKbp9HhrM'\n",
    "  "
   ]
  },
  {
   "cell_type": "code",
   "execution_count": 0,
   "metadata": {
    "application/vnd.databricks.v1+cell": {
     "inputWidgets": {},
     "nuid": "53274566-8cdb-45a1-8447-7bff99de40a1",
     "showTitle": false,
     "title": ""
    }
   },
   "outputs": [
    {
     "data": {
      "text/html": [
       "<style scoped>\n",
       "  .ansiout {\n",
       "    display: block;\n",
       "    unicode-bidi: embed;\n",
       "    white-space: pre-wrap;\n",
       "    word-wrap: break-word;\n",
       "    word-break: break-all;\n",
       "    font-family: \"Source Code Pro\", \"Menlo\", monospace;;\n",
       "    font-size: 13px;\n",
       "    color: #555;\n",
       "    margin-left: 4px;\n",
       "    line-height: 19px;\n",
       "  }\n",
       "</style>\n",
       "<div class=\"ansiout\"></div>"
      ]
     },
     "metadata": {
      "application/vnd.databricks.v1+output": {
       "addedWidgets": {},
       "arguments": {},
       "data": "<div class=\"ansiout\"></div>",
       "datasetInfos": [],
       "metadata": {},
       "removedWidgets": [],
       "type": "html"
      }
     },
     "output_type": "display_data"
    }
   ],
   "source": [
    "from time import sleep\n",
    "import requests\n",
    "import re\n",
    "import json\n",
    "import datetime\n",
    "import gzip\n",
    "from requests_aws4auth import AWS4Auth\n",
    "\n",
    "\n",
    "\n",
    "def get_access_token():\n",
    "    global C_KEY, C_SECRET_KEY, C_REFRESH_TOKEN\n",
    "    r = requests.post(f\"https://api.amazon.com/auth/o2/token\", data={ \"grant_type\":\"refresh_token\",\n",
    "                                                                      \"refresh_token\":C_REFRESH_TOKEN,\n",
    "                                                                      \"client_id\": C_KEY,\n",
    "                                                                      \"client_secret\": C_SECRET_KEY } )\n",
    "    return r.json()['access_token']\n",
    "\n",
    "\n",
    "\n",
    "def assume_role():\n",
    "    r = requests.get(f\"https://sts.amazonaws.com?Version=2011-06-15&Action=AssumeRole&RoleSessionName=Test&RoleArn={ARN}&DurationSeconds=3600\", \n",
    "                     auth = AWS4Auth(A_KEY, A_SECRET, 'us-east-1', 'sts'))\n",
    "    \n",
    "    return (re.findall('<AccessKeyId>(.+)</AccessKeyId>', r.text)[0], re.findall('<SecretAccessKey>(.+)</SecretAccessKey>', r.text)[0], re.findall('<SessionToken>(.+)</SessionToken>', r.text)[0])\n",
    "\n",
    "\n",
    "\n",
    "# get the keys\n",
    "access_token = get_access_token()\n",
    "access_key, secret_key, session_token = assume_role()\n",
    "\n",
    "\n",
    "\n",
    "def get_request(rel_url):\n",
    "    global access_token, access_key, secret_key, session_token\n",
    "\n",
    "    r = requests.get(f\"https://sellingpartnerapi-eu.amazon.com{rel_url}\", \n",
    "                     headers={'x-amz-access-token': access_token},\n",
    "                     auth = AWS4Auth(access_key, secret_key, 'eu-west-1', 'execute-api', session_token=session_token))\n",
    "    return(r.json())\n",
    "\n",
    "    \n",
    "\n",
    "\n",
    "def post_request(rel_url, data):\n",
    "    global access_token, access_key, secret_key, session_token\n",
    "\n",
    "    r = requests.post(f\"https://sellingpartnerapi-eu.amazon.com{rel_url}\",\n",
    "        data=json.dumps(data),\n",
    "        headers = { 'x-amz-access-token': access_token,\n",
    "                    'Content-Type': 'application/json'\n",
    "                  },\n",
    "        auth = AWS4Auth(access_key, secret_key, 'eu-west-1', 'execute-api', session_token=session_token))\n",
    "    \n",
    "    return (r.json())\n",
    "\n",
    "\n",
    "\n",
    "\n",
    "def generate_report(report_type, start, end, distributor_type):\n",
    "    req = post_request('/reports/2021-06-30/reports', { \"marketplaceIds\": [MarketplaceID],\n",
    "                                                        'reportType': report_type,\n",
    "                                                        'dataStartTime': start,\n",
    "                                                        'dataEndTime': end,\n",
    "                                                        \"reportOptions\": { \"reportPeriod\": \"DAY\" ,\n",
    "                                                                           \"sellingProgram\": \"RETAIL\",\n",
    "                                                                           \"distributorView\": distributor_type }\n",
    "                                                       }\n",
    "                       )\n",
    "    print(req)\n",
    "    return req['reportId']\n",
    "\n",
    "\n",
    "\n",
    "\n",
    "def download_report(report_id):\n",
    "    gr = get_request(f'/reports/2021-06-30/reports/{report_id}')\n",
    "    document_id = gr['reportDocumentId']\n",
    "    gd = get_request(f'/reports/2021-06-30/documents/{document_id}')\n",
    "    url = gd['url']\n",
    "    req = requests.get(url)\n",
    "    zipfile = req.content\n",
    "    file = (gzip.decompress(zipfile).decode('utf-8'))\n",
    "    return file\n"
   ]
  },
  {
   "cell_type": "code",
   "execution_count": 0,
   "metadata": {
    "application/vnd.databricks.v1+cell": {
     "inputWidgets": {},
     "nuid": "13d05c1b-811d-4207-a560-f1d7535e5409",
     "showTitle": false,
     "title": ""
    }
   },
   "outputs": [],
   "source": [
    "containerName = \"amazon-vendors-api-all\"\n",
    "storageAccountName = \"blobsaless\"\n",
    "sas = \"sp=racwdl.........b37e9s%3D\"\n",
    "config = \"fs.azure.sas.\" + containerName+ \".\" + storageAccountName + \".blob.core.windows.net\"\n",
    "\n",
    "try:\n",
    "    dbutils.fs.unmount(\"/mnt/vendor-data-api-all\")\n",
    "except:\n",
    "    pass\n",
    "    \n",
    "try:\n",
    "    dbutils.fs.mount(\n",
    "      source = f\"wasbs://{containerName}@{storageAccountName}.blob.core.windows.net\",\n",
    "      mount_point = \"/mnt/vendor-data-api-all\",\n",
    "      extra_configs = {config : sas})\n",
    "except:\n",
    "    pass"
   ]
  },
  {
   "cell_type": "code",
   "execution_count": 0,
   "metadata": {
    "application/vnd.databricks.v1+cell": {
     "inputWidgets": {},
     "nuid": "be55056f-7c16-485f-9d49-7ce78e87252e",
     "showTitle": false,
     "title": ""
    }
   },
   "outputs": [
    {
     "data": {
      "text/html": [
       "<style scoped>\n",
       "  .ansiout {\n",
       "    display: block;\n",
       "    unicode-bidi: embed;\n",
       "    white-space: pre-wrap;\n",
       "    word-wrap: break-word;\n",
       "    word-break: break-all;\n",
       "    font-family: \"Source Code Pro\", \"Menlo\", monospace;;\n",
       "    font-size: 13px;\n",
       "    color: #555;\n",
       "    margin-left: 4px;\n",
       "    line-height: 19px;\n",
       "  }\n",
       "</style>\n",
       "<div class=\"ansiout\">{&#39;reportId&#39;: &#39;50479019248&#39;}\n",
       "50479019248\n",
       "</div>"
      ]
     },
     "metadata": {
      "application/vnd.databricks.v1+output": {
       "addedWidgets": {},
       "arguments": {},
       "data": "<div class=\"ansiout\">{&#39;reportId&#39;: &#39;50479019248&#39;}\n50479019248\n</div>",
       "datasetInfos": [],
       "metadata": {},
       "removedWidgets": [],
       "type": "html"
      }
     },
     "output_type": "display_data"
    },
    {
     "data": {
      "text/html": [
       "<style scoped>\n",
       "  .ansiout {\n",
       "    display: block;\n",
       "    unicode-bidi: embed;\n",
       "    white-space: pre-wrap;\n",
       "    word-wrap: break-word;\n",
       "    word-break: break-all;\n",
       "    font-family: \"Source Code Pro\", \"Menlo\", monospace;;\n",
       "    font-size: 13px;\n",
       "    color: #555;\n",
       "    margin-left: 4px;\n",
       "    line-height: 19px;\n",
       "  }\n",
       "</style>"
      ]
     },
     "metadata": {
      "application/vnd.databricks.v1+output": {
       "arguments": {},
       "data": "",
       "errorSummary": "Cancelled",
       "errorTraceType": "html",
       "metadata": {},
       "type": "ipynbError"
      }
     },
     "output_type": "display_data"
    }
   ],
   "source": [
    "def gen_down_save(vendor, start, end, distributor_type):\n",
    "    report_id = generate_report('GET_VENDOR_SALES_REPORT', start, end, distributor_type)\n",
    "    print(report_id)\n",
    "    sleep(1300)\n",
    "    jsonFile = download_report(report_id)\n",
    "    dbutils.fs.put('dbfs:/mnt/vendor-data-api-all/' + vendor + '__' + start.replace(\":\", \"_\") + '__' + end.replace(\":\", \"_\") + '__' + distributor_type + f'__{marketplace}' '.json', jsonFile, overwrite = True)\n",
    "\n",
    "    \n",
    "\n",
    "gen_down_save(vendor, start, end, \"MANUFACTURING\")\n",
    "gen_down_save(vendor, start, end, \"SOURCING\")"
   ]
  }
 ],
 "metadata": {
  "application/vnd.databricks.v1+notebook": {
   "dashboards": [],
   "language": "python",
   "notebookMetadata": {
    "pythonIndentUnit": 4
   },
   "notebookName": "amazon_vendor_sales_api",
   "notebookOrigID": 4424443154407150,
   "widgets": {
    "end": {
     "currentValue": "2022-06-20T00:00:00",
     "nuid": "5add30d3-880a-4852-b93e-a1e4f7766f3b",
     "widgetInfo": {
      "defaultValue": "",
      "label": null,
      "name": "end",
      "options": {
       "validationRegex": null,
       "widgetType": "text"
      },
      "widgetType": "text"
     }
    },
    "marketplace": {
     "currentValue": "DE",
     "nuid": "242ee082-845e-4a0c-84f0-1db62dd6f7ab",
     "widgetInfo": {
      "defaultValue": "",
      "label": null,
      "name": "marketplace",
      "options": {
       "validationRegex": null,
       "widgetType": "text"
      },
      "widgetType": "text"
     }
    },
    "start": {
     "currentValue": "2022-06-15T00:00:00",
     "nuid": "22083320-3cc0-4f66-aea5-e5a5dfe088a7",
     "widgetInfo": {
      "defaultValue": "",
      "label": null,
      "name": "start",
      "options": {
       "validationRegex": null,
       "widgetType": "text"
      },
      "widgetType": "text"
     }
    },
    "vendor": {
     "currentValue": "SL",
     "nuid": "b272561a-26ca-471b-b513-3aad95e7ab52",
     "widgetInfo": {
      "defaultValue": "",
      "label": null,
      "name": "vendor",
      "options": {
       "validationRegex": null,
       "widgetType": "text"
      },
      "widgetType": "text"
     }
    }
   }
  },
  "kernelspec": {
   "display_name": "Python 3",
   "language": "python",
   "name": "python3"
  },
  "language_info": {
   "codemirror_mode": {
    "name": "ipython",
    "version": 3
   },
   "file_extension": ".py",
   "mimetype": "text/x-python",
   "name": "python",
   "nbconvert_exporter": "python",
   "pygments_lexer": "ipython3",
   "version": "3.8.3"
  }
 },
 "nbformat": 4,
 "nbformat_minor": 1
}
