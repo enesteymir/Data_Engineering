{
 "cells": [
  {
   "cell_type": "markdown",
   "metadata": {
    "application/vnd.databricks.v1+cell": {
     "inputWidgets": {},
     "nuid": "b024d445-9864-4c0b-87da-ee4684ff8a34",
     "showTitle": false,
     "title": ""
    }
   },
   "source": [
    "##### Mounting the Blob Storage Container by Active Directory App Credentials\n",
    "To make mounting by this method, Soft Delete should be disabled for storage account. Otherwise the mounting script can give error. Go to Storage Account > Data Protection\n",
    "To get ClientId and TenantId, go to App Registrations and create a service app. To get a Client Secret go to Certificates & secrets section and create a Client Secret code. Then go to Storage Account IAM section and assign role. "
   ]
  },
  {
   "cell_type": "code",
   "execution_count": null,
   "metadata": {},
   "outputs": [],
   "source": [
    "storage_account_name = 'blobsaless'\n",
    "container_name = \"amazon-vendors-api-all\"\n",
    "client_id = '7db61c6.......33'\n",
    "tenant_id = 'ea3ed546.....6-69fad2403d4c'\n",
    "client_secret = '2X48Q~Fp......Jl1jXT4AcVY'\n",
    "\n",
    "\n",
    "configs = {\n",
    "            \"fs.azure.account.auth.type\": \"OAuth\",\n",
    "            \"fs.azure.account.oauth.provider.type\": \"org.apache.hadoop.fs.azurebfs.oauth2.ClientCredsTokenProvider\",\n",
    "            \"fs.azure.account.oauth2.client.id\": f\"{client_id}\",\n",
    "            \"fs.azure.account.oauth2.client.secret\": f\"{client_secret}\",\n",
    "            \"fs.azure.account.oauth2.client.endpoint\": f\"https://login.microsoftonline.com/{tenant_id}/oauth2/token\"\n",
    "          }\n",
    "\n",
    "\n",
    "try:\n",
    "    dbutils.fs.unmount(f\"/mnt/{storage_account_name}/{container_name}\")\n",
    "except:\n",
    "    pass\n",
    "    \n",
    "try:\n",
    "    dbutils.fs.mount(\n",
    "                     source = f\"abfss://{container_name}@{storage_account_name}.dfs.core.windows.net/\",\n",
    "                     mount_point = f\"/mnt/{storage_account_name}/{container_name}\",\n",
    "                     extra_configs = configs\n",
    "                    )\n",
    "except:\n",
    "    pass"
   ]
  },
  {
   "cell_type": "code",
   "execution_count": 0,
   "metadata": {
    "application/vnd.databricks.v1+cell": {
     "inputWidgets": {},
     "nuid": "047ccd60-238b-44e6-882e-37f08a6a35fe",
     "showTitle": false,
     "title": ""
    }
   },
   "outputs": [],
   "source": [
    "%fs mounts"
   ]
  },
  {
   "cell_type": "code",
   "execution_count": 0,
   "metadata": {
    "application/vnd.databricks.v1+cell": {
     "inputWidgets": {},
     "nuid": "f15c757f-0998-4874-9c99-15e02d4a5fbf",
     "showTitle": false,
     "title": ""
    }
   },
   "outputs": [],
   "source": [
    "# To check the files in mounting\n",
    "dbutils.fs.ls('/mnt/blobsaless/amazon-vendors-api-all')"
   ]
  },
  {
   "cell_type": "markdown",
   "metadata": {
    "application/vnd.databricks.v1+cell": {
     "inputWidgets": {},
     "nuid": "87421298-e5e6-44d2-8703-3282d30fa9c2",
     "showTitle": false,
     "title": ""
    }
   },
   "source": [
    "##### Mounting the Blob Storage Container by SAS Token\n",
    "sas token can be taken from the container settings > shared access tokens.\n",
    "Permissions should be given Read, Write, Delete ..(sp=racwdli&st) while generating sas token. Give expire date range widely so that dont get auth error."
   ]
  },
  {
   "cell_type": "code",
   "execution_count": 0,
   "metadata": {
    "application/vnd.databricks.v1+cell": {
     "inputWidgets": {},
     "nuid": "f5ba9c74-a7bb-4398-9cb8-ba05d9e728f5",
     "showTitle": false,
     "title": ""
    }
   },
   "outputs": [],
   "source": [
    "containerName = \"amazon-vendors-api-all\"\n",
    "storageAccountName = \"blobsaless\"\n",
    "sas = \"?sp=racwdli&st=20229%2F7.........................PtdFkx0%3D\"\n",
    "config = \"fs.azure.sas.\" + containerName+ \".\" + storageAccountName + \".blob.core.windows.net\"\n",
    "\n",
    "try:\n",
    "    dbutils.fs.unmount(\"/mnt/vendor-data-api-all\")\n",
    "except:\n",
    "    pass\n",
    "    \n",
    "try:\n",
    "    dbutils.fs.mount(\n",
    "      source = f\"wasbs://{containerName}@{storageAccountName}.blob.core.windows.net\",\n",
    "      mount_point = \"/mnt/vendor-data-api-all\",\n",
    "      extra_configs = {config : sas})\n",
    "except:\n",
    "    pass"
   ]
  }
 ],
 "metadata": {
  "application/vnd.databricks.v1+notebook": {
   "dashboards": [],
   "language": "python",
   "notebookMetadata": {
    "pythonIndentUnit": 4
   },
   "notebookName": "Mounting_Examples",
   "notebookOrigID": 1991337997641144,
   "widgets": {}
  },
  "kernelspec": {
   "display_name": "Python 3",
   "language": "python",
   "name": "python3"
  },
  "language_info": {
   "codemirror_mode": {
    "name": "ipython",
    "version": 3
   },
   "file_extension": ".py",
   "mimetype": "text/x-python",
   "name": "python",
   "nbconvert_exporter": "python",
   "pygments_lexer": "ipython3",
   "version": "3.8.3"
  }
 },
 "nbformat": 4,
 "nbformat_minor": 1
}
